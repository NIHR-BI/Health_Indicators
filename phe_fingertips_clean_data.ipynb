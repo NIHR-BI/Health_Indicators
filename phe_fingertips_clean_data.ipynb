{
 "cells": [
  {
   "cell_type": "code",
   "execution_count": 1,
   "metadata": {},
   "outputs": [],
   "source": [
    "import pandas as pd"
   ]
  },
  {
   "cell_type": "code",
   "execution_count": 7,
   "metadata": {},
   "outputs": [
    {
     "name": "stderr",
     "output_type": "stream",
     "text": [
      "C:\\Users\\medssam\\AppData\\Local\\Temp\\ipykernel_8480\\390918211.py:9: DtypeWarning: Columns (26) have mixed types. Specify dtype option on import or set low_memory=False.\n",
      "  data = pd.concat([data, pd.read_csv(file)])\n",
      "C:\\Users\\medssam\\AppData\\Local\\Temp\\ipykernel_8480\\390918211.py:9: DtypeWarning: Columns (26) have mixed types. Specify dtype option on import or set low_memory=False.\n",
      "  data = pd.concat([data, pd.read_csv(file)])\n",
      "C:\\Users\\medssam\\AppData\\Local\\Temp\\ipykernel_8480\\390918211.py:9: DtypeWarning: Columns (10,11,12,26) have mixed types. Specify dtype option on import or set low_memory=False.\n",
      "  data = pd.concat([data, pd.read_csv(file)])\n"
     ]
    }
   ],
   "source": [
    "files = [6,66,102,154,165,166,167,202,219,220,221,302,401,402]\n",
    "data = pd.DataFrame()\n",
    "\n",
    "\n",
    "for i in files:\n",
    "    filename= str(i)\n",
    "    \n",
    "    with open(filename + '.csv', 'r') as file:\n",
    "        data = pd.concat([data, pd.read_csv(file)])"
   ]
  },
  {
   "cell_type": "code",
   "execution_count": 13,
   "metadata": {},
   "outputs": [
    {
     "data": {
      "text/plain": [
       "array(['England', 'Region', 'ICB sub-locations',\n",
       "       'Counties & UAs (pre Apr 2019)', 'CCGs (2018/19)',\n",
       "       'CCGs (2019/20)', 'CCGs (2020/21)', 'CCGs (from Apr 2021)',\n",
       "       'Counties & UAs (2019/20)', 'STPs (pre Apr 2020)',\n",
       "       'STPs (from Apr 2020)', 'ICBs', 'Counties & UAs (2020/21)',\n",
       "       'Districts & UAs (2021/22-2022/23)',\n",
       "       'Counties & UAs (2021/22-2022/23)'], dtype=object)"
      ]
     },
     "execution_count": 13,
     "metadata": {},
     "output_type": "execute_result"
    }
   ],
   "source": [
    "data['Area Type'].unique()"
   ]
  },
  {
   "cell_type": "code",
   "execution_count": null,
   "metadata": {},
   "outputs": [],
   "source": []
  }
 ],
 "metadata": {
  "kernelspec": {
   "display_name": ".venv",
   "language": "python",
   "name": "python3"
  },
  "language_info": {
   "codemirror_mode": {
    "name": "ipython",
    "version": 3
   },
   "file_extension": ".py",
   "mimetype": "text/x-python",
   "name": "python",
   "nbconvert_exporter": "python",
   "pygments_lexer": "ipython3",
   "version": "3.11.1"
  },
  "orig_nbformat": 4
 },
 "nbformat": 4,
 "nbformat_minor": 2
}
