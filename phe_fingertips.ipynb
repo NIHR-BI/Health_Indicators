{
 "cells": [
  {
   "cell_type": "code",
   "execution_count": 51,
   "metadata": {},
   "outputs": [],
   "source": [
    "import fingertips_py as ftp\n",
    "import pandas as pd\n",
    "import requests"
   ]
  },
  {
   "attachments": {},
   "cell_type": "markdown",
   "metadata": {},
   "source": [
    "I need to know for each indicator, which area types and year conifgurations exist so that I know which ones I can pick from and minimise computation for data extraction. - Need to see if I can get a list of this\n",
    "\n",
    "The alternative would be to create a hierarchy of preference and iterate through the data for each hierachy level. If an indicator is found within a level, then it will no longer be queried for further levels. This might still be computationally expensive but needs to be investigated further "
   ]
  },
  {
   "attachments": {},
   "cell_type": "markdown",
   "metadata": {},
   "source": [
    "# Area types available for each indicator"
   ]
  },
  {
   "cell_type": "code",
   "execution_count": 52,
   "metadata": {},
   "outputs": [
    {
     "name": "stdout",
     "output_type": "stream",
     "text": [
      "[402 401 102 101  15   6 221 220 204 167 166  66   7 302 219 152 301 223\n",
      " 202 165 154 201  46  10 126 104 119 203 118 205 112 129 222   8   3  41] 36 8947 1698\n"
     ]
    }
   ],
   "source": [
    "raw_available_indicator_at_area = pd.read_json('https://fingertips.phe.org.uk/api/available_data').fillna(value='null')\n",
    "\n",
    "print(raw_available_indicator_at_area['AreaTypeId'].unique()\n",
    "      ,len(raw_available_indicator_at_area['AreaTypeId'].unique()),\n",
    "      len(raw_available_indicator_at_area),\n",
    "      raw_available_indicator_at_area['IndicatorId'].nunique()\n",
    "    #   ,\n",
    "    #   available_indicator_at_area['IndicatorId'].unique()\n",
    ")"
   ]
  },
  {
   "cell_type": "code",
   "execution_count": 53,
   "metadata": {},
   "outputs": [
    {
     "data": {
      "text/plain": [
       "Index(['IndicatorId', 'AreaTypeId'], dtype='object')"
      ]
     },
     "execution_count": 53,
     "metadata": {},
     "output_type": "execute_result"
    }
   ],
   "source": [
    "raw_available_indicator_at_area.columns"
   ]
  },
  {
   "attachments": {},
   "cell_type": "markdown",
   "metadata": {},
   "source": [
    "# Indicator metadata\n",
    "To get the name of each indicator"
   ]
  },
  {
   "cell_type": "code",
   "execution_count": 54,
   "metadata": {},
   "outputs": [],
   "source": [
    "indicator_metadata = pd.read_csv('https://fingertips.phe.org.uk/api/indicator_metadata/csv/all')"
   ]
  },
  {
   "cell_type": "code",
   "execution_count": 55,
   "metadata": {},
   "outputs": [
    {
     "data": {
      "text/plain": [
       "1408"
      ]
     },
     "execution_count": 55,
     "metadata": {},
     "output_type": "execute_result"
    }
   ],
   "source": [
    "indicator_metadata['Indicator ID'].nunique()"
   ]
  },
  {
   "attachments": {},
   "cell_type": "markdown",
   "metadata": {},
   "source": [
    "# Area Ids metadata\n",
    "To get the name of the area"
   ]
  },
  {
   "cell_type": "code",
   "execution_count": 56,
   "metadata": {},
   "outputs": [],
   "source": [
    "area_ref = pd.read_json('https://fingertips.phe.org.uk/api/area_types').fillna(value='null')"
   ]
  },
  {
   "cell_type": "code",
   "execution_count": 57,
   "metadata": {},
   "outputs": [
    {
     "data": {
      "text/plain": [
       "Index(['Id', 'Name', 'Short', 'Class', 'Sequence', 'CanBeDisplayedOnMap'], dtype='object')"
      ]
     },
     "execution_count": 57,
     "metadata": {},
     "output_type": "execute_result"
    }
   ],
   "source": [
    "area_ref.columns"
   ]
  },
  {
   "attachments": {},
   "cell_type": "markdown",
   "metadata": {},
   "source": [
    "## hierarchy"
   ]
  },
  {
   "cell_type": "code",
   "execution_count": 58,
   "metadata": {},
   "outputs": [],
   "source": [
    "area_hierarchy = pd.read_csv('https://docs.google.com/spreadsheets/u/0/d/15RhWWsHPPMLWoxR5sJcpK-vraRkidRY8jsAb_Y_5GwI/gviz/tq?tqx=out:csv&tq&gid=963757659&headers=1')\n",
    "area_hierarchy = area_hierarchy[['AreaTypeId', 'map_position', 'hierarchy']].dropna()"
   ]
  },
  {
   "attachments": {},
   "cell_type": "markdown",
   "metadata": {},
   "source": [
    "# Area types available for each indicator with extra metadata"
   ]
  },
  {
   "attachments": {},
   "cell_type": "markdown",
   "metadata": {},
   "source": [
    "## prepare full table"
   ]
  },
  {
   "cell_type": "code",
   "execution_count": 60,
   "metadata": {},
   "outputs": [],
   "source": [
    "available_indicator_at_area = pd.merge(left=raw_available_indicator_at_area, right=area_ref,\n",
    "         how='left', left_on='AreaTypeId', right_on='Id',\n",
    "         indicator=True).rename({'_merge': 'area_merge'}, axis=1)\n",
    "\n",
    "available_indicator_at_area = pd.merge(left=available_indicator_at_area, right=indicator_metadata[['Indicator ID', 'Indicator']],\n",
    "                                       left_on='IndicatorId', right_on='Indicator ID', how='inner',\n",
    "                                       indicator=True, )"
   ]
  },
  {
   "cell_type": "markdown",
   "metadata": {},
   "source": [
    "## create views"
   ]
  },
  {
   "cell_type": "code",
   "execution_count": 62,
   "metadata": {},
   "outputs": [],
   "source": [
    "# indicators_per_area = (pd.DataFrame(available_indicator_at_area.groupby(['Name', 'Short', 'Class', 'Sequence','CanBeDisplayedOnMap'])['_merge'].count())\n",
    "#                        .reset_index()\n",
    "#                        .sort_values(['Class', 'Sequence'], ascending=False)\n",
    "#                        .rename({'_merge': 'indicator_count'}, axis=1)\n",
    "#                        )"
   ]
  },
  {
   "cell_type": "code",
   "execution_count": 63,
   "metadata": {},
   "outputs": [],
   "source": [
    "# indicator_at_area_pivot = available_indicator_at_area[['Indicator', 'Name', 'Id']].pivot_table(index='Indicator', columns='Name', aggfunc='count')"
   ]
  },
  {
   "cell_type": "markdown",
   "metadata": {},
   "source": [
    "## use hierarchy to choose indicators and areas"
   ]
  },
  {
   "cell_type": "code",
   "execution_count": 73,
   "metadata": {},
   "outputs": [],
   "source": [
    "full_area_indicator_hierarchy = pd.merge(left=area_hierarchy, right=raw_available_indicator_at_area,\n",
    "         left_on='AreaTypeId', right_on='AreaTypeId',\n",
    "         how='inner')"
   ]
  },
  {
   "cell_type": "code",
   "execution_count": 79,
   "metadata": {},
   "outputs": [
    {
     "name": "stderr",
     "output_type": "stream",
     "text": [
      "C:\\Users\\medssam\\AppData\\Local\\Temp\\ipykernel_14844\\2219602755.py:2: SettingWithCopyWarning: \n",
      "A value is trying to be set on a copy of a slice from a DataFrame.\n",
      "Try using .loc[row_indexer,col_indexer] = value instead\n",
      "\n",
      "See the caveats in the documentation: https://pandas.pydata.org/pandas-docs/stable/user_guide/indexing.html#returning-a-view-versus-a-copy\n",
      "  left['rank'] = left.groupby('IndicatorId')['hierarchy'].rank(method='dense')\n"
     ]
    }
   ],
   "source": [
    "left = full_area_indicator_hierarchy[full_area_indicator_hierarchy['map_position']=='left']\n",
    "left['rank'] = left.groupby('IndicatorId')['hierarchy'].rank(method='dense')\n",
    "keep_left = left[left['rank']==1]\n"
   ]
  },
  {
   "cell_type": "code",
   "execution_count": 81,
   "metadata": {},
   "outputs": [
    {
     "data": {
      "text/plain": [
       "array([1.])"
      ]
     },
     "execution_count": 81,
     "metadata": {},
     "output_type": "execute_result"
    }
   ],
   "source": [
    "keep_left['rank'].unique()"
   ]
  },
  {
   "cell_type": "code",
   "execution_count": 111,
   "metadata": {},
   "outputs": [],
   "source": [
    "def find_first_hierarchy(data, map_position):\n",
    "    data = data[data['map_position']==map_position].loc[:, ['IndicatorId','hierarchy','AreaTypeId', 'map_position']]\n",
    "    data['rank'] = data.groupby('IndicatorId')['hierarchy'].rank(method='dense')\n",
    "    return data[data['rank']==1].drop('rank', axis=1)"
   ]
  },
  {
   "cell_type": "code",
   "execution_count": 113,
   "metadata": {},
   "outputs": [],
   "source": [
    "get_indicator_area = pd.concat([find_first_hierarchy(full_area_indicator_hierarchy, 'left'),\n",
    "                                find_first_hierarchy(full_area_indicator_hierarchy, 'middle'),\n",
    "                                find_first_hierarchy(full_area_indicator_hierarchy, 'right')]\n",
    ")"
   ]
  },
  {
   "attachments": {},
   "cell_type": "markdown",
   "metadata": {},
   "source": [
    "# Retrieve indicator data"
   ]
  },
  {
   "attachments": {},
   "cell_type": "markdown",
   "metadata": {},
   "source": [
    "## filter by those that only have all 3 as a test case"
   ]
  },
  {
   "cell_type": "code",
   "execution_count": 125,
   "metadata": {},
   "outputs": [],
   "source": [
    "number_of_maps_returned = get_indicator_area.groupby('IndicatorId')['map_position'].count()\n",
    "ind_ids_keep_3_maps = number_of_maps_returned[number_of_maps_returned==3].index.values"
   ]
  },
  {
   "cell_type": "code",
   "execution_count": 127,
   "metadata": {},
   "outputs": [],
   "source": [
    "get_ind_area_combos = get_indicator_area[get_indicator_area['IndicatorId'].isin(ind_ids_keep_3_maps)]"
   ]
  },
  {
   "cell_type": "code",
   "execution_count": 128,
   "metadata": {},
   "outputs": [
    {
     "data": {
      "text/html": [
       "<div>\n",
       "<style scoped>\n",
       "    .dataframe tbody tr th:only-of-type {\n",
       "        vertical-align: middle;\n",
       "    }\n",
       "\n",
       "    .dataframe tbody tr th {\n",
       "        vertical-align: top;\n",
       "    }\n",
       "\n",
       "    .dataframe thead th {\n",
       "        text-align: right;\n",
       "    }\n",
       "</style>\n",
       "<table border=\"1\" class=\"dataframe\">\n",
       "  <thead>\n",
       "    <tr style=\"text-align: right;\">\n",
       "      <th></th>\n",
       "      <th>IndicatorId</th>\n",
       "      <th>hierarchy</th>\n",
       "      <th>AreaTypeId</th>\n",
       "      <th>map_position</th>\n",
       "    </tr>\n",
       "  </thead>\n",
       "  <tbody>\n",
       "    <tr>\n",
       "      <th>1</th>\n",
       "      <td>200</td>\n",
       "      <td>1.0</td>\n",
       "      <td>221</td>\n",
       "      <td>left</td>\n",
       "    </tr>\n",
       "    <tr>\n",
       "      <th>2</th>\n",
       "      <td>212</td>\n",
       "      <td>1.0</td>\n",
       "      <td>221</td>\n",
       "      <td>left</td>\n",
       "    </tr>\n",
       "    <tr>\n",
       "      <th>3</th>\n",
       "      <td>219</td>\n",
       "      <td>1.0</td>\n",
       "      <td>221</td>\n",
       "      <td>left</td>\n",
       "    </tr>\n",
       "    <tr>\n",
       "      <th>5</th>\n",
       "      <td>241</td>\n",
       "      <td>1.0</td>\n",
       "      <td>221</td>\n",
       "      <td>left</td>\n",
       "    </tr>\n",
       "    <tr>\n",
       "      <th>6</th>\n",
       "      <td>247</td>\n",
       "      <td>1.0</td>\n",
       "      <td>221</td>\n",
       "      <td>left</td>\n",
       "    </tr>\n",
       "    <tr>\n",
       "      <th>...</th>\n",
       "      <td>...</td>\n",
       "      <td>...</td>\n",
       "      <td>...</td>\n",
       "      <td>...</td>\n",
       "    </tr>\n",
       "    <tr>\n",
       "      <th>6096</th>\n",
       "      <td>92263</td>\n",
       "      <td>8.0</td>\n",
       "      <td>102</td>\n",
       "      <td>right</td>\n",
       "    </tr>\n",
       "    <tr>\n",
       "      <th>6097</th>\n",
       "      <td>92264</td>\n",
       "      <td>8.0</td>\n",
       "      <td>102</td>\n",
       "      <td>right</td>\n",
       "    </tr>\n",
       "    <tr>\n",
       "      <th>6100</th>\n",
       "      <td>92272</td>\n",
       "      <td>8.0</td>\n",
       "      <td>102</td>\n",
       "      <td>right</td>\n",
       "    </tr>\n",
       "    <tr>\n",
       "      <th>6167</th>\n",
       "      <td>92866</td>\n",
       "      <td>8.0</td>\n",
       "      <td>102</td>\n",
       "      <td>right</td>\n",
       "    </tr>\n",
       "    <tr>\n",
       "      <th>6168</th>\n",
       "      <td>92867</td>\n",
       "      <td>8.0</td>\n",
       "      <td>102</td>\n",
       "      <td>right</td>\n",
       "    </tr>\n",
       "  </tbody>\n",
       "</table>\n",
       "<p>411 rows × 4 columns</p>\n",
       "</div>"
      ],
      "text/plain": [
       "      IndicatorId  hierarchy  AreaTypeId map_position\n",
       "1             200        1.0         221         left\n",
       "2             212        1.0         221         left\n",
       "3             219        1.0         221         left\n",
       "5             241        1.0         221         left\n",
       "6             247        1.0         221         left\n",
       "...           ...        ...         ...          ...\n",
       "6096        92263        8.0         102        right\n",
       "6097        92264        8.0         102        right\n",
       "6100        92272        8.0         102        right\n",
       "6167        92866        8.0         102        right\n",
       "6168        92867        8.0         102        right\n",
       "\n",
       "[411 rows x 4 columns]"
      ]
     },
     "execution_count": 128,
     "metadata": {},
     "output_type": "execute_result"
    }
   ],
   "source": [
    "get_ind_area_combos"
   ]
  },
  {
   "cell_type": "code",
   "execution_count": 65,
   "metadata": {},
   "outputs": [],
   "source": [
    "# # metadata_areas = ftp.metadata.get_all_areas(is_test=False)\n",
    "# # metadata_value_notes = ftp.metadata.get_all_value_notes(is_test=False)\n",
    "# # metadata_profiles = ftp.metadata.get_all_profiles(is_test=False)\n",
    "# # metadata_domains = ftp.metadata.get_domains_in_profile(18)\n",
    "# metadata_all_indicators = ftp.metadata.get_metadata_for_all_indicators_from_csv(is_test=False)\n",
    "# metadata_all_indicator_ids = metadata_all_indicators['Indicator ID'].tolist()"
   ]
  },
  {
   "cell_type": "code",
   "execution_count": 66,
   "metadata": {},
   "outputs": [],
   "source": [
    "# metadata_all = pd.read_csv('https://fingertips.phe.org.uk/api/indicator_metadata/all?include_definition=yes&include_system_content=yes')"
   ]
  },
  {
   "cell_type": "code",
   "execution_count": 67,
   "metadata": {},
   "outputs": [],
   "source": [
    "# replace_comma = '%2C'\n",
    "# ids_as_str = replace_comma.join([str(i) for i in metadata_all_indicator_ids])"
   ]
  },
  {
   "cell_type": "code",
   "execution_count": 68,
   "metadata": {},
   "outputs": [],
   "source": [
    "# data = ftp.retrieve_data.get_all_data_for_indicators(indicators=[108,\n",
    "#  113,\n",
    "#  114,\n",
    "#  200,\n",
    "#  212],\n",
    "#                                                                area_type_id=7,\n",
    "#                                                                parent_area_type_id=15,\n",
    "#                                                                filter_by_area_codes=None,\n",
    "#                                                                is_test=False)"
   ]
  },
  {
   "cell_type": "code",
   "execution_count": 69,
   "metadata": {},
   "outputs": [],
   "source": [
    "# ids_as_str"
   ]
  },
  {
   "cell_type": "code",
   "execution_count": 70,
   "metadata": {},
   "outputs": [],
   "source": [
    "# data = ftp.retrieve_data.get_data_by_indicator_ids(indicator_ids=ids_as_str, # [Maximum 100]\n",
    "#                                                    area_type_id=7,\n",
    "#                                                    parent_area_type_id=15,\n",
    "#                                                    profile_id=None,\n",
    "#                                                    include_sortable_time_periods=None,\n",
    "#                                                    is_test=False)"
   ]
  },
  {
   "cell_type": "code",
   "execution_count": null,
   "metadata": {},
   "outputs": [],
   "source": []
  }
 ],
 "metadata": {
  "kernelspec": {
   "display_name": ".venv",
   "language": "python",
   "name": "python3"
  },
  "language_info": {
   "codemirror_mode": {
    "name": "ipython",
    "version": 3
   },
   "file_extension": ".py",
   "mimetype": "text/x-python",
   "name": "python",
   "nbconvert_exporter": "python",
   "pygments_lexer": "ipython3",
   "version": "3.11.1"
  },
  "orig_nbformat": 4,
  "vscode": {
   "interpreter": {
    "hash": "7df4ba93a7eed49b4ce3aa561040df82f39fc983c3907e7a9f2cb3d5a05b8647"
   }
  }
 },
 "nbformat": 4,
 "nbformat_minor": 2
}
