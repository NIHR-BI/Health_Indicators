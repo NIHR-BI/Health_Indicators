{
 "cells": [
  {
   "cell_type": "code",
   "execution_count": 1,
   "metadata": {},
   "outputs": [],
   "source": [
    "import fingertips_py as ftp\n",
    "from json import loads\n",
    "import pandas as pd\n",
    "from urllib.request import urlopen"
   ]
  },
  {
   "cell_type": "code",
   "execution_count": 2,
   "metadata": {},
   "outputs": [],
   "source": [
    "pd.set_option('display.max_columns', None)\n",
    "pd.set_option('display.max_rows', None)"
   ]
  },
  {
   "attachments": {},
   "cell_type": "markdown",
   "metadata": {},
   "source": [
    "- A unique data set is ['Indicator Name', 'Indicator ID', 'Sex', 'Age', 'Time period', 'AreaTypeId]\n",
    "\n",
    "- Need to create template table of indictor + area codes so that shape shows in QS\n",
    "\n",
    "- The indicator name needs to be name + id"
   ]
  },
  {
   "attachments": {},
   "cell_type": "markdown",
   "metadata": {},
   "source": [
    "I need to know for each indicator, which area types and year conifgurations exist so that I know which ones I can pick from and minimise computation for data extraction. - Need to see if I can get a list of this\n",
    "\n",
    "The alternative would be to create a hierarchy of preference and iterate through the data for each hierachy level. If an indicator is found within a level, then it will no longer be queried for further levels. This might still be computationally expensive but needs to be investigated further \n",
    "\n",
    "- time period\n",
    "- sex\n",
    "- age"
   ]
  },
  {
   "attachments": {},
   "cell_type": "markdown",
   "metadata": {},
   "source": [
    "# time period, sex and age available for each indicator"
   ]
  },
  {
   "attachments": {},
   "cell_type": "markdown",
   "metadata": {},
   "source": [
    "# Area types available for each indicator"
   ]
  },
  {
   "cell_type": "code",
   "execution_count": 3,
   "metadata": {},
   "outputs": [
    {
     "name": "stdout",
     "output_type": "stream",
     "text": [
      "[402 401 102 101  15   6 221 220 204 167 166  66   7 302 219 152 301 223\n",
      " 202 165 154 201  46  10 126 104 119 203 118 205 112 129 222   8   3  41] 36 8947 1698\n"
     ]
    }
   ],
   "source": [
    "raw_available_indicator_at_area = pd.read_json('https://fingertips.phe.org.uk/api/available_data').fillna(value='null')\n",
    "\n",
    "print(raw_available_indicator_at_area['AreaTypeId'].unique()\n",
    "      ,len(raw_available_indicator_at_area['AreaTypeId'].unique()),\n",
    "      len(raw_available_indicator_at_area),\n",
    "      raw_available_indicator_at_area['IndicatorId'].nunique()\n",
    "    #   ,\n",
    "    #   available_indicator_at_area['IndicatorId'].unique()\n",
    ")"
   ]
  },
  {
   "cell_type": "code",
   "execution_count": 4,
   "metadata": {},
   "outputs": [
    {
     "data": {
      "text/plain": [
       "Index(['IndicatorId', 'AreaTypeId'], dtype='object')"
      ]
     },
     "execution_count": 4,
     "metadata": {},
     "output_type": "execute_result"
    }
   ],
   "source": [
    "raw_available_indicator_at_area.columns"
   ]
  },
  {
   "cell_type": "code",
   "execution_count": 5,
   "metadata": {},
   "outputs": [
    {
     "data": {
      "text/html": [
       "<div>\n",
       "<style scoped>\n",
       "    .dataframe tbody tr th:only-of-type {\n",
       "        vertical-align: middle;\n",
       "    }\n",
       "\n",
       "    .dataframe tbody tr th {\n",
       "        vertical-align: top;\n",
       "    }\n",
       "\n",
       "    .dataframe thead th {\n",
       "        text-align: right;\n",
       "    }\n",
       "</style>\n",
       "<table border=\"1\" class=\"dataframe\">\n",
       "  <thead>\n",
       "    <tr style=\"text-align: right;\">\n",
       "      <th></th>\n",
       "      <th>IndicatorId</th>\n",
       "      <th>AreaTypeId</th>\n",
       "    </tr>\n",
       "  </thead>\n",
       "  <tbody>\n",
       "    <tr>\n",
       "      <th>2575</th>\n",
       "      <td>90813</td>\n",
       "      <td>402</td>\n",
       "    </tr>\n",
       "    <tr>\n",
       "      <th>2576</th>\n",
       "      <td>90813</td>\n",
       "      <td>302</td>\n",
       "    </tr>\n",
       "    <tr>\n",
       "      <th>2577</th>\n",
       "      <td>90813</td>\n",
       "      <td>202</td>\n",
       "    </tr>\n",
       "    <tr>\n",
       "      <th>2578</th>\n",
       "      <td>90813</td>\n",
       "      <td>154</td>\n",
       "    </tr>\n",
       "    <tr>\n",
       "      <th>2579</th>\n",
       "      <td>90813</td>\n",
       "      <td>102</td>\n",
       "    </tr>\n",
       "    <tr>\n",
       "      <th>2580</th>\n",
       "      <td>90813</td>\n",
       "      <td>15</td>\n",
       "    </tr>\n",
       "    <tr>\n",
       "      <th>2581</th>\n",
       "      <td>90813</td>\n",
       "      <td>6</td>\n",
       "    </tr>\n",
       "  </tbody>\n",
       "</table>\n",
       "</div>"
      ],
      "text/plain": [
       "      IndicatorId  AreaTypeId\n",
       "2575        90813         402\n",
       "2576        90813         302\n",
       "2577        90813         202\n",
       "2578        90813         154\n",
       "2579        90813         102\n",
       "2580        90813          15\n",
       "2581        90813           6"
      ]
     },
     "execution_count": 5,
     "metadata": {},
     "output_type": "execute_result"
    }
   ],
   "source": [
    "raw_available_indicator_at_area[raw_available_indicator_at_area['IndicatorId']==90813]"
   ]
  },
  {
   "attachments": {},
   "cell_type": "markdown",
   "metadata": {},
   "source": [
    "# Indicator metadata\n",
    "To get the name of each indicator"
   ]
  },
  {
   "cell_type": "code",
   "execution_count": 6,
   "metadata": {},
   "outputs": [],
   "source": [
    "indicator_metadata = pd.read_csv('https://fingertips.phe.org.uk/api/indicator_metadata/csv/all')"
   ]
  },
  {
   "cell_type": "code",
   "execution_count": 7,
   "metadata": {},
   "outputs": [
    {
     "data": {
      "text/plain": [
       "1408"
      ]
     },
     "execution_count": 7,
     "metadata": {},
     "output_type": "execute_result"
    }
   ],
   "source": [
    "indicator_metadata['Indicator ID'].nunique()"
   ]
  },
  {
   "cell_type": "code",
   "execution_count": 65,
   "metadata": {},
   "outputs": [
    {
     "data": {
      "text/html": [
       "<div>\n",
       "<style scoped>\n",
       "    .dataframe tbody tr th:only-of-type {\n",
       "        vertical-align: middle;\n",
       "    }\n",
       "\n",
       "    .dataframe tbody tr th {\n",
       "        vertical-align: top;\n",
       "    }\n",
       "\n",
       "    .dataframe thead th {\n",
       "        text-align: right;\n",
       "    }\n",
       "</style>\n",
       "<table border=\"1\" class=\"dataframe\">\n",
       "  <thead>\n",
       "    <tr style=\"text-align: right;\">\n",
       "      <th></th>\n",
       "      <th>Indicator ID</th>\n",
       "      <th>Indicator</th>\n",
       "      <th>Definition</th>\n",
       "      <th>Rationale</th>\n",
       "      <th>Data source</th>\n",
       "      <th>Indicator source</th>\n",
       "      <th>Methodology</th>\n",
       "      <th>Standard population/values</th>\n",
       "      <th>Confidence interval details</th>\n",
       "      <th>Source of numerator</th>\n",
       "      <th>Definition of numerator</th>\n",
       "      <th>Source of denominator</th>\n",
       "      <th>Definition of denominator</th>\n",
       "      <th>Disclosure control</th>\n",
       "      <th>Caveats</th>\n",
       "      <th>Copyright</th>\n",
       "      <th>Data re-use</th>\n",
       "      <th>Links</th>\n",
       "      <th>Indicator number</th>\n",
       "      <th>Notes</th>\n",
       "      <th>Frequency</th>\n",
       "      <th>Rounding</th>\n",
       "      <th>Indicator Content</th>\n",
       "      <th>Specific rationale</th>\n",
       "      <th>Impact of COVID-19</th>\n",
       "      <th>Unit</th>\n",
       "      <th>Value type</th>\n",
       "      <th>Year type</th>\n",
       "      <th>Polarity</th>\n",
       "      <th>Date updated</th>\n",
       "    </tr>\n",
       "  </thead>\n",
       "  <tbody>\n",
       "    <tr>\n",
       "      <th>0</th>\n",
       "      <td>108</td>\n",
       "      <td>Under 75 mortality rate from all causes</td>\n",
       "      <td>Directly age-standardised mortality rate for a...</td>\n",
       "      <td>Premature mortality is a good high-level indic...</td>\n",
       "      <td>Office for Health Improvement and Disparities ...</td>\n",
       "      <td>Office for Health Improvement and Disparities</td>\n",
       "      <td>Numerator data for each age band are divided b...</td>\n",
       "      <td>2013 European Standard Population</td>\n",
       "      <td>NaN</td>\n",
       "      <td>Office for National Statistics: Annual Mortali...</td>\n",
       "      <td>Number of deaths registered in the respective ...</td>\n",
       "      <td>ONS 2021 Census based mid year population esti...</td>\n",
       "      <td>Population for people under 75 years of age, a...</td>\n",
       "      <td>The Isles of Scilly and City of London data ha...</td>\n",
       "      <td>Please note data may not match published ONS f...</td>\n",
       "      <td>Office for Health Improvement and Disparities</td>\n",
       "      <td>The data may be reused referencing Office for ...</td>\n",
       "      <td>NaN</td>\n",
       "      <td>NaN</td>\n",
       "      <td>As the latest data point for this indicator co...</td>\n",
       "      <td>The data will be updated annually</td>\n",
       "      <td>NaN</td>\n",
       "      <td>Directly standardised mortality rate for morta...</td>\n",
       "      <td>NaN</td>\n",
       "      <td>NaN</td>\n",
       "      <td>per 100,000</td>\n",
       "      <td>Directly standardised rate</td>\n",
       "      <td>Calendar</td>\n",
       "      <td>RAG - Low is good</td>\n",
       "      <td>14/02/2023</td>\n",
       "    </tr>\n",
       "    <tr>\n",
       "      <th>1</th>\n",
       "      <td>113</td>\n",
       "      <td>Smoking attributable mortality (old method)</td>\n",
       "      <td>Deaths attributable to smoking, directly age s...</td>\n",
       "      <td>Smoking remains the biggest single cause of pr...</td>\n",
       "      <td>ONS mortality file, ONS LSOA single year of ag...</td>\n",
       "      <td>Further detail on the methodology can be found...</td>\n",
       "      <td>NaN</td>\n",
       "      <td>European Standard Population 2013</td>\n",
       "      <td>NaN</td>\n",
       "      <td>ONS: Annual birth and death extracts  Prevalen...</td>\n",
       "      <td>Smoking attributable deaths are the sums over ...</td>\n",
       "      <td>ONS</td>\n",
       "      <td>ONS mid-year population estimates</td>\n",
       "      <td>Where the observed total number of deaths is l...</td>\n",
       "      <td>NaN</td>\n",
       "      <td>NaN</td>\n",
       "      <td>NaN</td>\n",
       "      <td>NaN</td>\n",
       "      <td>NaN</td>\n",
       "      <td>All data points from 2007-09 to 2011-13 were r...</td>\n",
       "      <td>Annual</td>\n",
       "      <td>NaN</td>\n",
       "      <td>NaN</td>\n",
       "      <td>NaN</td>\n",
       "      <td>NaN</td>\n",
       "      <td>per 100,000</td>\n",
       "      <td>Directly standardised rate</td>\n",
       "      <td>Calendar</td>\n",
       "      <td>RAG - Low is good</td>\n",
       "      <td>07/10/2019</td>\n",
       "    </tr>\n",
       "    <tr>\n",
       "      <th>2</th>\n",
       "      <td>114</td>\n",
       "      <td>QOF Total List Size</td>\n",
       "      <td>Total number of patients registered with the p...</td>\n",
       "      <td>NaN</td>\n",
       "      <td>Quality and Outcomes Framework (QOF), NHS Digital</td>\n",
       "      <td>For the current year:  https://digital.nhs.uk/...</td>\n",
       "      <td>NaN</td>\n",
       "      <td>NaN</td>\n",
       "      <td>NaN</td>\n",
       "      <td>Quality and Outcomes Framework (QOF), NHS Digital</td>\n",
       "      <td>NaN</td>\n",
       "      <td>Quality and Outcomes Framework (QOF), NHS Digital</td>\n",
       "      <td>NaN</td>\n",
       "      <td>NaN</td>\n",
       "      <td>NaN</td>\n",
       "      <td>NaN</td>\n",
       "      <td>NaN</td>\n",
       "      <td>NaN</td>\n",
       "      <td>NaN</td>\n",
       "      <td>NaN</td>\n",
       "      <td>NaN</td>\n",
       "      <td>NaN</td>\n",
       "      <td>NaN</td>\n",
       "      <td>NaN</td>\n",
       "      <td>NaN</td>\n",
       "      <td>NaN</td>\n",
       "      <td>Count</td>\n",
       "      <td>Financial</td>\n",
       "      <td>Not applicable</td>\n",
       "      <td>27/10/2022</td>\n",
       "    </tr>\n",
       "    <tr>\n",
       "      <th>3</th>\n",
       "      <td>200</td>\n",
       "      <td>Learning disability: QOF prevalence (all ages)</td>\n",
       "      <td>The percentage of patients with learning disab...</td>\n",
       "      <td>NaN</td>\n",
       "      <td>Quality and Outcomes Framework (QOF), NHS Digital</td>\n",
       "      <td>For the current year:  https://digital.nhs.uk/...</td>\n",
       "      <td>numerator/denominator * 100</td>\n",
       "      <td>NaN</td>\n",
       "      <td>NaN</td>\n",
       "      <td>Quality and Outcomes Framework (QOF), NHS Digital</td>\n",
       "      <td>Total number of patients with learning disabil...</td>\n",
       "      <td>Quality and Outcomes Framework (QOF), NHS Digital</td>\n",
       "      <td>Total number of patients registered with the p...</td>\n",
       "      <td>NaN</td>\n",
       "      <td>NaN</td>\n",
       "      <td>NaN</td>\n",
       "      <td>NaN</td>\n",
       "      <td>NaN</td>\n",
       "      <td>NaN</td>\n",
       "      <td>Where local authority values are presented, th...</td>\n",
       "      <td>NaN</td>\n",
       "      <td>NaN</td>\n",
       "      <td>NaN</td>\n",
       "      <td>NaN</td>\n",
       "      <td>For 2020/21 QOF data,  https://digital.nhs.uk/...</td>\n",
       "      <td>%</td>\n",
       "      <td>Proportion</td>\n",
       "      <td>Financial</td>\n",
       "      <td>BOB - Blue orange blue</td>\n",
       "      <td>27/10/2022</td>\n",
       "    </tr>\n",
       "    <tr>\n",
       "      <th>4</th>\n",
       "      <td>212</td>\n",
       "      <td>Stroke: QOF prevalence (all ages)</td>\n",
       "      <td>The percentage of patients with stroke or tran...</td>\n",
       "      <td>Stroke is the third most common cause of death...</td>\n",
       "      <td>Quality and Outcomes Framework (QOF), NHS Digital</td>\n",
       "      <td>For the current year:  https://digital.nhs.uk/...</td>\n",
       "      <td>numerator/denominator * 100</td>\n",
       "      <td>NaN</td>\n",
       "      <td>NaN</td>\n",
       "      <td>Quality and Outcomes Framework (QOF), NHS Digital</td>\n",
       "      <td>Patients with stroke or transient ischaemic at...</td>\n",
       "      <td>Quality and Outcomes Framework (QOF), NHS Digital</td>\n",
       "      <td>Total practice list size.</td>\n",
       "      <td>NaN</td>\n",
       "      <td>NaN</td>\n",
       "      <td>NaN</td>\n",
       "      <td>NaN</td>\n",
       "      <td>NaN</td>\n",
       "      <td>NaN</td>\n",
       "      <td>Where local authority values are presented, th...</td>\n",
       "      <td>NaN</td>\n",
       "      <td>NaN</td>\n",
       "      <td>NaN</td>\n",
       "      <td>NaN</td>\n",
       "      <td>For 2020/21 QOF data,  https://digital.nhs.uk/...</td>\n",
       "      <td>%</td>\n",
       "      <td>Proportion</td>\n",
       "      <td>Financial</td>\n",
       "      <td>BOB - Blue orange blue</td>\n",
       "      <td>27/10/2022</td>\n",
       "    </tr>\n",
       "  </tbody>\n",
       "</table>\n",
       "</div>"
      ],
      "text/plain": [
       "   Indicator ID                                       Indicator  \\\n",
       "0           108         Under 75 mortality rate from all causes   \n",
       "1           113     Smoking attributable mortality (old method)   \n",
       "2           114                             QOF Total List Size   \n",
       "3           200  Learning disability: QOF prevalence (all ages)   \n",
       "4           212               Stroke: QOF prevalence (all ages)   \n",
       "\n",
       "                                          Definition  \\\n",
       "0  Directly age-standardised mortality rate for a...   \n",
       "1  Deaths attributable to smoking, directly age s...   \n",
       "2  Total number of patients registered with the p...   \n",
       "3  The percentage of patients with learning disab...   \n",
       "4  The percentage of patients with stroke or tran...   \n",
       "\n",
       "                                           Rationale  \\\n",
       "0  Premature mortality is a good high-level indic...   \n",
       "1  Smoking remains the biggest single cause of pr...   \n",
       "2                                                NaN   \n",
       "3                                                NaN   \n",
       "4  Stroke is the third most common cause of death...   \n",
       "\n",
       "                                         Data source  \\\n",
       "0  Office for Health Improvement and Disparities ...   \n",
       "1  ONS mortality file, ONS LSOA single year of ag...   \n",
       "2  Quality and Outcomes Framework (QOF), NHS Digital   \n",
       "3  Quality and Outcomes Framework (QOF), NHS Digital   \n",
       "4  Quality and Outcomes Framework (QOF), NHS Digital   \n",
       "\n",
       "                                    Indicator source  \\\n",
       "0      Office for Health Improvement and Disparities   \n",
       "1  Further detail on the methodology can be found...   \n",
       "2  For the current year:  https://digital.nhs.uk/...   \n",
       "3  For the current year:  https://digital.nhs.uk/...   \n",
       "4  For the current year:  https://digital.nhs.uk/...   \n",
       "\n",
       "                                         Methodology  \\\n",
       "0  Numerator data for each age band are divided b...   \n",
       "1                                                NaN   \n",
       "2                                                NaN   \n",
       "3                        numerator/denominator * 100   \n",
       "4                        numerator/denominator * 100   \n",
       "\n",
       "          Standard population/values Confidence interval details  \\\n",
       "0  2013 European Standard Population                         NaN   \n",
       "1  European Standard Population 2013                         NaN   \n",
       "2                                NaN                         NaN   \n",
       "3                                NaN                         NaN   \n",
       "4                                NaN                         NaN   \n",
       "\n",
       "                                 Source of numerator  \\\n",
       "0  Office for National Statistics: Annual Mortali...   \n",
       "1  ONS: Annual birth and death extracts  Prevalen...   \n",
       "2  Quality and Outcomes Framework (QOF), NHS Digital   \n",
       "3  Quality and Outcomes Framework (QOF), NHS Digital   \n",
       "4  Quality and Outcomes Framework (QOF), NHS Digital   \n",
       "\n",
       "                             Definition of numerator  \\\n",
       "0  Number of deaths registered in the respective ...   \n",
       "1  Smoking attributable deaths are the sums over ...   \n",
       "2                                                NaN   \n",
       "3  Total number of patients with learning disabil...   \n",
       "4  Patients with stroke or transient ischaemic at...   \n",
       "\n",
       "                               Source of denominator  \\\n",
       "0  ONS 2021 Census based mid year population esti...   \n",
       "1                                                ONS   \n",
       "2  Quality and Outcomes Framework (QOF), NHS Digital   \n",
       "3  Quality and Outcomes Framework (QOF), NHS Digital   \n",
       "4  Quality and Outcomes Framework (QOF), NHS Digital   \n",
       "\n",
       "                           Definition of denominator  \\\n",
       "0  Population for people under 75 years of age, a...   \n",
       "1                  ONS mid-year population estimates   \n",
       "2                                                NaN   \n",
       "3  Total number of patients registered with the p...   \n",
       "4                          Total practice list size.   \n",
       "\n",
       "                                  Disclosure control  \\\n",
       "0  The Isles of Scilly and City of London data ha...   \n",
       "1  Where the observed total number of deaths is l...   \n",
       "2                                                NaN   \n",
       "3                                                NaN   \n",
       "4                                                NaN   \n",
       "\n",
       "                                             Caveats  \\\n",
       "0  Please note data may not match published ONS f...   \n",
       "1                                                NaN   \n",
       "2                                                NaN   \n",
       "3                                                NaN   \n",
       "4                                                NaN   \n",
       "\n",
       "                                       Copyright  \\\n",
       "0  Office for Health Improvement and Disparities   \n",
       "1                                            NaN   \n",
       "2                                            NaN   \n",
       "3                                            NaN   \n",
       "4                                            NaN   \n",
       "\n",
       "                                         Data re-use Links Indicator number  \\\n",
       "0  The data may be reused referencing Office for ...   NaN              NaN   \n",
       "1                                                NaN   NaN              NaN   \n",
       "2                                                NaN   NaN              NaN   \n",
       "3                                                NaN   NaN              NaN   \n",
       "4                                                NaN   NaN              NaN   \n",
       "\n",
       "                                               Notes  \\\n",
       "0  As the latest data point for this indicator co...   \n",
       "1  All data points from 2007-09 to 2011-13 were r...   \n",
       "2                                                NaN   \n",
       "3  Where local authority values are presented, th...   \n",
       "4  Where local authority values are presented, th...   \n",
       "\n",
       "                           Frequency Rounding  \\\n",
       "0  The data will be updated annually      NaN   \n",
       "1                             Annual      NaN   \n",
       "2                                NaN      NaN   \n",
       "3                                NaN      NaN   \n",
       "4                                NaN      NaN   \n",
       "\n",
       "                                   Indicator Content Specific rationale  \\\n",
       "0  Directly standardised mortality rate for morta...                NaN   \n",
       "1                                                NaN                NaN   \n",
       "2                                                NaN                NaN   \n",
       "3                                                NaN                NaN   \n",
       "4                                                NaN                NaN   \n",
       "\n",
       "                                  Impact of COVID-19         Unit  \\\n",
       "0                                                NaN  per 100,000   \n",
       "1                                                NaN  per 100,000   \n",
       "2                                                NaN          NaN   \n",
       "3  For 2020/21 QOF data,  https://digital.nhs.uk/...            %   \n",
       "4  For 2020/21 QOF data,  https://digital.nhs.uk/...            %   \n",
       "\n",
       "                   Value type  Year type                Polarity Date updated  \n",
       "0  Directly standardised rate   Calendar       RAG - Low is good   14/02/2023  \n",
       "1  Directly standardised rate   Calendar       RAG - Low is good   07/10/2019  \n",
       "2                       Count  Financial          Not applicable   27/10/2022  \n",
       "3                  Proportion  Financial  BOB - Blue orange blue   27/10/2022  \n",
       "4                  Proportion  Financial  BOB - Blue orange blue   27/10/2022  "
      ]
     },
     "execution_count": 65,
     "metadata": {},
     "output_type": "execute_result"
    }
   ],
   "source": [
    "indicator_metadata.head()"
   ]
  },
  {
   "cell_type": "code",
   "execution_count": 64,
   "metadata": {},
   "outputs": [
    {
     "data": {
      "text/plain": [
       "Index(['indicator_id', 'indicator', 'definition', 'rationale', 'data_source',\n",
       "       'indicator_source', 'methodology', 'standard_population/values',\n",
       "       'confidence_interval_details', 'source_of_numerator',\n",
       "       'definition_of_numerator', 'source_of_denominator',\n",
       "       'definition_of_denominator', 'disclosure_control', 'caveats',\n",
       "       'copyright', 'data_re-use', 'links', 'indicator_number', 'notes',\n",
       "       'frequency', 'rounding', 'indicator_content', 'specific_rationale',\n",
       "       'impact_of_covid-19', 'unit', 'value_type', 'year_type', 'polarity',\n",
       "       'date_updated'],\n",
       "      dtype='object')"
      ]
     },
     "execution_count": 64,
     "metadata": {},
     "output_type": "execute_result"
    }
   ],
   "source": [
    "indicator_metadata.columns.str.lower().str.replace(' ', '_')"
   ]
  },
  {
   "attachments": {},
   "cell_type": "markdown",
   "metadata": {},
   "source": [
    "# Indicator sex, age and timeperiod available\n",
    "\n",
    "This doesn't actually bring through all of those available in the data. It brings through the settings for the website and what is shown on the website"
   ]
  },
  {
   "cell_type": "code",
   "execution_count": 8,
   "metadata": {},
   "outputs": [],
   "source": [
    "def df_nested_json(url): \n",
    "    with urlopen(url) as response:\n",
    "        data_str = response.read().decode(\"utf-8\")\n",
    "        data_json = loads(data_str[1:-1])\n",
    "    return pd.json_normalize(data_json)"
   ]
  },
  {
   "cell_type": "code",
   "execution_count": 9,
   "metadata": {},
   "outputs": [],
   "source": [
    "data = df_nested_json('https://fingertips.phe.org.uk/api/grouproot_summaries/by_indicator_id?indicator_ids=90813')"
   ]
  },
  {
   "cell_type": "code",
   "execution_count": 10,
   "metadata": {},
   "outputs": [
    {
     "data": {
      "text/html": [
       "<div>\n",
       "<style scoped>\n",
       "    .dataframe tbody tr th:only-of-type {\n",
       "        vertical-align: middle;\n",
       "    }\n",
       "\n",
       "    .dataframe tbody tr th {\n",
       "        vertical-align: top;\n",
       "    }\n",
       "\n",
       "    .dataframe thead th {\n",
       "        text-align: right;\n",
       "    }\n",
       "</style>\n",
       "<table border=\"1\" class=\"dataframe\">\n",
       "  <thead>\n",
       "    <tr style=\"text-align: right;\">\n",
       "      <th></th>\n",
       "      <th>IndicatorName</th>\n",
       "      <th>IID</th>\n",
       "      <th>GroupId</th>\n",
       "      <th>StateSex</th>\n",
       "      <th>StateAge</th>\n",
       "      <th>StateYearRange</th>\n",
       "      <th>TimePeriod</th>\n",
       "      <th>YearRange</th>\n",
       "      <th>Sex.Id</th>\n",
       "      <th>Sex.Name</th>\n",
       "      <th>Age.Id</th>\n",
       "      <th>Age.Name</th>\n",
       "      <th>Age.Sequence</th>\n",
       "      <th>Category.Id</th>\n",
       "      <th>Category.CategoryTypeId</th>\n",
       "      <th>Category.Name</th>\n",
       "      <th>Category.ShortName</th>\n",
       "      <th>DateChanges.HasDataChangedRecently</th>\n",
       "      <th>DateChanges.DateOfLastChange</th>\n",
       "      <th>DataQualityNote.Id</th>\n",
       "      <th>DataQualityNote.Text</th>\n",
       "      <th>DataQualityNote.Comment</th>\n",
       "      <th>Unit.Id</th>\n",
       "      <th>Unit.Value</th>\n",
       "      <th>Unit.Label</th>\n",
       "      <th>ValueType.Id</th>\n",
       "      <th>ValueType.Name</th>\n",
       "    </tr>\n",
       "  </thead>\n",
       "  <tbody>\n",
       "    <tr>\n",
       "      <th>0</th>\n",
       "      <td>Hospital admissions as a result of self-harm (...</td>\n",
       "      <td>90813</td>\n",
       "      <td>1938132923</td>\n",
       "      <td>False</td>\n",
       "      <td>False</td>\n",
       "      <td>False</td>\n",
       "      <td>2021/22</td>\n",
       "      <td>1</td>\n",
       "      <td>4</td>\n",
       "      <td>Persons</td>\n",
       "      <td>305</td>\n",
       "      <td>10-24 yrs</td>\n",
       "      <td>17.0</td>\n",
       "      <td>-1</td>\n",
       "      <td>-1</td>\n",
       "      <td>Undefined</td>\n",
       "      <td>Undefined</td>\n",
       "      <td>False</td>\n",
       "      <td>07 Mar 2023</td>\n",
       "      <td>0</td>\n",
       "      <td>None</td>\n",
       "      <td>None</td>\n",
       "      <td>3</td>\n",
       "      <td>100000.0</td>\n",
       "      <td>per 100,000</td>\n",
       "      <td>1</td>\n",
       "      <td>Directly standardised rate</td>\n",
       "    </tr>\n",
       "  </tbody>\n",
       "</table>\n",
       "</div>"
      ],
      "text/plain": [
       "                                       IndicatorName    IID     GroupId  \\\n",
       "0  Hospital admissions as a result of self-harm (...  90813  1938132923   \n",
       "\n",
       "   StateSex  StateAge  StateYearRange TimePeriod  YearRange  Sex.Id Sex.Name  \\\n",
       "0     False     False           False    2021/22          1       4  Persons   \n",
       "\n",
       "   Age.Id   Age.Name  Age.Sequence  Category.Id  Category.CategoryTypeId  \\\n",
       "0     305  10-24 yrs          17.0           -1                       -1   \n",
       "\n",
       "  Category.Name Category.ShortName  DateChanges.HasDataChangedRecently  \\\n",
       "0     Undefined          Undefined                               False   \n",
       "\n",
       "  DateChanges.DateOfLastChange  DataQualityNote.Id DataQualityNote.Text  \\\n",
       "0                  07 Mar 2023                   0                 None   \n",
       "\n",
       "  DataQualityNote.Comment  Unit.Id  Unit.Value   Unit.Label  ValueType.Id  \\\n",
       "0                    None        3    100000.0  per 100,000             1   \n",
       "\n",
       "               ValueType.Name  \n",
       "0  Directly standardised rate  "
      ]
     },
     "execution_count": 10,
     "metadata": {},
     "output_type": "execute_result"
    }
   ],
   "source": [
    "data"
   ]
  },
  {
   "attachments": {},
   "cell_type": "markdown",
   "metadata": {},
   "source": [
    "# Area Ids metadata\n",
    "To get the name of the area"
   ]
  },
  {
   "cell_type": "code",
   "execution_count": 11,
   "metadata": {},
   "outputs": [],
   "source": [
    "area_ref = pd.read_json('https://fingertips.phe.org.uk/api/area_types').fillna(value='null')"
   ]
  },
  {
   "cell_type": "code",
   "execution_count": 12,
   "metadata": {},
   "outputs": [
    {
     "data": {
      "text/plain": [
       "Index(['Id', 'Name', 'Short', 'Class', 'Sequence', 'CanBeDisplayedOnMap'], dtype='object')"
      ]
     },
     "execution_count": 12,
     "metadata": {},
     "output_type": "execute_result"
    }
   ],
   "source": [
    "area_ref.columns"
   ]
  },
  {
   "cell_type": "code",
   "execution_count": 13,
   "metadata": {},
   "outputs": [
    {
     "data": {
      "text/html": [
       "<div>\n",
       "<style scoped>\n",
       "    .dataframe tbody tr th:only-of-type {\n",
       "        vertical-align: middle;\n",
       "    }\n",
       "\n",
       "    .dataframe tbody tr th {\n",
       "        vertical-align: top;\n",
       "    }\n",
       "\n",
       "    .dataframe thead th {\n",
       "        text-align: right;\n",
       "    }\n",
       "</style>\n",
       "<table border=\"1\" class=\"dataframe\">\n",
       "  <thead>\n",
       "    <tr style=\"text-align: right;\">\n",
       "      <th></th>\n",
       "      <th>Id</th>\n",
       "      <th>Name</th>\n",
       "      <th>Short</th>\n",
       "      <th>Class</th>\n",
       "      <th>Sequence</th>\n",
       "      <th>CanBeDisplayedOnMap</th>\n",
       "    </tr>\n",
       "  </thead>\n",
       "  <tbody>\n",
       "    <tr>\n",
       "      <th>51</th>\n",
       "      <td>152</td>\n",
       "      <td>CCGs (2017/18)</td>\n",
       "      <td>CCGs (2017/18)</td>\n",
       "      <td>ccg-composite</td>\n",
       "      <td>2017</td>\n",
       "      <td>True</td>\n",
       "    </tr>\n",
       "    <tr>\n",
       "      <th>52</th>\n",
       "      <td>154</td>\n",
       "      <td>CCGs (2018/19)</td>\n",
       "      <td>CCGs (2018/19)</td>\n",
       "      <td>ccg-composite</td>\n",
       "      <td>2018</td>\n",
       "      <td>True</td>\n",
       "    </tr>\n",
       "    <tr>\n",
       "      <th>62</th>\n",
       "      <td>165</td>\n",
       "      <td>CCGs (2019/20)</td>\n",
       "      <td>CCGs (2019/20)</td>\n",
       "      <td>ccg-composite</td>\n",
       "      <td>2019</td>\n",
       "      <td>True</td>\n",
       "    </tr>\n",
       "    <tr>\n",
       "      <th>63</th>\n",
       "      <td>166</td>\n",
       "      <td>CCGs (2020/21)</td>\n",
       "      <td>CCGs (2020/21)</td>\n",
       "      <td>ccg-composite</td>\n",
       "      <td>2020</td>\n",
       "      <td>True</td>\n",
       "    </tr>\n",
       "    <tr>\n",
       "      <th>64</th>\n",
       "      <td>167</td>\n",
       "      <td>CCGs (2021/22)</td>\n",
       "      <td>CCGs (from Apr 2021)</td>\n",
       "      <td>ccg-composite</td>\n",
       "      <td>2021</td>\n",
       "      <td>True</td>\n",
       "    </tr>\n",
       "  </tbody>\n",
       "</table>\n",
       "</div>"
      ],
      "text/plain": [
       "     Id            Name                 Short          Class  Sequence  \\\n",
       "51  152  CCGs (2017/18)        CCGs (2017/18)  ccg-composite      2017   \n",
       "52  154  CCGs (2018/19)        CCGs (2018/19)  ccg-composite      2018   \n",
       "62  165  CCGs (2019/20)        CCGs (2019/20)  ccg-composite      2019   \n",
       "63  166  CCGs (2020/21)        CCGs (2020/21)  ccg-composite      2020   \n",
       "64  167  CCGs (2021/22)  CCGs (from Apr 2021)  ccg-composite      2021   \n",
       "\n",
       "    CanBeDisplayedOnMap  \n",
       "51                 True  \n",
       "52                 True  \n",
       "62                 True  \n",
       "63                 True  \n",
       "64                 True  "
      ]
     },
     "execution_count": 13,
     "metadata": {},
     "output_type": "execute_result"
    }
   ],
   "source": [
    "area_ref[area_ref['Class']=='ccg-composite']"
   ]
  },
  {
   "attachments": {},
   "cell_type": "markdown",
   "metadata": {},
   "source": [
    "## hierarchy"
   ]
  },
  {
   "cell_type": "code",
   "execution_count": 14,
   "metadata": {},
   "outputs": [],
   "source": [
    "area_hierarchy = pd.read_csv('https://docs.google.com/spreadsheets/u/0/d/15RhWWsHPPMLWoxR5sJcpK-vraRkidRY8jsAb_Y_5GwI/gviz/tq?tqx=out:csv&tq&gid=963757659&headers=1')\n",
    "area_hierarchy = area_hierarchy[['AreaTypeId', 'map_position', 'hierarchy']].dropna()"
   ]
  },
  {
   "attachments": {},
   "cell_type": "markdown",
   "metadata": {},
   "source": [
    "# Area types available for each indicator with extra metadata"
   ]
  },
  {
   "attachments": {},
   "cell_type": "markdown",
   "metadata": {},
   "source": [
    "## prepare full table"
   ]
  },
  {
   "cell_type": "code",
   "execution_count": 15,
   "metadata": {},
   "outputs": [],
   "source": [
    "available_indicator_at_area = pd.merge(left=raw_available_indicator_at_area, right=area_ref,\n",
    "         how='left', left_on='AreaTypeId', right_on='Id',\n",
    "         indicator=True).rename({'_merge': 'area_merge'}, axis=1)\n",
    "\n",
    "available_indicator_at_area = pd.merge(left=available_indicator_at_area, right=indicator_metadata[['Indicator ID', 'Indicator']],\n",
    "                                       left_on='IndicatorId', right_on='Indicator ID', how='inner',\n",
    "                                       indicator=True, )"
   ]
  },
  {
   "cell_type": "markdown",
   "metadata": {},
   "source": [
    "## create views"
   ]
  },
  {
   "cell_type": "code",
   "execution_count": 16,
   "metadata": {},
   "outputs": [],
   "source": [
    "# indicators_per_area = (pd.DataFrame(available_indicator_at_area.groupby(['Name', 'Short', 'Class', 'Sequence','CanBeDisplayedOnMap'])['_merge'].count())\n",
    "#                        .reset_index()\n",
    "#                        .sort_values(['Class', 'Sequence'], ascending=False)\n",
    "#                        .rename({'_merge': 'indicator_count'}, axis=1)\n",
    "#                        )"
   ]
  },
  {
   "cell_type": "code",
   "execution_count": 17,
   "metadata": {},
   "outputs": [],
   "source": [
    "# indicator_at_area_pivot = available_indicator_at_area[['Indicator', 'Name', 'Id']].pivot_table(index='Indicator', columns='Name', aggfunc='count')"
   ]
  },
  {
   "cell_type": "markdown",
   "metadata": {},
   "source": [
    "## use hierarchy to choose indicators and areas"
   ]
  },
  {
   "cell_type": "code",
   "execution_count": 18,
   "metadata": {},
   "outputs": [],
   "source": [
    "full_area_indicator_hierarchy = pd.merge(left=area_hierarchy, right=raw_available_indicator_at_area,\n",
    "         left_on='AreaTypeId', right_on='AreaTypeId',\n",
    "         how='inner')"
   ]
  },
  {
   "cell_type": "code",
   "execution_count": 19,
   "metadata": {},
   "outputs": [
    {
     "name": "stderr",
     "output_type": "stream",
     "text": [
      "C:\\Users\\medssam\\AppData\\Local\\Temp\\ipykernel_11428\\2219602755.py:2: SettingWithCopyWarning: \n",
      "A value is trying to be set on a copy of a slice from a DataFrame.\n",
      "Try using .loc[row_indexer,col_indexer] = value instead\n",
      "\n",
      "See the caveats in the documentation: https://pandas.pydata.org/pandas-docs/stable/user_guide/indexing.html#returning-a-view-versus-a-copy\n",
      "  left['rank'] = left.groupby('IndicatorId')['hierarchy'].rank(method='dense')\n"
     ]
    }
   ],
   "source": [
    "left = full_area_indicator_hierarchy[full_area_indicator_hierarchy['map_position']=='left']\n",
    "left['rank'] = left.groupby('IndicatorId')['hierarchy'].rank(method='dense')\n",
    "keep_left = left[left['rank']==1]\n"
   ]
  },
  {
   "cell_type": "code",
   "execution_count": 20,
   "metadata": {},
   "outputs": [
    {
     "data": {
      "text/plain": [
       "array([1.])"
      ]
     },
     "execution_count": 20,
     "metadata": {},
     "output_type": "execute_result"
    }
   ],
   "source": [
    "keep_left['rank'].unique()"
   ]
  },
  {
   "cell_type": "code",
   "execution_count": 21,
   "metadata": {},
   "outputs": [],
   "source": [
    "def find_first_hierarchy(data, map_position):\n",
    "    data = data[data['map_position']==map_position].loc[:, ['IndicatorId','hierarchy','AreaTypeId', 'map_position']]\n",
    "    data['rank'] = data.groupby('IndicatorId')['hierarchy'].rank(method='dense')\n",
    "    return data[data['rank']==1].drop('rank', axis=1)"
   ]
  },
  {
   "cell_type": "code",
   "execution_count": 22,
   "metadata": {},
   "outputs": [],
   "source": [
    "get_indicator_area = pd.concat([find_first_hierarchy(full_area_indicator_hierarchy, 'left'),\n",
    "                                find_first_hierarchy(full_area_indicator_hierarchy, 'middle'),\n",
    "                                find_first_hierarchy(full_area_indicator_hierarchy, 'right')]\n",
    ")"
   ]
  },
  {
   "attachments": {},
   "cell_type": "markdown",
   "metadata": {},
   "source": [
    "# Retrieve indicator data"
   ]
  },
  {
   "attachments": {},
   "cell_type": "markdown",
   "metadata": {},
   "source": [
    "## filter by those that only have all 3 as a test case"
   ]
  },
  {
   "cell_type": "code",
   "execution_count": 23,
   "metadata": {},
   "outputs": [],
   "source": [
    "number_of_maps_returned = get_indicator_area.groupby('IndicatorId')['map_position'].count()\n",
    "ind_ids_keep_3_maps = number_of_maps_returned[number_of_maps_returned==3].index.values"
   ]
  },
  {
   "cell_type": "code",
   "execution_count": 24,
   "metadata": {},
   "outputs": [],
   "source": [
    "get_ind_area_combos = get_indicator_area[get_indicator_area['IndicatorId'].isin(ind_ids_keep_3_maps)]"
   ]
  },
  {
   "cell_type": "markdown",
   "metadata": {},
   "source": [
    "## get data"
   ]
  },
  {
   "cell_type": "code",
   "execution_count": 26,
   "metadata": {},
   "outputs": [
    {
     "data": {
      "text/plain": [
       "array([221, 220, 219,   6,  66, 167, 166, 165, 154, 401, 402, 302, 202,\n",
       "       102], dtype=int64)"
      ]
     },
     "execution_count": 26,
     "metadata": {},
     "output_type": "execute_result"
    }
   ],
   "source": [
    "get_ind_area_combos['AreaTypeId'].unique()"
   ]
  },
  {
   "cell_type": "code",
   "execution_count": 27,
   "metadata": {},
   "outputs": [
    {
     "data": {
      "text/html": [
       "<div>\n",
       "<style scoped>\n",
       "    .dataframe tbody tr th:only-of-type {\n",
       "        vertical-align: middle;\n",
       "    }\n",
       "\n",
       "    .dataframe tbody tr th {\n",
       "        vertical-align: top;\n",
       "    }\n",
       "\n",
       "    .dataframe thead th {\n",
       "        text-align: right;\n",
       "    }\n",
       "</style>\n",
       "<table border=\"1\" class=\"dataframe\">\n",
       "  <thead>\n",
       "    <tr style=\"text-align: right;\">\n",
       "      <th></th>\n",
       "      <th>IndicatorId</th>\n",
       "      <th>hierarchy</th>\n",
       "      <th>map_position</th>\n",
       "    </tr>\n",
       "    <tr>\n",
       "      <th>AreaTypeId</th>\n",
       "      <th></th>\n",
       "      <th></th>\n",
       "      <th></th>\n",
       "    </tr>\n",
       "  </thead>\n",
       "  <tbody>\n",
       "    <tr>\n",
       "      <th>6</th>\n",
       "      <td>45</td>\n",
       "      <td>45</td>\n",
       "      <td>45</td>\n",
       "    </tr>\n",
       "    <tr>\n",
       "      <th>66</th>\n",
       "      <td>34</td>\n",
       "      <td>34</td>\n",
       "      <td>34</td>\n",
       "    </tr>\n",
       "    <tr>\n",
       "      <th>102</th>\n",
       "      <td>12</td>\n",
       "      <td>12</td>\n",
       "      <td>12</td>\n",
       "    </tr>\n",
       "    <tr>\n",
       "      <th>154</th>\n",
       "      <td>15</td>\n",
       "      <td>15</td>\n",
       "      <td>15</td>\n",
       "    </tr>\n",
       "    <tr>\n",
       "      <th>165</th>\n",
       "      <td>13</td>\n",
       "      <td>13</td>\n",
       "      <td>13</td>\n",
       "    </tr>\n",
       "    <tr>\n",
       "      <th>166</th>\n",
       "      <td>14</td>\n",
       "      <td>14</td>\n",
       "      <td>14</td>\n",
       "    </tr>\n",
       "    <tr>\n",
       "      <th>167</th>\n",
       "      <td>61</td>\n",
       "      <td>61</td>\n",
       "      <td>61</td>\n",
       "    </tr>\n",
       "    <tr>\n",
       "      <th>202</th>\n",
       "      <td>6</td>\n",
       "      <td>6</td>\n",
       "      <td>6</td>\n",
       "    </tr>\n",
       "    <tr>\n",
       "      <th>219</th>\n",
       "      <td>19</td>\n",
       "      <td>19</td>\n",
       "      <td>19</td>\n",
       "    </tr>\n",
       "    <tr>\n",
       "      <th>220</th>\n",
       "      <td>36</td>\n",
       "      <td>36</td>\n",
       "      <td>36</td>\n",
       "    </tr>\n",
       "    <tr>\n",
       "      <th>221</th>\n",
       "      <td>37</td>\n",
       "      <td>37</td>\n",
       "      <td>37</td>\n",
       "    </tr>\n",
       "    <tr>\n",
       "      <th>302</th>\n",
       "      <td>13</td>\n",
       "      <td>13</td>\n",
       "      <td>13</td>\n",
       "    </tr>\n",
       "    <tr>\n",
       "      <th>401</th>\n",
       "      <td>72</td>\n",
       "      <td>72</td>\n",
       "      <td>72</td>\n",
       "    </tr>\n",
       "    <tr>\n",
       "      <th>402</th>\n",
       "      <td>34</td>\n",
       "      <td>34</td>\n",
       "      <td>34</td>\n",
       "    </tr>\n",
       "  </tbody>\n",
       "</table>\n",
       "</div>"
      ],
      "text/plain": [
       "            IndicatorId  hierarchy  map_position\n",
       "AreaTypeId                                      \n",
       "6                    45         45            45\n",
       "66                   34         34            34\n",
       "102                  12         12            12\n",
       "154                  15         15            15\n",
       "165                  13         13            13\n",
       "166                  14         14            14\n",
       "167                  61         61            61\n",
       "202                   6          6             6\n",
       "219                  19         19            19\n",
       "220                  36         36            36\n",
       "221                  37         37            37\n",
       "302                  13         13            13\n",
       "401                  72         72            72\n",
       "402                  34         34            34"
      ]
     },
     "execution_count": 27,
     "metadata": {},
     "output_type": "execute_result"
    }
   ],
   "source": [
    "get_ind_area_combos.groupby('AreaTypeId').count()"
   ]
  },
  {
   "cell_type": "code",
   "execution_count": 28,
   "metadata": {},
   "outputs": [],
   "source": [
    "def return_ind_list_for_area_type(data, AreaTypeId):\n",
    "    return data[data['AreaTypeId']==AreaTypeId]['IndicatorId'].values"
   ]
  },
  {
   "cell_type": "code",
   "execution_count": 29,
   "metadata": {},
   "outputs": [
    {
     "data": {
      "text/plain": [
       "array([  200,   212,   219,   241,   247,   253,   258,   273,   848,\n",
       "       20601, 20602, 90316, 90317, 90319, 90320, 90321, 90323, 90443,\n",
       "       90581, 90646, 90933, 91215, 91216, 91269, 91280, 91547, 92443,\n",
       "       92445, 92464, 92465, 92534, 92538, 92588, 93194, 93195, 93382,\n",
       "       93553], dtype=int64)"
      ]
     },
     "execution_count": 29,
     "metadata": {},
     "output_type": "execute_result"
    }
   ],
   "source": [
    "return_ind_list_for_area_type(get_ind_area_combos, 221)"
   ]
  },
  {
   "cell_type": "code",
   "execution_count": 30,
   "metadata": {},
   "outputs": [],
   "source": [
    "def get_data(data, area_type_id):\n",
    "    indicator_list = return_ind_list_for_area_type(data, area_type_id)\n",
    "    \n",
    "    replace_comma = '%2C'\n",
    "    ids_as_str = replace_comma.join([str(i) for i in indicator_list])\n",
    "    ids_as_str\n",
    "    data = ftp.retrieve_data.get_data_by_indicator_ids(indicator_ids=ids_as_str, # [Maximum 100]\n",
    "                                                    area_type_id=area_type_id,\n",
    "                                                    # parent_area_type_id=15,\n",
    "                                                    # profile_id=None,\n",
    "                                                    include_sortable_time_periods=True,\n",
    "                                                    is_test=False)\n",
    "    \n",
    "    return data\n",
    "    \n",
    "    # data.to_csv(str(area_type_id)+'.csv')"
   ]
  },
  {
   "cell_type": "code",
   "execution_count": 31,
   "metadata": {},
   "outputs": [],
   "source": [
    "# for area_id in get_ind_area_combos['AreaTypeId'].unique():\n",
    "#     get_data(get_ind_area_combos, area_id)"
   ]
  },
  {
   "cell_type": "code",
   "execution_count": 32,
   "metadata": {},
   "outputs": [
    {
     "data": {
      "text/html": [
       "<div>\n",
       "<style scoped>\n",
       "    .dataframe tbody tr th:only-of-type {\n",
       "        vertical-align: middle;\n",
       "    }\n",
       "\n",
       "    .dataframe tbody tr th {\n",
       "        vertical-align: top;\n",
       "    }\n",
       "\n",
       "    .dataframe thead th {\n",
       "        text-align: right;\n",
       "    }\n",
       "</style>\n",
       "<table border=\"1\" class=\"dataframe\">\n",
       "  <thead>\n",
       "    <tr style=\"text-align: right;\">\n",
       "      <th></th>\n",
       "      <th>1204</th>\n",
       "    </tr>\n",
       "  </thead>\n",
       "  <tbody>\n",
       "    <tr>\n",
       "      <th>AlwaysShowAgeWithIndicatorName</th>\n",
       "      <td>False</td>\n",
       "    </tr>\n",
       "    <tr>\n",
       "      <th>AlwaysShowSexWithIndicatorName</th>\n",
       "      <td>False</td>\n",
       "    </tr>\n",
       "    <tr>\n",
       "      <th>ConfidenceIntervalMethod</th>\n",
       "      <td>{'Name': 'Dobson &amp; Byar's methods', 'Descripti...</td>\n",
       "    </tr>\n",
       "    <tr>\n",
       "      <th>DataChange</th>\n",
       "      <td>{'LastUploadedAt': '2023-02-21T12:30:26', 'Las...</td>\n",
       "    </tr>\n",
       "    <tr>\n",
       "      <th>DataQualityNote</th>\n",
       "      <td>{'Id': 0, 'Text': 'None', 'Comment': None}</td>\n",
       "    </tr>\n",
       "    <tr>\n",
       "      <th>Descriptive</th>\n",
       "      <td>{'Name': 'Mortality rate from chronic obstruct...</td>\n",
       "    </tr>\n",
       "    <tr>\n",
       "      <th>IID</th>\n",
       "      <td>1204</td>\n",
       "    </tr>\n",
       "    <tr>\n",
       "      <th>InequalitiesExcludedCategoryTypeIds</th>\n",
       "      <td>[]</td>\n",
       "    </tr>\n",
       "    <tr>\n",
       "      <th>LatestChangeTimestampOverride</th>\n",
       "      <td>2021-11-16T00:00:00</td>\n",
       "    </tr>\n",
       "    <tr>\n",
       "      <th>ShouldCountBeDisplayed</th>\n",
       "      <td>True</td>\n",
       "    </tr>\n",
       "    <tr>\n",
       "      <th>SpecialCases</th>\n",
       "      <td>None</td>\n",
       "    </tr>\n",
       "    <tr>\n",
       "      <th>Unit</th>\n",
       "      <td>{'Id': 3, 'Value': 100000.0, 'Label': 'per 100...</td>\n",
       "    </tr>\n",
       "    <tr>\n",
       "      <th>ValueType</th>\n",
       "      <td>{'Id': 1, 'Name': 'Directly standardised rate'}</td>\n",
       "    </tr>\n",
       "    <tr>\n",
       "      <th>YearType</th>\n",
       "      <td>{'Name': 'Calendar', 'Id': 1}</td>\n",
       "    </tr>\n",
       "  </tbody>\n",
       "</table>\n",
       "</div>"
      ],
      "text/plain": [
       "                                                                                  1204\n",
       "AlwaysShowAgeWithIndicatorName                                                   False\n",
       "AlwaysShowSexWithIndicatorName                                                   False\n",
       "ConfidenceIntervalMethod             {'Name': 'Dobson & Byar's methods', 'Descripti...\n",
       "DataChange                           {'LastUploadedAt': '2023-02-21T12:30:26', 'Las...\n",
       "DataQualityNote                             {'Id': 0, 'Text': 'None', 'Comment': None}\n",
       "Descriptive                          {'Name': 'Mortality rate from chronic obstruct...\n",
       "IID                                                                               1204\n",
       "InequalitiesExcludedCategoryTypeIds                                                 []\n",
       "LatestChangeTimestampOverride                                      2021-11-16T00:00:00\n",
       "ShouldCountBeDisplayed                                                            True\n",
       "SpecialCases                                                                      None\n",
       "Unit                                 {'Id': 3, 'Value': 100000.0, 'Label': 'per 100...\n",
       "ValueType                              {'Id': 1, 'Name': 'Directly standardised rate'}\n",
       "YearType                                                 {'Name': 'Calendar', 'Id': 1}"
      ]
     },
     "execution_count": 32,
     "metadata": {},
     "output_type": "execute_result"
    }
   ],
   "source": [
    "pd.read_json('https://fingertips.phe.org.uk/api/indicator_metadata/by_indicator_id?indicator_ids=1204&include_definition=yes&include_system_content=yes')"
   ]
  },
  {
   "cell_type": "code",
   "execution_count": 33,
   "metadata": {},
   "outputs": [],
   "source": [
    "# data = ftp.retrieve_data.get_all_data_for_indicators(indicators=[108,\n",
    "#  113,\n",
    "#  114,\n",
    "#  200,\n",
    "#  212],\n",
    "#                                                                area_type_id=7,\n",
    "#                                                                parent_area_type_id=15,\n",
    "#                                                                filter_by_area_codes=None,\n",
    "#                                                                is_test=False)"
   ]
  },
  {
   "cell_type": "code",
   "execution_count": 34,
   "metadata": {},
   "outputs": [],
   "source": [
    "# # metadata_areas = ftp.metadata.get_all_areas(is_test=False)\n",
    "# # metadata_value_notes = ftp.metadata.get_all_value_notes(is_test=False)\n",
    "# # metadata_profiles = ftp.metadata.get_all_profiles(is_test=False)\n",
    "# # metadata_domains = ftp.metadata.get_domains_in_profile(18)\n",
    "# metadata_all_indicators = ftp.metadata.get_metadata_for_all_indicators_from_csv(is_test=False)\n",
    "# metadata_all_indicator_ids = metadata_all_indicators['Indicator ID'].tolist()"
   ]
  },
  {
   "cell_type": "code",
   "execution_count": 35,
   "metadata": {},
   "outputs": [],
   "source": [
    "# metadata_all = pd.read_csv('https://fingertips.phe.org.uk/api/indicator_metadata/all?include_definition=yes&include_system_content=yes')"
   ]
  },
  {
   "attachments": {},
   "cell_type": "markdown",
   "metadata": {},
   "source": [
    "# Analysis of nulls"
   ]
  },
  {
   "cell_type": "code",
   "execution_count": 36,
   "metadata": {},
   "outputs": [
    {
     "data": {
      "text/html": [
       "<div>\n",
       "<style scoped>\n",
       "    .dataframe tbody tr th:only-of-type {\n",
       "        vertical-align: middle;\n",
       "    }\n",
       "\n",
       "    .dataframe tbody tr th {\n",
       "        vertical-align: top;\n",
       "    }\n",
       "\n",
       "    .dataframe thead th {\n",
       "        text-align: right;\n",
       "    }\n",
       "</style>\n",
       "<table border=\"1\" class=\"dataframe\">\n",
       "  <thead>\n",
       "    <tr style=\"text-align: right;\">\n",
       "      <th></th>\n",
       "      <th>Id</th>\n",
       "      <th>Name</th>\n",
       "      <th>Short</th>\n",
       "      <th>Class</th>\n",
       "      <th>Sequence</th>\n",
       "      <th>CanBeDisplayedOnMap</th>\n",
       "    </tr>\n",
       "  </thead>\n",
       "  <tbody>\n",
       "    <tr>\n",
       "      <th>51</th>\n",
       "      <td>152</td>\n",
       "      <td>CCGs (2017/18)</td>\n",
       "      <td>CCGs (2017/18)</td>\n",
       "      <td>ccg-composite</td>\n",
       "      <td>2017</td>\n",
       "      <td>True</td>\n",
       "    </tr>\n",
       "    <tr>\n",
       "      <th>52</th>\n",
       "      <td>154</td>\n",
       "      <td>CCGs (2018/19)</td>\n",
       "      <td>CCGs (2018/19)</td>\n",
       "      <td>ccg-composite</td>\n",
       "      <td>2018</td>\n",
       "      <td>True</td>\n",
       "    </tr>\n",
       "    <tr>\n",
       "      <th>62</th>\n",
       "      <td>165</td>\n",
       "      <td>CCGs (2019/20)</td>\n",
       "      <td>CCGs (2019/20)</td>\n",
       "      <td>ccg-composite</td>\n",
       "      <td>2019</td>\n",
       "      <td>True</td>\n",
       "    </tr>\n",
       "    <tr>\n",
       "      <th>63</th>\n",
       "      <td>166</td>\n",
       "      <td>CCGs (2020/21)</td>\n",
       "      <td>CCGs (2020/21)</td>\n",
       "      <td>ccg-composite</td>\n",
       "      <td>2020</td>\n",
       "      <td>True</td>\n",
       "    </tr>\n",
       "    <tr>\n",
       "      <th>64</th>\n",
       "      <td>167</td>\n",
       "      <td>CCGs (2021/22)</td>\n",
       "      <td>CCGs (from Apr 2021)</td>\n",
       "      <td>ccg-composite</td>\n",
       "      <td>2021</td>\n",
       "      <td>True</td>\n",
       "    </tr>\n",
       "  </tbody>\n",
       "</table>\n",
       "</div>"
      ],
      "text/plain": [
       "     Id            Name                 Short          Class  Sequence  \\\n",
       "51  152  CCGs (2017/18)        CCGs (2017/18)  ccg-composite      2017   \n",
       "52  154  CCGs (2018/19)        CCGs (2018/19)  ccg-composite      2018   \n",
       "62  165  CCGs (2019/20)        CCGs (2019/20)  ccg-composite      2019   \n",
       "63  166  CCGs (2020/21)        CCGs (2020/21)  ccg-composite      2020   \n",
       "64  167  CCGs (2021/22)  CCGs (from Apr 2021)  ccg-composite      2021   \n",
       "\n",
       "    CanBeDisplayedOnMap  \n",
       "51                 True  \n",
       "52                 True  \n",
       "62                 True  \n",
       "63                 True  \n",
       "64                 True  "
      ]
     },
     "execution_count": 36,
     "metadata": {},
     "output_type": "execute_result"
    }
   ],
   "source": [
    "area_ref[area_ref['Class'].str.contains('ccg-composite')]"
   ]
  },
  {
   "cell_type": "code",
   "execution_count": 37,
   "metadata": {},
   "outputs": [
    {
     "name": "stdout",
     "output_type": "stream",
     "text": [
      "6455\n",
      "0\n",
      "192\n",
      "191\n"
     ]
    }
   ],
   "source": [
    "analyse_nulls_data = get_data(get_ind_area_combos, 165)\n",
    "print(analyse_nulls_data['Value'].isna().sum())\n",
    "# remove null Values\n",
    "analyse_nulls_data = analyse_nulls_data[~analyse_nulls_data['Value'].isna()]\n",
    "print(analyse_nulls_data['Value'].isna().sum())\n",
    "\n",
    "# remove England\n",
    "print(analyse_nulls_data['Area Name'].nunique())\n",
    "analyse_nulls_data = analyse_nulls_data[analyse_nulls_data['Area Name']!='England']\n",
    "print(analyse_nulls_data['Area Name'].nunique())\n"
   ]
  },
  {
   "cell_type": "code",
   "execution_count": 38,
   "metadata": {},
   "outputs": [
    {
     "data": {
      "text/plain": [
       "10"
      ]
     },
     "execution_count": 38,
     "metadata": {},
     "output_type": "execute_result"
    }
   ],
   "source": [
    "analyse_nulls_data['Indicator Name'].nunique()"
   ]
  },
  {
   "cell_type": "code",
   "execution_count": 39,
   "metadata": {},
   "outputs": [
    {
     "data": {
      "text/plain": [
       "Index(['Indicator ID', 'Indicator Name', 'Parent Code', 'Parent Name',\n",
       "       'Area Code', 'Area Name', 'Area Type', 'Sex', 'Age', 'Category Type',\n",
       "       'Category', 'Time period', 'Value', 'Lower CI 95.0 limit',\n",
       "       'Upper CI 95.0 limit', 'Lower CI 99.8 limit', 'Upper CI 99.8 limit',\n",
       "       'Count', 'Denominator', 'Value note', 'Recent Trend',\n",
       "       'Compared to England value or percentiles', 'Compared to percentiles',\n",
       "       'Time period Sortable', 'New data', 'Compared to goal',\n",
       "       'Time period range'],\n",
       "      dtype='object')"
      ]
     },
     "execution_count": 39,
     "metadata": {},
     "output_type": "execute_result"
    }
   ],
   "source": [
    "analyse_nulls_data.columns"
   ]
  },
  {
   "cell_type": "code",
   "execution_count": 41,
   "metadata": {},
   "outputs": [],
   "source": [
    "# analyse_nulls_data.groupby(['Indicator Name', 'Indicator ID', 'Sex', 'Age', 'Time period'])['Area Code'].nunique()"
   ]
  },
  {
   "attachments": {},
   "cell_type": "markdown",
   "metadata": {},
   "source": [
    "# Analysis of indicator ids and names\n",
    "\n",
    "Some indicator ids have the same name - do they have the same metadata?\n",
    "\n",
    "No, they have different metadata so a unique indicator would be (indicator id + name)"
   ]
  },
  {
   "cell_type": "code",
   "execution_count": 51,
   "metadata": {},
   "outputs": [],
   "source": [
    "indicator_ids_per_name = pd.DataFrame(indicator_metadata.groupby('Indicator')['Indicator ID'].nunique()).reset_index()\n"
   ]
  },
  {
   "cell_type": "code",
   "execution_count": 54,
   "metadata": {},
   "outputs": [],
   "source": [
    "indicators_with_same_name = indicator_ids_per_name[indicator_ids_per_name['Indicator ID']>1]"
   ]
  },
  {
   "cell_type": "code",
   "execution_count": 55,
   "metadata": {},
   "outputs": [
    {
     "data": {
      "text/html": [
       "<div>\n",
       "<style scoped>\n",
       "    .dataframe tbody tr th:only-of-type {\n",
       "        vertical-align: middle;\n",
       "    }\n",
       "\n",
       "    .dataframe tbody tr th {\n",
       "        vertical-align: top;\n",
       "    }\n",
       "\n",
       "    .dataframe thead th {\n",
       "        text-align: right;\n",
       "    }\n",
       "</style>\n",
       "<table border=\"1\" class=\"dataframe\">\n",
       "  <thead>\n",
       "    <tr style=\"text-align: right;\">\n",
       "      <th></th>\n",
       "      <th>Indicator</th>\n",
       "      <th>Indicator ID</th>\n",
       "    </tr>\n",
       "  </thead>\n",
       "  <tbody>\n",
       "    <tr>\n",
       "      <th>32</th>\n",
       "      <td>A&amp;E attendances (0-4 years)</td>\n",
       "      <td>3</td>\n",
       "    </tr>\n",
       "    <tr>\n",
       "      <th>33</th>\n",
       "      <td>A&amp;E attendances (&lt;18)</td>\n",
       "      <td>2</td>\n",
       "    </tr>\n",
       "    <tr>\n",
       "      <th>34</th>\n",
       "      <td>A&amp;E attendances (under 1 year)</td>\n",
       "      <td>2</td>\n",
       "    </tr>\n",
       "    <tr>\n",
       "      <th>63</th>\n",
       "      <td>Admission episodes for alcohol-specific condit...</td>\n",
       "      <td>2</td>\n",
       "    </tr>\n",
       "    <tr>\n",
       "      <th>70</th>\n",
       "      <td>Admissions for asthma for children aged 0 to 9</td>\n",
       "      <td>2</td>\n",
       "    </tr>\n",
       "  </tbody>\n",
       "</table>\n",
       "</div>"
      ],
      "text/plain": [
       "                                            Indicator  Indicator ID\n",
       "32                        A&E attendances (0-4 years)             3\n",
       "33                              A&E attendances (<18)             2\n",
       "34                     A&E attendances (under 1 year)             2\n",
       "63  Admission episodes for alcohol-specific condit...             2\n",
       "70     Admissions for asthma for children aged 0 to 9             2"
      ]
     },
     "execution_count": 55,
     "metadata": {},
     "output_type": "execute_result"
    }
   ],
   "source": [
    "indicators_with_same_name.head()"
   ]
  },
  {
   "cell_type": "code",
   "execution_count": 59,
   "metadata": {},
   "outputs": [
    {
     "data": {
      "text/html": [
       "<div>\n",
       "<style scoped>\n",
       "    .dataframe tbody tr th:only-of-type {\n",
       "        vertical-align: middle;\n",
       "    }\n",
       "\n",
       "    .dataframe tbody tr th {\n",
       "        vertical-align: top;\n",
       "    }\n",
       "\n",
       "    .dataframe thead th {\n",
       "        text-align: right;\n",
       "    }\n",
       "</style>\n",
       "<table border=\"1\" class=\"dataframe\">\n",
       "  <thead>\n",
       "    <tr style=\"text-align: right;\">\n",
       "      <th></th>\n",
       "      <th>Indicator ID</th>\n",
       "      <th>Indicator</th>\n",
       "      <th>Definition</th>\n",
       "      <th>Rationale</th>\n",
       "      <th>Data source</th>\n",
       "      <th>Indicator source</th>\n",
       "      <th>Methodology</th>\n",
       "      <th>Standard population/values</th>\n",
       "      <th>Confidence interval details</th>\n",
       "      <th>Source of numerator</th>\n",
       "      <th>Definition of numerator</th>\n",
       "      <th>Source of denominator</th>\n",
       "      <th>Definition of denominator</th>\n",
       "      <th>Disclosure control</th>\n",
       "      <th>Caveats</th>\n",
       "      <th>Copyright</th>\n",
       "      <th>Data re-use</th>\n",
       "      <th>Links</th>\n",
       "      <th>Indicator number</th>\n",
       "      <th>Notes</th>\n",
       "      <th>Frequency</th>\n",
       "      <th>Rounding</th>\n",
       "      <th>Indicator Content</th>\n",
       "      <th>Specific rationale</th>\n",
       "      <th>Impact of COVID-19</th>\n",
       "      <th>Unit</th>\n",
       "      <th>Value type</th>\n",
       "      <th>Year type</th>\n",
       "      <th>Polarity</th>\n",
       "      <th>Date updated</th>\n",
       "    </tr>\n",
       "  </thead>\n",
       "  <tbody>\n",
       "    <tr>\n",
       "      <th>245</th>\n",
       "      <td>90809</td>\n",
       "      <td>A&amp;E attendances (0-4 years)</td>\n",
       "      <td>A&amp;E attendance rate per 1,000 population aged ...</td>\n",
       "      <td>A&amp;E attendances in children aged under five ye...</td>\n",
       "      <td>Hospital Episode Statistics (HES) Copyright © ...</td>\n",
       "      <td>Children, Families and Healthy Ageing. Office ...</td>\n",
       "      <td>Crude rate per 1,000 population</td>\n",
       "      <td>NaN</td>\n",
       "      <td>95% confidence limits have been calculated usi...</td>\n",
       "      <td>Hospital Episode Statistics (HES)</td>\n",
       "      <td>A&amp;E attendances for all children aged 0-4 years.</td>\n",
       "      <td>Office for National Statistics</td>\n",
       "      <td>Mid-year population estimates: Single year of ...</td>\n",
       "      <td>NaN</td>\n",
       "      <td>From 2018/19 onwards, all sub-national counts ...</td>\n",
       "      <td>Copyright © NHS Digital. All rights reserved.\\...</td>\n",
       "      <td>Reused with the permission of NHS Digital. All...</td>\n",
       "      <td>NaN</td>\n",
       "      <td>NaN</td>\n",
       "      <td>NaN</td>\n",
       "      <td>NaN</td>\n",
       "      <td>NaN</td>\n",
       "      <td>NaN</td>\n",
       "      <td>NaN</td>\n",
       "      <td>2020/21 HES A&amp;E data is not available. Some da...</td>\n",
       "      <td>per 1,000</td>\n",
       "      <td>Crude rate</td>\n",
       "      <td>Financial</td>\n",
       "      <td>RAG - Low is good</td>\n",
       "      <td>21/02/2022</td>\n",
       "    </tr>\n",
       "    <tr>\n",
       "      <th>733</th>\n",
       "      <td>92757</td>\n",
       "      <td>A&amp;E attendances (0-4 years)</td>\n",
       "      <td>A&amp;E attendance rate per 1,000 registered popul...</td>\n",
       "      <td>A&amp;E attendances in children aged under five ye...</td>\n",
       "      <td>OHID based on NHS Digital, Hospital Episode St...</td>\n",
       "      <td>NaN</td>\n",
       "      <td>Crude rate per 1,000 population</td>\n",
       "      <td>NaN</td>\n",
       "      <td>95% confidence limits have been calculated usi...</td>\n",
       "      <td>NHS Digital, Hospital Episode Statistics (HES)</td>\n",
       "      <td>A&amp;E attendances for children or young people o...</td>\n",
       "      <td>NHS Digital</td>\n",
       "      <td>CCG populations are aggregated from NHS Digita...</td>\n",
       "      <td>NaN</td>\n",
       "      <td>The A&amp;E data set is a developing data set whic...</td>\n",
       "      <td>Copyright © NHS Digital. All rights reserved.\\...</td>\n",
       "      <td>Re‐used with the permission of NHS Digital</td>\n",
       "      <td>NaN</td>\n",
       "      <td>NaN</td>\n",
       "      <td>NaN</td>\n",
       "      <td>NaN</td>\n",
       "      <td>NaN</td>\n",
       "      <td>NaN</td>\n",
       "      <td>NaN</td>\n",
       "      <td>NaN</td>\n",
       "      <td>per 1,000</td>\n",
       "      <td>Crude rate</td>\n",
       "      <td>Financial</td>\n",
       "      <td>RAG - Low is good</td>\n",
       "      <td>29/11/2022</td>\n",
       "    </tr>\n",
       "    <tr>\n",
       "      <th>1384</th>\n",
       "      <td>93930</td>\n",
       "      <td>A&amp;E attendances (0-4 years)</td>\n",
       "      <td>A&amp;E attendance rate per 1,000 population aged ...</td>\n",
       "      <td>A&amp;E attendances in children aged under five ye...</td>\n",
       "      <td>Office for Health Improvement and Disparities,...</td>\n",
       "      <td>NaN</td>\n",
       "      <td>Crude rate per 1,000 population</td>\n",
       "      <td>NaN</td>\n",
       "      <td>95% confidence limits have been calculated usi...</td>\n",
       "      <td>Emergency Care Data Set (ECDS), part of Hospit...</td>\n",
       "      <td>A&amp;E attendances for all children aged 0-4 year...</td>\n",
       "      <td>Office for National Statistics</td>\n",
       "      <td>Mid-year population estimates: Single year of ...</td>\n",
       "      <td>NaN</td>\n",
       "      <td>From 2018/19 onwards, all sub-national counts ...</td>\n",
       "      <td>Copyright © NHS Digital. All rights reserved.\\...</td>\n",
       "      <td>Reused with the permission of NHS Digital. All...</td>\n",
       "      <td>NaN</td>\n",
       "      <td>NaN</td>\n",
       "      <td>This indicator replaces 90809 with the same na...</td>\n",
       "      <td>NaN</td>\n",
       "      <td>NaN</td>\n",
       "      <td>NaN</td>\n",
       "      <td>NaN</td>\n",
       "      <td>NaN</td>\n",
       "      <td>per 1,000</td>\n",
       "      <td>Crude rate</td>\n",
       "      <td>Financial</td>\n",
       "      <td>RAG - Low is good</td>\n",
       "      <td>21/02/2023</td>\n",
       "    </tr>\n",
       "  </tbody>\n",
       "</table>\n",
       "</div>"
      ],
      "text/plain": [
       "      Indicator ID                    Indicator  \\\n",
       "245          90809  A&E attendances (0-4 years)   \n",
       "733          92757  A&E attendances (0-4 years)   \n",
       "1384         93930  A&E attendances (0-4 years)   \n",
       "\n",
       "                                             Definition  \\\n",
       "245   A&E attendance rate per 1,000 population aged ...   \n",
       "733   A&E attendance rate per 1,000 registered popul...   \n",
       "1384  A&E attendance rate per 1,000 population aged ...   \n",
       "\n",
       "                                              Rationale  \\\n",
       "245   A&E attendances in children aged under five ye...   \n",
       "733   A&E attendances in children aged under five ye...   \n",
       "1384  A&E attendances in children aged under five ye...   \n",
       "\n",
       "                                            Data source  \\\n",
       "245   Hospital Episode Statistics (HES) Copyright © ...   \n",
       "733   OHID based on NHS Digital, Hospital Episode St...   \n",
       "1384  Office for Health Improvement and Disparities,...   \n",
       "\n",
       "                                       Indicator source  \\\n",
       "245   Children, Families and Healthy Ageing. Office ...   \n",
       "733                                                 NaN   \n",
       "1384                                                NaN   \n",
       "\n",
       "                          Methodology Standard population/values  \\\n",
       "245   Crude rate per 1,000 population                        NaN   \n",
       "733   Crude rate per 1,000 population                        NaN   \n",
       "1384  Crude rate per 1,000 population                        NaN   \n",
       "\n",
       "                            Confidence interval details  \\\n",
       "245   95% confidence limits have been calculated usi...   \n",
       "733   95% confidence limits have been calculated usi...   \n",
       "1384  95% confidence limits have been calculated usi...   \n",
       "\n",
       "                                    Source of numerator  \\\n",
       "245                   Hospital Episode Statistics (HES)   \n",
       "733      NHS Digital, Hospital Episode Statistics (HES)   \n",
       "1384  Emergency Care Data Set (ECDS), part of Hospit...   \n",
       "\n",
       "                                Definition of numerator  \\\n",
       "245    A&E attendances for all children aged 0-4 years.   \n",
       "733   A&E attendances for children or young people o...   \n",
       "1384  A&E attendances for all children aged 0-4 year...   \n",
       "\n",
       "               Source of denominator  \\\n",
       "245   Office for National Statistics   \n",
       "733                      NHS Digital   \n",
       "1384  Office for National Statistics   \n",
       "\n",
       "                              Definition of denominator Disclosure control  \\\n",
       "245   Mid-year population estimates: Single year of ...                NaN   \n",
       "733   CCG populations are aggregated from NHS Digita...                NaN   \n",
       "1384  Mid-year population estimates: Single year of ...                NaN   \n",
       "\n",
       "                                                Caveats  \\\n",
       "245   From 2018/19 onwards, all sub-national counts ...   \n",
       "733   The A&E data set is a developing data set whic...   \n",
       "1384  From 2018/19 onwards, all sub-national counts ...   \n",
       "\n",
       "                                              Copyright  \\\n",
       "245   Copyright © NHS Digital. All rights reserved.\\...   \n",
       "733   Copyright © NHS Digital. All rights reserved.\\...   \n",
       "1384  Copyright © NHS Digital. All rights reserved.\\...   \n",
       "\n",
       "                                            Data re-use Links  \\\n",
       "245   Reused with the permission of NHS Digital. All...   NaN   \n",
       "733          Re‐used with the permission of NHS Digital   NaN   \n",
       "1384  Reused with the permission of NHS Digital. All...   NaN   \n",
       "\n",
       "     Indicator number                                              Notes  \\\n",
       "245               NaN                                                NaN   \n",
       "733               NaN                                                NaN   \n",
       "1384              NaN  This indicator replaces 90809 with the same na...   \n",
       "\n",
       "     Frequency Rounding Indicator Content Specific rationale  \\\n",
       "245        NaN      NaN               NaN                NaN   \n",
       "733        NaN      NaN               NaN                NaN   \n",
       "1384       NaN      NaN               NaN                NaN   \n",
       "\n",
       "                                     Impact of COVID-19       Unit  \\\n",
       "245   2020/21 HES A&E data is not available. Some da...  per 1,000   \n",
       "733                                                 NaN  per 1,000   \n",
       "1384                                                NaN  per 1,000   \n",
       "\n",
       "      Value type  Year type           Polarity Date updated  \n",
       "245   Crude rate  Financial  RAG - Low is good   21/02/2022  \n",
       "733   Crude rate  Financial  RAG - Low is good   29/11/2022  \n",
       "1384  Crude rate  Financial  RAG - Low is good   21/02/2023  "
      ]
     },
     "execution_count": 59,
     "metadata": {},
     "output_type": "execute_result"
    }
   ],
   "source": [
    "indicator_name = indicators_with_same_name['Indicator'].iloc[0]\n",
    "indicator_metadata[indicator_metadata['Indicator']==indicator_name]"
   ]
  },
  {
   "cell_type": "code",
   "execution_count": null,
   "metadata": {},
   "outputs": [],
   "source": []
  }
 ],
 "metadata": {
  "kernelspec": {
   "display_name": ".venv",
   "language": "python",
   "name": "python3"
  },
  "language_info": {
   "codemirror_mode": {
    "name": "ipython",
    "version": 3
   },
   "file_extension": ".py",
   "mimetype": "text/x-python",
   "name": "python",
   "nbconvert_exporter": "python",
   "pygments_lexer": "ipython3",
   "version": "3.11.1"
  },
  "orig_nbformat": 4,
  "vscode": {
   "interpreter": {
    "hash": "7df4ba93a7eed49b4ce3aa561040df82f39fc983c3907e7a9f2cb3d5a05b8647"
   }
  }
 },
 "nbformat": 4,
 "nbformat_minor": 2
}
