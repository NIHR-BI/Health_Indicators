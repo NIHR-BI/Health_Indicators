{
 "cells": [
  {
   "cell_type": "code",
   "execution_count": 1,
   "metadata": {},
   "outputs": [],
   "source": [
    "import fingertips_py as ftp\n",
    "from json import loads\n",
    "import pandas as pd\n",
    "from urllib.request import urlopen"
   ]
  },
  {
   "cell_type": "code",
   "execution_count": 2,
   "metadata": {},
   "outputs": [],
   "source": [
    "pd.set_option('display.max_columns', None)"
   ]
  },
  {
   "attachments": {},
   "cell_type": "markdown",
   "metadata": {},
   "source": [
    "I need to know for each indicator, which area types and year conifgurations exist so that I know which ones I can pick from and minimise computation for data extraction. - Need to see if I can get a list of this\n",
    "\n",
    "The alternative would be to create a hierarchy of preference and iterate through the data for each hierachy level. If an indicator is found within a level, then it will no longer be queried for further levels. This might still be computationally expensive but needs to be investigated further \n",
    "\n",
    "- time period\n",
    "- sex\n",
    "- age"
   ]
  },
  {
   "attachments": {},
   "cell_type": "markdown",
   "metadata": {},
   "source": [
    "# time period, sex and age available for each indicator"
   ]
  },
  {
   "attachments": {},
   "cell_type": "markdown",
   "metadata": {},
   "source": [
    "# Area types available for each indicator"
   ]
  },
  {
   "cell_type": "code",
   "execution_count": 3,
   "metadata": {},
   "outputs": [
    {
     "name": "stdout",
     "output_type": "stream",
     "text": [
      "[402 401 102 101  15   6 221 220 204 167 166  66   7 302 219 152 301 223\n",
      " 202 165 154 201  46  10 126 104 119 203 118 205 112 129 222   8   3  41] 36 8947 1698\n"
     ]
    }
   ],
   "source": [
    "raw_available_indicator_at_area = pd.read_json('https://fingertips.phe.org.uk/api/available_data').fillna(value='null')\n",
    "\n",
    "print(raw_available_indicator_at_area['AreaTypeId'].unique()\n",
    "      ,len(raw_available_indicator_at_area['AreaTypeId'].unique()),\n",
    "      len(raw_available_indicator_at_area),\n",
    "      raw_available_indicator_at_area['IndicatorId'].nunique()\n",
    "    #   ,\n",
    "    #   available_indicator_at_area['IndicatorId'].unique()\n",
    ")"
   ]
  },
  {
   "cell_type": "code",
   "execution_count": 4,
   "metadata": {},
   "outputs": [
    {
     "data": {
      "text/plain": [
       "Index(['IndicatorId', 'AreaTypeId'], dtype='object')"
      ]
     },
     "execution_count": 4,
     "metadata": {},
     "output_type": "execute_result"
    }
   ],
   "source": [
    "raw_available_indicator_at_area.columns"
   ]
  },
  {
   "cell_type": "code",
   "execution_count": 5,
   "metadata": {},
   "outputs": [
    {
     "data": {
      "text/html": [
       "<div>\n",
       "<style scoped>\n",
       "    .dataframe tbody tr th:only-of-type {\n",
       "        vertical-align: middle;\n",
       "    }\n",
       "\n",
       "    .dataframe tbody tr th {\n",
       "        vertical-align: top;\n",
       "    }\n",
       "\n",
       "    .dataframe thead th {\n",
       "        text-align: right;\n",
       "    }\n",
       "</style>\n",
       "<table border=\"1\" class=\"dataframe\">\n",
       "  <thead>\n",
       "    <tr style=\"text-align: right;\">\n",
       "      <th></th>\n",
       "      <th>IndicatorId</th>\n",
       "      <th>AreaTypeId</th>\n",
       "    </tr>\n",
       "  </thead>\n",
       "  <tbody>\n",
       "    <tr>\n",
       "      <th>2575</th>\n",
       "      <td>90813</td>\n",
       "      <td>402</td>\n",
       "    </tr>\n",
       "    <tr>\n",
       "      <th>2576</th>\n",
       "      <td>90813</td>\n",
       "      <td>302</td>\n",
       "    </tr>\n",
       "    <tr>\n",
       "      <th>2577</th>\n",
       "      <td>90813</td>\n",
       "      <td>202</td>\n",
       "    </tr>\n",
       "    <tr>\n",
       "      <th>2578</th>\n",
       "      <td>90813</td>\n",
       "      <td>154</td>\n",
       "    </tr>\n",
       "    <tr>\n",
       "      <th>2579</th>\n",
       "      <td>90813</td>\n",
       "      <td>102</td>\n",
       "    </tr>\n",
       "    <tr>\n",
       "      <th>2580</th>\n",
       "      <td>90813</td>\n",
       "      <td>15</td>\n",
       "    </tr>\n",
       "    <tr>\n",
       "      <th>2581</th>\n",
       "      <td>90813</td>\n",
       "      <td>6</td>\n",
       "    </tr>\n",
       "  </tbody>\n",
       "</table>\n",
       "</div>"
      ],
      "text/plain": [
       "      IndicatorId  AreaTypeId\n",
       "2575        90813         402\n",
       "2576        90813         302\n",
       "2577        90813         202\n",
       "2578        90813         154\n",
       "2579        90813         102\n",
       "2580        90813          15\n",
       "2581        90813           6"
      ]
     },
     "execution_count": 5,
     "metadata": {},
     "output_type": "execute_result"
    }
   ],
   "source": [
    "raw_available_indicator_at_area[raw_available_indicator_at_area['IndicatorId']==90813]"
   ]
  },
  {
   "attachments": {},
   "cell_type": "markdown",
   "metadata": {},
   "source": [
    "# Indicator metadata\n",
    "To get the name of each indicator"
   ]
  },
  {
   "cell_type": "code",
   "execution_count": 6,
   "metadata": {},
   "outputs": [],
   "source": [
    "indicator_metadata = pd.read_csv('https://fingertips.phe.org.uk/api/indicator_metadata/csv/all')"
   ]
  },
  {
   "cell_type": "code",
   "execution_count": 7,
   "metadata": {},
   "outputs": [
    {
     "data": {
      "text/plain": [
       "1408"
      ]
     },
     "execution_count": 7,
     "metadata": {},
     "output_type": "execute_result"
    }
   ],
   "source": [
    "indicator_metadata['Indicator ID'].nunique()"
   ]
  },
  {
   "attachments": {},
   "cell_type": "markdown",
   "metadata": {},
   "source": [
    "# Indicator sex, age and timeperiod available\n",
    "\n",
    "This doesn't actually bring through all of those available in the data. It brings through the settings for the website and what is shown on the website"
   ]
  },
  {
   "cell_type": "code",
   "execution_count": 8,
   "metadata": {},
   "outputs": [],
   "source": [
    "def df_nested_json(url): \n",
    "    with urlopen(url) as response:\n",
    "        data_str = response.read().decode(\"utf-8\")\n",
    "        data_json = loads(data_str[1:-1])\n",
    "    return pd.json_normalize(data_json)"
   ]
  },
  {
   "cell_type": "code",
   "execution_count": 9,
   "metadata": {},
   "outputs": [],
   "source": [
    "data = df_nested_json('https://fingertips.phe.org.uk/api/grouproot_summaries/by_indicator_id?indicator_ids=90813')"
   ]
  },
  {
   "cell_type": "code",
   "execution_count": 10,
   "metadata": {},
   "outputs": [
    {
     "data": {
      "text/html": [
       "<div>\n",
       "<style scoped>\n",
       "    .dataframe tbody tr th:only-of-type {\n",
       "        vertical-align: middle;\n",
       "    }\n",
       "\n",
       "    .dataframe tbody tr th {\n",
       "        vertical-align: top;\n",
       "    }\n",
       "\n",
       "    .dataframe thead th {\n",
       "        text-align: right;\n",
       "    }\n",
       "</style>\n",
       "<table border=\"1\" class=\"dataframe\">\n",
       "  <thead>\n",
       "    <tr style=\"text-align: right;\">\n",
       "      <th></th>\n",
       "      <th>IndicatorName</th>\n",
       "      <th>IID</th>\n",
       "      <th>GroupId</th>\n",
       "      <th>StateSex</th>\n",
       "      <th>StateAge</th>\n",
       "      <th>StateYearRange</th>\n",
       "      <th>TimePeriod</th>\n",
       "      <th>YearRange</th>\n",
       "      <th>Sex.Id</th>\n",
       "      <th>Sex.Name</th>\n",
       "      <th>Age.Id</th>\n",
       "      <th>Age.Name</th>\n",
       "      <th>Age.Sequence</th>\n",
       "      <th>Category.Id</th>\n",
       "      <th>Category.CategoryTypeId</th>\n",
       "      <th>Category.Name</th>\n",
       "      <th>Category.ShortName</th>\n",
       "      <th>DateChanges.HasDataChangedRecently</th>\n",
       "      <th>DateChanges.DateOfLastChange</th>\n",
       "      <th>DataQualityNote.Id</th>\n",
       "      <th>DataQualityNote.Text</th>\n",
       "      <th>DataQualityNote.Comment</th>\n",
       "      <th>Unit.Id</th>\n",
       "      <th>Unit.Value</th>\n",
       "      <th>Unit.Label</th>\n",
       "      <th>ValueType.Id</th>\n",
       "      <th>ValueType.Name</th>\n",
       "    </tr>\n",
       "  </thead>\n",
       "  <tbody>\n",
       "    <tr>\n",
       "      <th>0</th>\n",
       "      <td>Hospital admissions as a result of self-harm (...</td>\n",
       "      <td>90813</td>\n",
       "      <td>1938132923</td>\n",
       "      <td>False</td>\n",
       "      <td>False</td>\n",
       "      <td>False</td>\n",
       "      <td>2021/22</td>\n",
       "      <td>1</td>\n",
       "      <td>4</td>\n",
       "      <td>Persons</td>\n",
       "      <td>305</td>\n",
       "      <td>10-24 yrs</td>\n",
       "      <td>17.0</td>\n",
       "      <td>-1</td>\n",
       "      <td>-1</td>\n",
       "      <td>Undefined</td>\n",
       "      <td>Undefined</td>\n",
       "      <td>False</td>\n",
       "      <td>07 Mar 2023</td>\n",
       "      <td>0</td>\n",
       "      <td>None</td>\n",
       "      <td>None</td>\n",
       "      <td>3</td>\n",
       "      <td>100000.0</td>\n",
       "      <td>per 100,000</td>\n",
       "      <td>1</td>\n",
       "      <td>Directly standardised rate</td>\n",
       "    </tr>\n",
       "  </tbody>\n",
       "</table>\n",
       "</div>"
      ],
      "text/plain": [
       "                                       IndicatorName    IID     GroupId  \\\n",
       "0  Hospital admissions as a result of self-harm (...  90813  1938132923   \n",
       "\n",
       "   StateSex  StateAge  StateYearRange TimePeriod  YearRange  Sex.Id Sex.Name  \\\n",
       "0     False     False           False    2021/22          1       4  Persons   \n",
       "\n",
       "   Age.Id   Age.Name  Age.Sequence  Category.Id  Category.CategoryTypeId  \\\n",
       "0     305  10-24 yrs          17.0           -1                       -1   \n",
       "\n",
       "  Category.Name Category.ShortName  DateChanges.HasDataChangedRecently  \\\n",
       "0     Undefined          Undefined                               False   \n",
       "\n",
       "  DateChanges.DateOfLastChange  DataQualityNote.Id DataQualityNote.Text  \\\n",
       "0                  07 Mar 2023                   0                 None   \n",
       "\n",
       "  DataQualityNote.Comment  Unit.Id  Unit.Value   Unit.Label  ValueType.Id  \\\n",
       "0                    None        3    100000.0  per 100,000             1   \n",
       "\n",
       "               ValueType.Name  \n",
       "0  Directly standardised rate  "
      ]
     },
     "execution_count": 10,
     "metadata": {},
     "output_type": "execute_result"
    }
   ],
   "source": [
    "data"
   ]
  },
  {
   "attachments": {},
   "cell_type": "markdown",
   "metadata": {},
   "source": [
    "# Area Ids metadata\n",
    "To get the name of the area"
   ]
  },
  {
   "cell_type": "code",
   "execution_count": 11,
   "metadata": {},
   "outputs": [],
   "source": [
    "area_ref = pd.read_json('https://fingertips.phe.org.uk/api/area_types').fillna(value='null')"
   ]
  },
  {
   "cell_type": "code",
   "execution_count": 12,
   "metadata": {},
   "outputs": [
    {
     "data": {
      "text/plain": [
       "Index(['Id', 'Name', 'Short', 'Class', 'Sequence', 'CanBeDisplayedOnMap'], dtype='object')"
      ]
     },
     "execution_count": 12,
     "metadata": {},
     "output_type": "execute_result"
    }
   ],
   "source": [
    "area_ref.columns"
   ]
  },
  {
   "cell_type": "code",
   "execution_count": 40,
   "metadata": {},
   "outputs": [
    {
     "data": {
      "text/html": [
       "<div>\n",
       "<style scoped>\n",
       "    .dataframe tbody tr th:only-of-type {\n",
       "        vertical-align: middle;\n",
       "    }\n",
       "\n",
       "    .dataframe tbody tr th {\n",
       "        vertical-align: top;\n",
       "    }\n",
       "\n",
       "    .dataframe thead th {\n",
       "        text-align: right;\n",
       "    }\n",
       "</style>\n",
       "<table border=\"1\" class=\"dataframe\">\n",
       "  <thead>\n",
       "    <tr style=\"text-align: right;\">\n",
       "      <th></th>\n",
       "      <th>Id</th>\n",
       "      <th>Name</th>\n",
       "      <th>Short</th>\n",
       "      <th>Class</th>\n",
       "      <th>Sequence</th>\n",
       "      <th>CanBeDisplayedOnMap</th>\n",
       "    </tr>\n",
       "  </thead>\n",
       "  <tbody>\n",
       "    <tr>\n",
       "      <th>51</th>\n",
       "      <td>152</td>\n",
       "      <td>CCGs (2017/18)</td>\n",
       "      <td>CCGs (2017/18)</td>\n",
       "      <td>ccg-composite</td>\n",
       "      <td>2017</td>\n",
       "      <td>True</td>\n",
       "    </tr>\n",
       "    <tr>\n",
       "      <th>52</th>\n",
       "      <td>154</td>\n",
       "      <td>CCGs (2018/19)</td>\n",
       "      <td>CCGs (2018/19)</td>\n",
       "      <td>ccg-composite</td>\n",
       "      <td>2018</td>\n",
       "      <td>True</td>\n",
       "    </tr>\n",
       "    <tr>\n",
       "      <th>62</th>\n",
       "      <td>165</td>\n",
       "      <td>CCGs (2019/20)</td>\n",
       "      <td>CCGs (2019/20)</td>\n",
       "      <td>ccg-composite</td>\n",
       "      <td>2019</td>\n",
       "      <td>True</td>\n",
       "    </tr>\n",
       "    <tr>\n",
       "      <th>63</th>\n",
       "      <td>166</td>\n",
       "      <td>CCGs (2020/21)</td>\n",
       "      <td>CCGs (2020/21)</td>\n",
       "      <td>ccg-composite</td>\n",
       "      <td>2020</td>\n",
       "      <td>True</td>\n",
       "    </tr>\n",
       "    <tr>\n",
       "      <th>64</th>\n",
       "      <td>167</td>\n",
       "      <td>CCGs (2021/22)</td>\n",
       "      <td>CCGs (from Apr 2021)</td>\n",
       "      <td>ccg-composite</td>\n",
       "      <td>2021</td>\n",
       "      <td>True</td>\n",
       "    </tr>\n",
       "  </tbody>\n",
       "</table>\n",
       "</div>"
      ],
      "text/plain": [
       "     Id            Name                 Short          Class  Sequence  \\\n",
       "51  152  CCGs (2017/18)        CCGs (2017/18)  ccg-composite      2017   \n",
       "52  154  CCGs (2018/19)        CCGs (2018/19)  ccg-composite      2018   \n",
       "62  165  CCGs (2019/20)        CCGs (2019/20)  ccg-composite      2019   \n",
       "63  166  CCGs (2020/21)        CCGs (2020/21)  ccg-composite      2020   \n",
       "64  167  CCGs (2021/22)  CCGs (from Apr 2021)  ccg-composite      2021   \n",
       "\n",
       "    CanBeDisplayedOnMap  \n",
       "51                 True  \n",
       "52                 True  \n",
       "62                 True  \n",
       "63                 True  \n",
       "64                 True  "
      ]
     },
     "execution_count": 40,
     "metadata": {},
     "output_type": "execute_result"
    }
   ],
   "source": [
    "area_ref[area_ref['Class']=='ccg-composite']"
   ]
  },
  {
   "attachments": {},
   "cell_type": "markdown",
   "metadata": {},
   "source": [
    "## hierarchy"
   ]
  },
  {
   "cell_type": "code",
   "execution_count": 14,
   "metadata": {},
   "outputs": [],
   "source": [
    "area_hierarchy = pd.read_csv('https://docs.google.com/spreadsheets/u/0/d/15RhWWsHPPMLWoxR5sJcpK-vraRkidRY8jsAb_Y_5GwI/gviz/tq?tqx=out:csv&tq&gid=963757659&headers=1')\n",
    "area_hierarchy = area_hierarchy[['AreaTypeId', 'map_position', 'hierarchy']].dropna()"
   ]
  },
  {
   "attachments": {},
   "cell_type": "markdown",
   "metadata": {},
   "source": [
    "# Area types available for each indicator with extra metadata"
   ]
  },
  {
   "attachments": {},
   "cell_type": "markdown",
   "metadata": {},
   "source": [
    "## prepare full table"
   ]
  },
  {
   "cell_type": "code",
   "execution_count": 15,
   "metadata": {},
   "outputs": [],
   "source": [
    "available_indicator_at_area = pd.merge(left=raw_available_indicator_at_area, right=area_ref,\n",
    "         how='left', left_on='AreaTypeId', right_on='Id',\n",
    "         indicator=True).rename({'_merge': 'area_merge'}, axis=1)\n",
    "\n",
    "available_indicator_at_area = pd.merge(left=available_indicator_at_area, right=indicator_metadata[['Indicator ID', 'Indicator']],\n",
    "                                       left_on='IndicatorId', right_on='Indicator ID', how='inner',\n",
    "                                       indicator=True, )"
   ]
  },
  {
   "cell_type": "markdown",
   "metadata": {},
   "source": [
    "## create views"
   ]
  },
  {
   "cell_type": "code",
   "execution_count": 16,
   "metadata": {},
   "outputs": [],
   "source": [
    "# indicators_per_area = (pd.DataFrame(available_indicator_at_area.groupby(['Name', 'Short', 'Class', 'Sequence','CanBeDisplayedOnMap'])['_merge'].count())\n",
    "#                        .reset_index()\n",
    "#                        .sort_values(['Class', 'Sequence'], ascending=False)\n",
    "#                        .rename({'_merge': 'indicator_count'}, axis=1)\n",
    "#                        )"
   ]
  },
  {
   "cell_type": "code",
   "execution_count": 17,
   "metadata": {},
   "outputs": [],
   "source": [
    "# indicator_at_area_pivot = available_indicator_at_area[['Indicator', 'Name', 'Id']].pivot_table(index='Indicator', columns='Name', aggfunc='count')"
   ]
  },
  {
   "cell_type": "markdown",
   "metadata": {},
   "source": [
    "## use hierarchy to choose indicators and areas"
   ]
  },
  {
   "cell_type": "code",
   "execution_count": 18,
   "metadata": {},
   "outputs": [],
   "source": [
    "full_area_indicator_hierarchy = pd.merge(left=area_hierarchy, right=raw_available_indicator_at_area,\n",
    "         left_on='AreaTypeId', right_on='AreaTypeId',\n",
    "         how='inner')"
   ]
  },
  {
   "cell_type": "code",
   "execution_count": 19,
   "metadata": {},
   "outputs": [
    {
     "name": "stderr",
     "output_type": "stream",
     "text": [
      "C:\\Users\\medssam\\AppData\\Local\\Temp\\ipykernel_10652\\2219602755.py:2: SettingWithCopyWarning: \n",
      "A value is trying to be set on a copy of a slice from a DataFrame.\n",
      "Try using .loc[row_indexer,col_indexer] = value instead\n",
      "\n",
      "See the caveats in the documentation: https://pandas.pydata.org/pandas-docs/stable/user_guide/indexing.html#returning-a-view-versus-a-copy\n",
      "  left['rank'] = left.groupby('IndicatorId')['hierarchy'].rank(method='dense')\n"
     ]
    }
   ],
   "source": [
    "left = full_area_indicator_hierarchy[full_area_indicator_hierarchy['map_position']=='left']\n",
    "left['rank'] = left.groupby('IndicatorId')['hierarchy'].rank(method='dense')\n",
    "keep_left = left[left['rank']==1]\n"
   ]
  },
  {
   "cell_type": "code",
   "execution_count": 20,
   "metadata": {},
   "outputs": [
    {
     "data": {
      "text/plain": [
       "array([1.])"
      ]
     },
     "execution_count": 20,
     "metadata": {},
     "output_type": "execute_result"
    }
   ],
   "source": [
    "keep_left['rank'].unique()"
   ]
  },
  {
   "cell_type": "code",
   "execution_count": 21,
   "metadata": {},
   "outputs": [],
   "source": [
    "def find_first_hierarchy(data, map_position):\n",
    "    data = data[data['map_position']==map_position].loc[:, ['IndicatorId','hierarchy','AreaTypeId', 'map_position']]\n",
    "    data['rank'] = data.groupby('IndicatorId')['hierarchy'].rank(method='dense')\n",
    "    return data[data['rank']==1].drop('rank', axis=1)"
   ]
  },
  {
   "cell_type": "code",
   "execution_count": 22,
   "metadata": {},
   "outputs": [],
   "source": [
    "get_indicator_area = pd.concat([find_first_hierarchy(full_area_indicator_hierarchy, 'left'),\n",
    "                                find_first_hierarchy(full_area_indicator_hierarchy, 'middle'),\n",
    "                                find_first_hierarchy(full_area_indicator_hierarchy, 'right')]\n",
    ")"
   ]
  },
  {
   "attachments": {},
   "cell_type": "markdown",
   "metadata": {},
   "source": [
    "# Retrieve indicator data"
   ]
  },
  {
   "attachments": {},
   "cell_type": "markdown",
   "metadata": {},
   "source": [
    "## filter by those that only have all 3 as a test case"
   ]
  },
  {
   "cell_type": "code",
   "execution_count": 23,
   "metadata": {},
   "outputs": [],
   "source": [
    "number_of_maps_returned = get_indicator_area.groupby('IndicatorId')['map_position'].count()\n",
    "ind_ids_keep_3_maps = number_of_maps_returned[number_of_maps_returned==3].index.values"
   ]
  },
  {
   "cell_type": "code",
   "execution_count": 24,
   "metadata": {},
   "outputs": [],
   "source": [
    "get_ind_area_combos = get_indicator_area[get_indicator_area['IndicatorId'].isin(ind_ids_keep_3_maps)]"
   ]
  },
  {
   "cell_type": "code",
   "execution_count": 25,
   "metadata": {},
   "outputs": [
    {
     "data": {
      "text/html": [
       "<div>\n",
       "<style scoped>\n",
       "    .dataframe tbody tr th:only-of-type {\n",
       "        vertical-align: middle;\n",
       "    }\n",
       "\n",
       "    .dataframe tbody tr th {\n",
       "        vertical-align: top;\n",
       "    }\n",
       "\n",
       "    .dataframe thead th {\n",
       "        text-align: right;\n",
       "    }\n",
       "</style>\n",
       "<table border=\"1\" class=\"dataframe\">\n",
       "  <thead>\n",
       "    <tr style=\"text-align: right;\">\n",
       "      <th></th>\n",
       "      <th>IndicatorId</th>\n",
       "      <th>hierarchy</th>\n",
       "      <th>AreaTypeId</th>\n",
       "      <th>map_position</th>\n",
       "    </tr>\n",
       "  </thead>\n",
       "  <tbody>\n",
       "    <tr>\n",
       "      <th>1</th>\n",
       "      <td>200</td>\n",
       "      <td>1.0</td>\n",
       "      <td>221</td>\n",
       "      <td>left</td>\n",
       "    </tr>\n",
       "    <tr>\n",
       "      <th>2</th>\n",
       "      <td>212</td>\n",
       "      <td>1.0</td>\n",
       "      <td>221</td>\n",
       "      <td>left</td>\n",
       "    </tr>\n",
       "    <tr>\n",
       "      <th>3</th>\n",
       "      <td>219</td>\n",
       "      <td>1.0</td>\n",
       "      <td>221</td>\n",
       "      <td>left</td>\n",
       "    </tr>\n",
       "    <tr>\n",
       "      <th>5</th>\n",
       "      <td>241</td>\n",
       "      <td>1.0</td>\n",
       "      <td>221</td>\n",
       "      <td>left</td>\n",
       "    </tr>\n",
       "    <tr>\n",
       "      <th>6</th>\n",
       "      <td>247</td>\n",
       "      <td>1.0</td>\n",
       "      <td>221</td>\n",
       "      <td>left</td>\n",
       "    </tr>\n",
       "    <tr>\n",
       "      <th>...</th>\n",
       "      <td>...</td>\n",
       "      <td>...</td>\n",
       "      <td>...</td>\n",
       "      <td>...</td>\n",
       "    </tr>\n",
       "    <tr>\n",
       "      <th>6096</th>\n",
       "      <td>92263</td>\n",
       "      <td>8.0</td>\n",
       "      <td>102</td>\n",
       "      <td>right</td>\n",
       "    </tr>\n",
       "    <tr>\n",
       "      <th>6097</th>\n",
       "      <td>92264</td>\n",
       "      <td>8.0</td>\n",
       "      <td>102</td>\n",
       "      <td>right</td>\n",
       "    </tr>\n",
       "    <tr>\n",
       "      <th>6100</th>\n",
       "      <td>92272</td>\n",
       "      <td>8.0</td>\n",
       "      <td>102</td>\n",
       "      <td>right</td>\n",
       "    </tr>\n",
       "    <tr>\n",
       "      <th>6167</th>\n",
       "      <td>92866</td>\n",
       "      <td>8.0</td>\n",
       "      <td>102</td>\n",
       "      <td>right</td>\n",
       "    </tr>\n",
       "    <tr>\n",
       "      <th>6168</th>\n",
       "      <td>92867</td>\n",
       "      <td>8.0</td>\n",
       "      <td>102</td>\n",
       "      <td>right</td>\n",
       "    </tr>\n",
       "  </tbody>\n",
       "</table>\n",
       "<p>411 rows × 4 columns</p>\n",
       "</div>"
      ],
      "text/plain": [
       "      IndicatorId  hierarchy  AreaTypeId map_position\n",
       "1             200        1.0         221         left\n",
       "2             212        1.0         221         left\n",
       "3             219        1.0         221         left\n",
       "5             241        1.0         221         left\n",
       "6             247        1.0         221         left\n",
       "...           ...        ...         ...          ...\n",
       "6096        92263        8.0         102        right\n",
       "6097        92264        8.0         102        right\n",
       "6100        92272        8.0         102        right\n",
       "6167        92866        8.0         102        right\n",
       "6168        92867        8.0         102        right\n",
       "\n",
       "[411 rows x 4 columns]"
      ]
     },
     "execution_count": 25,
     "metadata": {},
     "output_type": "execute_result"
    }
   ],
   "source": [
    "get_ind_area_combos"
   ]
  },
  {
   "cell_type": "markdown",
   "metadata": {},
   "source": [
    "## get data"
   ]
  },
  {
   "cell_type": "code",
   "execution_count": 26,
   "metadata": {},
   "outputs": [
    {
     "data": {
      "text/plain": [
       "array([221, 220, 219,   6,  66, 167, 166, 165, 154, 401, 402, 302, 202,\n",
       "       102], dtype=int64)"
      ]
     },
     "execution_count": 26,
     "metadata": {},
     "output_type": "execute_result"
    }
   ],
   "source": [
    "get_ind_area_combos['AreaTypeId'].unique()"
   ]
  },
  {
   "cell_type": "code",
   "execution_count": 27,
   "metadata": {},
   "outputs": [
    {
     "data": {
      "text/html": [
       "<div>\n",
       "<style scoped>\n",
       "    .dataframe tbody tr th:only-of-type {\n",
       "        vertical-align: middle;\n",
       "    }\n",
       "\n",
       "    .dataframe tbody tr th {\n",
       "        vertical-align: top;\n",
       "    }\n",
       "\n",
       "    .dataframe thead th {\n",
       "        text-align: right;\n",
       "    }\n",
       "</style>\n",
       "<table border=\"1\" class=\"dataframe\">\n",
       "  <thead>\n",
       "    <tr style=\"text-align: right;\">\n",
       "      <th></th>\n",
       "      <th>IndicatorId</th>\n",
       "      <th>hierarchy</th>\n",
       "      <th>map_position</th>\n",
       "    </tr>\n",
       "    <tr>\n",
       "      <th>AreaTypeId</th>\n",
       "      <th></th>\n",
       "      <th></th>\n",
       "      <th></th>\n",
       "    </tr>\n",
       "  </thead>\n",
       "  <tbody>\n",
       "    <tr>\n",
       "      <th>6</th>\n",
       "      <td>45</td>\n",
       "      <td>45</td>\n",
       "      <td>45</td>\n",
       "    </tr>\n",
       "    <tr>\n",
       "      <th>66</th>\n",
       "      <td>34</td>\n",
       "      <td>34</td>\n",
       "      <td>34</td>\n",
       "    </tr>\n",
       "    <tr>\n",
       "      <th>102</th>\n",
       "      <td>12</td>\n",
       "      <td>12</td>\n",
       "      <td>12</td>\n",
       "    </tr>\n",
       "    <tr>\n",
       "      <th>154</th>\n",
       "      <td>15</td>\n",
       "      <td>15</td>\n",
       "      <td>15</td>\n",
       "    </tr>\n",
       "    <tr>\n",
       "      <th>165</th>\n",
       "      <td>13</td>\n",
       "      <td>13</td>\n",
       "      <td>13</td>\n",
       "    </tr>\n",
       "    <tr>\n",
       "      <th>166</th>\n",
       "      <td>14</td>\n",
       "      <td>14</td>\n",
       "      <td>14</td>\n",
       "    </tr>\n",
       "    <tr>\n",
       "      <th>167</th>\n",
       "      <td>61</td>\n",
       "      <td>61</td>\n",
       "      <td>61</td>\n",
       "    </tr>\n",
       "    <tr>\n",
       "      <th>202</th>\n",
       "      <td>6</td>\n",
       "      <td>6</td>\n",
       "      <td>6</td>\n",
       "    </tr>\n",
       "    <tr>\n",
       "      <th>219</th>\n",
       "      <td>19</td>\n",
       "      <td>19</td>\n",
       "      <td>19</td>\n",
       "    </tr>\n",
       "    <tr>\n",
       "      <th>220</th>\n",
       "      <td>36</td>\n",
       "      <td>36</td>\n",
       "      <td>36</td>\n",
       "    </tr>\n",
       "    <tr>\n",
       "      <th>221</th>\n",
       "      <td>37</td>\n",
       "      <td>37</td>\n",
       "      <td>37</td>\n",
       "    </tr>\n",
       "    <tr>\n",
       "      <th>302</th>\n",
       "      <td>13</td>\n",
       "      <td>13</td>\n",
       "      <td>13</td>\n",
       "    </tr>\n",
       "    <tr>\n",
       "      <th>401</th>\n",
       "      <td>72</td>\n",
       "      <td>72</td>\n",
       "      <td>72</td>\n",
       "    </tr>\n",
       "    <tr>\n",
       "      <th>402</th>\n",
       "      <td>34</td>\n",
       "      <td>34</td>\n",
       "      <td>34</td>\n",
       "    </tr>\n",
       "  </tbody>\n",
       "</table>\n",
       "</div>"
      ],
      "text/plain": [
       "            IndicatorId  hierarchy  map_position\n",
       "AreaTypeId                                      \n",
       "6                    45         45            45\n",
       "66                   34         34            34\n",
       "102                  12         12            12\n",
       "154                  15         15            15\n",
       "165                  13         13            13\n",
       "166                  14         14            14\n",
       "167                  61         61            61\n",
       "202                   6          6             6\n",
       "219                  19         19            19\n",
       "220                  36         36            36\n",
       "221                  37         37            37\n",
       "302                  13         13            13\n",
       "401                  72         72            72\n",
       "402                  34         34            34"
      ]
     },
     "execution_count": 27,
     "metadata": {},
     "output_type": "execute_result"
    }
   ],
   "source": [
    "get_ind_area_combos.groupby('AreaTypeId').count()"
   ]
  },
  {
   "cell_type": "code",
   "execution_count": 28,
   "metadata": {},
   "outputs": [],
   "source": [
    "def return_ind_list_for_area_type(data, AreaTypeId):\n",
    "    return data[data['AreaTypeId']==AreaTypeId]['IndicatorId'].values"
   ]
  },
  {
   "cell_type": "code",
   "execution_count": 29,
   "metadata": {},
   "outputs": [
    {
     "data": {
      "text/plain": [
       "array([  200,   212,   219,   241,   247,   253,   258,   273,   848,\n",
       "       20601, 20602, 90316, 90317, 90319, 90320, 90321, 90323, 90443,\n",
       "       90581, 90646, 90933, 91215, 91216, 91269, 91280, 91547, 92443,\n",
       "       92445, 92464, 92465, 92534, 92538, 92588, 93194, 93195, 93382,\n",
       "       93553], dtype=int64)"
      ]
     },
     "execution_count": 29,
     "metadata": {},
     "output_type": "execute_result"
    }
   ],
   "source": [
    "return_ind_list_for_area_type(get_ind_area_combos, 221)"
   ]
  },
  {
   "cell_type": "code",
   "execution_count": 30,
   "metadata": {},
   "outputs": [],
   "source": [
    "def get_data(data, area_type_id):\n",
    "    indicator_list = return_ind_list_for_area_type(data, area_type_id)\n",
    "    \n",
    "    replace_comma = '%2C'\n",
    "    ids_as_str = replace_comma.join([str(i) for i in indicator_list])\n",
    "    ids_as_str\n",
    "    data = ftp.retrieve_data.get_data_by_indicator_ids(indicator_ids=ids_as_str, # [Maximum 100]\n",
    "                                                    area_type_id=area_type_id,\n",
    "                                                    # parent_area_type_id=15,\n",
    "                                                    # profile_id=None,\n",
    "                                                    include_sortable_time_periods=True,\n",
    "                                                    is_test=False)\n",
    "    data.to_csv(str(area_type_id)+'.csv')"
   ]
  },
  {
   "cell_type": "code",
   "execution_count": 31,
   "metadata": {},
   "outputs": [],
   "source": [
    "# for area_id in get_ind_area_combos['AreaTypeId'].unique():\n",
    "#     get_data(get_ind_area_combos, area_id)"
   ]
  },
  {
   "cell_type": "code",
   "execution_count": 32,
   "metadata": {},
   "outputs": [
    {
     "data": {
      "text/html": [
       "<div>\n",
       "<style scoped>\n",
       "    .dataframe tbody tr th:only-of-type {\n",
       "        vertical-align: middle;\n",
       "    }\n",
       "\n",
       "    .dataframe tbody tr th {\n",
       "        vertical-align: top;\n",
       "    }\n",
       "\n",
       "    .dataframe thead th {\n",
       "        text-align: right;\n",
       "    }\n",
       "</style>\n",
       "<table border=\"1\" class=\"dataframe\">\n",
       "  <thead>\n",
       "    <tr style=\"text-align: right;\">\n",
       "      <th></th>\n",
       "      <th>1204</th>\n",
       "    </tr>\n",
       "  </thead>\n",
       "  <tbody>\n",
       "    <tr>\n",
       "      <th>AlwaysShowAgeWithIndicatorName</th>\n",
       "      <td>False</td>\n",
       "    </tr>\n",
       "    <tr>\n",
       "      <th>AlwaysShowSexWithIndicatorName</th>\n",
       "      <td>False</td>\n",
       "    </tr>\n",
       "    <tr>\n",
       "      <th>ConfidenceIntervalMethod</th>\n",
       "      <td>{'Name': 'Dobson &amp; Byar's methods', 'Descripti...</td>\n",
       "    </tr>\n",
       "    <tr>\n",
       "      <th>DataChange</th>\n",
       "      <td>{'LastUploadedAt': '2023-02-21T12:30:26', 'Las...</td>\n",
       "    </tr>\n",
       "    <tr>\n",
       "      <th>DataQualityNote</th>\n",
       "      <td>{'Id': 0, 'Text': 'None', 'Comment': None}</td>\n",
       "    </tr>\n",
       "    <tr>\n",
       "      <th>Descriptive</th>\n",
       "      <td>{'Name': 'Mortality rate from chronic obstruct...</td>\n",
       "    </tr>\n",
       "    <tr>\n",
       "      <th>IID</th>\n",
       "      <td>1204</td>\n",
       "    </tr>\n",
       "    <tr>\n",
       "      <th>InequalitiesExcludedCategoryTypeIds</th>\n",
       "      <td>[]</td>\n",
       "    </tr>\n",
       "    <tr>\n",
       "      <th>LatestChangeTimestampOverride</th>\n",
       "      <td>2021-11-16T00:00:00</td>\n",
       "    </tr>\n",
       "    <tr>\n",
       "      <th>ShouldCountBeDisplayed</th>\n",
       "      <td>True</td>\n",
       "    </tr>\n",
       "    <tr>\n",
       "      <th>SpecialCases</th>\n",
       "      <td>None</td>\n",
       "    </tr>\n",
       "    <tr>\n",
       "      <th>Unit</th>\n",
       "      <td>{'Id': 3, 'Value': 100000.0, 'Label': 'per 100...</td>\n",
       "    </tr>\n",
       "    <tr>\n",
       "      <th>ValueType</th>\n",
       "      <td>{'Id': 1, 'Name': 'Directly standardised rate'}</td>\n",
       "    </tr>\n",
       "    <tr>\n",
       "      <th>YearType</th>\n",
       "      <td>{'Name': 'Calendar', 'Id': 1}</td>\n",
       "    </tr>\n",
       "  </tbody>\n",
       "</table>\n",
       "</div>"
      ],
      "text/plain": [
       "                                                                                  1204\n",
       "AlwaysShowAgeWithIndicatorName                                                   False\n",
       "AlwaysShowSexWithIndicatorName                                                   False\n",
       "ConfidenceIntervalMethod             {'Name': 'Dobson & Byar's methods', 'Descripti...\n",
       "DataChange                           {'LastUploadedAt': '2023-02-21T12:30:26', 'Las...\n",
       "DataQualityNote                             {'Id': 0, 'Text': 'None', 'Comment': None}\n",
       "Descriptive                          {'Name': 'Mortality rate from chronic obstruct...\n",
       "IID                                                                               1204\n",
       "InequalitiesExcludedCategoryTypeIds                                                 []\n",
       "LatestChangeTimestampOverride                                      2021-11-16T00:00:00\n",
       "ShouldCountBeDisplayed                                                            True\n",
       "SpecialCases                                                                      None\n",
       "Unit                                 {'Id': 3, 'Value': 100000.0, 'Label': 'per 100...\n",
       "ValueType                              {'Id': 1, 'Name': 'Directly standardised rate'}\n",
       "YearType                                                 {'Name': 'Calendar', 'Id': 1}"
      ]
     },
     "execution_count": 32,
     "metadata": {},
     "output_type": "execute_result"
    }
   ],
   "source": [
    "pd.read_json('https://fingertips.phe.org.uk/api/indicator_metadata/by_indicator_id?indicator_ids=1204&include_definition=yes&include_system_content=yes')"
   ]
  },
  {
   "cell_type": "code",
   "execution_count": 33,
   "metadata": {},
   "outputs": [],
   "source": [
    "# data = ftp.retrieve_data.get_all_data_for_indicators(indicators=[108,\n",
    "#  113,\n",
    "#  114,\n",
    "#  200,\n",
    "#  212],\n",
    "#                                                                area_type_id=7,\n",
    "#                                                                parent_area_type_id=15,\n",
    "#                                                                filter_by_area_codes=None,\n",
    "#                                                                is_test=False)"
   ]
  },
  {
   "cell_type": "code",
   "execution_count": 34,
   "metadata": {},
   "outputs": [],
   "source": [
    "# # metadata_areas = ftp.metadata.get_all_areas(is_test=False)\n",
    "# # metadata_value_notes = ftp.metadata.get_all_value_notes(is_test=False)\n",
    "# # metadata_profiles = ftp.metadata.get_all_profiles(is_test=False)\n",
    "# # metadata_domains = ftp.metadata.get_domains_in_profile(18)\n",
    "# metadata_all_indicators = ftp.metadata.get_metadata_for_all_indicators_from_csv(is_test=False)\n",
    "# metadata_all_indicator_ids = metadata_all_indicators['Indicator ID'].tolist()"
   ]
  },
  {
   "cell_type": "code",
   "execution_count": 35,
   "metadata": {},
   "outputs": [],
   "source": [
    "# metadata_all = pd.read_csv('https://fingertips.phe.org.uk/api/indicator_metadata/all?include_definition=yes&include_system_content=yes')"
   ]
  },
  {
   "cell_type": "code",
   "execution_count": null,
   "metadata": {},
   "outputs": [],
   "source": []
  }
 ],
 "metadata": {
  "kernelspec": {
   "display_name": ".venv",
   "language": "python",
   "name": "python3"
  },
  "language_info": {
   "codemirror_mode": {
    "name": "ipython",
    "version": 3
   },
   "file_extension": ".py",
   "mimetype": "text/x-python",
   "name": "python",
   "nbconvert_exporter": "python",
   "pygments_lexer": "ipython3",
   "version": "3.11.1"
  },
  "orig_nbformat": 4,
  "vscode": {
   "interpreter": {
    "hash": "7df4ba93a7eed49b4ce3aa561040df82f39fc983c3907e7a9f2cb3d5a05b8647"
   }
  }
 },
 "nbformat": 4,
 "nbformat_minor": 2
}
