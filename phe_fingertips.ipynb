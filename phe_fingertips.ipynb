{
 "cells": [
  {
   "cell_type": "code",
   "execution_count": 2,
   "metadata": {},
   "outputs": [],
   "source": [
    "import fingertips_py as ftp\n",
    "import pandas as pd\n",
    "import requests"
   ]
  },
  {
   "attachments": {},
   "cell_type": "markdown",
   "metadata": {},
   "source": [
    "I need to know for each indicator, which area types and year conifgurations exist so that I know which ones I can pick from and minimise computation for data extraction. - Need to see if I can get a list of this\n",
    "\n",
    "The alternative would be to create a hierarchy of preference and iterate through the data for each hierachy level. If an indicator is found within a level, then it will no longer be queried for further levels. This might still be computationally expensive but needs to be investigated further "
   ]
  },
  {
   "cell_type": "code",
   "execution_count": 11,
   "metadata": {},
   "outputs": [],
   "source": [
    "available_indicator_at_area = pd.read_json('https://fingertips.phe.org.uk/api/available_data')\n",
    "\n",
    "print(available_indicator_at_area['AreaTypeId'].unique()\n",
    "    #   ,\n",
    "    #   available_indicator_at_area['IndicatorId'].unique()\n",
    ")"
   ]
  },
  {
   "cell_type": "code",
   "execution_count": 21,
   "metadata": {},
   "outputs": [
    {
     "data": {
      "text/plain": [
       "Index(['IndicatorId', 'AreaTypeId'], dtype='object')"
      ]
     },
     "execution_count": 21,
     "metadata": {},
     "output_type": "execute_result"
    }
   ],
   "source": [
    "available_indicator_at_area.columns"
   ]
  },
  {
   "cell_type": "code",
   "execution_count": 23,
   "metadata": {},
   "outputs": [],
   "source": [
    "area_ref = pd.read_json('https://fingertips.phe.org.uk/api/area_types')"
   ]
  },
  {
   "cell_type": "code",
   "execution_count": 24,
   "metadata": {},
   "outputs": [
    {
     "data": {
      "text/plain": [
       "Index(['Id', 'Name', 'Short', 'Class', 'Sequence', 'CanBeDisplayedOnMap'], dtype='object')"
      ]
     },
     "execution_count": 24,
     "metadata": {},
     "output_type": "execute_result"
    }
   ],
   "source": [
    "area_ref.columns"
   ]
  },
  {
   "cell_type": "code",
   "execution_count": 27,
   "metadata": {},
   "outputs": [],
   "source": [
    "available_indicator_at_area = pd.merge(left=available_indicator_at_area, right=area_ref,\n",
    "         how='left', left_on='AreaTypeId', right_on='Id',\n",
    "         indicator=True)"
   ]
  },
  {
   "cell_type": "code",
   "execution_count": 29,
   "metadata": {},
   "outputs": [
    {
     "data": {
      "text/plain": [
       "['both']\n",
       "Categories (3, object): ['left_only', 'right_only', 'both']"
      ]
     },
     "execution_count": 29,
     "metadata": {},
     "output_type": "execute_result"
    }
   ],
   "source": [
    "available_indicator_at_area['_merge'].unique()"
   ]
  },
  {
   "cell_type": "code",
   "execution_count": 36,
   "metadata": {},
   "outputs": [],
   "source": [
    "# metadata_areas = ftp.metadata.get_all_areas(is_test=False)\n",
    "# metadata_value_notes = ftp.metadata.get_all_value_notes(is_test=False)\n",
    "# metadata_profiles = ftp.metadata.get_all_profiles(is_test=False)\n",
    "# metadata_domains = ftp.metadata.get_domains_in_profile(18)\n",
    "metadata_all_indicators = ftp.metadata.get_metadata_for_all_indicators_from_csv(is_test=False)\n",
    "metadata_all_indicator_ids = metadata_all_indicators['Indicator ID'].tolist()"
   ]
  },
  {
   "cell_type": "code",
   "execution_count": 3,
   "metadata": {},
   "outputs": [],
   "source": [
    "metadata_all = pd.read_csv('https://fingertips.phe.org.uk/api/indicator_metadata/all?include_definition=yes&include_system_content=yes')"
   ]
  },
  {
   "cell_type": "code",
   "execution_count": 22,
   "metadata": {},
   "outputs": [],
   "source": [
    "replace_comma = '%2C'\n",
    "ids_as_str = replace_comma.join([str(i) for i in metadata_all_indicator_ids])"
   ]
  },
  {
   "cell_type": "code",
   "execution_count": 4,
   "metadata": {},
   "outputs": [],
   "source": [
    "# data = ftp.retrieve_data.get_all_data_for_indicators(indicators=[108,\n",
    "#  113,\n",
    "#  114,\n",
    "#  200,\n",
    "#  212],\n",
    "#                                                                area_type_id=7,\n",
    "#                                                                parent_area_type_id=15,\n",
    "#                                                                filter_by_area_codes=None,\n",
    "#                                                                is_test=False)"
   ]
  },
  {
   "cell_type": "code",
   "execution_count": 23,
   "metadata": {},
   "outputs": [
    {
     "data": {
      "text/plain": [
       "'108%2C113%2C114%2C200%2C212%2C219%2C224%2C241%2C247%2C253%2C258%2C262%2C273%2C276%2C280%2C285%2C294%2C295%2C336%2C337%2C342%2C349%2C351%2C352%2C353%2C354%2C355%2C356%2C358%2C359%2C383%2C384%2C639%2C640%2C641%2C642%2C643%2C650%2C811%2C848%2C849%2C1179%2C1180%2C1187%2C1194%2C1201%2C1203%2C1204%2C1205%2C1206%2C1207%2C1208%2C1210%2C1211%2C1212%2C1679%2C1730%2C1942%2C10101%2C10301%2C10401%2C10601%2C10602%2C11001%2C11201%2C11202%2C11401%2C11601%2C20101%2C20401%2C20601%2C20602%2C21001%2C22001%2C22301%2C22302%2C22303%2C22304%2C22401%2C22402%2C22403%2C30101%2C30301%2C30302%2C30303%2C30304%2C30306%2C30307%2C30308%2C30309%2C30310%2C30311%2C30313%2C30314%2C30315%2C30601%2C40401%2C40402%2C40501%2C40502%2C40601%2C40701%2C40702%2C41001%2C41101%2C41201%2C41202%2C41203%2C41204%2C41401%2C41402%2C41403%2C90244%2C90245%2C90246%2C90280%2C90282%2C90283%2C90284%2C90285%2C90286%2C90287%2C90290%2C90291%2C90292%2C90312%2C90313%2C90314%2C90315%2C90316%2C90317%2C90319%2C90320%2C90321%2C90323%2C90356%2C90357%2C90358%2C90360%2C90361%2C90362%2C90366%2C90371%2C90372%2C90400%2C90402%2C90406%2C90412%2C90413%2C90414%2C90419%2C90420%2C90421%2C90423%2C90425%2C90428%2C90443%2C90452%2C90453%2C90510%2C90527%2C90529%2C90530%2C90535%2C90550%2C90552%2C90576%2C90577%2C90581%2C90583%2C90584%2C90585%2C90586%2C90588%2C90589%2C90592%2C90593%2C90595%2C90596%2C90597%2C90599%2C90600%2C90601%2C90603%2C90604%2C90605%2C90606%2C90609%2C90610%2C90611%2C90612%2C90613%2C90614%2C90615%2C90616%2C90617%2C90619%2C90630%2C90631%2C90632%2C90633%2C90634%2C90635%2C90637%2C90638%2C90639%2C90641%2C90646%2C90647%2C90656%2C90665%2C90667%2C90668%2C90669%2C90690%2C90691%2C90692%2C90694%2C90696%2C90697%2C90700%2C90701%2C90702%2C90729%2C90731%2C90739%2C90740%2C90741%2C90742%2C90744%2C90747%2C90748%2C90754%2C90759%2C90776%2C90777%2C90784%2C90790%2C90791%2C90798%2C90799%2C90801%2C90803%2C90804%2C90808%2C90809%2C90810%2C90811%2C90812%2C90813%2C90819%2C90820%2C90825%2C90832%2C90848%2C90851%2C90852%2C90861%2C90875%2C90878%2C90879%2C90885%2C90886%2C90892%2C90898%2C90903%2C90907%2C90916%2C90922%2C90924%2C90926%2C90927%2C90929%2C90931%2C90932%2C90933%2C90938%2C90940%2C90986%2C90987%2C90988%2C90999%2C91000%2C91001%2C91005%2C91013%2C91020%2C91021%2C91022%2C91023%2C91025%2C91029%2C91030%2C91040%2C91041%2C91046%2C91048%2C91049%2C91050%2C91058%2C91059%2C91061%2C91085%2C91089%2C91091%2C91099%2C91100%2C91101%2C91102%2C91106%2C91111%2C91112%2C91116%2C91117%2C91122%2C91123%2C91125%2C91126%2C91127%2C91133%2C91136%2C91150%2C91154%2C91161%2C91162%2C91163%2C91164%2C91165%2C91166%2C91167%2C91181%2C91182%2C91183%2C91184%2C91195%2C91215%2C91216%2C91222%2C91223%2C91224%2C91225%2C91228%2C91229%2C91230%2C91238%2C91241%2C91243%2C91244%2C91245%2C91248%2C91261%2C91262%2C91269%2C91280%2C91281%2C91283%2C91284%2C91294%2C91295%2C91300%2C91304%2C91306%2C91307%2C91308%2C91321%2C91322%2C91323%2C91324%2C91337%2C91339%2C91340%2C91341%2C91342%2C91343%2C91344%2C91347%2C91348%2C91349%2C91350%2C91351%2C91352%2C91353%2C91354%2C91355%2C91356%2C91357%2C91359%2C91361%2C91365%2C91366%2C91367%2C91368%2C91369%2C91373%2C91374%2C91375%2C91380%2C91381%2C91382%2C91390%2C91393%2C91404%2C91409%2C91412%2C91414%2C91416%2C91430%2C91450%2C91451%2C91456%2C91458%2C91459%2C91461%2C91462%2C91468%2C91469%2C91486%2C91487%2C91491%2C91493%2C91494%2C91496%2C91514%2C91521%2C91522%2C91523%2C91525%2C91546%2C91547%2C91548%2C91552%2C91553%2C91720%2C91733%2C91734%2C91735%2C91736%2C91743%2C91745%2C91748%2C91750%2C91751%2C91767%2C91768%2C91793%2C91806%2C91807%2C91808%2C91809%2C91810%2C91811%2C91812%2C91813%2C91814%2C91815%2C91816%2C91817%2C91818%2C91819%2C91840%2C91841%2C91845%2C91871%2C91872%2C91882%2C91884%2C91887%2C91891%2C91893%2C91894%2C91895%2C91898%2C91900%2C91902%2C91904%2C91909%2C91913%2C91915%2C91917%2C91918%2C91920%2C91933%2C91968%2C91970%2C92006%2C92007%2C92008%2C92009%2C92010%2C92011%2C92017%2C92019%2C92021%2C92026%2C92031%2C92033%2C92039%2C92040%2C92041%2C92081%2C92084%2C92089%2C92114%2C92115%2C92127%2C92129%2C92131%2C92133%2C92135%2C92151%2C92163%2C92165%2C92167%2C92168%2C92169%2C92171%2C92173%2C92174%2C92175%2C92176%2C92178%2C92193%2C92196%2C92217%2C92218%2C92220%2C92226%2C92229%2C92230%2C92237%2C92238%2C92240%2C92244%2C92246%2C92247%2C92248%2C92250%2C92251%2C92252%2C92253%2C92254%2C92255%2C92257%2C92258%2C92259%2C92260%2C92261%2C92262%2C92263%2C92264%2C92266%2C92270%2C92272%2C92275%2C92276%2C92277%2C92278%2C92279%2C92280%2C92281%2C92287%2C92290%2C92291%2C92292%2C92293%2C92294%2C92297%2C92298%2C92300%2C92302%2C92304%2C92306%2C92308%2C92309%2C92310%2C92313%2C92314%2C92315%2C92317%2C92318%2C92319%2C92323%2C92324%2C92326%2C92329%2C92331%2C92332%2C92334%2C92339%2C92340%2C92344%2C92350%2C92351%2C92352%2C92353%2C92354%2C92368%2C92371%2C92374%2C92377%2C92378%2C92407%2C92408%2C92409%2C92411%2C92413%2C92415%2C92417%2C92420%2C92432%2C92443%2C92445%2C92447%2C92453%2C92454%2C92455%2C92456%2C92461%2C92463%2C92464%2C92465%2C92466%2C92477%2C92481%2C92483%2C92485%2C92488%2C92489%2C92490%2C92493%2C92499%2C92500%2C92501%2C92504%2C92511%2C92517%2C92518%2C92519%2C92520%2C92521%2C92523%2C92525%2C92526%2C92530%2C92531%2C92532%2C92534%2C92536%2C92538%2C92543%2C92544%2C92552%2C92557%2C92558%2C92559%2C92563%2C92564%2C92587%2C92588%2C92589%2C92590%2C92594%2C92600%2C92601%2C92602%2C92603%2C92604%2C92605%2C92608%2C92609%2C92610%2C92611%2C92612%2C92613%2C92616%2C92617%2C92619%2C92621%2C92622%2C92623%2C92624%2C92625%2C92626%2C92628%2C92635%2C92644%2C92658%2C92662%2C92664%2C92665%2C92666%2C92667%2C92668%2C92669%2C92670%2C92672%2C92673%2C92674%2C92675%2C92676%2C92680%2C92693%2C92702%2C92705%2C92706%2C92708%2C92709%2C92716%2C92718%2C92724%2C92725%2C92729%2C92732%2C92733%2C92734%2C92735%2C92737%2C92738%2C92739%2C92740%2C92741%2C92742%2C92743%2C92744%2C92745%2C92746%2C92747%2C92748%2C92749%2C92750%2C92751%2C92755%2C92756%2C92757%2C92758%2C92759%2C92760%2C92761%2C92763%2C92765%2C92766%2C92768%2C92770%2C92772%2C92774%2C92776%2C92778%2C92780%2C92781%2C92782%2C92783%2C92785%2C92793%2C92795%2C92796%2C92814%2C92817%2C92818%2C92819%2C92820%2C92821%2C92822%2C92826%2C92828%2C92829%2C92830%2C92831%2C92832%2C92833%2C92834%2C92835%2C92836%2C92837%2C92838%2C92839%2C92841%2C92842%2C92843%2C92847%2C92848%2C92852%2C92853%2C92856%2C92857%2C92860%2C92863%2C92865%2C92866%2C92867%2C92868%2C92869%2C92870%2C92871%2C92872%2C92873%2C92874%2C92875%2C92876%2C92877%2C92878%2C92879%2C92880%2C92881%2C92882%2C92883%2C92884%2C92885%2C92886%2C92887%2C92888%2C92889%2C92890%2C92896%2C92897%2C92899%2C92901%2C92904%2C92906%2C92911%2C92912%2C92913%2C92914%2C92915%2C92916%2C92917%2C92918%2C92919%2C92920%2C92921%2C92922%2C92924%2C92937%2C92938%2C92939%2C92940%2C92941%2C92942%2C92943%2C92944%2C92945%2C92946%2C92949%2C92950%2C92951%2C92952%2C92953%2C92955%2C92956%2C92957%2C92962%2C92964%2C92966%2C92967%2C92968%2C92969%2C92970%2C92971%2C92972%2C92973%2C92974%2C92975%2C92976%2C92980%2C92998%2C93000%2C93001%2C93002%2C93003%2C93004%2C93005%2C93006%2C93007%2C93012%2C93014%2C93015%2C93026%2C93027%2C93037%2C93038%2C93040%2C93041%2C93043%2C93047%2C93049%2C93051%2C93054%2C93055%2C93056%2C93057%2C93058%2C93059%2C93060%2C93061%2C93062%2C93063%2C93064%2C93065%2C93066%2C93067%2C93068%2C93069%2C93070%2C93071%2C93072%2C93073%2C93074%2C93077%2C93081%2C93082%2C93083%2C93084%2C93085%2C93086%2C93087%2C93088%2C93089%2C93090%2C93091%2C93092%2C93093%2C93094%2C93095%2C93096%2C93097%2C93098%2C93103%2C93104%2C93105%2C93106%2C93107%2C93108%2C93110%2C93111%2C93113%2C93114%2C93115%2C93117%2C93119%2C93120%2C93124%2C93125%2C93126%2C93131%2C93135%2C93136%2C93137%2C93138%2C93139%2C93140%2C93141%2C93142%2C93143%2C93153%2C93155%2C93161%2C93162%2C93163%2C93164%2C93174%2C93175%2C93177%2C93182%2C93183%2C93184%2C93186%2C93187%2C93188%2C93190%2C93193%2C93194%2C93195%2C93196%2C93197%2C93198%2C93199%2C93200%2C93201%2C93202%2C93203%2C93204%2C93205%2C93206%2C93207%2C93208%2C93209%2C93210%2C93211%2C93212%2C93213%2C93214%2C93216%2C93219%2C93220%2C93221%2C93222%2C93223%2C93224%2C93226%2C93227%2C93229%2C93231%2C93232%2C93233%2C93234%2C93235%2C93236%2C93237%2C93238%2C93239%2C93240%2C93241%2C93244%2C93245%2C93246%2C93247%2C93248%2C93250%2C93252%2C93253%2C93254%2C93255%2C93256%2C93257%2C93259%2C93260%2C93261%2C93262%2C93267%2C93268%2C93274%2C93275%2C93276%2C93277%2C93279%2C93280%2C93283%2C93288%2C93290%2C93291%2C93292%2C93293%2C93294%2C93295%2C93296%2C93297%2C93300%2C93301%2C93302%2C93303%2C93304%2C93305%2C93306%2C93307%2C93308%2C93309%2C93310%2C93311%2C93312%2C93315%2C93316%2C93318%2C93319%2C93320%2C93321%2C93322%2C93327%2C93328%2C93329%2C93330%2C93331%2C93332%2C93333%2C93334%2C93335%2C93336%2C93337%2C93338%2C93339%2C93340%2C93341%2C93342%2C93343%2C93344%2C93347%2C93350%2C93351%2C93352%2C93353%2C93355%2C93356%2C93357%2C93358%2C93361%2C93364%2C93365%2C93368%2C93369%2C93372%2C93373%2C93374%2C93375%2C93376%2C93377%2C93378%2C93379%2C93380%2C93381%2C93382%2C93383%2C93384%2C93386%2C93388%2C93389%2C93391%2C93392%2C93393%2C93394%2C93395%2C93396%2C93397%2C93399%2C93402%2C93403%2C93404%2C93405%2C93410%2C93415%2C93420%2C93427%2C93431%2C93432%2C93433%2C93434%2C93435%2C93436%2C93437%2C93438%2C93439%2C93440%2C93442%2C93443%2C93444%2C93453%2C93454%2C93455%2C93456%2C93463%2C93464%2C93465%2C93466%2C93467%2C93469%2C93470%2C93471%2C93472%2C93474%2C93475%2C93476%2C93477%2C93478%2C93479%2C93480%2C93482%2C93488%2C93489%2C93491%2C93492%2C93493%2C93494%2C93495%2C93496%2C93497%2C93498%2C93499%2C93505%2C93506%2C93507%2C93513%2C93515%2C93516%2C93517%2C93521%2C93522%2C93523%2C93524%2C93525%2C93526%2C93527%2C93528%2C93531%2C93532%2C93536%2C93537%2C93540%2C93541%2C93542%2C93543%2C93544%2C93545%2C93546%2C93548%2C93549%2C93550%2C93551%2C93553%2C93555%2C93556%2C93557%2C93559%2C93560%2C93561%2C93562%2C93563%2C93568%2C93569%2C93570%2C93572%2C93573%2C93574%2C93575%2C93576%2C93577%2C93578%2C93579%2C93580%2C93581%2C93582%2C93583%2C93584%2C93585%2C93586%2C93587%2C93592%2C93593%2C93594%2C93595%2C93596%2C93597%2C93601%2C93604%2C93605%2C93606%2C93607%2C93608%2C93613%2C93614%2C93622%2C93623%2C93624%2C93632%2C93633%2C93634%2C93640%2C93641%2C93643%2C93644%2C93648%2C93661%2C93662%2C93663%2C93670%2C93671%2C93672%2C93673%2C93674%2C93675%2C93691%2C93697%2C93700%2C93701%2C93705%2C93706%2C93707%2C93708%2C93709%2C93710%2C93711%2C93712%2C93713%2C93714%2C93715%2C93716%2C93717%2C93718%2C93719%2C93720%2C93721%2C93722%2C93723%2C93724%2C93725%2C93726%2C93727%2C93728%2C93729%2C93730%2C93731%2C93732%2C93733%2C93734%2C93735%2C93736%2C93737%2C93738%2C93739%2C93742%2C93744%2C93745%2C93746%2C93747%2C93748%2C93749%2C93750%2C93751%2C93753%2C93754%2C93758%2C93759%2C93760%2C93761%2C93763%2C93764%2C93765%2C93766%2C93767%2C93768%2C93769%2C93770%2C93771%2C93772%2C93773%2C93774%2C93786%2C93787%2C93788%2C93790%2C93791%2C93792%2C93793%2C93794%2C93795%2C93796%2C93797%2C93799%2C93800%2C93823%2C93824%2C93827%2C93840%2C93852%2C93861%2C93862%2C93863%2C93865%2C93867%2C93868%2C93869%2C93878%2C93880%2C93881%2C93882%2C93883%2C93884%2C93886%2C93887%2C93889%2C93905%2C93906%2C93907%2C93908%2C93917%2C93918%2C93919%2C93920%2C93921%2C93922%2C93923%2C93924%2C93925%2C93926%2C93927%2C93928%2C93929%2C93930%2C93932%2C93934%2C93935%2C93944%2C93945%2C93950%2C93954%2C93955%2C93956%2C93957%2C93958%2C93959%2C93960%2C93961%2C93962%2C93963%2C93965%2C93966%2C93967'"
      ]
     },
     "execution_count": 23,
     "metadata": {},
     "output_type": "execute_result"
    }
   ],
   "source": [
    "ids_as_str"
   ]
  },
  {
   "cell_type": "code",
   "execution_count": 25,
   "metadata": {},
   "outputs": [
    {
     "name": "stderr",
     "output_type": "stream",
     "text": [
      "c:\\Users\\medssam\\Documents\\GitHub\\Health_Indicators\\.venv\\Lib\\site-packages\\urllib3\\connectionpool.py:1045: InsecureRequestWarning: Unverified HTTPS request is being made to host 'fingertips.phe.org.uk'. Adding certificate verification is strongly advised. See: https://urllib3.readthedocs.io/en/1.26.x/advanced-usage.html#ssl-warnings\n",
      "  warnings.warn(\n"
     ]
    },
    {
     "ename": "ParserError",
     "evalue": "Error tokenizing data. C error: Expected 1 fields in line 8, saw 4\n",
     "output_type": "error",
     "traceback": [
      "\u001b[1;31m---------------------------------------------------------------------------\u001b[0m",
      "\u001b[1;31mHTTPError\u001b[0m                                 Traceback (most recent call last)",
      "File \u001b[1;32mc:\\Users\\medssam\\Documents\\GitHub\\Health_Indicators\\.venv\\Lib\\site-packages\\fingertips_py\\retrieve_data.py:47\u001b[0m, in \u001b[0;36mget_data_by_indicator_ids\u001b[1;34m(indicator_ids, area_type_id, parent_area_type_id, profile_id, include_sortable_time_periods, is_test)\u001b[0m\n\u001b[0;32m     46\u001b[0m \u001b[39mtry\u001b[39;00m:\n\u001b[1;32m---> 47\u001b[0m     df \u001b[39m=\u001b[39m pd\u001b[39m.\u001b[39;49mread_csv(base_url \u001b[39m+\u001b[39;49m populated_url)\n\u001b[0;32m     48\u001b[0m \u001b[39mexcept\u001b[39;00m URLError:\n",
      "File \u001b[1;32mc:\\Users\\medssam\\Documents\\GitHub\\Health_Indicators\\.venv\\Lib\\site-packages\\pandas\\util\\_decorators.py:211\u001b[0m, in \u001b[0;36mdeprecate_kwarg.<locals>._deprecate_kwarg.<locals>.wrapper\u001b[1;34m(*args, **kwargs)\u001b[0m\n\u001b[0;32m    210\u001b[0m         kwargs[new_arg_name] \u001b[39m=\u001b[39m new_arg_value\n\u001b[1;32m--> 211\u001b[0m \u001b[39mreturn\u001b[39;00m func(\u001b[39m*\u001b[39;49margs, \u001b[39m*\u001b[39;49m\u001b[39m*\u001b[39;49mkwargs)\n",
      "File \u001b[1;32mc:\\Users\\medssam\\Documents\\GitHub\\Health_Indicators\\.venv\\Lib\\site-packages\\pandas\\util\\_decorators.py:331\u001b[0m, in \u001b[0;36mdeprecate_nonkeyword_arguments.<locals>.decorate.<locals>.wrapper\u001b[1;34m(*args, **kwargs)\u001b[0m\n\u001b[0;32m    326\u001b[0m     warnings\u001b[39m.\u001b[39mwarn(\n\u001b[0;32m    327\u001b[0m         msg\u001b[39m.\u001b[39mformat(arguments\u001b[39m=\u001b[39m_format_argument_list(allow_args)),\n\u001b[0;32m    328\u001b[0m         \u001b[39mFutureWarning\u001b[39;00m,\n\u001b[0;32m    329\u001b[0m         stacklevel\u001b[39m=\u001b[39mfind_stack_level(),\n\u001b[0;32m    330\u001b[0m     )\n\u001b[1;32m--> 331\u001b[0m \u001b[39mreturn\u001b[39;00m func(\u001b[39m*\u001b[39;49margs, \u001b[39m*\u001b[39;49m\u001b[39m*\u001b[39;49mkwargs)\n",
      "File \u001b[1;32mc:\\Users\\medssam\\Documents\\GitHub\\Health_Indicators\\.venv\\Lib\\site-packages\\pandas\\io\\parsers\\readers.py:950\u001b[0m, in \u001b[0;36mread_csv\u001b[1;34m(filepath_or_buffer, sep, delimiter, header, names, index_col, usecols, squeeze, prefix, mangle_dupe_cols, dtype, engine, converters, true_values, false_values, skipinitialspace, skiprows, skipfooter, nrows, na_values, keep_default_na, na_filter, verbose, skip_blank_lines, parse_dates, infer_datetime_format, keep_date_col, date_parser, dayfirst, cache_dates, iterator, chunksize, compression, thousands, decimal, lineterminator, quotechar, quoting, doublequote, escapechar, comment, encoding, encoding_errors, dialect, error_bad_lines, warn_bad_lines, on_bad_lines, delim_whitespace, low_memory, memory_map, float_precision, storage_options)\u001b[0m\n\u001b[0;32m    948\u001b[0m kwds\u001b[39m.\u001b[39mupdate(kwds_defaults)\n\u001b[1;32m--> 950\u001b[0m \u001b[39mreturn\u001b[39;00m _read(filepath_or_buffer, kwds)\n",
      "File \u001b[1;32mc:\\Users\\medssam\\Documents\\GitHub\\Health_Indicators\\.venv\\Lib\\site-packages\\pandas\\io\\parsers\\readers.py:605\u001b[0m, in \u001b[0;36m_read\u001b[1;34m(filepath_or_buffer, kwds)\u001b[0m\n\u001b[0;32m    604\u001b[0m \u001b[39m# Create the parser.\u001b[39;00m\n\u001b[1;32m--> 605\u001b[0m parser \u001b[39m=\u001b[39m TextFileReader(filepath_or_buffer, \u001b[39m*\u001b[39;49m\u001b[39m*\u001b[39;49mkwds)\n\u001b[0;32m    607\u001b[0m \u001b[39mif\u001b[39;00m chunksize \u001b[39mor\u001b[39;00m iterator:\n",
      "File \u001b[1;32mc:\\Users\\medssam\\Documents\\GitHub\\Health_Indicators\\.venv\\Lib\\site-packages\\pandas\\io\\parsers\\readers.py:1442\u001b[0m, in \u001b[0;36mTextFileReader.__init__\u001b[1;34m(self, f, engine, **kwds)\u001b[0m\n\u001b[0;32m   1441\u001b[0m \u001b[39mself\u001b[39m\u001b[39m.\u001b[39mhandles: IOHandles \u001b[39m|\u001b[39m \u001b[39mNone\u001b[39;00m \u001b[39m=\u001b[39m \u001b[39mNone\u001b[39;00m\n\u001b[1;32m-> 1442\u001b[0m \u001b[39mself\u001b[39m\u001b[39m.\u001b[39m_engine \u001b[39m=\u001b[39m \u001b[39mself\u001b[39;49m\u001b[39m.\u001b[39;49m_make_engine(f, \u001b[39mself\u001b[39;49m\u001b[39m.\u001b[39;49mengine)\n",
      "File \u001b[1;32mc:\\Users\\medssam\\Documents\\GitHub\\Health_Indicators\\.venv\\Lib\\site-packages\\pandas\\io\\parsers\\readers.py:1735\u001b[0m, in \u001b[0;36mTextFileReader._make_engine\u001b[1;34m(self, f, engine)\u001b[0m\n\u001b[0;32m   1734\u001b[0m         mode \u001b[39m+\u001b[39m\u001b[39m=\u001b[39m \u001b[39m\"\u001b[39m\u001b[39mb\u001b[39m\u001b[39m\"\u001b[39m\n\u001b[1;32m-> 1735\u001b[0m \u001b[39mself\u001b[39m\u001b[39m.\u001b[39mhandles \u001b[39m=\u001b[39m get_handle(\n\u001b[0;32m   1736\u001b[0m     f,\n\u001b[0;32m   1737\u001b[0m     mode,\n\u001b[0;32m   1738\u001b[0m     encoding\u001b[39m=\u001b[39;49m\u001b[39mself\u001b[39;49m\u001b[39m.\u001b[39;49moptions\u001b[39m.\u001b[39;49mget(\u001b[39m\"\u001b[39;49m\u001b[39mencoding\u001b[39;49m\u001b[39m\"\u001b[39;49m, \u001b[39mNone\u001b[39;49;00m),\n\u001b[0;32m   1739\u001b[0m     compression\u001b[39m=\u001b[39;49m\u001b[39mself\u001b[39;49m\u001b[39m.\u001b[39;49moptions\u001b[39m.\u001b[39;49mget(\u001b[39m\"\u001b[39;49m\u001b[39mcompression\u001b[39;49m\u001b[39m\"\u001b[39;49m, \u001b[39mNone\u001b[39;49;00m),\n\u001b[0;32m   1740\u001b[0m     memory_map\u001b[39m=\u001b[39;49m\u001b[39mself\u001b[39;49m\u001b[39m.\u001b[39;49moptions\u001b[39m.\u001b[39;49mget(\u001b[39m\"\u001b[39;49m\u001b[39mmemory_map\u001b[39;49m\u001b[39m\"\u001b[39;49m, \u001b[39mFalse\u001b[39;49;00m),\n\u001b[0;32m   1741\u001b[0m     is_text\u001b[39m=\u001b[39;49mis_text,\n\u001b[0;32m   1742\u001b[0m     errors\u001b[39m=\u001b[39;49m\u001b[39mself\u001b[39;49m\u001b[39m.\u001b[39;49moptions\u001b[39m.\u001b[39;49mget(\u001b[39m\"\u001b[39;49m\u001b[39mencoding_errors\u001b[39;49m\u001b[39m\"\u001b[39;49m, \u001b[39m\"\u001b[39;49m\u001b[39mstrict\u001b[39;49m\u001b[39m\"\u001b[39;49m),\n\u001b[0;32m   1743\u001b[0m     storage_options\u001b[39m=\u001b[39;49m\u001b[39mself\u001b[39;49m\u001b[39m.\u001b[39;49moptions\u001b[39m.\u001b[39;49mget(\u001b[39m\"\u001b[39;49m\u001b[39mstorage_options\u001b[39;49m\u001b[39m\"\u001b[39;49m, \u001b[39mNone\u001b[39;49;00m),\n\u001b[0;32m   1744\u001b[0m )\n\u001b[0;32m   1745\u001b[0m \u001b[39massert\u001b[39;00m \u001b[39mself\u001b[39m\u001b[39m.\u001b[39mhandles \u001b[39mis\u001b[39;00m \u001b[39mnot\u001b[39;00m \u001b[39mNone\u001b[39;00m\n",
      "File \u001b[1;32mc:\\Users\\medssam\\Documents\\GitHub\\Health_Indicators\\.venv\\Lib\\site-packages\\pandas\\io\\common.py:713\u001b[0m, in \u001b[0;36mget_handle\u001b[1;34m(path_or_buf, mode, encoding, compression, memory_map, is_text, errors, storage_options)\u001b[0m\n\u001b[0;32m    712\u001b[0m \u001b[39m# open URLs\u001b[39;00m\n\u001b[1;32m--> 713\u001b[0m ioargs \u001b[39m=\u001b[39m _get_filepath_or_buffer(\n\u001b[0;32m    714\u001b[0m     path_or_buf,\n\u001b[0;32m    715\u001b[0m     encoding\u001b[39m=\u001b[39;49mencoding,\n\u001b[0;32m    716\u001b[0m     compression\u001b[39m=\u001b[39;49mcompression,\n\u001b[0;32m    717\u001b[0m     mode\u001b[39m=\u001b[39;49mmode,\n\u001b[0;32m    718\u001b[0m     storage_options\u001b[39m=\u001b[39;49mstorage_options,\n\u001b[0;32m    719\u001b[0m )\n\u001b[0;32m    721\u001b[0m handle \u001b[39m=\u001b[39m ioargs\u001b[39m.\u001b[39mfilepath_or_buffer\n",
      "File \u001b[1;32mc:\\Users\\medssam\\Documents\\GitHub\\Health_Indicators\\.venv\\Lib\\site-packages\\pandas\\io\\common.py:363\u001b[0m, in \u001b[0;36m_get_filepath_or_buffer\u001b[1;34m(filepath_or_buffer, encoding, compression, mode, storage_options)\u001b[0m\n\u001b[0;32m    362\u001b[0m req_info \u001b[39m=\u001b[39m urllib\u001b[39m.\u001b[39mrequest\u001b[39m.\u001b[39mRequest(filepath_or_buffer, headers\u001b[39m=\u001b[39mstorage_options)\n\u001b[1;32m--> 363\u001b[0m \u001b[39mwith\u001b[39;00m urlopen(req_info) \u001b[39mas\u001b[39;00m req:\n\u001b[0;32m    364\u001b[0m     content_encoding \u001b[39m=\u001b[39m req\u001b[39m.\u001b[39mheaders\u001b[39m.\u001b[39mget(\u001b[39m\"\u001b[39m\u001b[39mContent-Encoding\u001b[39m\u001b[39m\"\u001b[39m, \u001b[39mNone\u001b[39;00m)\n",
      "File \u001b[1;32mc:\\Users\\medssam\\Documents\\GitHub\\Health_Indicators\\.venv\\Lib\\site-packages\\pandas\\io\\common.py:265\u001b[0m, in \u001b[0;36murlopen\u001b[1;34m(*args, **kwargs)\u001b[0m\n\u001b[0;32m    263\u001b[0m \u001b[39mimport\u001b[39;00m \u001b[39murllib\u001b[39;00m\u001b[39m.\u001b[39;00m\u001b[39mrequest\u001b[39;00m\n\u001b[1;32m--> 265\u001b[0m \u001b[39mreturn\u001b[39;00m urllib\u001b[39m.\u001b[39;49mrequest\u001b[39m.\u001b[39;49murlopen(\u001b[39m*\u001b[39;49margs, \u001b[39m*\u001b[39;49m\u001b[39m*\u001b[39;49mkwargs)\n",
      "File \u001b[1;32m~\\AppData\\Local\\Programs\\Python\\Python311\\Lib\\urllib\\request.py:216\u001b[0m, in \u001b[0;36murlopen\u001b[1;34m(url, data, timeout, cafile, capath, cadefault, context)\u001b[0m\n\u001b[0;32m    215\u001b[0m     opener \u001b[39m=\u001b[39m _opener\n\u001b[1;32m--> 216\u001b[0m \u001b[39mreturn\u001b[39;00m opener\u001b[39m.\u001b[39;49mopen(url, data, timeout)\n",
      "File \u001b[1;32m~\\AppData\\Local\\Programs\\Python\\Python311\\Lib\\urllib\\request.py:525\u001b[0m, in \u001b[0;36mOpenerDirector.open\u001b[1;34m(self, fullurl, data, timeout)\u001b[0m\n\u001b[0;32m    524\u001b[0m     meth \u001b[39m=\u001b[39m \u001b[39mgetattr\u001b[39m(processor, meth_name)\n\u001b[1;32m--> 525\u001b[0m     response \u001b[39m=\u001b[39m meth(req, response)\n\u001b[0;32m    527\u001b[0m \u001b[39mreturn\u001b[39;00m response\n",
      "File \u001b[1;32m~\\AppData\\Local\\Programs\\Python\\Python311\\Lib\\urllib\\request.py:634\u001b[0m, in \u001b[0;36mHTTPErrorProcessor.http_response\u001b[1;34m(self, request, response)\u001b[0m\n\u001b[0;32m    633\u001b[0m \u001b[39mif\u001b[39;00m \u001b[39mnot\u001b[39;00m (\u001b[39m200\u001b[39m \u001b[39m<\u001b[39m\u001b[39m=\u001b[39m code \u001b[39m<\u001b[39m \u001b[39m300\u001b[39m):\n\u001b[1;32m--> 634\u001b[0m     response \u001b[39m=\u001b[39m \u001b[39mself\u001b[39;49m\u001b[39m.\u001b[39;49mparent\u001b[39m.\u001b[39;49merror(\n\u001b[0;32m    635\u001b[0m         \u001b[39m'\u001b[39;49m\u001b[39mhttp\u001b[39;49m\u001b[39m'\u001b[39;49m, request, response, code, msg, hdrs)\n\u001b[0;32m    637\u001b[0m \u001b[39mreturn\u001b[39;00m response\n",
      "File \u001b[1;32m~\\AppData\\Local\\Programs\\Python\\Python311\\Lib\\urllib\\request.py:557\u001b[0m, in \u001b[0;36mOpenerDirector.error\u001b[1;34m(self, proto, *args)\u001b[0m\n\u001b[0;32m    556\u001b[0m args \u001b[39m=\u001b[39m (\u001b[39mdict\u001b[39m, proto, meth_name) \u001b[39m+\u001b[39m args\n\u001b[1;32m--> 557\u001b[0m result \u001b[39m=\u001b[39m \u001b[39mself\u001b[39;49m\u001b[39m.\u001b[39;49m_call_chain(\u001b[39m*\u001b[39;49margs)\n\u001b[0;32m    558\u001b[0m \u001b[39mif\u001b[39;00m result:\n",
      "File \u001b[1;32m~\\AppData\\Local\\Programs\\Python\\Python311\\Lib\\urllib\\request.py:496\u001b[0m, in \u001b[0;36mOpenerDirector._call_chain\u001b[1;34m(self, chain, kind, meth_name, *args)\u001b[0m\n\u001b[0;32m    495\u001b[0m func \u001b[39m=\u001b[39m \u001b[39mgetattr\u001b[39m(handler, meth_name)\n\u001b[1;32m--> 496\u001b[0m result \u001b[39m=\u001b[39m func(\u001b[39m*\u001b[39;49margs)\n\u001b[0;32m    497\u001b[0m \u001b[39mif\u001b[39;00m result \u001b[39mis\u001b[39;00m \u001b[39mnot\u001b[39;00m \u001b[39mNone\u001b[39;00m:\n",
      "File \u001b[1;32m~\\AppData\\Local\\Programs\\Python\\Python311\\Lib\\urllib\\request.py:749\u001b[0m, in \u001b[0;36mHTTPRedirectHandler.http_error_302\u001b[1;34m(self, req, fp, code, msg, headers)\u001b[0m\n\u001b[0;32m    747\u001b[0m fp\u001b[39m.\u001b[39mclose()\n\u001b[1;32m--> 749\u001b[0m \u001b[39mreturn\u001b[39;00m \u001b[39mself\u001b[39;49m\u001b[39m.\u001b[39;49mparent\u001b[39m.\u001b[39;49mopen(new, timeout\u001b[39m=\u001b[39;49mreq\u001b[39m.\u001b[39;49mtimeout)\n",
      "File \u001b[1;32m~\\AppData\\Local\\Programs\\Python\\Python311\\Lib\\urllib\\request.py:525\u001b[0m, in \u001b[0;36mOpenerDirector.open\u001b[1;34m(self, fullurl, data, timeout)\u001b[0m\n\u001b[0;32m    524\u001b[0m     meth \u001b[39m=\u001b[39m \u001b[39mgetattr\u001b[39m(processor, meth_name)\n\u001b[1;32m--> 525\u001b[0m     response \u001b[39m=\u001b[39m meth(req, response)\n\u001b[0;32m    527\u001b[0m \u001b[39mreturn\u001b[39;00m response\n",
      "File \u001b[1;32m~\\AppData\\Local\\Programs\\Python\\Python311\\Lib\\urllib\\request.py:634\u001b[0m, in \u001b[0;36mHTTPErrorProcessor.http_response\u001b[1;34m(self, request, response)\u001b[0m\n\u001b[0;32m    633\u001b[0m \u001b[39mif\u001b[39;00m \u001b[39mnot\u001b[39;00m (\u001b[39m200\u001b[39m \u001b[39m<\u001b[39m\u001b[39m=\u001b[39m code \u001b[39m<\u001b[39m \u001b[39m300\u001b[39m):\n\u001b[1;32m--> 634\u001b[0m     response \u001b[39m=\u001b[39m \u001b[39mself\u001b[39;49m\u001b[39m.\u001b[39;49mparent\u001b[39m.\u001b[39;49merror(\n\u001b[0;32m    635\u001b[0m         \u001b[39m'\u001b[39;49m\u001b[39mhttp\u001b[39;49m\u001b[39m'\u001b[39;49m, request, response, code, msg, hdrs)\n\u001b[0;32m    637\u001b[0m \u001b[39mreturn\u001b[39;00m response\n",
      "File \u001b[1;32m~\\AppData\\Local\\Programs\\Python\\Python311\\Lib\\urllib\\request.py:563\u001b[0m, in \u001b[0;36mOpenerDirector.error\u001b[1;34m(self, proto, *args)\u001b[0m\n\u001b[0;32m    562\u001b[0m args \u001b[39m=\u001b[39m (\u001b[39mdict\u001b[39m, \u001b[39m'\u001b[39m\u001b[39mdefault\u001b[39m\u001b[39m'\u001b[39m, \u001b[39m'\u001b[39m\u001b[39mhttp_error_default\u001b[39m\u001b[39m'\u001b[39m) \u001b[39m+\u001b[39m orig_args\n\u001b[1;32m--> 563\u001b[0m \u001b[39mreturn\u001b[39;00m \u001b[39mself\u001b[39;49m\u001b[39m.\u001b[39;49m_call_chain(\u001b[39m*\u001b[39;49margs)\n",
      "File \u001b[1;32m~\\AppData\\Local\\Programs\\Python\\Python311\\Lib\\urllib\\request.py:496\u001b[0m, in \u001b[0;36mOpenerDirector._call_chain\u001b[1;34m(self, chain, kind, meth_name, *args)\u001b[0m\n\u001b[0;32m    495\u001b[0m func \u001b[39m=\u001b[39m \u001b[39mgetattr\u001b[39m(handler, meth_name)\n\u001b[1;32m--> 496\u001b[0m result \u001b[39m=\u001b[39m func(\u001b[39m*\u001b[39;49margs)\n\u001b[0;32m    497\u001b[0m \u001b[39mif\u001b[39;00m result \u001b[39mis\u001b[39;00m \u001b[39mnot\u001b[39;00m \u001b[39mNone\u001b[39;00m:\n",
      "File \u001b[1;32m~\\AppData\\Local\\Programs\\Python\\Python311\\Lib\\urllib\\request.py:643\u001b[0m, in \u001b[0;36mHTTPDefaultErrorHandler.http_error_default\u001b[1;34m(self, req, fp, code, msg, hdrs)\u001b[0m\n\u001b[0;32m    642\u001b[0m \u001b[39mdef\u001b[39;00m \u001b[39mhttp_error_default\u001b[39m(\u001b[39mself\u001b[39m, req, fp, code, msg, hdrs):\n\u001b[1;32m--> 643\u001b[0m     \u001b[39mraise\u001b[39;00m HTTPError(req\u001b[39m.\u001b[39mfull_url, code, msg, hdrs, fp)\n",
      "\u001b[1;31mHTTPError\u001b[0m: HTTP Error 404: Not Found",
      "\nDuring handling of the above exception, another exception occurred:\n",
      "\u001b[1;31mParserError\u001b[0m                               Traceback (most recent call last)",
      "Cell \u001b[1;32mIn[25], line 1\u001b[0m\n\u001b[1;32m----> 1\u001b[0m data \u001b[39m=\u001b[39m ftp\u001b[39m.\u001b[39;49mretrieve_data\u001b[39m.\u001b[39;49mget_data_by_indicator_ids(indicator_ids\u001b[39m=\u001b[39;49mids_as_str, \u001b[39m# [Maximum 100]\u001b[39;49;00m\n\u001b[0;32m      2\u001b[0m                                                    area_type_id\u001b[39m=\u001b[39;49m\u001b[39m7\u001b[39;49m,\n\u001b[0;32m      3\u001b[0m                                                    parent_area_type_id\u001b[39m=\u001b[39;49m\u001b[39m15\u001b[39;49m,\n\u001b[0;32m      4\u001b[0m                                                    profile_id\u001b[39m=\u001b[39;49m\u001b[39mNone\u001b[39;49;00m,\n\u001b[0;32m      5\u001b[0m                                                    include_sortable_time_periods\u001b[39m=\u001b[39;49m\u001b[39mNone\u001b[39;49;00m,\n\u001b[0;32m      6\u001b[0m                                                    is_test\u001b[39m=\u001b[39;49m\u001b[39mFalse\u001b[39;49;00m)\n",
      "File \u001b[1;32mc:\\Users\\medssam\\Documents\\GitHub\\Health_Indicators\\.venv\\Lib\\site-packages\\fingertips_py\\retrieve_data.py:49\u001b[0m, in \u001b[0;36mget_data_by_indicator_ids\u001b[1;34m(indicator_ids, area_type_id, parent_area_type_id, profile_id, include_sortable_time_periods, is_test)\u001b[0m\n\u001b[0;32m     47\u001b[0m     df \u001b[39m=\u001b[39m pd\u001b[39m.\u001b[39mread_csv(base_url \u001b[39m+\u001b[39m populated_url)\n\u001b[0;32m     48\u001b[0m \u001b[39mexcept\u001b[39;00m URLError:\n\u001b[1;32m---> 49\u001b[0m     df \u001b[39m=\u001b[39m deal_with_url_error(base_url \u001b[39m+\u001b[39;49m populated_url)\n\u001b[0;32m     50\u001b[0m \u001b[39mif\u001b[39;00m is_test:\n\u001b[0;32m     51\u001b[0m     \u001b[39mreturn\u001b[39;00m df, base_url \u001b[39m+\u001b[39m populated_url\n",
      "File \u001b[1;32mc:\\Users\\medssam\\Documents\\GitHub\\Health_Indicators\\.venv\\Lib\\site-packages\\fingertips_py\\api_calls.py:90\u001b[0m, in \u001b[0;36mdeal_with_url_error\u001b[1;34m(url)\u001b[0m\n\u001b[0;32m     88\u001b[0m s \u001b[39m=\u001b[39m \u001b[39mstr\u001b[39m(req\u001b[39m.\u001b[39mcontent, \u001b[39m'\u001b[39m\u001b[39mutf-8\u001b[39m\u001b[39m'\u001b[39m)\n\u001b[0;32m     89\u001b[0m data \u001b[39m=\u001b[39m StringIO(s)\n\u001b[1;32m---> 90\u001b[0m df \u001b[39m=\u001b[39m pd\u001b[39m.\u001b[39;49mread_csv(data)\n\u001b[0;32m     91\u001b[0m \u001b[39mreturn\u001b[39;00m df\n",
      "File \u001b[1;32mc:\\Users\\medssam\\Documents\\GitHub\\Health_Indicators\\.venv\\Lib\\site-packages\\pandas\\util\\_decorators.py:211\u001b[0m, in \u001b[0;36mdeprecate_kwarg.<locals>._deprecate_kwarg.<locals>.wrapper\u001b[1;34m(*args, **kwargs)\u001b[0m\n\u001b[0;32m    209\u001b[0m     \u001b[39melse\u001b[39;00m:\n\u001b[0;32m    210\u001b[0m         kwargs[new_arg_name] \u001b[39m=\u001b[39m new_arg_value\n\u001b[1;32m--> 211\u001b[0m \u001b[39mreturn\u001b[39;00m func(\u001b[39m*\u001b[39;49margs, \u001b[39m*\u001b[39;49m\u001b[39m*\u001b[39;49mkwargs)\n",
      "File \u001b[1;32mc:\\Users\\medssam\\Documents\\GitHub\\Health_Indicators\\.venv\\Lib\\site-packages\\pandas\\util\\_decorators.py:331\u001b[0m, in \u001b[0;36mdeprecate_nonkeyword_arguments.<locals>.decorate.<locals>.wrapper\u001b[1;34m(*args, **kwargs)\u001b[0m\n\u001b[0;32m    325\u001b[0m \u001b[39mif\u001b[39;00m \u001b[39mlen\u001b[39m(args) \u001b[39m>\u001b[39m num_allow_args:\n\u001b[0;32m    326\u001b[0m     warnings\u001b[39m.\u001b[39mwarn(\n\u001b[0;32m    327\u001b[0m         msg\u001b[39m.\u001b[39mformat(arguments\u001b[39m=\u001b[39m_format_argument_list(allow_args)),\n\u001b[0;32m    328\u001b[0m         \u001b[39mFutureWarning\u001b[39;00m,\n\u001b[0;32m    329\u001b[0m         stacklevel\u001b[39m=\u001b[39mfind_stack_level(),\n\u001b[0;32m    330\u001b[0m     )\n\u001b[1;32m--> 331\u001b[0m \u001b[39mreturn\u001b[39;00m func(\u001b[39m*\u001b[39;49margs, \u001b[39m*\u001b[39;49m\u001b[39m*\u001b[39;49mkwargs)\n",
      "File \u001b[1;32mc:\\Users\\medssam\\Documents\\GitHub\\Health_Indicators\\.venv\\Lib\\site-packages\\pandas\\io\\parsers\\readers.py:950\u001b[0m, in \u001b[0;36mread_csv\u001b[1;34m(filepath_or_buffer, sep, delimiter, header, names, index_col, usecols, squeeze, prefix, mangle_dupe_cols, dtype, engine, converters, true_values, false_values, skipinitialspace, skiprows, skipfooter, nrows, na_values, keep_default_na, na_filter, verbose, skip_blank_lines, parse_dates, infer_datetime_format, keep_date_col, date_parser, dayfirst, cache_dates, iterator, chunksize, compression, thousands, decimal, lineterminator, quotechar, quoting, doublequote, escapechar, comment, encoding, encoding_errors, dialect, error_bad_lines, warn_bad_lines, on_bad_lines, delim_whitespace, low_memory, memory_map, float_precision, storage_options)\u001b[0m\n\u001b[0;32m    935\u001b[0m kwds_defaults \u001b[39m=\u001b[39m _refine_defaults_read(\n\u001b[0;32m    936\u001b[0m     dialect,\n\u001b[0;32m    937\u001b[0m     delimiter,\n\u001b[1;32m   (...)\u001b[0m\n\u001b[0;32m    946\u001b[0m     defaults\u001b[39m=\u001b[39m{\u001b[39m\"\u001b[39m\u001b[39mdelimiter\u001b[39m\u001b[39m\"\u001b[39m: \u001b[39m\"\u001b[39m\u001b[39m,\u001b[39m\u001b[39m\"\u001b[39m},\n\u001b[0;32m    947\u001b[0m )\n\u001b[0;32m    948\u001b[0m kwds\u001b[39m.\u001b[39mupdate(kwds_defaults)\n\u001b[1;32m--> 950\u001b[0m \u001b[39mreturn\u001b[39;00m _read(filepath_or_buffer, kwds)\n",
      "File \u001b[1;32mc:\\Users\\medssam\\Documents\\GitHub\\Health_Indicators\\.venv\\Lib\\site-packages\\pandas\\io\\parsers\\readers.py:611\u001b[0m, in \u001b[0;36m_read\u001b[1;34m(filepath_or_buffer, kwds)\u001b[0m\n\u001b[0;32m    608\u001b[0m     \u001b[39mreturn\u001b[39;00m parser\n\u001b[0;32m    610\u001b[0m \u001b[39mwith\u001b[39;00m parser:\n\u001b[1;32m--> 611\u001b[0m     \u001b[39mreturn\u001b[39;00m parser\u001b[39m.\u001b[39;49mread(nrows)\n",
      "File \u001b[1;32mc:\\Users\\medssam\\Documents\\GitHub\\Health_Indicators\\.venv\\Lib\\site-packages\\pandas\\io\\parsers\\readers.py:1778\u001b[0m, in \u001b[0;36mTextFileReader.read\u001b[1;34m(self, nrows)\u001b[0m\n\u001b[0;32m   1771\u001b[0m nrows \u001b[39m=\u001b[39m validate_integer(\u001b[39m\"\u001b[39m\u001b[39mnrows\u001b[39m\u001b[39m\"\u001b[39m, nrows)\n\u001b[0;32m   1772\u001b[0m \u001b[39mtry\u001b[39;00m:\n\u001b[0;32m   1773\u001b[0m     \u001b[39m# error: \"ParserBase\" has no attribute \"read\"\u001b[39;00m\n\u001b[0;32m   1774\u001b[0m     (\n\u001b[0;32m   1775\u001b[0m         index,\n\u001b[0;32m   1776\u001b[0m         columns,\n\u001b[0;32m   1777\u001b[0m         col_dict,\n\u001b[1;32m-> 1778\u001b[0m     ) \u001b[39m=\u001b[39m \u001b[39mself\u001b[39;49m\u001b[39m.\u001b[39;49m_engine\u001b[39m.\u001b[39;49mread(  \u001b[39m# type: ignore[attr-defined]\u001b[39;49;00m\n\u001b[0;32m   1779\u001b[0m         nrows\n\u001b[0;32m   1780\u001b[0m     )\n\u001b[0;32m   1781\u001b[0m \u001b[39mexcept\u001b[39;00m \u001b[39mException\u001b[39;00m:\n\u001b[0;32m   1782\u001b[0m     \u001b[39mself\u001b[39m\u001b[39m.\u001b[39mclose()\n",
      "File \u001b[1;32mc:\\Users\\medssam\\Documents\\GitHub\\Health_Indicators\\.venv\\Lib\\site-packages\\pandas\\io\\parsers\\c_parser_wrapper.py:230\u001b[0m, in \u001b[0;36mCParserWrapper.read\u001b[1;34m(self, nrows)\u001b[0m\n\u001b[0;32m    228\u001b[0m \u001b[39mtry\u001b[39;00m:\n\u001b[0;32m    229\u001b[0m     \u001b[39mif\u001b[39;00m \u001b[39mself\u001b[39m\u001b[39m.\u001b[39mlow_memory:\n\u001b[1;32m--> 230\u001b[0m         chunks \u001b[39m=\u001b[39m \u001b[39mself\u001b[39;49m\u001b[39m.\u001b[39;49m_reader\u001b[39m.\u001b[39;49mread_low_memory(nrows)\n\u001b[0;32m    231\u001b[0m         \u001b[39m# destructive to chunks\u001b[39;00m\n\u001b[0;32m    232\u001b[0m         data \u001b[39m=\u001b[39m _concatenate_chunks(chunks)\n",
      "File \u001b[1;32mc:\\Users\\medssam\\Documents\\GitHub\\Health_Indicators\\.venv\\Lib\\site-packages\\pandas\\_libs\\parsers.pyx:808\u001b[0m, in \u001b[0;36mpandas._libs.parsers.TextReader.read_low_memory\u001b[1;34m()\u001b[0m\n",
      "File \u001b[1;32mc:\\Users\\medssam\\Documents\\GitHub\\Health_Indicators\\.venv\\Lib\\site-packages\\pandas\\_libs\\parsers.pyx:866\u001b[0m, in \u001b[0;36mpandas._libs.parsers.TextReader._read_rows\u001b[1;34m()\u001b[0m\n",
      "File \u001b[1;32mc:\\Users\\medssam\\Documents\\GitHub\\Health_Indicators\\.venv\\Lib\\site-packages\\pandas\\_libs\\parsers.pyx:852\u001b[0m, in \u001b[0;36mpandas._libs.parsers.TextReader._tokenize_rows\u001b[1;34m()\u001b[0m\n",
      "File \u001b[1;32mc:\\Users\\medssam\\Documents\\GitHub\\Health_Indicators\\.venv\\Lib\\site-packages\\pandas\\_libs\\parsers.pyx:1973\u001b[0m, in \u001b[0;36mpandas._libs.parsers.raise_parser_error\u001b[1;34m()\u001b[0m\n",
      "\u001b[1;31mParserError\u001b[0m: Error tokenizing data. C error: Expected 1 fields in line 8, saw 4\n"
     ]
    }
   ],
   "source": [
    "data = ftp.retrieve_data.get_data_by_indicator_ids(indicator_ids=ids_as_str, # [Maximum 100]\n",
    "                                                   area_type_id=7,\n",
    "                                                   parent_area_type_id=15,\n",
    "                                                   profile_id=None,\n",
    "                                                   include_sortable_time_periods=None,\n",
    "                                                   is_test=False)"
   ]
  },
  {
   "cell_type": "code",
   "execution_count": 32,
   "metadata": {},
   "outputs": [
    {
     "data": {
      "text/html": [
       "<div>\n",
       "<style scoped>\n",
       "    .dataframe tbody tr th:only-of-type {\n",
       "        vertical-align: middle;\n",
       "    }\n",
       "\n",
       "    .dataframe tbody tr th {\n",
       "        vertical-align: top;\n",
       "    }\n",
       "\n",
       "    .dataframe thead th {\n",
       "        text-align: right;\n",
       "    }\n",
       "</style>\n",
       "<table border=\"1\" class=\"dataframe\">\n",
       "  <thead>\n",
       "    <tr style=\"text-align: right;\">\n",
       "      <th></th>\n",
       "      <th>Indicator ID</th>\n",
       "      <th>Indicator Name</th>\n",
       "      <th>Parent Code</th>\n",
       "      <th>Parent Name</th>\n",
       "      <th>Area Code</th>\n",
       "      <th>Area Name</th>\n",
       "      <th>Area Type</th>\n",
       "      <th>Sex</th>\n",
       "      <th>Age</th>\n",
       "      <th>Category Type</th>\n",
       "      <th>...</th>\n",
       "      <th>Count</th>\n",
       "      <th>Denominator</th>\n",
       "      <th>Value note</th>\n",
       "      <th>Recent Trend</th>\n",
       "      <th>Compared to England value or percentiles</th>\n",
       "      <th>Compared to percentiles</th>\n",
       "      <th>Time period Sortable</th>\n",
       "      <th>New data</th>\n",
       "      <th>Compared to goal</th>\n",
       "      <th>Time period range</th>\n",
       "    </tr>\n",
       "  </thead>\n",
       "  <tbody>\n",
       "    <tr>\n",
       "      <th>0</th>\n",
       "      <td>114</td>\n",
       "      <td>QOF Total List Size</td>\n",
       "      <td>NaN</td>\n",
       "      <td>NaN</td>\n",
       "      <td>E92000001</td>\n",
       "      <td>England</td>\n",
       "      <td>England</td>\n",
       "      <td>Persons</td>\n",
       "      <td>All ages</td>\n",
       "      <td>NaN</td>\n",
       "      <td>...</td>\n",
       "      <td>54836561</td>\n",
       "      <td>NaN</td>\n",
       "      <td>NaN</td>\n",
       "      <td>NaN</td>\n",
       "      <td>Not compared</td>\n",
       "      <td>Not compared</td>\n",
       "      <td>20090000</td>\n",
       "      <td>NaN</td>\n",
       "      <td>NaN</td>\n",
       "      <td>1y</td>\n",
       "    </tr>\n",
       "    <tr>\n",
       "      <th>1</th>\n",
       "      <td>114</td>\n",
       "      <td>QOF Total List Size</td>\n",
       "      <td>NaN</td>\n",
       "      <td>NaN</td>\n",
       "      <td>E92000001</td>\n",
       "      <td>England</td>\n",
       "      <td>England</td>\n",
       "      <td>Persons</td>\n",
       "      <td>All ages</td>\n",
       "      <td>CCG deprivation deciles in England (IMD2019, 2...</td>\n",
       "      <td>...</td>\n",
       "      <td>508339</td>\n",
       "      <td>NaN</td>\n",
       "      <td>Aggregated from all known lower geography values</td>\n",
       "      <td>NaN</td>\n",
       "      <td>Not compared</td>\n",
       "      <td>Not compared</td>\n",
       "      <td>20090000</td>\n",
       "      <td>NaN</td>\n",
       "      <td>NaN</td>\n",
       "      <td>1y</td>\n",
       "    </tr>\n",
       "    <tr>\n",
       "      <th>2</th>\n",
       "      <td>114</td>\n",
       "      <td>QOF Total List Size</td>\n",
       "      <td>E92000001</td>\n",
       "      <td>England</td>\n",
       "      <td>E92000001</td>\n",
       "      <td>England</td>\n",
       "      <td>England</td>\n",
       "      <td>Persons</td>\n",
       "      <td>All ages</td>\n",
       "      <td>NaN</td>\n",
       "      <td>...</td>\n",
       "      <td>54836561</td>\n",
       "      <td>NaN</td>\n",
       "      <td>NaN</td>\n",
       "      <td>NaN</td>\n",
       "      <td>Not compared</td>\n",
       "      <td>Not compared</td>\n",
       "      <td>20090000</td>\n",
       "      <td>NaN</td>\n",
       "      <td>NaN</td>\n",
       "      <td>1y</td>\n",
       "    </tr>\n",
       "    <tr>\n",
       "      <th>3</th>\n",
       "      <td>114</td>\n",
       "      <td>QOF Total List Size</td>\n",
       "      <td>E92000001</td>\n",
       "      <td>England</td>\n",
       "      <td>E92000001</td>\n",
       "      <td>England</td>\n",
       "      <td>England</td>\n",
       "      <td>Persons</td>\n",
       "      <td>All ages</td>\n",
       "      <td>CCG deprivation deciles in England (IMD2019, 2...</td>\n",
       "      <td>...</td>\n",
       "      <td>508339</td>\n",
       "      <td>NaN</td>\n",
       "      <td>Aggregated from all known lower geography values</td>\n",
       "      <td>NaN</td>\n",
       "      <td>Not compared</td>\n",
       "      <td>Not compared</td>\n",
       "      <td>20090000</td>\n",
       "      <td>NaN</td>\n",
       "      <td>NaN</td>\n",
       "      <td>1y</td>\n",
       "    </tr>\n",
       "    <tr>\n",
       "      <th>4</th>\n",
       "      <td>114</td>\n",
       "      <td>QOF Total List Size</td>\n",
       "      <td>E92000001</td>\n",
       "      <td>England</td>\n",
       "      <td>A81001</td>\n",
       "      <td>The Densham Surgery</td>\n",
       "      <td>GPs</td>\n",
       "      <td>Persons</td>\n",
       "      <td>All ages</td>\n",
       "      <td>NaN</td>\n",
       "      <td>...</td>\n",
       "      <td>4164</td>\n",
       "      <td>NaN</td>\n",
       "      <td>NaN</td>\n",
       "      <td>NaN</td>\n",
       "      <td>Not compared</td>\n",
       "      <td>Not compared</td>\n",
       "      <td>20090000</td>\n",
       "      <td>NaN</td>\n",
       "      <td>NaN</td>\n",
       "      <td>1y</td>\n",
       "    </tr>\n",
       "  </tbody>\n",
       "</table>\n",
       "<p>5 rows × 27 columns</p>\n",
       "</div>"
      ],
      "text/plain": [
       "   Indicator ID       Indicator Name Parent Code Parent Name  Area Code  \\\n",
       "0           114  QOF Total List Size         NaN         NaN  E92000001   \n",
       "1           114  QOF Total List Size         NaN         NaN  E92000001   \n",
       "2           114  QOF Total List Size   E92000001     England  E92000001   \n",
       "3           114  QOF Total List Size   E92000001     England  E92000001   \n",
       "4           114  QOF Total List Size   E92000001     England     A81001   \n",
       "\n",
       "             Area Name Area Type      Sex       Age  \\\n",
       "0              England   England  Persons  All ages   \n",
       "1              England   England  Persons  All ages   \n",
       "2              England   England  Persons  All ages   \n",
       "3              England   England  Persons  All ages   \n",
       "4  The Densham Surgery       GPs  Persons  All ages   \n",
       "\n",
       "                                       Category Type  ...     Count  \\\n",
       "0                                                NaN  ...  54836561   \n",
       "1  CCG deprivation deciles in England (IMD2019, 2...  ...    508339   \n",
       "2                                                NaN  ...  54836561   \n",
       "3  CCG deprivation deciles in England (IMD2019, 2...  ...    508339   \n",
       "4                                                NaN  ...      4164   \n",
       "\n",
       "  Denominator                                        Value note  Recent Trend  \\\n",
       "0         NaN                                               NaN           NaN   \n",
       "1         NaN  Aggregated from all known lower geography values           NaN   \n",
       "2         NaN                                               NaN           NaN   \n",
       "3         NaN  Aggregated from all known lower geography values           NaN   \n",
       "4         NaN                                               NaN           NaN   \n",
       "\n",
       "   Compared to England value or percentiles  Compared to percentiles  \\\n",
       "0                              Not compared             Not compared   \n",
       "1                              Not compared             Not compared   \n",
       "2                              Not compared             Not compared   \n",
       "3                              Not compared             Not compared   \n",
       "4                              Not compared             Not compared   \n",
       "\n",
       "   Time period Sortable  New data  Compared to goal Time period range  \n",
       "0              20090000       NaN               NaN                1y  \n",
       "1              20090000       NaN               NaN                1y  \n",
       "2              20090000       NaN               NaN                1y  \n",
       "3              20090000       NaN               NaN                1y  \n",
       "4              20090000       NaN               NaN                1y  \n",
       "\n",
       "[5 rows x 27 columns]"
      ]
     },
     "execution_count": 32,
     "metadata": {},
     "output_type": "execute_result"
    }
   ],
   "source": [
    "data.head()"
   ]
  },
  {
   "cell_type": "code",
   "execution_count": null,
   "metadata": {},
   "outputs": [],
   "source": []
  }
 ],
 "metadata": {
  "kernelspec": {
   "display_name": ".venv",
   "language": "python",
   "name": "python3"
  },
  "language_info": {
   "codemirror_mode": {
    "name": "ipython",
    "version": 3
   },
   "file_extension": ".py",
   "mimetype": "text/x-python",
   "name": "python",
   "nbconvert_exporter": "python",
   "pygments_lexer": "ipython3",
   "version": "3.11.1"
  },
  "orig_nbformat": 4,
  "vscode": {
   "interpreter": {
    "hash": "7df4ba93a7eed49b4ce3aa561040df82f39fc983c3907e7a9f2cb3d5a05b8647"
   }
  }
 },
 "nbformat": 4,
 "nbformat_minor": 2
}
