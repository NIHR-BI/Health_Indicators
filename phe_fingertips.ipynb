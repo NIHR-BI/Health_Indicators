{
 "cells": [
  {
   "cell_type": "code",
   "execution_count": 2,
   "metadata": {},
   "outputs": [],
   "source": [
    "import fingertips_py as ftp\n",
    "import pandas as pd\n",
    "import requests"
   ]
  },
  {
   "attachments": {},
   "cell_type": "markdown",
   "metadata": {},
   "source": [
    "I need to know for each indicator, which area types and year conifgurations exist so that I know which ones I can pick from and minimise computation for data extraction. - Need to see if I can get a list of this\n",
    "\n",
    "The alternative would be to create a hierarchy of preference and iterate through the data for each hierachy level. If an indicator is found within a level, then it will no longer be queried for further levels. This might still be computationally expensive but needs to be investigated further "
   ]
  },
  {
   "attachments": {},
   "cell_type": "markdown",
   "metadata": {},
   "source": [
    "# Area types available for each indicator"
   ]
  },
  {
   "cell_type": "code",
   "execution_count": 3,
   "metadata": {},
   "outputs": [
    {
     "name": "stdout",
     "output_type": "stream",
     "text": [
      "[402 401 102 101  15   6 221 220 204 167 166  66   7 302 219 152 301 223\n",
      " 202 165 154 201  46  10 126 104 119 203 118 205 112 129 222   8   3  41] 36 8910 1693\n"
     ]
    }
   ],
   "source": [
    "raw_available_indicator_at_area = pd.read_json('https://fingertips.phe.org.uk/api/available_data').fillna(value='null')\n",
    "\n",
    "print(raw_available_indicator_at_area['AreaTypeId'].unique()\n",
    "      ,len(raw_available_indicator_at_area['AreaTypeId'].unique()),\n",
    "      len(raw_available_indicator_at_area),\n",
    "      raw_available_indicator_at_area['IndicatorId'].nunique()\n",
    "    #   ,\n",
    "    #   available_indicator_at_area['IndicatorId'].unique()\n",
    ")"
   ]
  },
  {
   "cell_type": "code",
   "execution_count": 4,
   "metadata": {},
   "outputs": [
    {
     "data": {
      "text/plain": [
       "Index(['IndicatorId', 'AreaTypeId'], dtype='object')"
      ]
     },
     "execution_count": 4,
     "metadata": {},
     "output_type": "execute_result"
    }
   ],
   "source": [
    "raw_available_indicator_at_area.columns"
   ]
  },
  {
   "attachments": {},
   "cell_type": "markdown",
   "metadata": {},
   "source": [
    "# Indicator metadata"
   ]
  },
  {
   "cell_type": "code",
   "execution_count": 5,
   "metadata": {},
   "outputs": [],
   "source": [
    "indicator_metadata = pd.read_csv('https://fingertips.phe.org.uk/api/indicator_metadata/csv/all')"
   ]
  },
  {
   "cell_type": "code",
   "execution_count": 6,
   "metadata": {},
   "outputs": [
    {
     "data": {
      "text/plain": [
       "1403"
      ]
     },
     "execution_count": 6,
     "metadata": {},
     "output_type": "execute_result"
    }
   ],
   "source": [
    "indicator_metadata['Indicator ID'].nunique()"
   ]
  },
  {
   "attachments": {},
   "cell_type": "markdown",
   "metadata": {},
   "source": [
    "# Area Ids mapped to descriptive data"
   ]
  },
  {
   "cell_type": "code",
   "execution_count": 7,
   "metadata": {},
   "outputs": [],
   "source": [
    "area_ref = pd.read_json('https://fingertips.phe.org.uk/api/area_types').fillna(value='null')"
   ]
  },
  {
   "cell_type": "code",
   "execution_count": 8,
   "metadata": {},
   "outputs": [
    {
     "data": {
      "text/plain": [
       "Index(['Id', 'Name', 'Short', 'Class', 'Sequence', 'CanBeDisplayedOnMap'], dtype='object')"
      ]
     },
     "execution_count": 8,
     "metadata": {},
     "output_type": "execute_result"
    }
   ],
   "source": [
    "area_ref.columns"
   ]
  },
  {
   "attachments": {},
   "cell_type": "markdown",
   "metadata": {},
   "source": [
    "# Area types available for each indicator with extra area id reference data"
   ]
  },
  {
   "cell_type": "code",
   "execution_count": 9,
   "metadata": {},
   "outputs": [],
   "source": [
    "available_indicator_at_area = pd.merge(left=raw_available_indicator_at_area, right=area_ref,\n",
    "         how='left', left_on='AreaTypeId', right_on='Id',\n",
    "         indicator=True).rename({'_merge': 'area_merge'}, axis=1)\n",
    "\n",
    "available_indicator_at_area = pd.merge(left=available_indicator_at_area, right=indicator_metadata[['Indicator ID', 'Indicator']],\n",
    "                                       left_on='IndicatorId', right_on='Indicator ID', how='inner',\n",
    "                                       indicator=True, )"
   ]
  },
  {
   "cell_type": "code",
   "execution_count": 10,
   "metadata": {},
   "outputs": [
    {
     "data": {
      "text/html": [
       "<div>\n",
       "<style scoped>\n",
       "    .dataframe tbody tr th:only-of-type {\n",
       "        vertical-align: middle;\n",
       "    }\n",
       "\n",
       "    .dataframe tbody tr th {\n",
       "        vertical-align: top;\n",
       "    }\n",
       "\n",
       "    .dataframe thead th {\n",
       "        text-align: right;\n",
       "    }\n",
       "</style>\n",
       "<table border=\"1\" class=\"dataframe\">\n",
       "  <thead>\n",
       "    <tr style=\"text-align: right;\">\n",
       "      <th></th>\n",
       "      <th>IndicatorId</th>\n",
       "      <th>AreaTypeId</th>\n",
       "      <th>Id</th>\n",
       "      <th>Name</th>\n",
       "      <th>Short</th>\n",
       "      <th>Class</th>\n",
       "      <th>Sequence</th>\n",
       "      <th>CanBeDisplayedOnMap</th>\n",
       "      <th>area_merge</th>\n",
       "      <th>Indicator ID</th>\n",
       "      <th>Indicator</th>\n",
       "      <th>_merge</th>\n",
       "    </tr>\n",
       "  </thead>\n",
       "  <tbody>\n",
       "    <tr>\n",
       "      <th>0</th>\n",
       "      <td>108</td>\n",
       "      <td>402</td>\n",
       "      <td>402</td>\n",
       "      <td>Upper tier local authorities (post 4/21)</td>\n",
       "      <td>Counties &amp; UAs (from Apr 2021)</td>\n",
       "      <td>ua-county-composite</td>\n",
       "      <td>2021</td>\n",
       "      <td>True</td>\n",
       "      <td>both</td>\n",
       "      <td>108</td>\n",
       "      <td>Under 75 mortality rate from all causes</td>\n",
       "      <td>both</td>\n",
       "    </tr>\n",
       "    <tr>\n",
       "      <th>1</th>\n",
       "      <td>108</td>\n",
       "      <td>401</td>\n",
       "      <td>401</td>\n",
       "      <td>Lower tier local authorities (post 4/21)</td>\n",
       "      <td>Districts &amp; UAs (from Apr 2021)</td>\n",
       "      <td>ua-la-composite</td>\n",
       "      <td>2021</td>\n",
       "      <td>True</td>\n",
       "      <td>both</td>\n",
       "      <td>108</td>\n",
       "      <td>Under 75 mortality rate from all causes</td>\n",
       "      <td>both</td>\n",
       "    </tr>\n",
       "    <tr>\n",
       "      <th>2</th>\n",
       "      <td>108</td>\n",
       "      <td>102</td>\n",
       "      <td>102</td>\n",
       "      <td>Upper tier local authorities (pre 4/19)</td>\n",
       "      <td>Counties &amp; UAs (pre Apr 2019)</td>\n",
       "      <td>ua-county-composite</td>\n",
       "      <td>2018</td>\n",
       "      <td>True</td>\n",
       "      <td>both</td>\n",
       "      <td>108</td>\n",
       "      <td>Under 75 mortality rate from all causes</td>\n",
       "      <td>both</td>\n",
       "    </tr>\n",
       "    <tr>\n",
       "      <th>3</th>\n",
       "      <td>108</td>\n",
       "      <td>101</td>\n",
       "      <td>101</td>\n",
       "      <td>Lower tier local authorities (pre 4/19)</td>\n",
       "      <td>Districts &amp; UAs (pre Apr 2019)</td>\n",
       "      <td>ua-la-composite</td>\n",
       "      <td>2018</td>\n",
       "      <td>True</td>\n",
       "      <td>both</td>\n",
       "      <td>108</td>\n",
       "      <td>Under 75 mortality rate from all causes</td>\n",
       "      <td>both</td>\n",
       "    </tr>\n",
       "    <tr>\n",
       "      <th>4</th>\n",
       "      <td>108</td>\n",
       "      <td>15</td>\n",
       "      <td>15</td>\n",
       "      <td>England</td>\n",
       "      <td>England</td>\n",
       "      <td>null</td>\n",
       "      <td>0</td>\n",
       "      <td>False</td>\n",
       "      <td>both</td>\n",
       "      <td>108</td>\n",
       "      <td>Under 75 mortality rate from all causes</td>\n",
       "      <td>both</td>\n",
       "    </tr>\n",
       "    <tr>\n",
       "      <th>...</th>\n",
       "      <td>...</td>\n",
       "      <td>...</td>\n",
       "      <td>...</td>\n",
       "      <td>...</td>\n",
       "      <td>...</td>\n",
       "      <td>...</td>\n",
       "      <td>...</td>\n",
       "      <td>...</td>\n",
       "      <td>...</td>\n",
       "      <td>...</td>\n",
       "      <td>...</td>\n",
       "      <td>...</td>\n",
       "    </tr>\n",
       "    <tr>\n",
       "      <th>8059</th>\n",
       "      <td>93966</td>\n",
       "      <td>7</td>\n",
       "      <td>7</td>\n",
       "      <td>General Practice</td>\n",
       "      <td>GPs</td>\n",
       "      <td>null</td>\n",
       "      <td>0</td>\n",
       "      <td>True</td>\n",
       "      <td>both</td>\n",
       "      <td>93966</td>\n",
       "      <td>Number of clinical workforce (FTE) in general ...</td>\n",
       "      <td>both</td>\n",
       "    </tr>\n",
       "    <tr>\n",
       "      <th>8060</th>\n",
       "      <td>93967</td>\n",
       "      <td>402</td>\n",
       "      <td>402</td>\n",
       "      <td>Upper tier local authorities (post 4/21)</td>\n",
       "      <td>Counties &amp; UAs (from Apr 2021)</td>\n",
       "      <td>ua-county-composite</td>\n",
       "      <td>2021</td>\n",
       "      <td>True</td>\n",
       "      <td>both</td>\n",
       "      <td>93967</td>\n",
       "      <td>Mortality rate from dementia and Alzheimer's d...</td>\n",
       "      <td>both</td>\n",
       "    </tr>\n",
       "    <tr>\n",
       "      <th>8061</th>\n",
       "      <td>93967</td>\n",
       "      <td>401</td>\n",
       "      <td>401</td>\n",
       "      <td>Lower tier local authorities (post 4/21)</td>\n",
       "      <td>Districts &amp; UAs (from Apr 2021)</td>\n",
       "      <td>ua-la-composite</td>\n",
       "      <td>2021</td>\n",
       "      <td>True</td>\n",
       "      <td>both</td>\n",
       "      <td>93967</td>\n",
       "      <td>Mortality rate from dementia and Alzheimer's d...</td>\n",
       "      <td>both</td>\n",
       "    </tr>\n",
       "    <tr>\n",
       "      <th>8062</th>\n",
       "      <td>93967</td>\n",
       "      <td>15</td>\n",
       "      <td>15</td>\n",
       "      <td>England</td>\n",
       "      <td>England</td>\n",
       "      <td>null</td>\n",
       "      <td>0</td>\n",
       "      <td>False</td>\n",
       "      <td>both</td>\n",
       "      <td>93967</td>\n",
       "      <td>Mortality rate from dementia and Alzheimer's d...</td>\n",
       "      <td>both</td>\n",
       "    </tr>\n",
       "    <tr>\n",
       "      <th>8063</th>\n",
       "      <td>93967</td>\n",
       "      <td>6</td>\n",
       "      <td>6</td>\n",
       "      <td>Government Office Region</td>\n",
       "      <td>Region</td>\n",
       "      <td>null</td>\n",
       "      <td>0</td>\n",
       "      <td>True</td>\n",
       "      <td>both</td>\n",
       "      <td>93967</td>\n",
       "      <td>Mortality rate from dementia and Alzheimer's d...</td>\n",
       "      <td>both</td>\n",
       "    </tr>\n",
       "  </tbody>\n",
       "</table>\n",
       "<p>8064 rows × 12 columns</p>\n",
       "</div>"
      ],
      "text/plain": [
       "      IndicatorId  AreaTypeId   Id                                      Name  \\\n",
       "0             108         402  402  Upper tier local authorities (post 4/21)   \n",
       "1             108         401  401  Lower tier local authorities (post 4/21)   \n",
       "2             108         102  102   Upper tier local authorities (pre 4/19)   \n",
       "3             108         101  101   Lower tier local authorities (pre 4/19)   \n",
       "4             108          15   15                                   England   \n",
       "...           ...         ...  ...                                       ...   \n",
       "8059        93966           7    7                          General Practice   \n",
       "8060        93967         402  402  Upper tier local authorities (post 4/21)   \n",
       "8061        93967         401  401  Lower tier local authorities (post 4/21)   \n",
       "8062        93967          15   15                                   England   \n",
       "8063        93967           6    6                  Government Office Region   \n",
       "\n",
       "                                Short                Class  Sequence  \\\n",
       "0      Counties & UAs (from Apr 2021)  ua-county-composite      2021   \n",
       "1     Districts & UAs (from Apr 2021)      ua-la-composite      2021   \n",
       "2       Counties & UAs (pre Apr 2019)  ua-county-composite      2018   \n",
       "3      Districts & UAs (pre Apr 2019)      ua-la-composite      2018   \n",
       "4                             England                 null         0   \n",
       "...                               ...                  ...       ...   \n",
       "8059                              GPs                 null         0   \n",
       "8060   Counties & UAs (from Apr 2021)  ua-county-composite      2021   \n",
       "8061  Districts & UAs (from Apr 2021)      ua-la-composite      2021   \n",
       "8062                          England                 null         0   \n",
       "8063                           Region                 null         0   \n",
       "\n",
       "      CanBeDisplayedOnMap area_merge  Indicator ID  \\\n",
       "0                    True       both           108   \n",
       "1                    True       both           108   \n",
       "2                    True       both           108   \n",
       "3                    True       both           108   \n",
       "4                   False       both           108   \n",
       "...                   ...        ...           ...   \n",
       "8059                 True       both         93966   \n",
       "8060                 True       both         93967   \n",
       "8061                 True       both         93967   \n",
       "8062                False       both         93967   \n",
       "8063                 True       both         93967   \n",
       "\n",
       "                                              Indicator _merge  \n",
       "0               Under 75 mortality rate from all causes   both  \n",
       "1               Under 75 mortality rate from all causes   both  \n",
       "2               Under 75 mortality rate from all causes   both  \n",
       "3               Under 75 mortality rate from all causes   both  \n",
       "4               Under 75 mortality rate from all causes   both  \n",
       "...                                                 ...    ...  \n",
       "8059  Number of clinical workforce (FTE) in general ...   both  \n",
       "8060  Mortality rate from dementia and Alzheimer's d...   both  \n",
       "8061  Mortality rate from dementia and Alzheimer's d...   both  \n",
       "8062  Mortality rate from dementia and Alzheimer's d...   both  \n",
       "8063  Mortality rate from dementia and Alzheimer's d...   both  \n",
       "\n",
       "[8064 rows x 12 columns]"
      ]
     },
     "execution_count": 10,
     "metadata": {},
     "output_type": "execute_result"
    }
   ],
   "source": [
    "available_indicator_at_area"
   ]
  },
  {
   "cell_type": "code",
   "execution_count": 11,
   "metadata": {},
   "outputs": [
    {
     "data": {
      "text/plain": [
       "['both']\n",
       "Categories (3, object): ['left_only', 'right_only', 'both']"
      ]
     },
     "execution_count": 11,
     "metadata": {},
     "output_type": "execute_result"
    }
   ],
   "source": [
    "available_indicator_at_area['_merge'].unique()"
   ]
  },
  {
   "cell_type": "code",
   "execution_count": 12,
   "metadata": {},
   "outputs": [
    {
     "data": {
      "text/html": [
       "<div>\n",
       "<style scoped>\n",
       "    .dataframe tbody tr th:only-of-type {\n",
       "        vertical-align: middle;\n",
       "    }\n",
       "\n",
       "    .dataframe tbody tr th {\n",
       "        vertical-align: top;\n",
       "    }\n",
       "\n",
       "    .dataframe thead th {\n",
       "        text-align: right;\n",
       "    }\n",
       "</style>\n",
       "<table border=\"1\" class=\"dataframe\">\n",
       "  <thead>\n",
       "    <tr style=\"text-align: right;\">\n",
       "      <th></th>\n",
       "      <th>IndicatorId</th>\n",
       "      <th>AreaTypeId</th>\n",
       "      <th>Id</th>\n",
       "      <th>Name</th>\n",
       "      <th>Short</th>\n",
       "      <th>Class</th>\n",
       "      <th>Sequence</th>\n",
       "      <th>CanBeDisplayedOnMap</th>\n",
       "      <th>area_merge</th>\n",
       "      <th>Indicator ID</th>\n",
       "      <th>Indicator</th>\n",
       "      <th>_merge</th>\n",
       "    </tr>\n",
       "  </thead>\n",
       "  <tbody>\n",
       "  </tbody>\n",
       "</table>\n",
       "</div>"
      ],
      "text/plain": [
       "Empty DataFrame\n",
       "Columns: [IndicatorId, AreaTypeId, Id, Name, Short, Class, Sequence, CanBeDisplayedOnMap, area_merge, Indicator ID, Indicator, _merge]\n",
       "Index: []"
      ]
     },
     "execution_count": 12,
     "metadata": {},
     "output_type": "execute_result"
    }
   ],
   "source": [
    "available_indicator_at_area[available_indicator_at_area['_merge']=='left_only']"
   ]
  },
  {
   "cell_type": "code",
   "execution_count": 13,
   "metadata": {},
   "outputs": [
    {
     "data": {
      "text/plain": [
       "Index(['IndicatorId', 'AreaTypeId', 'Id', 'Name', 'Short', 'Class', 'Sequence',\n",
       "       'CanBeDisplayedOnMap', 'area_merge', 'Indicator ID', 'Indicator',\n",
       "       '_merge'],\n",
       "      dtype='object')"
      ]
     },
     "execution_count": 13,
     "metadata": {},
     "output_type": "execute_result"
    }
   ],
   "source": [
    "available_indicator_at_area.columns"
   ]
  },
  {
   "cell_type": "code",
   "execution_count": 14,
   "metadata": {},
   "outputs": [],
   "source": [
    "# available_indicator_at_area.to_csv('available_indicator_at_area.csv')"
   ]
  },
  {
   "cell_type": "code",
   "execution_count": 15,
   "metadata": {},
   "outputs": [],
   "source": [
    "indicators_per_area = (pd.DataFrame(available_indicator_at_area.groupby(['Name', 'Short', 'Class', 'Sequence','CanBeDisplayedOnMap'])['_merge'].count())\n",
    "                       .reset_index()\n",
    "                       .sort_values(['Class', 'Sequence'], ascending=False)\n",
    "                       .rename({'_merge': 'indicator_count'}, axis=1)\n",
    "                       )"
   ]
  },
  {
   "cell_type": "code",
   "execution_count": 16,
   "metadata": {},
   "outputs": [],
   "source": [
    "# if __name__ == \"__main__\":\n",
    "#     indicators_per_area.to_csv('indicators_per_area.csv')"
   ]
  },
  {
   "cell_type": "code",
   "execution_count": 17,
   "metadata": {},
   "outputs": [],
   "source": [
    "indicator_at_area_pivot = available_indicator_at_area[['Indicator', 'Name', 'Id']].pivot_table(index='Indicator', columns='Name', aggfunc='count')"
   ]
  },
  {
   "cell_type": "code",
   "execution_count": 18,
   "metadata": {},
   "outputs": [],
   "source": [
    "# indicator_at_area_pivot.to_csv('indicator_at_area_pivot.csv')"
   ]
  },
  {
   "attachments": {},
   "cell_type": "markdown",
   "metadata": {},
   "source": [
    "# Retrieve indicator data"
   ]
  },
  {
   "cell_type": "code",
   "execution_count": 19,
   "metadata": {},
   "outputs": [],
   "source": [
    "# # metadata_areas = ftp.metadata.get_all_areas(is_test=False)\n",
    "# # metadata_value_notes = ftp.metadata.get_all_value_notes(is_test=False)\n",
    "# # metadata_profiles = ftp.metadata.get_all_profiles(is_test=False)\n",
    "# # metadata_domains = ftp.metadata.get_domains_in_profile(18)\n",
    "# metadata_all_indicators = ftp.metadata.get_metadata_for_all_indicators_from_csv(is_test=False)\n",
    "# metadata_all_indicator_ids = metadata_all_indicators['Indicator ID'].tolist()"
   ]
  },
  {
   "cell_type": "code",
   "execution_count": 20,
   "metadata": {},
   "outputs": [],
   "source": [
    "# metadata_all = pd.read_csv('https://fingertips.phe.org.uk/api/indicator_metadata/all?include_definition=yes&include_system_content=yes')"
   ]
  },
  {
   "cell_type": "code",
   "execution_count": 21,
   "metadata": {},
   "outputs": [],
   "source": [
    "# replace_comma = '%2C'\n",
    "# ids_as_str = replace_comma.join([str(i) for i in metadata_all_indicator_ids])"
   ]
  },
  {
   "cell_type": "code",
   "execution_count": 22,
   "metadata": {},
   "outputs": [],
   "source": [
    "# data = ftp.retrieve_data.get_all_data_for_indicators(indicators=[108,\n",
    "#  113,\n",
    "#  114,\n",
    "#  200,\n",
    "#  212],\n",
    "#                                                                area_type_id=7,\n",
    "#                                                                parent_area_type_id=15,\n",
    "#                                                                filter_by_area_codes=None,\n",
    "#                                                                is_test=False)"
   ]
  },
  {
   "cell_type": "code",
   "execution_count": 23,
   "metadata": {},
   "outputs": [],
   "source": [
    "# ids_as_str"
   ]
  },
  {
   "cell_type": "code",
   "execution_count": 24,
   "metadata": {},
   "outputs": [],
   "source": [
    "# data = ftp.retrieve_data.get_data_by_indicator_ids(indicator_ids=ids_as_str, # [Maximum 100]\n",
    "#                                                    area_type_id=7,\n",
    "#                                                    parent_area_type_id=15,\n",
    "#                                                    profile_id=None,\n",
    "#                                                    include_sortable_time_periods=None,\n",
    "#                                                    is_test=False)"
   ]
  },
  {
   "cell_type": "code",
   "execution_count": null,
   "metadata": {},
   "outputs": [],
   "source": []
  }
 ],
 "metadata": {
  "kernelspec": {
   "display_name": ".venv",
   "language": "python",
   "name": "python3"
  },
  "language_info": {
   "codemirror_mode": {
    "name": "ipython",
    "version": 3
   },
   "file_extension": ".py",
   "mimetype": "text/x-python",
   "name": "python",
   "nbconvert_exporter": "python",
   "pygments_lexer": "ipython3",
   "version": "3.11.1"
  },
  "orig_nbformat": 4,
  "vscode": {
   "interpreter": {
    "hash": "7df4ba93a7eed49b4ce3aa561040df82f39fc983c3907e7a9f2cb3d5a05b8647"
   }
  }
 },
 "nbformat": 4,
 "nbformat_minor": 2
}
