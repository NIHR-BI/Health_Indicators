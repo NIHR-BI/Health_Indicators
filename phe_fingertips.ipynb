{
 "cells": [
  {
   "cell_type": "code",
   "execution_count": 69,
   "metadata": {},
   "outputs": [],
   "source": [
    "import fingertips_py as ftp\n",
    "from json import loads\n",
    "import pandas as pd\n",
    "from urllib.request import urlopen"
   ]
  },
  {
   "cell_type": "code",
   "execution_count": 70,
   "metadata": {},
   "outputs": [],
   "source": [
    "pd.set_option('display.max_columns', None)\n",
    "pd.set_option('display.max_rows', None)"
   ]
  },
  {
   "attachments": {},
   "cell_type": "markdown",
   "metadata": {},
   "source": [
    "- A unique data set is ['Indicator Name', 'Indicator ID', 'Sex', 'Age', 'Time period', 'AreaTypeId]\n",
    "\n",
    "- Need to create template table of indictor + area codes so that shape shows in QS\n",
    "\n",
    "- The indicator name needs to be name + id"
   ]
  },
  {
   "attachments": {},
   "cell_type": "markdown",
   "metadata": {},
   "source": [
    "I need to know for each indicator, which area types and year conifgurations exist so that I know which ones I can pick from and minimise computation for data extraction. - Need to see if I can get a list of this\n",
    "\n",
    "The alternative would be to create a hierarchy of preference and iterate through the data for each hierachy level. If an indicator is found within a level, then it will no longer be queried for further levels. This might still be computationally expensive but needs to be investigated further \n",
    "\n",
    "- time period\n",
    "- sex\n",
    "- age"
   ]
  },
  {
   "attachments": {},
   "cell_type": "markdown",
   "metadata": {},
   "source": [
    "# time period, sex and age available for each indicator"
   ]
  },
  {
   "attachments": {},
   "cell_type": "markdown",
   "metadata": {},
   "source": [
    "# Area types available for each indicator"
   ]
  },
  {
   "cell_type": "code",
   "execution_count": 71,
   "metadata": {},
   "outputs": [],
   "source": [
    "raw_available_indicator_at_area = pd.read_json('https://fingertips.phe.org.uk/api/available_data').fillna(value='null')"
   ]
  },
  {
   "attachments": {},
   "cell_type": "markdown",
   "metadata": {},
   "source": [
    "# Indicator metadata\n",
    "To get the name of each indicator"
   ]
  },
  {
   "cell_type": "code",
   "execution_count": 72,
   "metadata": {},
   "outputs": [],
   "source": [
    "indicator_metadata = pd.read_csv('https://fingertips.phe.org.uk/api/indicator_metadata/csv/all')\n",
    "# indicator_metadata.columns = indicator_metadata.columns.str.lower().str.replace(' ', '_')\n"
   ]
  },
  {
   "attachments": {},
   "cell_type": "markdown",
   "metadata": {},
   "source": [
    "# Indicator sex, age and timeperiod available\n",
    "\n",
    "This doesn't actually bring through all of those available in the data. It brings through the settings for the website and what is shown on the website"
   ]
  },
  {
   "cell_type": "code",
   "execution_count": 73,
   "metadata": {},
   "outputs": [],
   "source": [
    "def df_nested_json(url): \n",
    "    with urlopen(url) as response:\n",
    "        data_str = response.read().decode(\"utf-8\")\n",
    "        data_json = loads(data_str[1:-1])\n",
    "    return pd.json_normalize(data_json)"
   ]
  },
  {
   "cell_type": "code",
   "execution_count": 74,
   "metadata": {},
   "outputs": [],
   "source": [
    "data = df_nested_json('https://fingertips.phe.org.uk/api/grouproot_summaries/by_indicator_id?indicator_ids=90813')"
   ]
  },
  {
   "cell_type": "code",
   "execution_count": 75,
   "metadata": {},
   "outputs": [
    {
     "data": {
      "text/html": [
       "<div>\n",
       "<style scoped>\n",
       "    .dataframe tbody tr th:only-of-type {\n",
       "        vertical-align: middle;\n",
       "    }\n",
       "\n",
       "    .dataframe tbody tr th {\n",
       "        vertical-align: top;\n",
       "    }\n",
       "\n",
       "    .dataframe thead th {\n",
       "        text-align: right;\n",
       "    }\n",
       "</style>\n",
       "<table border=\"1\" class=\"dataframe\">\n",
       "  <thead>\n",
       "    <tr style=\"text-align: right;\">\n",
       "      <th></th>\n",
       "      <th>IndicatorName</th>\n",
       "      <th>IID</th>\n",
       "      <th>GroupId</th>\n",
       "      <th>StateSex</th>\n",
       "      <th>StateAge</th>\n",
       "      <th>StateYearRange</th>\n",
       "      <th>TimePeriod</th>\n",
       "      <th>YearRange</th>\n",
       "      <th>Sex.Id</th>\n",
       "      <th>Sex.Name</th>\n",
       "      <th>Age.Id</th>\n",
       "      <th>Age.Name</th>\n",
       "      <th>Age.Sequence</th>\n",
       "      <th>Category.Id</th>\n",
       "      <th>Category.CategoryTypeId</th>\n",
       "      <th>Category.Name</th>\n",
       "      <th>Category.ShortName</th>\n",
       "      <th>DateChanges.HasDataChangedRecently</th>\n",
       "      <th>DateChanges.DateOfLastChange</th>\n",
       "      <th>DataQualityNote.Id</th>\n",
       "      <th>DataQualityNote.Text</th>\n",
       "      <th>DataQualityNote.Comment</th>\n",
       "      <th>Unit.Id</th>\n",
       "      <th>Unit.Value</th>\n",
       "      <th>Unit.Label</th>\n",
       "      <th>ValueType.Id</th>\n",
       "      <th>ValueType.Name</th>\n",
       "    </tr>\n",
       "  </thead>\n",
       "  <tbody>\n",
       "    <tr>\n",
       "      <th>0</th>\n",
       "      <td>Hospital admissions as a result of self-harm (...</td>\n",
       "      <td>90813</td>\n",
       "      <td>1938132923</td>\n",
       "      <td>False</td>\n",
       "      <td>False</td>\n",
       "      <td>False</td>\n",
       "      <td>2021/22</td>\n",
       "      <td>1</td>\n",
       "      <td>4</td>\n",
       "      <td>Persons</td>\n",
       "      <td>305</td>\n",
       "      <td>10-24 yrs</td>\n",
       "      <td>17.0</td>\n",
       "      <td>-1</td>\n",
       "      <td>-1</td>\n",
       "      <td>Undefined</td>\n",
       "      <td>Undefined</td>\n",
       "      <td>False</td>\n",
       "      <td>07 Mar 2023</td>\n",
       "      <td>0</td>\n",
       "      <td>None</td>\n",
       "      <td>None</td>\n",
       "      <td>3</td>\n",
       "      <td>100000.0</td>\n",
       "      <td>per 100,000</td>\n",
       "      <td>1</td>\n",
       "      <td>Directly standardised rate</td>\n",
       "    </tr>\n",
       "  </tbody>\n",
       "</table>\n",
       "</div>"
      ],
      "text/plain": [
       "                                       IndicatorName    IID     GroupId  \\\n",
       "0  Hospital admissions as a result of self-harm (...  90813  1938132923   \n",
       "\n",
       "   StateSex  StateAge  StateYearRange TimePeriod  YearRange  Sex.Id Sex.Name  \\\n",
       "0     False     False           False    2021/22          1       4  Persons   \n",
       "\n",
       "   Age.Id   Age.Name  Age.Sequence  Category.Id  Category.CategoryTypeId  \\\n",
       "0     305  10-24 yrs          17.0           -1                       -1   \n",
       "\n",
       "  Category.Name Category.ShortName  DateChanges.HasDataChangedRecently  \\\n",
       "0     Undefined          Undefined                               False   \n",
       "\n",
       "  DateChanges.DateOfLastChange  DataQualityNote.Id DataQualityNote.Text  \\\n",
       "0                  07 Mar 2023                   0                 None   \n",
       "\n",
       "  DataQualityNote.Comment  Unit.Id  Unit.Value   Unit.Label  ValueType.Id  \\\n",
       "0                    None        3    100000.0  per 100,000             1   \n",
       "\n",
       "               ValueType.Name  \n",
       "0  Directly standardised rate  "
      ]
     },
     "execution_count": 75,
     "metadata": {},
     "output_type": "execute_result"
    }
   ],
   "source": [
    "data"
   ]
  },
  {
   "attachments": {},
   "cell_type": "markdown",
   "metadata": {},
   "source": [
    "# Area Ids metadata\n",
    "To get the name of the area"
   ]
  },
  {
   "cell_type": "code",
   "execution_count": 76,
   "metadata": {},
   "outputs": [],
   "source": [
    "area_ref = pd.read_json('https://fingertips.phe.org.uk/api/area_types').fillna(value='null')"
   ]
  },
  {
   "attachments": {},
   "cell_type": "markdown",
   "metadata": {},
   "source": [
    "## hierarchy"
   ]
  },
  {
   "cell_type": "code",
   "execution_count": 77,
   "metadata": {},
   "outputs": [],
   "source": [
    "area_hierarchy = pd.read_csv('https://docs.google.com/spreadsheets/u/0/d/15RhWWsHPPMLWoxR5sJcpK-vraRkidRY8jsAb_Y_5GwI/gviz/tq?tqx=out:csv&tq&gid=963757659&headers=1')\n",
    "area_hierarchy = area_hierarchy[['AreaTypeId', 'map_position', 'hierarchy']].dropna()"
   ]
  },
  {
   "attachments": {},
   "cell_type": "markdown",
   "metadata": {},
   "source": [
    "# Area types available for each indicator with extra metadata"
   ]
  },
  {
   "attachments": {},
   "cell_type": "markdown",
   "metadata": {},
   "source": [
    "## prepare full table"
   ]
  },
  {
   "cell_type": "code",
   "execution_count": 78,
   "metadata": {},
   "outputs": [],
   "source": [
    "available_indicator_at_area = pd.merge(left=raw_available_indicator_at_area, right=area_ref,\n",
    "         how='left', left_on='AreaTypeId', right_on='Id',\n",
    "         indicator=True).rename({'_merge': 'area_merge'}, axis=1)\n",
    "\n",
    "available_indicator_at_area = pd.merge(left=available_indicator_at_area, right=indicator_metadata.loc[:,['Indicator ID', 'Indicator']],\n",
    "                                       left_on='IndicatorId', right_on='Indicator ID', how='inner',\n",
    "                                       indicator=True, )"
   ]
  },
  {
   "cell_type": "markdown",
   "metadata": {},
   "source": [
    "## use hierarchy to choose indicators and areas"
   ]
  },
  {
   "cell_type": "code",
   "execution_count": 79,
   "metadata": {},
   "outputs": [],
   "source": [
    "full_area_indicator_hierarchy = pd.merge(left=area_hierarchy, right=raw_available_indicator_at_area,\n",
    "         left_on='AreaTypeId', right_on='AreaTypeId',\n",
    "         how='inner')"
   ]
  },
  {
   "cell_type": "code",
   "execution_count": 80,
   "metadata": {},
   "outputs": [],
   "source": [
    "left = full_area_indicator_hierarchy[full_area_indicator_hierarchy['map_position']=='left']\n",
    "left['rank'] = left.groupby('IndicatorId')['hierarchy'].rank(method='dense')\n",
    "keep_left = left[left['rank']==1]\n"
   ]
  },
  {
   "cell_type": "code",
   "execution_count": 81,
   "metadata": {},
   "outputs": [
    {
     "data": {
      "text/plain": [
       "array([1.])"
      ]
     },
     "execution_count": 81,
     "metadata": {},
     "output_type": "execute_result"
    }
   ],
   "source": [
    "keep_left['rank'].unique()"
   ]
  },
  {
   "cell_type": "code",
   "execution_count": 82,
   "metadata": {},
   "outputs": [],
   "source": [
    "def find_first_hierarchy(data, map_position):\n",
    "    data = data[data['map_position']==map_position].loc[:, ['IndicatorId','hierarchy','AreaTypeId', 'map_position']]\n",
    "    data['rank'] = data.groupby('IndicatorId')['hierarchy'].rank(method='dense')\n",
    "    return data[data['rank']==1].drop('rank', axis=1)"
   ]
  },
  {
   "cell_type": "code",
   "execution_count": 83,
   "metadata": {},
   "outputs": [],
   "source": [
    "get_indicator_area = pd.concat([find_first_hierarchy(full_area_indicator_hierarchy, 'left'),\n",
    "                                find_first_hierarchy(full_area_indicator_hierarchy, 'middle'),\n",
    "                                find_first_hierarchy(full_area_indicator_hierarchy, 'right')]\n",
    ")"
   ]
  },
  {
   "attachments": {},
   "cell_type": "markdown",
   "metadata": {},
   "source": [
    "# Retrieve indicator data"
   ]
  },
  {
   "attachments": {},
   "cell_type": "markdown",
   "metadata": {},
   "source": [
    "## filter by those that only have all 3 as a test case"
   ]
  },
  {
   "cell_type": "code",
   "execution_count": 84,
   "metadata": {},
   "outputs": [],
   "source": [
    "number_of_maps_returned = get_indicator_area.groupby('IndicatorId')['map_position'].count()\n",
    "ind_ids_keep_3_maps = number_of_maps_returned[number_of_maps_returned==3].index.values"
   ]
  },
  {
   "cell_type": "code",
   "execution_count": 85,
   "metadata": {},
   "outputs": [],
   "source": [
    "get_ind_area_combos = get_indicator_area[get_indicator_area['IndicatorId'].isin(ind_ids_keep_3_maps)]"
   ]
  },
  {
   "cell_type": "markdown",
   "metadata": {},
   "source": [
    "## get data"
   ]
  },
  {
   "cell_type": "code",
   "execution_count": 86,
   "metadata": {},
   "outputs": [],
   "source": [
    "def return_ind_list_for_area_type(data, AreaTypeId):\n",
    "    return data[data['AreaTypeId']==AreaTypeId]['IndicatorId'].values"
   ]
  },
  {
   "cell_type": "code",
   "execution_count": 87,
   "metadata": {},
   "outputs": [
    {
     "data": {
      "text/plain": [
       "array([], dtype=int64)"
      ]
     },
     "execution_count": 87,
     "metadata": {},
     "output_type": "execute_result"
    }
   ],
   "source": [
    "return_ind_list_for_area_type(get_ind_area_combos, 221)"
   ]
  },
  {
   "cell_type": "code",
   "execution_count": 88,
   "metadata": {},
   "outputs": [],
   "source": [
    "def get_data(data, area_type_id):\n",
    "    indicator_list = return_ind_list_for_area_type(data, area_type_id)\n",
    "    \n",
    "    replace_comma = '%2C'\n",
    "    ids_as_str = replace_comma.join([str(i) for i in indicator_list])\n",
    "    print(ids_as_str)\n",
    "    data = ftp.retrieve_data.get_data_by_indicator_ids(indicator_ids=ids_as_str, # [Maximum 100]\n",
    "                                                    area_type_id=area_type_id,\n",
    "                                                    # parent_area_type_id=15,\n",
    "                                                    # profile_id=None,\n",
    "                                                    include_sortable_time_periods=True,\n",
    "                                                    is_test=False)\n",
    "    \n",
    "    return data\n",
    "    \n",
    "    # data.to_csv(str(area_type_id)+'.csv')"
   ]
  },
  {
   "cell_type": "code",
   "execution_count": 89,
   "metadata": {},
   "outputs": [],
   "source": [
    "# for area_id in get_ind_area_combos['AreaTypeId'].unique():\n",
    "#     get_data(get_ind_area_combos, area_id)"
   ]
  },
  {
   "cell_type": "code",
   "execution_count": null,
   "metadata": {},
   "outputs": [],
   "source": []
  },
  {
   "attachments": {},
   "cell_type": "markdown",
   "metadata": {},
   "source": [
    "# Analysis of indicator ids and names\n",
    "\n",
    "Some indicator ids have the same name - do they have the same metadata?\n",
    "\n",
    "No, they have different metadata so a unique indicator would be (indicator id + name)"
   ]
  },
  {
   "cell_type": "code",
   "execution_count": 90,
   "metadata": {},
   "outputs": [],
   "source": [
    "indicator_ids_per_name = pd.DataFrame(indicator_metadata.groupby('Indicator')['Indicator ID'].nunique()).reset_index()\n"
   ]
  },
  {
   "cell_type": "code",
   "execution_count": 91,
   "metadata": {},
   "outputs": [],
   "source": [
    "indicators_with_same_name = indicator_ids_per_name[indicator_ids_per_name['Indicator ID']>1]"
   ]
  },
  {
   "cell_type": "code",
   "execution_count": 92,
   "metadata": {},
   "outputs": [
    {
     "data": {
      "text/html": [
       "<div>\n",
       "<style scoped>\n",
       "    .dataframe tbody tr th:only-of-type {\n",
       "        vertical-align: middle;\n",
       "    }\n",
       "\n",
       "    .dataframe tbody tr th {\n",
       "        vertical-align: top;\n",
       "    }\n",
       "\n",
       "    .dataframe thead th {\n",
       "        text-align: right;\n",
       "    }\n",
       "</style>\n",
       "<table border=\"1\" class=\"dataframe\">\n",
       "  <thead>\n",
       "    <tr style=\"text-align: right;\">\n",
       "      <th></th>\n",
       "      <th>Indicator</th>\n",
       "      <th>Indicator ID</th>\n",
       "    </tr>\n",
       "  </thead>\n",
       "  <tbody>\n",
       "    <tr>\n",
       "      <th>69</th>\n",
       "      <td>Admission episodes for alcohol-specific condit...</td>\n",
       "      <td>2</td>\n",
       "    </tr>\n",
       "    <tr>\n",
       "      <th>96</th>\n",
       "      <td>Admissions for gastroenteritis - CCG</td>\n",
       "      <td>2</td>\n",
       "    </tr>\n",
       "    <tr>\n",
       "      <th>107</th>\n",
       "      <td>Adults in contact with secondary mental health...</td>\n",
       "      <td>2</td>\n",
       "    </tr>\n",
       "    <tr>\n",
       "      <th>247</th>\n",
       "      <td>Chlamydia detection rate per 100,000 aged 15 t...</td>\n",
       "      <td>2</td>\n",
       "    </tr>\n",
       "    <tr>\n",
       "      <th>402</th>\n",
       "      <td>Estimated prevalence of CHD (55-79 yrs)</td>\n",
       "      <td>2</td>\n",
       "    </tr>\n",
       "  </tbody>\n",
       "</table>\n",
       "</div>"
      ],
      "text/plain": [
       "                                             Indicator  Indicator ID\n",
       "69   Admission episodes for alcohol-specific condit...             2\n",
       "96                Admissions for gastroenteritis - CCG             2\n",
       "107  Adults in contact with secondary mental health...             2\n",
       "247  Chlamydia detection rate per 100,000 aged 15 t...             2\n",
       "402            Estimated prevalence of CHD (55-79 yrs)             2"
      ]
     },
     "execution_count": 92,
     "metadata": {},
     "output_type": "execute_result"
    }
   ],
   "source": [
    "indicators_with_same_name.head()"
   ]
  },
  {
   "cell_type": "code",
   "execution_count": 93,
   "metadata": {},
   "outputs": [
    {
     "data": {
      "text/html": [
       "<div>\n",
       "<style scoped>\n",
       "    .dataframe tbody tr th:only-of-type {\n",
       "        vertical-align: middle;\n",
       "    }\n",
       "\n",
       "    .dataframe tbody tr th {\n",
       "        vertical-align: top;\n",
       "    }\n",
       "\n",
       "    .dataframe thead th {\n",
       "        text-align: right;\n",
       "    }\n",
       "</style>\n",
       "<table border=\"1\" class=\"dataframe\">\n",
       "  <thead>\n",
       "    <tr style=\"text-align: right;\">\n",
       "      <th></th>\n",
       "      <th>Indicator ID</th>\n",
       "      <th>Indicator</th>\n",
       "      <th>Definition</th>\n",
       "      <th>Rationale</th>\n",
       "      <th>Data source</th>\n",
       "      <th>Indicator source</th>\n",
       "      <th>Methodology</th>\n",
       "      <th>Standard population/values</th>\n",
       "      <th>Confidence interval details</th>\n",
       "      <th>Source of numerator</th>\n",
       "      <th>Definition of numerator</th>\n",
       "      <th>Source of denominator</th>\n",
       "      <th>Definition of denominator</th>\n",
       "      <th>Disclosure control</th>\n",
       "      <th>Caveats</th>\n",
       "      <th>Copyright</th>\n",
       "      <th>Data re-use</th>\n",
       "      <th>Links</th>\n",
       "      <th>Indicator number</th>\n",
       "      <th>Notes</th>\n",
       "      <th>Frequency</th>\n",
       "      <th>Rounding</th>\n",
       "      <th>Indicator Content</th>\n",
       "      <th>Specific rationale</th>\n",
       "      <th>Impact of COVID-19</th>\n",
       "      <th>Unit</th>\n",
       "      <th>Value type</th>\n",
       "      <th>Year type</th>\n",
       "      <th>Polarity</th>\n",
       "      <th>Date updated</th>\n",
       "    </tr>\n",
       "  </thead>\n",
       "  <tbody>\n",
       "    <tr>\n",
       "      <th>816</th>\n",
       "      <td>92904</td>\n",
       "      <td>Admission episodes for alcohol-specific condit...</td>\n",
       "      <td>Admissions to hospital for under 18s where the...</td>\n",
       "      <td>Alcohol consumption is a contributing factor t...</td>\n",
       "      <td>Calculated by OHID: Population Health Analysis...</td>\n",
       "      <td>NaN</td>\n",
       "      <td>Crude rates were calculated per 100,000.</td>\n",
       "      <td>NaN</td>\n",
       "      <td>NaN</td>\n",
       "      <td>Calculated by OHID: Population Health Analysis...</td>\n",
       "      <td>The number of hospital admission episodesfor u...</td>\n",
       "      <td>Office for National Statistics (ONS).</td>\n",
       "      <td>ONS mid-year population estimates for 0-17 yea...</td>\n",
       "      <td>Primary suppression if 5 or less (but not incl...</td>\n",
       "      <td>Hospital admission data can be coded different...</td>\n",
       "      <td>Hospital Episode Statistics (HES) Copyright © ...</td>\n",
       "      <td>NaN</td>\n",
       "      <td>Wider Impact of COVID tool: https://eur03.safe...</td>\n",
       "      <td>13</td>\n",
       "      <td>This indicator is based on admission episodes ...</td>\n",
       "      <td>Annual.</td>\n",
       "      <td>All rates rounded to 2 decimal places.</td>\n",
       "      <td>NaN</td>\n",
       "      <td>NaN</td>\n",
       "      <td>The COVID-19 pandemic had a large impact on ho...</td>\n",
       "      <td>per 100,000</td>\n",
       "      <td>Crude rate</td>\n",
       "      <td>Financial</td>\n",
       "      <td>RAG - Low is good</td>\n",
       "      <td>27/01/2022</td>\n",
       "    </tr>\n",
       "    <tr>\n",
       "      <th>1166</th>\n",
       "      <td>93492</td>\n",
       "      <td>Admission episodes for alcohol-specific condit...</td>\n",
       "      <td>Admissions to hospital for under 18s where the...</td>\n",
       "      <td>Alcohol consumption is a contributing factor t...</td>\n",
       "      <td>Calculated by OHID using data from NHS Digital...</td>\n",
       "      <td>NaN</td>\n",
       "      <td>Admissions to hospital where the primary diagn...</td>\n",
       "      <td>NaN</td>\n",
       "      <td>NaN</td>\n",
       "      <td>Calculated by OHID using datausing data fromNH...</td>\n",
       "      <td>The number of hospital admission episodesfor u...</td>\n",
       "      <td>Hospital Episode Statistics (HES)</td>\n",
       "      <td>CCG populations are aggregated from NHS Digita...</td>\n",
       "      <td>All sub-national counts are rounded to the nea...</td>\n",
       "      <td>Hospital admission data can be coded different...</td>\n",
       "      <td>Copyright © NHS Digital. All rights reserved.\\...</td>\n",
       "      <td>NaN</td>\n",
       "      <td>https://analytics.phe.gov.uk/apps/covid-19-ind...</td>\n",
       "      <td>NaN</td>\n",
       "      <td>This indicator is based on admission episodes ...</td>\n",
       "      <td>Annual.</td>\n",
       "      <td>All rates rounded to 2 decimal places.</td>\n",
       "      <td>NaN</td>\n",
       "      <td>NaN</td>\n",
       "      <td>The COVID-19 pandemic had a large impact on ho...</td>\n",
       "      <td>per 100,000</td>\n",
       "      <td>Crude rate</td>\n",
       "      <td>Financial</td>\n",
       "      <td>RAG - Low is good</td>\n",
       "      <td>16/02/2022</td>\n",
       "    </tr>\n",
       "  </tbody>\n",
       "</table>\n",
       "</div>"
      ],
      "text/plain": [
       "      Indicator ID                                          Indicator  \\\n",
       "816          92904  Admission episodes for alcohol-specific condit...   \n",
       "1166         93492  Admission episodes for alcohol-specific condit...   \n",
       "\n",
       "                                             Definition  \\\n",
       "816   Admissions to hospital for under 18s where the...   \n",
       "1166  Admissions to hospital for under 18s where the...   \n",
       "\n",
       "                                              Rationale  \\\n",
       "816   Alcohol consumption is a contributing factor t...   \n",
       "1166  Alcohol consumption is a contributing factor t...   \n",
       "\n",
       "                                            Data source Indicator source  \\\n",
       "816   Calculated by OHID: Population Health Analysis...              NaN   \n",
       "1166  Calculated by OHID using data from NHS Digital...              NaN   \n",
       "\n",
       "                                            Methodology  \\\n",
       "816            Crude rates were calculated per 100,000.   \n",
       "1166  Admissions to hospital where the primary diagn...   \n",
       "\n",
       "     Standard population/values Confidence interval details  \\\n",
       "816                         NaN                         NaN   \n",
       "1166                        NaN                         NaN   \n",
       "\n",
       "                                    Source of numerator  \\\n",
       "816   Calculated by OHID: Population Health Analysis...   \n",
       "1166  Calculated by OHID using datausing data fromNH...   \n",
       "\n",
       "                                Definition of numerator  \\\n",
       "816   The number of hospital admission episodesfor u...   \n",
       "1166  The number of hospital admission episodesfor u...   \n",
       "\n",
       "                      Source of denominator  \\\n",
       "816   Office for National Statistics (ONS).   \n",
       "1166      Hospital Episode Statistics (HES)   \n",
       "\n",
       "                              Definition of denominator  \\\n",
       "816   ONS mid-year population estimates for 0-17 yea...   \n",
       "1166  CCG populations are aggregated from NHS Digita...   \n",
       "\n",
       "                                     Disclosure control  \\\n",
       "816   Primary suppression if 5 or less (but not incl...   \n",
       "1166  All sub-national counts are rounded to the nea...   \n",
       "\n",
       "                                                Caveats  \\\n",
       "816   Hospital admission data can be coded different...   \n",
       "1166  Hospital admission data can be coded different...   \n",
       "\n",
       "                                              Copyright Data re-use  \\\n",
       "816   Hospital Episode Statistics (HES) Copyright © ...         NaN   \n",
       "1166  Copyright © NHS Digital. All rights reserved.\\...         NaN   \n",
       "\n",
       "                                                  Links Indicator number  \\\n",
       "816   Wider Impact of COVID tool: https://eur03.safe...               13   \n",
       "1166  https://analytics.phe.gov.uk/apps/covid-19-ind...              NaN   \n",
       "\n",
       "                                                  Notes Frequency  \\\n",
       "816   This indicator is based on admission episodes ...   Annual.   \n",
       "1166  This indicator is based on admission episodes ...   Annual.   \n",
       "\n",
       "                                    Rounding Indicator Content  \\\n",
       "816   All rates rounded to 2 decimal places.               NaN   \n",
       "1166  All rates rounded to 2 decimal places.               NaN   \n",
       "\n",
       "     Specific rationale                                 Impact of COVID-19  \\\n",
       "816                 NaN  The COVID-19 pandemic had a large impact on ho...   \n",
       "1166                NaN  The COVID-19 pandemic had a large impact on ho...   \n",
       "\n",
       "             Unit  Value type  Year type           Polarity Date updated  \n",
       "816   per 100,000  Crude rate  Financial  RAG - Low is good   27/01/2022  \n",
       "1166  per 100,000  Crude rate  Financial  RAG - Low is good   16/02/2022  "
      ]
     },
     "execution_count": 93,
     "metadata": {},
     "output_type": "execute_result"
    }
   ],
   "source": [
    "indicator_name = indicators_with_same_name['Indicator'].iloc[0]\n",
    "indicator_metadata[indicator_metadata['Indicator']==indicator_name]"
   ]
  }
 ],
 "metadata": {
  "kernelspec": {
   "display_name": ".venv",
   "language": "python",
   "name": "python3"
  },
  "language_info": {
   "codemirror_mode": {
    "name": "ipython",
    "version": 3
   },
   "file_extension": ".py",
   "mimetype": "text/x-python",
   "name": "python",
   "nbconvert_exporter": "python",
   "pygments_lexer": "ipython3",
   "version": "3.11.1"
  },
  "orig_nbformat": 4,
  "vscode": {
   "interpreter": {
    "hash": "7df4ba93a7eed49b4ce3aa561040df82f39fc983c3907e7a9f2cb3d5a05b8647"
   }
  }
 },
 "nbformat": 4,
 "nbformat_minor": 2
}
