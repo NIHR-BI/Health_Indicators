{
 "cells": [
  {
   "attachments": {},
   "cell_type": "markdown",
   "metadata": {},
   "source": [
    "https://www.api.gov.uk/ons/open-geography-portal/#open-geography-portal"
   ]
  },
  {
   "attachments": {},
   "cell_type": "markdown",
   "metadata": {},
   "source": [
    "# Libraries"
   ]
  },
  {
   "cell_type": "code",
   "execution_count": 1,
   "metadata": {},
   "outputs": [],
   "source": [
    "import numpy as np\n",
    "import pandas as pd\n",
    "\n",
    "import json\n",
    "import urllib.request"
   ]
  },
  {
   "cell_type": "code",
   "execution_count": 2,
   "metadata": {},
   "outputs": [],
   "source": [
    "pd.set_option('display.max_columns', None)\n",
    "pd.set_option(\"max_colwidth\", None)"
   ]
  },
  {
   "attachments": {},
   "cell_type": "markdown",
   "metadata": {},
   "source": [
    "## Shape files from ONS\n",
    "\n",
    "https://geoportal.statistics.gov.uk/\n",
    "\n",
    "https://services1.arcgis.com/ESMARspQHYMw9BZ9/ArcGIS/rest/services"
   ]
  },
  {
   "attachments": {},
   "cell_type": "markdown",
   "metadata": {},
   "source": [
    "## Retrieve layer data"
   ]
  },
  {
   "cell_type": "code",
   "execution_count": 3,
   "metadata": {},
   "outputs": [],
   "source": [
    "url = 'https://services1.arcgis.com/ESMARspQHYMw9BZ9/arcgis/rest/services/Clinical_Commissioning_Groups_April_2019_Boundaries_EN_BUC_2022/FeatureServer/0/query?outFields=*&where=1%3D1&f=geojson'\n",
    "\n",
    "region_url = 'https://services1.arcgis.com/ESMARspQHYMw9BZ9/arcgis/rest/services/Regions_December_2022_EN_BUC/FeatureServer/0/query?outFields=*&where=1%3D1&f=geojson'"
   ]
  },
  {
   "cell_type": "code",
   "execution_count": 4,
   "metadata": {},
   "outputs": [],
   "source": [
    "def create_geojson_url(dataset_name:str):\n",
    "    url = 'https://services1.arcgis.com/ESMARspQHYMw9BZ9/arcgis/rest/services/' + dataset_name + '/FeatureServer/0/query?outFields=*&where=1%3D1&f=geojson'\n",
    "    return url"
   ]
  },
  {
   "cell_type": "code",
   "execution_count": 5,
   "metadata": {},
   "outputs": [],
   "source": [
    "def retrieve_geojson_from_url(url:str):\n",
    "    with urllib.request.urlopen(url) as contents:\n",
    "        geojson_data = json.loads(contents.read())\n",
    "    \n",
    "    shape_data = pd.json_normalize(geojson_data['features'])\n",
    "    return shape_data"
   ]
  },
  {
   "cell_type": "code",
   "execution_count": 6,
   "metadata": {},
   "outputs": [],
   "source": [
    "def save_geojson_from_url(url:str, filename:str):\n",
    "    filename = filename + '.csv'\n",
    "    shape_data = retrieve_geojson_from_url(url)\n",
    "    shape_data.to_csv(filename, index=False)\n",
    "    print(filename + ' successfully saved')"
   ]
  },
  {
   "cell_type": "code",
   "execution_count": 7,
   "metadata": {},
   "outputs": [],
   "source": [
    "def save_geojson_from_dataset_name(dataset_name:str):\n",
    "    url = create_geojson_url(dataset_name)\n",
    "    save_geojson_from_url(url, dataset_name)"
   ]
  },
  {
   "cell_type": "code",
   "execution_count": 8,
   "metadata": {},
   "outputs": [],
   "source": [
    "# with urllib.request.urlopen(url) as contents:\n",
    "#     json_data = json.loads(contents.read())\n",
    "# shape_data = pd.json_normalize(json_data['features'])\n",
    "\n",
    "# shape_data.to_csv('test_shape_data.csv')"
   ]
  },
  {
   "cell_type": "code",
   "execution_count": 9,
   "metadata": {},
   "outputs": [],
   "source": [
    "# with urllib.request.urlopen(region_url) as contents:\n",
    "#     json_data = json.loads(contents.read())\n",
    "# region_shape_data = pd.json_normalize(json_data['features'])\n",
    "\n",
    "# region_shape_data.to_csv('test_region_shape_data.csv')"
   ]
  },
  {
   "cell_type": "code",
   "execution_count": 10,
   "metadata": {},
   "outputs": [],
   "source": [
    "# with open('region/region_merged.geojson', 'r') as contents:\n",
    "#     json_data = json.loads(contents.read())\n",
    "# region_shape_data = pd.json_normalize(json_data['features'])\n",
    "# region_shape_data.to_csv('region/region_merged_geojson_cleaned.csv')\n",
    "\n"
   ]
  },
  {
   "attachments": {},
   "cell_type": "markdown",
   "metadata": {},
   "source": [
    "## Shape directory"
   ]
  },
  {
   "cell_type": "code",
   "execution_count": 11,
   "metadata": {},
   "outputs": [],
   "source": [
    "shape_directory_url = 'https://services1.arcgis.com/ESMARspQHYMw9BZ9/ArcGIS/rest/services?f=pjson'\n",
    "\n",
    "with urllib.request.urlopen(shape_directory_url) as contents:\n",
    "    shape_directory = json.loads(contents.read())\n",
    "shape_directory = pd.json_normalize(shape_directory['services'])\n",
    "shape_directory = shape_directory.loc[shape_directory['type']=='FeatureServer']"
   ]
  },
  {
   "cell_type": "code",
   "execution_count": 12,
   "metadata": {},
   "outputs": [],
   "source": [
    "def shape_name_contains(str1:str, str2:str):\n",
    "    str1 = str1.lower()\n",
    "    str2 = str2.lower()\n",
    "    return shape_directory[(shape_directory['name'].str.lower().str.contains(str1)) & (shape_directory['name'].str.lower().str.contains(str2))]"
   ]
  },
  {
   "attachments": {},
   "cell_type": "markdown",
   "metadata": {},
   "source": [
    "### icb"
   ]
  },
  {
   "cell_type": "code",
   "execution_count": null,
   "metadata": {},
   "outputs": [],
   "source": [
    "icb_shape_directory = shape_name_contains('icb_jul_2022', 'buc')\n",
    "icb_shape_directory"
   ]
  },
  {
   "cell_type": "code",
   "execution_count": null,
   "metadata": {},
   "outputs": [],
   "source": [
    "# save_geojson_from_dataset_name(icb_shape_directory['name'].values[0])"
   ]
  },
  {
   "attachments": {},
   "cell_type": "markdown",
   "metadata": {},
   "source": [
    "### sub_icb"
   ]
  },
  {
   "cell_type": "code",
   "execution_count": 17,
   "metadata": {},
   "outputs": [],
   "source": [
    "sub_icb_shape_directory = pd.concat([shape_name_contains('sub_integrated_care_board', 'bgc'),\n",
    "                                     shape_name_contains('sub_integrated_care_board', 'buc'),\n",
    "                                     shape_name_contains('sicbl', 'buc') # 2022\n",
    "])"
   ]
  },
  {
   "cell_type": "code",
   "execution_count": 18,
   "metadata": {},
   "outputs": [
    {
     "data": {
      "text/html": [
       "<div>\n",
       "<style scoped>\n",
       "    .dataframe tbody tr th:only-of-type {\n",
       "        vertical-align: middle;\n",
       "    }\n",
       "\n",
       "    .dataframe tbody tr th {\n",
       "        vertical-align: top;\n",
       "    }\n",
       "\n",
       "    .dataframe thead th {\n",
       "        text-align: right;\n",
       "    }\n",
       "</style>\n",
       "<table border=\"1\" class=\"dataframe\">\n",
       "  <thead>\n",
       "    <tr style=\"text-align: right;\">\n",
       "      <th></th>\n",
       "      <th>name</th>\n",
       "      <th>type</th>\n",
       "      <th>url</th>\n",
       "    </tr>\n",
       "  </thead>\n",
       "  <tbody>\n",
       "    <tr>\n",
       "      <th>1660</th>\n",
       "      <td>Sub_Integrated_Care_Board_Locations_April_2023_EN_BGC</td>\n",
       "      <td>FeatureServer</td>\n",
       "      <td>https://services1.arcgis.com/ESMARspQHYMw9BZ9/ArcGIS/rest/services/Sub_Integrated_Care_Board_Locations_April_2023_EN_BGC/FeatureServer</td>\n",
       "    </tr>\n",
       "    <tr>\n",
       "      <th>1616</th>\n",
       "      <td>SICBL_JUL_2022_EN_BUC</td>\n",
       "      <td>FeatureServer</td>\n",
       "      <td>https://services1.arcgis.com/ESMARspQHYMw9BZ9/ArcGIS/rest/services/SICBL_JUL_2022_EN_BUC/FeatureServer</td>\n",
       "    </tr>\n",
       "  </tbody>\n",
       "</table>\n",
       "</div>"
      ],
      "text/plain": [
       "                                                       name           type  \\\n",
       "1660  Sub_Integrated_Care_Board_Locations_April_2023_EN_BGC  FeatureServer   \n",
       "1616                                  SICBL_JUL_2022_EN_BUC  FeatureServer   \n",
       "\n",
       "                                                                                                                                         url  \n",
       "1660  https://services1.arcgis.com/ESMARspQHYMw9BZ9/ArcGIS/rest/services/Sub_Integrated_Care_Board_Locations_April_2023_EN_BGC/FeatureServer  \n",
       "1616                                  https://services1.arcgis.com/ESMARspQHYMw9BZ9/ArcGIS/rest/services/SICBL_JUL_2022_EN_BUC/FeatureServer  "
      ]
     },
     "execution_count": 18,
     "metadata": {},
     "output_type": "execute_result"
    }
   ],
   "source": [
    "sub_icb_shape_directory"
   ]
  },
  {
   "cell_type": "code",
   "execution_count": 31,
   "metadata": {},
   "outputs": [
    {
     "name": "stdout",
     "output_type": "stream",
     "text": [
      "SICBL_JUL_2022_EN_BUC.csv successfully saved\n"
     ]
    }
   ],
   "source": [
    "# save_geojson_from_dataset_name(sub_icb_shape_directory['name'].values[0])"
   ]
  },
  {
   "attachments": {},
   "cell_type": "markdown",
   "metadata": {},
   "source": [
    "### ccg"
   ]
  },
  {
   "cell_type": "code",
   "execution_count": null,
   "metadata": {},
   "outputs": [],
   "source": [
    "ccg_shape_directory = pd.concat([shape_name_contains('buc', 'clinical_commissioning_groups'), # 2019, 2021\n",
    "                                 shape_name_contains('generalised', 'clinical_commissioning_groups'), # 2020\n",
    "                                 shape_name_contains('ugcb', 'ccg') # 2015 to 2018\n",
    "])"
   ]
  },
  {
   "cell_type": "code",
   "execution_count": null,
   "metadata": {},
   "outputs": [],
   "source": [
    "ccg_shape_directory"
   ]
  },
  {
   "cell_type": "code",
   "execution_count": null,
   "metadata": {},
   "outputs": [],
   "source": [
    "# for i in ccg_shape_directory['name']:\n",
    "#     # print(i)\n",
    "#     save_geojson_from_dataset_name(i)"
   ]
  },
  {
   "attachments": {},
   "cell_type": "markdown",
   "metadata": {},
   "source": [
    "### ltla"
   ]
  },
  {
   "cell_type": "code",
   "execution_count": null,
   "metadata": {},
   "outputs": [],
   "source": [
    "ltla_shape_directory = pd.concat([shape_name_contains('local_authority_districts', 'uk_buc'), # 2019 to 2023\n",
    "                                  shape_name_contains('lad', '2018_Boundaries_UK_BUC')\n",
    "])\n",
    "\n",
    "ltla_shape_directory\n",
    "\n",
    "# shape_name_contains('local_authority_districts', 'generalised') # 2018\n",
    "# shape_name_contains('local_authority_districts', 'ugcb') # 2019, 2020"
   ]
  },
  {
   "cell_type": "code",
   "execution_count": null,
   "metadata": {},
   "outputs": [],
   "source": [
    "# for i in ltla_shape_directory['name']:\n",
    "#     # print(i)\n",
    "#     save_geojson_from_dataset_name(i)"
   ]
  },
  {
   "attachments": {},
   "cell_type": "markdown",
   "metadata": {},
   "source": [
    "### utla"
   ]
  },
  {
   "cell_type": "code",
   "execution_count": null,
   "metadata": {},
   "outputs": [],
   "source": [
    "utla_shape_directory = pd.concat([shape_name_contains('counties_and_unitary_authorities', 'ew_buc'), # 2017, 2019\n",
    "                                  shape_name_contains(\"counties_and_unitary_authorities_december_2018\", 'gcb_ew'), # 2018\n",
    "                                  shape_name_contains('counties_and_unitary_authorities', '2020_uk_bgc'), # 2020\n",
    "                                  shape_name_contains('counties_and_unitary_authorities', 'en_buc'), # 2021\n",
    "                                  shape_name_contains('Counties_and_Unitary_Authorities', '2011_gcb') # 2011\n",
    "])"
   ]
  },
  {
   "cell_type": "code",
   "execution_count": 35,
   "metadata": {},
   "outputs": [
    {
     "data": {
      "text/html": [
       "<div>\n",
       "<style scoped>\n",
       "    .dataframe tbody tr th:only-of-type {\n",
       "        vertical-align: middle;\n",
       "    }\n",
       "\n",
       "    .dataframe tbody tr th {\n",
       "        vertical-align: top;\n",
       "    }\n",
       "\n",
       "    .dataframe thead th {\n",
       "        text-align: right;\n",
       "    }\n",
       "</style>\n",
       "<table border=\"1\" class=\"dataframe\">\n",
       "  <thead>\n",
       "    <tr style=\"text-align: right;\">\n",
       "      <th></th>\n",
       "      <th>name</th>\n",
       "      <th>type</th>\n",
       "      <th>url</th>\n",
       "    </tr>\n",
       "  </thead>\n",
       "  <tbody>\n",
       "    <tr>\n",
       "      <th>203</th>\n",
       "      <td>Counties_and_Unitary_Authorities_December_2011_GCB_EW_2022</td>\n",
       "      <td>FeatureServer</td>\n",
       "      <td>https://services1.arcgis.com/ESMARspQHYMw9BZ9/ArcGIS/rest/services/Counties_and_Unitary_Authorities_December_2011_GCB_EW_2022/FeatureServer</td>\n",
       "    </tr>\n",
       "  </tbody>\n",
       "</table>\n",
       "</div>"
      ],
      "text/plain": [
       "                                                           name  \\\n",
       "203  Counties_and_Unitary_Authorities_December_2011_GCB_EW_2022   \n",
       "\n",
       "              type  \\\n",
       "203  FeatureServer   \n",
       "\n",
       "                                                                                                                                             url  \n",
       "203  https://services1.arcgis.com/ESMARspQHYMw9BZ9/ArcGIS/rest/services/Counties_and_Unitary_Authorities_December_2011_GCB_EW_2022/FeatureServer  "
      ]
     },
     "execution_count": 35,
     "metadata": {},
     "output_type": "execute_result"
    }
   ],
   "source": [
    "utla_shape_directory"
   ]
  },
  {
   "cell_type": "code",
   "execution_count": 36,
   "metadata": {},
   "outputs": [
    {
     "name": "stdout",
     "output_type": "stream",
     "text": [
      "Counties_and_Unitary_Authorities_December_2011_GCB_EW_2022.csv successfully saved\n"
     ]
    }
   ],
   "source": [
    "# for i in utla_shape_directory['name']:\n",
    "#     # print(i)\n",
    "#     save_geojson_from_dataset_name(i)"
   ]
  },
  {
   "attachments": {},
   "cell_type": "markdown",
   "metadata": {},
   "source": [
    "### region"
   ]
  },
  {
   "cell_type": "code",
   "execution_count": null,
   "metadata": {},
   "outputs": [],
   "source": [
    "region_shape_directory = pd.concat([shape_name_contains('Regions_December_2022_EN_BUC', '')\n",
    "])\n",
    "\n",
    "region_shape_directory"
   ]
  },
  {
   "cell_type": "code",
   "execution_count": null,
   "metadata": {},
   "outputs": [],
   "source": [
    "# save_geojson_from_dataset_name(region_shape_directory['name'].values[0])"
   ]
  },
  {
   "attachments": {},
   "cell_type": "markdown",
   "metadata": {},
   "source": [
    "### STPs (pre Apr 2020) and STPs (from Apr 2020)"
   ]
  },
  {
   "cell_type": "code",
   "execution_count": null,
   "metadata": {},
   "outputs": [],
   "source": [
    "stp_shape_directory = pd.concat([shape_name_contains('sustainability_and_transformation', 'buc'), # 2018, 2021\n",
    "                                 shape_name_contains('stp', '_gcb') # 2017, 2019, 2020\n",
    "])"
   ]
  },
  {
   "cell_type": "code",
   "execution_count": null,
   "metadata": {},
   "outputs": [],
   "source": [
    "stp_shape_directory"
   ]
  },
  {
   "cell_type": "code",
   "execution_count": null,
   "metadata": {},
   "outputs": [],
   "source": [
    "# for i in stp_shape_directory['name']:\n",
    "#     save_geojson_from_dataset_name(i)"
   ]
  },
  {
   "attachments": {},
   "cell_type": "markdown",
   "metadata": {},
   "source": [
    "# append files together"
   ]
  },
  {
   "cell_type": "code",
   "execution_count": 19,
   "metadata": {},
   "outputs": [],
   "source": [
    "gsheet_areas = pd.read_csv('https://docs.google.com/spreadsheets/u/0/d/1yWPMu8cHllEdVl0kuUjjJR5V8yVrnU4jZTIlM1a1XGg/gviz/tq?tqx=out:csv&tq&gid=963757659&headers=1')\n",
    "files_required = gsheet_areas.loc[:, ['shape_file']].dropna()"
   ]
  },
  {
   "cell_type": "code",
   "execution_count": 20,
   "metadata": {},
   "outputs": [
    {
     "data": {
      "text/html": [
       "<div>\n",
       "<style scoped>\n",
       "    .dataframe tbody tr th:only-of-type {\n",
       "        vertical-align: middle;\n",
       "    }\n",
       "\n",
       "    .dataframe tbody tr th {\n",
       "        vertical-align: top;\n",
       "    }\n",
       "\n",
       "    .dataframe thead th {\n",
       "        text-align: right;\n",
       "    }\n",
       "</style>\n",
       "<table border=\"1\" class=\"dataframe\">\n",
       "  <thead>\n",
       "    <tr style=\"text-align: right;\">\n",
       "      <th></th>\n",
       "      <th>shape_file</th>\n",
       "    </tr>\n",
       "  </thead>\n",
       "  <tbody>\n",
       "    <tr>\n",
       "      <th>0</th>\n",
       "      <td>ICB_JUL_2022_EN_BUC_V3.csv</td>\n",
       "    </tr>\n",
       "    <tr>\n",
       "      <th>1</th>\n",
       "      <td>Sustainability_and_Transformation_Partnerships_April_2021_EN_BUC_V2_2022.csv</td>\n",
       "    </tr>\n",
       "    <tr>\n",
       "      <th>2</th>\n",
       "      <td>STP_Apr_2019_GCB_in_England_2022.csv</td>\n",
       "    </tr>\n",
       "    <tr>\n",
       "      <th>3</th>\n",
       "      <td>Regions_December_2022_EN_BUC.csv</td>\n",
       "    </tr>\n",
       "    <tr>\n",
       "      <th>4</th>\n",
       "      <td>SICBL_JUL_2022_EN_BUC.csv</td>\n",
       "    </tr>\n",
       "    <tr>\n",
       "      <th>5</th>\n",
       "      <td>Clinical_Commissioning_Groups_April_2021_EN_BUC_2022.csv</td>\n",
       "    </tr>\n",
       "    <tr>\n",
       "      <th>6</th>\n",
       "      <td>Clinical_Commissioning_Groups_April_2020_Ultra_Generalised_Boundaries_EN_2022.csv</td>\n",
       "    </tr>\n",
       "    <tr>\n",
       "      <th>7</th>\n",
       "      <td>Clinical_Commissioning_Groups_April_2019_Boundaries_EN_BUC_2022.csv</td>\n",
       "    </tr>\n",
       "    <tr>\n",
       "      <th>8</th>\n",
       "      <td>CCG_Apr_2018_UGCB_in_England_2022.csv</td>\n",
       "    </tr>\n",
       "    <tr>\n",
       "      <th>9</th>\n",
       "      <td>CCG_Apr_2017_UGCB_in_England_V4_2022.csv</td>\n",
       "    </tr>\n",
       "    <tr>\n",
       "      <th>10</th>\n",
       "      <td>Local_Authority_Districts_December_2021_UK_BUC_2022.csv</td>\n",
       "    </tr>\n",
       "    <tr>\n",
       "      <th>11</th>\n",
       "      <td>Local_Authority_Districts_December_2020_UK_BUC_2022.csv</td>\n",
       "    </tr>\n",
       "    <tr>\n",
       "      <th>12</th>\n",
       "      <td>Local_Authority_Districts_April_2019_UK_BUC_2022.csv</td>\n",
       "    </tr>\n",
       "    <tr>\n",
       "      <th>13</th>\n",
       "      <td>LAD_December_2018_Boundaries_UK_BUC_2022.csv</td>\n",
       "    </tr>\n",
       "    <tr>\n",
       "      <th>14</th>\n",
       "      <td>Counties_and_Unitary_Authorities_December_2021_EN_BUC.csv</td>\n",
       "    </tr>\n",
       "    <tr>\n",
       "      <th>15</th>\n",
       "      <td>Counties_and_Unitary_Authorities_December_2020_UK_BGC_2022.csv</td>\n",
       "    </tr>\n",
       "    <tr>\n",
       "      <th>16</th>\n",
       "      <td>Counties_and_Unitary_Authorities_April_2019_Boundaries_EW_BUC_2022.csv</td>\n",
       "    </tr>\n",
       "    <tr>\n",
       "      <th>17</th>\n",
       "      <td>Counties_and_Unitary_Authorities_December_2017_EW_BUC_2022.csv</td>\n",
       "    </tr>\n",
       "  </tbody>\n",
       "</table>\n",
       "</div>"
      ],
      "text/plain": [
       "                                                                           shape_file\n",
       "0                                                          ICB_JUL_2022_EN_BUC_V3.csv\n",
       "1        Sustainability_and_Transformation_Partnerships_April_2021_EN_BUC_V2_2022.csv\n",
       "2                                                STP_Apr_2019_GCB_in_England_2022.csv\n",
       "3                                                    Regions_December_2022_EN_BUC.csv\n",
       "4                                                           SICBL_JUL_2022_EN_BUC.csv\n",
       "5                            Clinical_Commissioning_Groups_April_2021_EN_BUC_2022.csv\n",
       "6   Clinical_Commissioning_Groups_April_2020_Ultra_Generalised_Boundaries_EN_2022.csv\n",
       "7                 Clinical_Commissioning_Groups_April_2019_Boundaries_EN_BUC_2022.csv\n",
       "8                                               CCG_Apr_2018_UGCB_in_England_2022.csv\n",
       "9                                            CCG_Apr_2017_UGCB_in_England_V4_2022.csv\n",
       "10                            Local_Authority_Districts_December_2021_UK_BUC_2022.csv\n",
       "11                            Local_Authority_Districts_December_2020_UK_BUC_2022.csv\n",
       "12                               Local_Authority_Districts_April_2019_UK_BUC_2022.csv\n",
       "13                                       LAD_December_2018_Boundaries_UK_BUC_2022.csv\n",
       "14                          Counties_and_Unitary_Authorities_December_2021_EN_BUC.csv\n",
       "15                     Counties_and_Unitary_Authorities_December_2020_UK_BGC_2022.csv\n",
       "16             Counties_and_Unitary_Authorities_April_2019_Boundaries_EW_BUC_2022.csv\n",
       "17                     Counties_and_Unitary_Authorities_December_2017_EW_BUC_2022.csv"
      ]
     },
     "execution_count": 20,
     "metadata": {},
     "output_type": "execute_result"
    }
   ],
   "source": [
    "files_required"
   ]
  },
  {
   "cell_type": "code",
   "execution_count": 21,
   "metadata": {},
   "outputs": [],
   "source": [
    "area_id_to_shape_file = gsheet_areas.loc[:, ['AreaTypeId', 'shape_file']].dropna()"
   ]
  },
  {
   "cell_type": "code",
   "execution_count": 23,
   "metadata": {},
   "outputs": [],
   "source": [
    "def code_and_name_fields(folder_name):\n",
    "    final_list=[]\n",
    "    \n",
    "    for i in files_required.values:\n",
    "        filename = i[0]\n",
    "        filepath = folder_name + '/' + filename\n",
    "        data = pd.read_csv(filepath)\n",
    "        \n",
    "        to_append_list = [filename, data.filter(regex='CD|cd').columns[0], data.filter(regex='NM|nm').columns[0]]\n",
    "        \n",
    "        final_list += [to_append_list]\n",
    "        final_df = pd.DataFrame(final_list, columns=['shape_file', 'code_field', 'name_field'])\n",
    "        \n",
    "    return final_df\n"
   ]
  },
  {
   "cell_type": "code",
   "execution_count": 25,
   "metadata": {},
   "outputs": [
    {
     "data": {
      "text/html": [
       "<div>\n",
       "<style scoped>\n",
       "    .dataframe tbody tr th:only-of-type {\n",
       "        vertical-align: middle;\n",
       "    }\n",
       "\n",
       "    .dataframe tbody tr th {\n",
       "        vertical-align: top;\n",
       "    }\n",
       "\n",
       "    .dataframe thead th {\n",
       "        text-align: right;\n",
       "    }\n",
       "</style>\n",
       "<table border=\"1\" class=\"dataframe\">\n",
       "  <thead>\n",
       "    <tr style=\"text-align: right;\">\n",
       "      <th></th>\n",
       "      <th>shape_file</th>\n",
       "      <th>code_field</th>\n",
       "      <th>name_field</th>\n",
       "    </tr>\n",
       "  </thead>\n",
       "  <tbody>\n",
       "    <tr>\n",
       "      <th>0</th>\n",
       "      <td>ICB_JUL_2022_EN_BUC_V3.csv</td>\n",
       "      <td>properties.ICB22CD</td>\n",
       "      <td>properties.ICB22NM</td>\n",
       "    </tr>\n",
       "    <tr>\n",
       "      <th>1</th>\n",
       "      <td>Sustainability_and_Transformation_Partnerships_April_2021_EN_BUC_V2_2022.csv</td>\n",
       "      <td>properties.STP21CD</td>\n",
       "      <td>properties.STP21NM</td>\n",
       "    </tr>\n",
       "    <tr>\n",
       "      <th>2</th>\n",
       "      <td>STP_Apr_2019_GCB_in_England_2022.csv</td>\n",
       "      <td>properties.stp19cd</td>\n",
       "      <td>properties.stp19nm</td>\n",
       "    </tr>\n",
       "    <tr>\n",
       "      <th>3</th>\n",
       "      <td>Regions_December_2022_EN_BUC.csv</td>\n",
       "      <td>properties.RGN22CD</td>\n",
       "      <td>properties.RGN22NM</td>\n",
       "    </tr>\n",
       "    <tr>\n",
       "      <th>4</th>\n",
       "      <td>SICBL_JUL_2022_EN_BUC.csv</td>\n",
       "      <td>properties.SICBL22CD</td>\n",
       "      <td>properties.SICBL22NM</td>\n",
       "    </tr>\n",
       "  </tbody>\n",
       "</table>\n",
       "</div>"
      ],
      "text/plain": [
       "                                                                     shape_file  \\\n",
       "0                                                    ICB_JUL_2022_EN_BUC_V3.csv   \n",
       "1  Sustainability_and_Transformation_Partnerships_April_2021_EN_BUC_V2_2022.csv   \n",
       "2                                          STP_Apr_2019_GCB_in_England_2022.csv   \n",
       "3                                              Regions_December_2022_EN_BUC.csv   \n",
       "4                                                     SICBL_JUL_2022_EN_BUC.csv   \n",
       "\n",
       "             code_field            name_field  \n",
       "0    properties.ICB22CD    properties.ICB22NM  \n",
       "1    properties.STP21CD    properties.STP21NM  \n",
       "2    properties.stp19cd    properties.stp19nm  \n",
       "3    properties.RGN22CD    properties.RGN22NM  \n",
       "4  properties.SICBL22CD  properties.SICBL22NM  "
      ]
     },
     "execution_count": 25,
     "metadata": {},
     "output_type": "execute_result"
    }
   ],
   "source": [
    "data = code_and_name_fields('shapes')\n",
    "# data.to_csv('2023-08-10_shape_code_and_name_fields.csv', index=False)\n",
    "data.head()"
   ]
  },
  {
   "cell_type": "code",
   "execution_count": 26,
   "metadata": {},
   "outputs": [],
   "source": [
    "def append_shapes(folder_name):\n",
    "    shape_fields = pd.read_csv('2023-08-10_shape_code_and_name_fields.csv')\n",
    "    \n",
    "    appended_shapes = pd.DataFrame()\n",
    "    \n",
    "    for i, j in enumerate(files_required.values):\n",
    "        filename = j[0]\n",
    "        filepath = folder_name + '/' + filename\n",
    "        shapes = pd.read_csv(filepath)\n",
    "        \n",
    "        rename_cols = {'code_field': 'area_code',\n",
    "                       'name_field': 'area_name'}\n",
    "        \n",
    "        column_mapper_reversed = shape_fields.loc[shape_fields['shape_file']==filename, ['code_field', 'name_field']].rename(rename_cols, axis=1).loc[i].to_dict()\n",
    "        column_mapper = {value: key for key, value, in column_mapper_reversed.items()}\n",
    "        \n",
    "        shapes = shapes.rename(column_mapper, axis=1)\n",
    "        shapes['area_type_id'] = area_id_to_shape_file.loc[area_id_to_shape_file['shape_file']==filename, ['AreaTypeId']].values[0][0]\n",
    "        shapes['area_code'] = shapes['area_code'] + '_' + shapes['area_type_id'].astype(str)\n",
    "              \n",
    "        appended_shapes = pd.concat([appended_shapes, shapes])\n",
    "        \n",
    "    return appended_shapes\n"
   ]
  },
  {
   "cell_type": "code",
   "execution_count": 27,
   "metadata": {},
   "outputs": [],
   "source": [
    "append_shapes('shapes').to_csv('shapes/2023-08-10_shapes_appended.csv', index=False)"
   ]
  },
  {
   "cell_type": "markdown",
   "metadata": {},
   "source": [
    "# do some rough cleaning to existing file"
   ]
  },
  {
   "cell_type": "code",
   "execution_count": 28,
   "metadata": {},
   "outputs": [],
   "source": [
    "import pandas as pd\n",
    "\n",
    "shape = pd.read_csv('shapes/2023-08-10_shapes_appended.csv')\n",
    "cols = ['geometry.coordinates', 'area_code', 'area_type_id']\n",
    "cols_dict = {'geometry.coordinates': 'shape'}\n",
    "\n",
    "shape = shape.loc[:,cols].rename(columns=cols_dict)\n",
    "\n",
    "# shape.to_csv('2023-08-10_shapes.csv', index=False)"
   ]
  },
  {
   "cell_type": "code",
   "execution_count": 29,
   "metadata": {},
   "outputs": [],
   "source": [
    "shape.loc[shape.loc[:,'area_type_id']==66].to_csv('66_test.csv', index=False)"
   ]
  },
  {
   "cell_type": "code",
   "execution_count": null,
   "metadata": {},
   "outputs": [],
   "source": []
  },
  {
   "cell_type": "code",
   "execution_count": null,
   "metadata": {},
   "outputs": [],
   "source": []
  }
 ],
 "metadata": {
  "kernelspec": {
   "display_name": ".venv",
   "language": "python",
   "name": "python3"
  },
  "language_info": {
   "codemirror_mode": {
    "name": "ipython",
    "version": 3
   },
   "file_extension": ".py",
   "mimetype": "text/x-python",
   "name": "python",
   "nbconvert_exporter": "python",
   "pygments_lexer": "ipython3",
   "version": "3.11.1"
  },
  "orig_nbformat": 4
 },
 "nbformat": 4,
 "nbformat_minor": 2
}
