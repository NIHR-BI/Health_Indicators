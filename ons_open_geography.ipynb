{
 "cells": [
  {
   "attachments": {},
   "cell_type": "markdown",
   "metadata": {},
   "source": [
    "https://www.api.gov.uk/ons/open-geography-portal/#open-geography-portal"
   ]
  },
  {
   "attachments": {},
   "cell_type": "markdown",
   "metadata": {},
   "source": [
    "# Libraries"
   ]
  },
  {
   "cell_type": "code",
   "execution_count": 1,
   "metadata": {},
   "outputs": [],
   "source": [
    "import numpy as np\n",
    "import pandas as pd\n",
    "\n",
    "import json\n",
    "import urllib.request"
   ]
  },
  {
   "cell_type": "code",
   "execution_count": 2,
   "metadata": {},
   "outputs": [],
   "source": [
    "pd.set_option('display.max_columns', None)\n",
    "pd.set_option(\"max_colwidth\", None)"
   ]
  },
  {
   "attachments": {},
   "cell_type": "markdown",
   "metadata": {},
   "source": [
    "## Shape files from ONS\n",
    "\n",
    "https://geoportal.statistics.gov.uk/\n",
    "\n",
    "https://services1.arcgis.com/ESMARspQHYMw9BZ9/ArcGIS/rest/services"
   ]
  },
  {
   "attachments": {},
   "cell_type": "markdown",
   "metadata": {},
   "source": [
    "## Retrieve layer data"
   ]
  },
  {
   "cell_type": "code",
   "execution_count": 3,
   "metadata": {},
   "outputs": [],
   "source": [
    "url = 'https://services1.arcgis.com/ESMARspQHYMw9BZ9/arcgis/rest/services/Clinical_Commissioning_Groups_April_2019_Boundaries_EN_BUC_2022/FeatureServer/0/query?outFields=*&where=1%3D1&f=geojson'\n",
    "\n",
    "region_url = 'https://services1.arcgis.com/ESMARspQHYMw9BZ9/arcgis/rest/services/Regions_December_2022_EN_BUC/FeatureServer/0/query?outFields=*&where=1%3D1&f=geojson'"
   ]
  },
  {
   "cell_type": "code",
   "execution_count": 22,
   "metadata": {},
   "outputs": [],
   "source": [
    "def create_geojson_url(dataset_name:str):\n",
    "    url = 'https://services1.arcgis.com/ESMARspQHYMw9BZ9/arcgis/rest/services/' + dataset_name + '/FeatureServer/0/query?outFields=*&where=1%3D1&f=geojson'\n",
    "    return url"
   ]
  },
  {
   "cell_type": "code",
   "execution_count": 5,
   "metadata": {},
   "outputs": [],
   "source": [
    "def retrieve_geojson_from_url(url:str):\n",
    "    with urllib.request.urlopen(url) as contents:\n",
    "        geojson_data = json.loads(contents.read())\n",
    "    \n",
    "    shape_data = pd.json_normalize(geojson_data['features'])\n",
    "    return shape_data"
   ]
  },
  {
   "cell_type": "code",
   "execution_count": 25,
   "metadata": {},
   "outputs": [],
   "source": [
    "def save_geojson_from_url(url:str, filename:str):\n",
    "    filename = filename + '.csv'\n",
    "    shape_data = retrieve_geojson_from_url(url)\n",
    "    shape_data.to_csv(filename, index=False)\n",
    "    print(filename + ' successfully saved')"
   ]
  },
  {
   "cell_type": "code",
   "execution_count": 7,
   "metadata": {},
   "outputs": [],
   "source": [
    "def save_geojson_from_dataset_name(dataset_name:str):\n",
    "    url = create_geojson_url(dataset_name)\n",
    "    save_geojson_from_url(url, dataset_name)"
   ]
  },
  {
   "cell_type": "code",
   "execution_count": 8,
   "metadata": {},
   "outputs": [],
   "source": [
    "# with urllib.request.urlopen(url) as contents:\n",
    "#     json_data = json.loads(contents.read())\n",
    "# shape_data = pd.json_normalize(json_data['features'])\n",
    "\n",
    "# shape_data.to_csv('test_shape_data.csv')"
   ]
  },
  {
   "cell_type": "code",
   "execution_count": 9,
   "metadata": {},
   "outputs": [],
   "source": [
    "# with urllib.request.urlopen(region_url) as contents:\n",
    "#     json_data = json.loads(contents.read())\n",
    "# region_shape_data = pd.json_normalize(json_data['features'])\n",
    "\n",
    "# region_shape_data.to_csv('test_region_shape_data.csv')"
   ]
  },
  {
   "cell_type": "code",
   "execution_count": 10,
   "metadata": {},
   "outputs": [],
   "source": [
    "# with open('region/region_merged.geojson', 'r') as contents:\n",
    "#     json_data = json.loads(contents.read())\n",
    "# region_shape_data = pd.json_normalize(json_data['features'])\n",
    "# region_shape_data.to_csv('region/region_merged_geojson_cleaned.csv')\n",
    "\n"
   ]
  },
  {
   "attachments": {},
   "cell_type": "markdown",
   "metadata": {},
   "source": [
    "## Shape directory"
   ]
  },
  {
   "cell_type": "code",
   "execution_count": 11,
   "metadata": {},
   "outputs": [],
   "source": [
    "shape_directory_url = 'https://services1.arcgis.com/ESMARspQHYMw9BZ9/ArcGIS/rest/services?f=pjson'\n",
    "\n",
    "with urllib.request.urlopen(shape_directory_url) as contents:\n",
    "    shape_directory = json.loads(contents.read())\n",
    "shape_directory = pd.json_normalize(shape_directory['services'])\n",
    "shape_directory = shape_directory.loc[shape_directory['type']=='FeatureServer']"
   ]
  },
  {
   "cell_type": "code",
   "execution_count": 12,
   "metadata": {},
   "outputs": [],
   "source": [
    "def shape_name_contains(str1:str, str2:str):\n",
    "    str1 = str1.lower()\n",
    "    str2 = str2.lower()\n",
    "    return shape_directory[(shape_directory['name'].str.lower().str.contains(str1)) & (shape_directory['name'].str.lower().str.contains(str2))]"
   ]
  },
  {
   "attachments": {},
   "cell_type": "markdown",
   "metadata": {},
   "source": [
    "### icb"
   ]
  },
  {
   "cell_type": "code",
   "execution_count": 19,
   "metadata": {},
   "outputs": [
    {
     "data": {
      "text/html": [
       "<div>\n",
       "<style scoped>\n",
       "    .dataframe tbody tr th:only-of-type {\n",
       "        vertical-align: middle;\n",
       "    }\n",
       "\n",
       "    .dataframe tbody tr th {\n",
       "        vertical-align: top;\n",
       "    }\n",
       "\n",
       "    .dataframe thead th {\n",
       "        text-align: right;\n",
       "    }\n",
       "</style>\n",
       "<table border=\"1\" class=\"dataframe\">\n",
       "  <thead>\n",
       "    <tr style=\"text-align: right;\">\n",
       "      <th></th>\n",
       "      <th>name</th>\n",
       "      <th>type</th>\n",
       "      <th>url</th>\n",
       "    </tr>\n",
       "  </thead>\n",
       "  <tbody>\n",
       "    <tr>\n",
       "      <th>499</th>\n",
       "      <td>ICB_JUL_2022_EN_BUC_V3</td>\n",
       "      <td>FeatureServer</td>\n",
       "      <td>https://services1.arcgis.com/ESMARspQHYMw9BZ9/ArcGIS/rest/services/ICB_JUL_2022_EN_BUC_V3/FeatureServer</td>\n",
       "    </tr>\n",
       "  </tbody>\n",
       "</table>\n",
       "</div>"
      ],
      "text/plain": [
       "                       name           type  \\\n",
       "499  ICB_JUL_2022_EN_BUC_V3  FeatureServer   \n",
       "\n",
       "                                                                                                         url  \n",
       "499  https://services1.arcgis.com/ESMARspQHYMw9BZ9/ArcGIS/rest/services/ICB_JUL_2022_EN_BUC_V3/FeatureServer  "
      ]
     },
     "execution_count": 19,
     "metadata": {},
     "output_type": "execute_result"
    }
   ],
   "source": [
    "icb_shape_directory = shape_name_contains('icb_jul_2022', 'buc')\n",
    "icb_shape_directory"
   ]
  },
  {
   "cell_type": "code",
   "execution_count": 26,
   "metadata": {},
   "outputs": [
    {
     "name": "stdout",
     "output_type": "stream",
     "text": [
      "ICB_JUL_2022_EN_BUC_V3.csv successfully saved\n"
     ]
    }
   ],
   "source": [
    "# save_geojson_from_dataset_name(icb_shape_directory['name'].values[0])"
   ]
  },
  {
   "attachments": {},
   "cell_type": "markdown",
   "metadata": {},
   "source": [
    "### sub_icb"
   ]
  },
  {
   "cell_type": "code",
   "execution_count": 27,
   "metadata": {},
   "outputs": [],
   "source": [
    "sub_icb_shape_directory = pd.concat([shape_name_contains('sub_integrated_care_board', 'bgc'),\n",
    "                                     shape_name_contains('sub_integrated_care_board', 'buc')\n",
    "])"
   ]
  },
  {
   "cell_type": "code",
   "execution_count": 28,
   "metadata": {},
   "outputs": [
    {
     "data": {
      "text/html": [
       "<div>\n",
       "<style scoped>\n",
       "    .dataframe tbody tr th:only-of-type {\n",
       "        vertical-align: middle;\n",
       "    }\n",
       "\n",
       "    .dataframe tbody tr th {\n",
       "        vertical-align: top;\n",
       "    }\n",
       "\n",
       "    .dataframe thead th {\n",
       "        text-align: right;\n",
       "    }\n",
       "</style>\n",
       "<table border=\"1\" class=\"dataframe\">\n",
       "  <thead>\n",
       "    <tr style=\"text-align: right;\">\n",
       "      <th></th>\n",
       "      <th>name</th>\n",
       "      <th>type</th>\n",
       "      <th>url</th>\n",
       "    </tr>\n",
       "  </thead>\n",
       "  <tbody>\n",
       "    <tr>\n",
       "      <th>1688</th>\n",
       "      <td>Sub_Integrated_Care_Board_Locations_April_2023_EN_BGC</td>\n",
       "      <td>FeatureServer</td>\n",
       "      <td>https://services1.arcgis.com/ESMARspQHYMw9BZ9/ArcGIS/rest/services/Sub_Integrated_Care_Board_Locations_April_2023_EN_BGC/FeatureServer</td>\n",
       "    </tr>\n",
       "  </tbody>\n",
       "</table>\n",
       "</div>"
      ],
      "text/plain": [
       "                                                       name           type  \\\n",
       "1688  Sub_Integrated_Care_Board_Locations_April_2023_EN_BGC  FeatureServer   \n",
       "\n",
       "                                                                                                                                         url  \n",
       "1688  https://services1.arcgis.com/ESMARspQHYMw9BZ9/ArcGIS/rest/services/Sub_Integrated_Care_Board_Locations_April_2023_EN_BGC/FeatureServer  "
      ]
     },
     "execution_count": 28,
     "metadata": {},
     "output_type": "execute_result"
    }
   ],
   "source": [
    "sub_icb_shape_directory"
   ]
  },
  {
   "cell_type": "code",
   "execution_count": 29,
   "metadata": {},
   "outputs": [
    {
     "name": "stdout",
     "output_type": "stream",
     "text": [
      "Sub_Integrated_Care_Board_Locations_April_2023_EN_BGC.csv successfully saved\n"
     ]
    }
   ],
   "source": [
    "# save_geojson_from_dataset_name(sub_icb_shape_directory['name'].values[0])"
   ]
  },
  {
   "attachments": {},
   "cell_type": "markdown",
   "metadata": {},
   "source": [
    "### ccg"
   ]
  },
  {
   "cell_type": "code",
   "execution_count": 30,
   "metadata": {},
   "outputs": [],
   "source": [
    "ccg_shape_directory = pd.concat([shape_name_contains('buc', 'clinical_commissioning_groups'), # 2019, 2021\n",
    "                                 shape_name_contains('generalised', 'clinical_commissioning_groups'), # 2020\n",
    "                                 shape_name_contains('ugcb', 'ccg') # 2015 to 2018\n",
    "])"
   ]
  },
  {
   "cell_type": "code",
   "execution_count": 31,
   "metadata": {},
   "outputs": [
    {
     "data": {
      "text/html": [
       "<div>\n",
       "<style scoped>\n",
       "    .dataframe tbody tr th:only-of-type {\n",
       "        vertical-align: middle;\n",
       "    }\n",
       "\n",
       "    .dataframe tbody tr th {\n",
       "        vertical-align: top;\n",
       "    }\n",
       "\n",
       "    .dataframe thead th {\n",
       "        text-align: right;\n",
       "    }\n",
       "</style>\n",
       "<table border=\"1\" class=\"dataframe\">\n",
       "  <thead>\n",
       "    <tr style=\"text-align: right;\">\n",
       "      <th></th>\n",
       "      <th>name</th>\n",
       "      <th>type</th>\n",
       "      <th>url</th>\n",
       "    </tr>\n",
       "  </thead>\n",
       "  <tbody>\n",
       "    <tr>\n",
       "      <th>98</th>\n",
       "      <td>Clinical_Commissioning_Groups_April_2019_Boundaries_EN_BUC_2022</td>\n",
       "      <td>FeatureServer</td>\n",
       "      <td>https://services1.arcgis.com/ESMARspQHYMw9BZ9/ArcGIS/rest/services/Clinical_Commissioning_Groups_April_2019_Boundaries_EN_BUC_2022/FeatureServer</td>\n",
       "    </tr>\n",
       "    <tr>\n",
       "      <th>109</th>\n",
       "      <td>Clinical_Commissioning_Groups_April_2021_EN_BUC_2022</td>\n",
       "      <td>FeatureServer</td>\n",
       "      <td>https://services1.arcgis.com/ESMARspQHYMw9BZ9/ArcGIS/rest/services/Clinical_Commissioning_Groups_April_2021_EN_BUC_2022/FeatureServer</td>\n",
       "    </tr>\n",
       "    <tr>\n",
       "      <th>104</th>\n",
       "      <td>Clinical_Commissioning_Groups_April_2020_Ultra_Generalised_Boundaries_EN_2022</td>\n",
       "      <td>FeatureServer</td>\n",
       "      <td>https://services1.arcgis.com/ESMARspQHYMw9BZ9/ArcGIS/rest/services/Clinical_Commissioning_Groups_April_2020_Ultra_Generalised_Boundaries_EN_2022/FeatureServer</td>\n",
       "    </tr>\n",
       "    <tr>\n",
       "      <th>52</th>\n",
       "      <td>CCG_Apr_2016_UGCB_in_England_2022</td>\n",
       "      <td>FeatureServer</td>\n",
       "      <td>https://services1.arcgis.com/ESMARspQHYMw9BZ9/ArcGIS/rest/services/CCG_Apr_2016_UGCB_in_England_2022/FeatureServer</td>\n",
       "    </tr>\n",
       "    <tr>\n",
       "      <th>55</th>\n",
       "      <td>CCG_Apr_2017_UGCB_in_England_V4_2022</td>\n",
       "      <td>FeatureServer</td>\n",
       "      <td>https://services1.arcgis.com/ESMARspQHYMw9BZ9/ArcGIS/rest/services/CCG_Apr_2017_UGCB_in_England_V4_2022/FeatureServer</td>\n",
       "    </tr>\n",
       "    <tr>\n",
       "      <th>57</th>\n",
       "      <td>CCG_Apr_2018_UGCB_in_England_2022</td>\n",
       "      <td>FeatureServer</td>\n",
       "      <td>https://services1.arcgis.com/ESMARspQHYMw9BZ9/ArcGIS/rest/services/CCG_Apr_2018_UGCB_in_England_2022/FeatureServer</td>\n",
       "    </tr>\n",
       "    <tr>\n",
       "      <th>61</th>\n",
       "      <td>CCG_July_2015_UGCB_in_England_2022</td>\n",
       "      <td>FeatureServer</td>\n",
       "      <td>https://services1.arcgis.com/ESMARspQHYMw9BZ9/ArcGIS/rest/services/CCG_July_2015_UGCB_in_England_2022/FeatureServer</td>\n",
       "    </tr>\n",
       "  </tbody>\n",
       "</table>\n",
       "</div>"
      ],
      "text/plain": [
       "                                                                              name  \\\n",
       "98                 Clinical_Commissioning_Groups_April_2019_Boundaries_EN_BUC_2022   \n",
       "109                           Clinical_Commissioning_Groups_April_2021_EN_BUC_2022   \n",
       "104  Clinical_Commissioning_Groups_April_2020_Ultra_Generalised_Boundaries_EN_2022   \n",
       "52                                               CCG_Apr_2016_UGCB_in_England_2022   \n",
       "55                                            CCG_Apr_2017_UGCB_in_England_V4_2022   \n",
       "57                                               CCG_Apr_2018_UGCB_in_England_2022   \n",
       "61                                              CCG_July_2015_UGCB_in_England_2022   \n",
       "\n",
       "              type  \\\n",
       "98   FeatureServer   \n",
       "109  FeatureServer   \n",
       "104  FeatureServer   \n",
       "52   FeatureServer   \n",
       "55   FeatureServer   \n",
       "57   FeatureServer   \n",
       "61   FeatureServer   \n",
       "\n",
       "                                                                                                                                                                url  \n",
       "98                 https://services1.arcgis.com/ESMARspQHYMw9BZ9/ArcGIS/rest/services/Clinical_Commissioning_Groups_April_2019_Boundaries_EN_BUC_2022/FeatureServer  \n",
       "109                           https://services1.arcgis.com/ESMARspQHYMw9BZ9/ArcGIS/rest/services/Clinical_Commissioning_Groups_April_2021_EN_BUC_2022/FeatureServer  \n",
       "104  https://services1.arcgis.com/ESMARspQHYMw9BZ9/ArcGIS/rest/services/Clinical_Commissioning_Groups_April_2020_Ultra_Generalised_Boundaries_EN_2022/FeatureServer  \n",
       "52                                               https://services1.arcgis.com/ESMARspQHYMw9BZ9/ArcGIS/rest/services/CCG_Apr_2016_UGCB_in_England_2022/FeatureServer  \n",
       "55                                            https://services1.arcgis.com/ESMARspQHYMw9BZ9/ArcGIS/rest/services/CCG_Apr_2017_UGCB_in_England_V4_2022/FeatureServer  \n",
       "57                                               https://services1.arcgis.com/ESMARspQHYMw9BZ9/ArcGIS/rest/services/CCG_Apr_2018_UGCB_in_England_2022/FeatureServer  \n",
       "61                                              https://services1.arcgis.com/ESMARspQHYMw9BZ9/ArcGIS/rest/services/CCG_July_2015_UGCB_in_England_2022/FeatureServer  "
      ]
     },
     "execution_count": 31,
     "metadata": {},
     "output_type": "execute_result"
    }
   ],
   "source": [
    "ccg_shape_directory"
   ]
  },
  {
   "cell_type": "code",
   "execution_count": 34,
   "metadata": {},
   "outputs": [
    {
     "name": "stdout",
     "output_type": "stream",
     "text": [
      "Clinical_Commissioning_Groups_April_2019_Boundaries_EN_BUC_2022.csv successfully saved\n",
      "Clinical_Commissioning_Groups_April_2021_EN_BUC_2022.csv successfully saved\n",
      "Clinical_Commissioning_Groups_April_2020_Ultra_Generalised_Boundaries_EN_2022.csv successfully saved\n",
      "CCG_Apr_2016_UGCB_in_England_2022.csv successfully saved\n",
      "CCG_Apr_2017_UGCB_in_England_V4_2022.csv successfully saved\n",
      "CCG_Apr_2018_UGCB_in_England_2022.csv successfully saved\n",
      "CCG_July_2015_UGCB_in_England_2022.csv successfully saved\n"
     ]
    }
   ],
   "source": [
    "# for i in ccg_shape_directory['name']:\n",
    "#     # print(i)\n",
    "#     save_geojson_from_dataset_name(i)"
   ]
  },
  {
   "attachments": {},
   "cell_type": "markdown",
   "metadata": {},
   "source": [
    "### ltla"
   ]
  },
  {
   "cell_type": "code",
   "execution_count": 42,
   "metadata": {},
   "outputs": [
    {
     "data": {
      "text/html": [
       "<div>\n",
       "<style scoped>\n",
       "    .dataframe tbody tr th:only-of-type {\n",
       "        vertical-align: middle;\n",
       "    }\n",
       "\n",
       "    .dataframe tbody tr th {\n",
       "        vertical-align: top;\n",
       "    }\n",
       "\n",
       "    .dataframe thead th {\n",
       "        text-align: right;\n",
       "    }\n",
       "</style>\n",
       "<table border=\"1\" class=\"dataframe\">\n",
       "  <thead>\n",
       "    <tr style=\"text-align: right;\">\n",
       "      <th></th>\n",
       "      <th>name</th>\n",
       "      <th>type</th>\n",
       "      <th>url</th>\n",
       "    </tr>\n",
       "  </thead>\n",
       "  <tbody>\n",
       "    <tr>\n",
       "      <th>763</th>\n",
       "      <td>Local_Authority_Districts_April_2019_UK_BUC_2022</td>\n",
       "      <td>FeatureServer</td>\n",
       "      <td>https://services1.arcgis.com/ESMARspQHYMw9BZ9/ArcGIS/rest/services/Local_Authority_Districts_April_2019_UK_BUC_2022/FeatureServer</td>\n",
       "    </tr>\n",
       "    <tr>\n",
       "      <th>792</th>\n",
       "      <td>Local_Authority_Districts_December_2020_UK_BUC_2022</td>\n",
       "      <td>FeatureServer</td>\n",
       "      <td>https://services1.arcgis.com/ESMARspQHYMw9BZ9/ArcGIS/rest/services/Local_Authority_Districts_December_2020_UK_BUC_2022/FeatureServer</td>\n",
       "    </tr>\n",
       "    <tr>\n",
       "      <th>799</th>\n",
       "      <td>Local_Authority_Districts_December_2021_UK_BUC_2022</td>\n",
       "      <td>FeatureServer</td>\n",
       "      <td>https://services1.arcgis.com/ESMARspQHYMw9BZ9/ArcGIS/rest/services/Local_Authority_Districts_December_2021_UK_BUC_2022/FeatureServer</td>\n",
       "    </tr>\n",
       "    <tr>\n",
       "      <th>802</th>\n",
       "      <td>Local_Authority_Districts_December_2022_Boundaries_UK_BUC</td>\n",
       "      <td>FeatureServer</td>\n",
       "      <td>https://services1.arcgis.com/ESMARspQHYMw9BZ9/ArcGIS/rest/services/Local_Authority_Districts_December_2022_Boundaries_UK_BUC/FeatureServer</td>\n",
       "    </tr>\n",
       "    <tr>\n",
       "      <th>806</th>\n",
       "      <td>Local_Authority_Districts_May_2021_UK_BUC_2022</td>\n",
       "      <td>FeatureServer</td>\n",
       "      <td>https://services1.arcgis.com/ESMARspQHYMw9BZ9/ArcGIS/rest/services/Local_Authority_Districts_May_2021_UK_BUC_2022/FeatureServer</td>\n",
       "    </tr>\n",
       "    <tr>\n",
       "      <th>3134</th>\n",
       "      <td>Local_Authority_Districts_May_2023_UK_BUC</td>\n",
       "      <td>FeatureServer</td>\n",
       "      <td>https://services1.arcgis.com/ESMARspQHYMw9BZ9/ArcGIS/rest/services/Local_Authority_Districts_May_2023_UK_BUC/FeatureServer</td>\n",
       "    </tr>\n",
       "  </tbody>\n",
       "</table>\n",
       "</div>"
      ],
      "text/plain": [
       "                                                           name  \\\n",
       "763            Local_Authority_Districts_April_2019_UK_BUC_2022   \n",
       "792         Local_Authority_Districts_December_2020_UK_BUC_2022   \n",
       "799         Local_Authority_Districts_December_2021_UK_BUC_2022   \n",
       "802   Local_Authority_Districts_December_2022_Boundaries_UK_BUC   \n",
       "806              Local_Authority_Districts_May_2021_UK_BUC_2022   \n",
       "3134                  Local_Authority_Districts_May_2023_UK_BUC   \n",
       "\n",
       "               type  \\\n",
       "763   FeatureServer   \n",
       "792   FeatureServer   \n",
       "799   FeatureServer   \n",
       "802   FeatureServer   \n",
       "806   FeatureServer   \n",
       "3134  FeatureServer   \n",
       "\n",
       "                                                                                                                                             url  \n",
       "763            https://services1.arcgis.com/ESMARspQHYMw9BZ9/ArcGIS/rest/services/Local_Authority_Districts_April_2019_UK_BUC_2022/FeatureServer  \n",
       "792         https://services1.arcgis.com/ESMARspQHYMw9BZ9/ArcGIS/rest/services/Local_Authority_Districts_December_2020_UK_BUC_2022/FeatureServer  \n",
       "799         https://services1.arcgis.com/ESMARspQHYMw9BZ9/ArcGIS/rest/services/Local_Authority_Districts_December_2021_UK_BUC_2022/FeatureServer  \n",
       "802   https://services1.arcgis.com/ESMARspQHYMw9BZ9/ArcGIS/rest/services/Local_Authority_Districts_December_2022_Boundaries_UK_BUC/FeatureServer  \n",
       "806              https://services1.arcgis.com/ESMARspQHYMw9BZ9/ArcGIS/rest/services/Local_Authority_Districts_May_2021_UK_BUC_2022/FeatureServer  \n",
       "3134                  https://services1.arcgis.com/ESMARspQHYMw9BZ9/ArcGIS/rest/services/Local_Authority_Districts_May_2023_UK_BUC/FeatureServer  "
      ]
     },
     "execution_count": 42,
     "metadata": {},
     "output_type": "execute_result"
    }
   ],
   "source": [
    "ltla_shape_directory = pd.concat([shape_name_contains('local_authority_districts', 'uk_buc') # 2016 to 2022\n",
    "])\n",
    "\n",
    "ltla_shape_directory\n",
    "\n",
    "# shape_name_contains('local_authority_districts', 'generalised') # 2018\n",
    "# shape_name_contains('local_authority_districts', 'ugcb') # 2019, 2020"
   ]
  },
  {
   "cell_type": "code",
   "execution_count": 43,
   "metadata": {},
   "outputs": [
    {
     "name": "stdout",
     "output_type": "stream",
     "text": [
      "Local_Authority_Districts_April_2019_UK_BUC_2022.csv successfully saved\n",
      "Local_Authority_Districts_December_2020_UK_BUC_2022.csv successfully saved\n",
      "Local_Authority_Districts_December_2021_UK_BUC_2022.csv successfully saved\n",
      "Local_Authority_Districts_December_2022_Boundaries_UK_BUC.csv successfully saved\n",
      "Local_Authority_Districts_May_2021_UK_BUC_2022.csv successfully saved\n",
      "Local_Authority_Districts_May_2023_UK_BUC.csv successfully saved\n"
     ]
    }
   ],
   "source": [
    "# for i in ltla_shape_directory['name']:\n",
    "#     # print(i)\n",
    "#     save_geojson_from_dataset_name(i)"
   ]
  },
  {
   "attachments": {},
   "cell_type": "markdown",
   "metadata": {},
   "source": [
    "### utla"
   ]
  },
  {
   "cell_type": "code",
   "execution_count": 49,
   "metadata": {},
   "outputs": [],
   "source": [
    "utla_shape_directory = pd.concat([shape_name_contains('counties_and_unitary_authorities', 'ew_buc'), # 2017, 2019\n",
    "                                  shape_name_contains(\"counties_and_unitary_authorities_december_2018\", 'gcb_ew'), # 2018\n",
    "                                  shape_name_contains('counties_and_unitary_authorities', '2020_uk_bgc'), # 2020\n",
    "                                  shape_name_contains('counties_and_unitary_authorities', 'en_buc'), # 2021\n",
    "])"
   ]
  },
  {
   "cell_type": "code",
   "execution_count": 50,
   "metadata": {},
   "outputs": [
    {
     "data": {
      "text/html": [
       "<div>\n",
       "<style scoped>\n",
       "    .dataframe tbody tr th:only-of-type {\n",
       "        vertical-align: middle;\n",
       "    }\n",
       "\n",
       "    .dataframe tbody tr th {\n",
       "        vertical-align: top;\n",
       "    }\n",
       "\n",
       "    .dataframe thead th {\n",
       "        text-align: right;\n",
       "    }\n",
       "</style>\n",
       "<table border=\"1\" class=\"dataframe\">\n",
       "  <thead>\n",
       "    <tr style=\"text-align: right;\">\n",
       "      <th></th>\n",
       "      <th>name</th>\n",
       "      <th>type</th>\n",
       "      <th>url</th>\n",
       "    </tr>\n",
       "  </thead>\n",
       "  <tbody>\n",
       "    <tr>\n",
       "      <th>190</th>\n",
       "      <td>Counties_and_Unitary_Authorities_April_2019_Boundaries_EW_BUC_2022</td>\n",
       "      <td>FeatureServer</td>\n",
       "      <td>https://services1.arcgis.com/ESMARspQHYMw9BZ9/ArcGIS/rest/services/Counties_and_Unitary_Authorities_April_2019_Boundaries_EW_BUC_2022/FeatureServer</td>\n",
       "    </tr>\n",
       "    <tr>\n",
       "      <th>207</th>\n",
       "      <td>Counties_and_Unitary_Authorities_December_2017_EW_BUC_2022</td>\n",
       "      <td>FeatureServer</td>\n",
       "      <td>https://services1.arcgis.com/ESMARspQHYMw9BZ9/ArcGIS/rest/services/Counties_and_Unitary_Authorities_December_2017_EW_BUC_2022/FeatureServer</td>\n",
       "    </tr>\n",
       "    <tr>\n",
       "      <th>213</th>\n",
       "      <td>Counties_and_Unitary_Authorities_December_2018_GCB_EW_2022</td>\n",
       "      <td>FeatureServer</td>\n",
       "      <td>https://services1.arcgis.com/ESMARspQHYMw9BZ9/ArcGIS/rest/services/Counties_and_Unitary_Authorities_December_2018_GCB_EW_2022/FeatureServer</td>\n",
       "    </tr>\n",
       "    <tr>\n",
       "      <th>220</th>\n",
       "      <td>Counties_and_Unitary_Authorities_December_2020_UK_BGC_2022</td>\n",
       "      <td>FeatureServer</td>\n",
       "      <td>https://services1.arcgis.com/ESMARspQHYMw9BZ9/ArcGIS/rest/services/Counties_and_Unitary_Authorities_December_2020_UK_BGC_2022/FeatureServer</td>\n",
       "    </tr>\n",
       "    <tr>\n",
       "      <th>222</th>\n",
       "      <td>Counties_and_Unitary_Authorities_December_2021_EN_BUC</td>\n",
       "      <td>FeatureServer</td>\n",
       "      <td>https://services1.arcgis.com/ESMARspQHYMw9BZ9/ArcGIS/rest/services/Counties_and_Unitary_Authorities_December_2021_EN_BUC/FeatureServer</td>\n",
       "    </tr>\n",
       "    <tr>\n",
       "      <th>227</th>\n",
       "      <td>Counties_and_Unitary_Authorities_December_2022_EN_BUC</td>\n",
       "      <td>FeatureServer</td>\n",
       "      <td>https://services1.arcgis.com/ESMARspQHYMw9BZ9/ArcGIS/rest/services/Counties_and_Unitary_Authorities_December_2022_EN_BUC/FeatureServer</td>\n",
       "    </tr>\n",
       "  </tbody>\n",
       "</table>\n",
       "</div>"
      ],
      "text/plain": [
       "                                                                   name  \\\n",
       "190  Counties_and_Unitary_Authorities_April_2019_Boundaries_EW_BUC_2022   \n",
       "207          Counties_and_Unitary_Authorities_December_2017_EW_BUC_2022   \n",
       "213          Counties_and_Unitary_Authorities_December_2018_GCB_EW_2022   \n",
       "220          Counties_and_Unitary_Authorities_December_2020_UK_BGC_2022   \n",
       "222               Counties_and_Unitary_Authorities_December_2021_EN_BUC   \n",
       "227               Counties_and_Unitary_Authorities_December_2022_EN_BUC   \n",
       "\n",
       "              type  \\\n",
       "190  FeatureServer   \n",
       "207  FeatureServer   \n",
       "213  FeatureServer   \n",
       "220  FeatureServer   \n",
       "222  FeatureServer   \n",
       "227  FeatureServer   \n",
       "\n",
       "                                                                                                                                                     url  \n",
       "190  https://services1.arcgis.com/ESMARspQHYMw9BZ9/ArcGIS/rest/services/Counties_and_Unitary_Authorities_April_2019_Boundaries_EW_BUC_2022/FeatureServer  \n",
       "207          https://services1.arcgis.com/ESMARspQHYMw9BZ9/ArcGIS/rest/services/Counties_and_Unitary_Authorities_December_2017_EW_BUC_2022/FeatureServer  \n",
       "213          https://services1.arcgis.com/ESMARspQHYMw9BZ9/ArcGIS/rest/services/Counties_and_Unitary_Authorities_December_2018_GCB_EW_2022/FeatureServer  \n",
       "220          https://services1.arcgis.com/ESMARspQHYMw9BZ9/ArcGIS/rest/services/Counties_and_Unitary_Authorities_December_2020_UK_BGC_2022/FeatureServer  \n",
       "222               https://services1.arcgis.com/ESMARspQHYMw9BZ9/ArcGIS/rest/services/Counties_and_Unitary_Authorities_December_2021_EN_BUC/FeatureServer  \n",
       "227               https://services1.arcgis.com/ESMARspQHYMw9BZ9/ArcGIS/rest/services/Counties_and_Unitary_Authorities_December_2022_EN_BUC/FeatureServer  "
      ]
     },
     "execution_count": 50,
     "metadata": {},
     "output_type": "execute_result"
    }
   ],
   "source": [
    "utla_shape_directory"
   ]
  },
  {
   "cell_type": "code",
   "execution_count": 51,
   "metadata": {},
   "outputs": [
    {
     "name": "stdout",
     "output_type": "stream",
     "text": [
      "Counties_and_Unitary_Authorities_April_2019_Boundaries_EW_BUC_2022.csv successfully saved\n",
      "Counties_and_Unitary_Authorities_December_2017_EW_BUC_2022.csv successfully saved\n",
      "Counties_and_Unitary_Authorities_December_2018_GCB_EW_2022.csv successfully saved\n",
      "Counties_and_Unitary_Authorities_December_2020_UK_BGC_2022.csv successfully saved\n",
      "Counties_and_Unitary_Authorities_December_2021_EN_BUC.csv successfully saved\n",
      "Counties_and_Unitary_Authorities_December_2022_EN_BUC.csv successfully saved\n"
     ]
    }
   ],
   "source": [
    "# for i in utla_shape_directory['name']:\n",
    "#     # print(i)\n",
    "#     save_geojson_from_dataset_name(i)"
   ]
  },
  {
   "attachments": {},
   "cell_type": "markdown",
   "metadata": {},
   "source": [
    "### region"
   ]
  },
  {
   "cell_type": "code",
   "execution_count": 53,
   "metadata": {},
   "outputs": [
    {
     "data": {
      "text/html": [
       "<div>\n",
       "<style scoped>\n",
       "    .dataframe tbody tr th:only-of-type {\n",
       "        vertical-align: middle;\n",
       "    }\n",
       "\n",
       "    .dataframe tbody tr th {\n",
       "        vertical-align: top;\n",
       "    }\n",
       "\n",
       "    .dataframe thead th {\n",
       "        text-align: right;\n",
       "    }\n",
       "</style>\n",
       "<table border=\"1\" class=\"dataframe\">\n",
       "  <thead>\n",
       "    <tr style=\"text-align: right;\">\n",
       "      <th></th>\n",
       "      <th>name</th>\n",
       "      <th>type</th>\n",
       "      <th>url</th>\n",
       "    </tr>\n",
       "  </thead>\n",
       "  <tbody>\n",
       "    <tr>\n",
       "      <th>1582</th>\n",
       "      <td>Regions_December_2022_EN_BUC</td>\n",
       "      <td>FeatureServer</td>\n",
       "      <td>https://services1.arcgis.com/ESMARspQHYMw9BZ9/ArcGIS/rest/services/Regions_December_2022_EN_BUC/FeatureServer</td>\n",
       "    </tr>\n",
       "  </tbody>\n",
       "</table>\n",
       "</div>"
      ],
      "text/plain": [
       "                              name           type  \\\n",
       "1582  Regions_December_2022_EN_BUC  FeatureServer   \n",
       "\n",
       "                                                                                                                url  \n",
       "1582  https://services1.arcgis.com/ESMARspQHYMw9BZ9/ArcGIS/rest/services/Regions_December_2022_EN_BUC/FeatureServer  "
      ]
     },
     "execution_count": 53,
     "metadata": {},
     "output_type": "execute_result"
    }
   ],
   "source": [
    "region_shape_directory = pd.concat([shape_name_contains('Regions_December_2022_EN_BUC', '')\n",
    "])\n",
    "\n",
    "region_shape_directory"
   ]
  },
  {
   "cell_type": "code",
   "execution_count": 54,
   "metadata": {},
   "outputs": [
    {
     "name": "stdout",
     "output_type": "stream",
     "text": [
      "Regions_December_2022_EN_BUC.csv successfully saved\n"
     ]
    }
   ],
   "source": [
    "# save_geojson_from_dataset_name(region_shape_directory['name'].values[0])"
   ]
  },
  {
   "attachments": {},
   "cell_type": "markdown",
   "metadata": {},
   "source": [
    "### STPs (pre Apr 2020) and STPs (from Apr 2020)"
   ]
  },
  {
   "cell_type": "code",
   "execution_count": 62,
   "metadata": {},
   "outputs": [],
   "source": [
    "stp_shape_directory = pd.concat([shape_name_contains('sustainability_and_transformation', 'buc'), # 2018, 2021\n",
    "                                 shape_name_contains('stp', '_gcb') # 2017, 2019, 2020\n",
    "])"
   ]
  },
  {
   "cell_type": "code",
   "execution_count": 63,
   "metadata": {},
   "outputs": [
    {
     "data": {
      "text/html": [
       "<div>\n",
       "<style scoped>\n",
       "    .dataframe tbody tr th:only-of-type {\n",
       "        vertical-align: middle;\n",
       "    }\n",
       "\n",
       "    .dataframe tbody tr th {\n",
       "        vertical-align: top;\n",
       "    }\n",
       "\n",
       "    .dataframe thead th {\n",
       "        text-align: right;\n",
       "    }\n",
       "</style>\n",
       "<table border=\"1\" class=\"dataframe\">\n",
       "  <thead>\n",
       "    <tr style=\"text-align: right;\">\n",
       "      <th></th>\n",
       "      <th>name</th>\n",
       "      <th>type</th>\n",
       "      <th>url</th>\n",
       "    </tr>\n",
       "  </thead>\n",
       "  <tbody>\n",
       "    <tr>\n",
       "      <th>1697</th>\n",
       "      <td>Sustainability_and_Transformation_Partnerships_April_2018_EN_BUC_2022</td>\n",
       "      <td>FeatureServer</td>\n",
       "      <td>https://services1.arcgis.com/ESMARspQHYMw9BZ9/ArcGIS/rest/services/Sustainability_and_Transformation_Partnerships_April_2018_EN_BUC_2022/FeatureServer</td>\n",
       "    </tr>\n",
       "    <tr>\n",
       "      <th>1703</th>\n",
       "      <td>Sustainability_and_Transformation_Partnerships_April_2021_EN_BUC_V2_2022</td>\n",
       "      <td>FeatureServer</td>\n",
       "      <td>https://services1.arcgis.com/ESMARspQHYMw9BZ9/ArcGIS/rest/services/Sustainability_and_Transformation_Partnerships_April_2021_EN_BUC_V2_2022/FeatureServer</td>\n",
       "    </tr>\n",
       "    <tr>\n",
       "      <th>1667</th>\n",
       "      <td>STP_Apr_2019_GCB_in_England_2022</td>\n",
       "      <td>FeatureServer</td>\n",
       "      <td>https://services1.arcgis.com/ESMARspQHYMw9BZ9/ArcGIS/rest/services/STP_Apr_2019_GCB_in_England_2022/FeatureServer</td>\n",
       "    </tr>\n",
       "    <tr>\n",
       "      <th>1671</th>\n",
       "      <td>STP_Apr_2020_GCB_in_England_2022</td>\n",
       "      <td>FeatureServer</td>\n",
       "      <td>https://services1.arcgis.com/ESMARspQHYMw9BZ9/ArcGIS/rest/services/STP_Apr_2020_GCB_in_England_2022/FeatureServer</td>\n",
       "    </tr>\n",
       "    <tr>\n",
       "      <th>1675</th>\n",
       "      <td>STP_Feb_2017_GCB_in_England_2022</td>\n",
       "      <td>FeatureServer</td>\n",
       "      <td>https://services1.arcgis.com/ESMARspQHYMw9BZ9/ArcGIS/rest/services/STP_Feb_2017_GCB_in_England_2022/FeatureServer</td>\n",
       "    </tr>\n",
       "  </tbody>\n",
       "</table>\n",
       "</div>"
      ],
      "text/plain": [
       "                                                                          name  \\\n",
       "1697     Sustainability_and_Transformation_Partnerships_April_2018_EN_BUC_2022   \n",
       "1703  Sustainability_and_Transformation_Partnerships_April_2021_EN_BUC_V2_2022   \n",
       "1667                                          STP_Apr_2019_GCB_in_England_2022   \n",
       "1671                                          STP_Apr_2020_GCB_in_England_2022   \n",
       "1675                                          STP_Feb_2017_GCB_in_England_2022   \n",
       "\n",
       "               type  \\\n",
       "1697  FeatureServer   \n",
       "1703  FeatureServer   \n",
       "1667  FeatureServer   \n",
       "1671  FeatureServer   \n",
       "1675  FeatureServer   \n",
       "\n",
       "                                                                                                                                                            url  \n",
       "1697     https://services1.arcgis.com/ESMARspQHYMw9BZ9/ArcGIS/rest/services/Sustainability_and_Transformation_Partnerships_April_2018_EN_BUC_2022/FeatureServer  \n",
       "1703  https://services1.arcgis.com/ESMARspQHYMw9BZ9/ArcGIS/rest/services/Sustainability_and_Transformation_Partnerships_April_2021_EN_BUC_V2_2022/FeatureServer  \n",
       "1667                                          https://services1.arcgis.com/ESMARspQHYMw9BZ9/ArcGIS/rest/services/STP_Apr_2019_GCB_in_England_2022/FeatureServer  \n",
       "1671                                          https://services1.arcgis.com/ESMARspQHYMw9BZ9/ArcGIS/rest/services/STP_Apr_2020_GCB_in_England_2022/FeatureServer  \n",
       "1675                                          https://services1.arcgis.com/ESMARspQHYMw9BZ9/ArcGIS/rest/services/STP_Feb_2017_GCB_in_England_2022/FeatureServer  "
      ]
     },
     "execution_count": 63,
     "metadata": {},
     "output_type": "execute_result"
    }
   ],
   "source": [
    "stp_shape_directory"
   ]
  },
  {
   "cell_type": "code",
   "execution_count": 64,
   "metadata": {},
   "outputs": [
    {
     "name": "stdout",
     "output_type": "stream",
     "text": [
      "Sustainability_and_Transformation_Partnerships_April_2018_EN_BUC_2022.csv successfully saved\n",
      "Sustainability_and_Transformation_Partnerships_April_2021_EN_BUC_V2_2022.csv successfully saved\n",
      "STP_Apr_2019_GCB_in_England_2022.csv successfully saved\n",
      "STP_Apr_2020_GCB_in_England_2022.csv successfully saved\n",
      "STP_Feb_2017_GCB_in_England_2022.csv successfully saved\n"
     ]
    }
   ],
   "source": [
    "# for i in stp_shape_directory['name']:\n",
    "#     save_geojson_from_dataset_name(i)"
   ]
  },
  {
   "cell_type": "code",
   "execution_count": null,
   "metadata": {},
   "outputs": [],
   "source": []
  }
 ],
 "metadata": {
  "kernelspec": {
   "display_name": ".venv",
   "language": "python",
   "name": "python3"
  },
  "language_info": {
   "codemirror_mode": {
    "name": "ipython",
    "version": 3
   },
   "file_extension": ".py",
   "mimetype": "text/x-python",
   "name": "python",
   "nbconvert_exporter": "python",
   "pygments_lexer": "ipython3",
   "version": "3.11.1"
  },
  "orig_nbformat": 4
 },
 "nbformat": 4,
 "nbformat_minor": 2
}
