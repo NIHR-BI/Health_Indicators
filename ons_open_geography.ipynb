{
 "cells": [
  {
   "attachments": {},
   "cell_type": "markdown",
   "metadata": {},
   "source": [
    "https://www.api.gov.uk/ons/open-geography-portal/#open-geography-portal"
   ]
  },
  {
   "cell_type": "markdown",
   "metadata": {},
   "source": [
    "# Libraries"
   ]
  },
  {
   "cell_type": "code",
   "execution_count": 1,
   "metadata": {},
   "outputs": [],
   "source": [
    "import numpy as np\n",
    "import pandas as pd\n",
    "\n",
    "import json\n",
    "import urllib.request"
   ]
  },
  {
   "cell_type": "code",
   "execution_count": 2,
   "metadata": {},
   "outputs": [],
   "source": [
    "pd.set_option('display.max_columns', None)\n",
    "pd.set_option(\"max_colwidth\", None)"
   ]
  },
  {
   "attachments": {},
   "cell_type": "markdown",
   "metadata": {},
   "source": [
    "## Shape files from ONS\n",
    "\n",
    "https://geoportal.statistics.gov.uk/\n",
    "\n",
    "https://services1.arcgis.com/ESMARspQHYMw9BZ9/ArcGIS/rest/services"
   ]
  },
  {
   "attachments": {},
   "cell_type": "markdown",
   "metadata": {},
   "source": [
    "## Retrieve layer data"
   ]
  },
  {
   "cell_type": "code",
   "execution_count": 74,
   "metadata": {},
   "outputs": [],
   "source": [
    "url = 'https://services1.arcgis.com/ESMARspQHYMw9BZ9/arcgis/rest/services/Clinical_Commissioning_Groups_April_2019_Boundaries_EN_BUC_2022/FeatureServer/0/query?outFields=*&where=1%3D1&f=geojson'\n",
    "\n",
    "region_url = 'https://services1.arcgis.com/ESMARspQHYMw9BZ9/arcgis/rest/services/Regions_December_2022_EN_BUC/FeatureServer/0/query?outFields=*&where=1%3D1&f=geojson'"
   ]
  },
  {
   "cell_type": "code",
   "execution_count": 28,
   "metadata": {},
   "outputs": [],
   "source": [
    "# with urllib.request.urlopen(url) as contents:\n",
    "#     json_data = json.loads(contents.read())\n",
    "# shape_data = pd.json_normalize(json_data['features'])\n",
    "\n",
    "# shape_data.to_csv('test_shape_data.csv')"
   ]
  },
  {
   "cell_type": "code",
   "execution_count": 75,
   "metadata": {},
   "outputs": [],
   "source": [
    "# with urllib.request.urlopen(region_url) as contents:\n",
    "#     json_data = json.loads(contents.read())\n",
    "# region_shape_data = pd.json_normalize(json_data['features'])\n",
    "\n",
    "# region_shape_data.to_csv('test_region_shape_data.csv')"
   ]
  },
  {
   "attachments": {},
   "cell_type": "markdown",
   "metadata": {},
   "source": [
    "## Shape directory"
   ]
  },
  {
   "cell_type": "code",
   "execution_count": 38,
   "metadata": {},
   "outputs": [],
   "source": [
    "shape_directory_url = 'https://services1.arcgis.com/ESMARspQHYMw9BZ9/ArcGIS/rest/services?f=pjson'\n",
    "\n",
    "with urllib.request.urlopen(shape_directory_url) as contents:\n",
    "    shape_directory = json.loads(contents.read())\n",
    "shape_directory = pd.json_normalize(shape_directory['services'])"
   ]
  },
  {
   "cell_type": "code",
   "execution_count": 43,
   "metadata": {},
   "outputs": [],
   "source": [
    "def shape_name_contains(str1:str, str2:str):\n",
    "    str1 = str1.lower()\n",
    "    str2 = str2.lower()\n",
    "    return shape_directory[(shape_directory['name'].str.lower().str.contains(str1)) & (shape_directory['name'].str.lower().str.contains(str2))]"
   ]
  },
  {
   "attachments": {},
   "cell_type": "markdown",
   "metadata": {},
   "source": [
    "### icb"
   ]
  },
  {
   "cell_type": "code",
   "execution_count": 72,
   "metadata": {},
   "outputs": [],
   "source": [
    "icb_shape_directory = shape_name_contains('integrated_care_boards', 'buc')"
   ]
  },
  {
   "cell_type": "code",
   "execution_count": 73,
   "metadata": {},
   "outputs": [
    {
     "data": {
      "text/html": [
       "<div>\n",
       "<style scoped>\n",
       "    .dataframe tbody tr th:only-of-type {\n",
       "        vertical-align: middle;\n",
       "    }\n",
       "\n",
       "    .dataframe tbody tr th {\n",
       "        vertical-align: top;\n",
       "    }\n",
       "\n",
       "    .dataframe thead th {\n",
       "        text-align: right;\n",
       "    }\n",
       "</style>\n",
       "<table border=\"1\" class=\"dataframe\">\n",
       "  <thead>\n",
       "    <tr style=\"text-align: right;\">\n",
       "      <th></th>\n",
       "      <th>name</th>\n",
       "      <th>type</th>\n",
       "      <th>url</th>\n",
       "    </tr>\n",
       "  </thead>\n",
       "  <tbody>\n",
       "    <tr>\n",
       "      <th>2244</th>\n",
       "      <td>Integrated_Care_Boards_(July_2022)_EN_BUC</td>\n",
       "      <td>MapServer</td>\n",
       "      <td>https://services1.arcgis.com/ESMARspQHYMw9BZ9/ArcGIS/rest/services/Integrated_Care_Boards_(July_2022)_EN_BUC/MapServer</td>\n",
       "    </tr>\n",
       "  </tbody>\n",
       "</table>\n",
       "</div>"
      ],
      "text/plain": [
       "                                           name       type  \\\n",
       "2244  Integrated_Care_Boards_(July_2022)_EN_BUC  MapServer   \n",
       "\n",
       "                                                                                                                         url  \n",
       "2244  https://services1.arcgis.com/ESMARspQHYMw9BZ9/ArcGIS/rest/services/Integrated_Care_Boards_(July_2022)_EN_BUC/MapServer  "
      ]
     },
     "execution_count": 73,
     "metadata": {},
     "output_type": "execute_result"
    }
   ],
   "source": [
    "icb_shape_directory"
   ]
  },
  {
   "attachments": {},
   "cell_type": "markdown",
   "metadata": {},
   "source": [
    "### ccg"
   ]
  },
  {
   "cell_type": "code",
   "execution_count": 49,
   "metadata": {},
   "outputs": [],
   "source": [
    "ccg_shape_directory = pd.concat([shape_name_contains('buc', 'clinical_commissioning_groups'), # 2019, 2021\n",
    "                                 shape_name_contains('generalised', 'clinical_commissioning_groups'), # 2020\n",
    "                                 shape_name_contains('ugcb', 'ccg') # 2015 to 2018\n",
    "])"
   ]
  },
  {
   "cell_type": "code",
   "execution_count": 50,
   "metadata": {},
   "outputs": [
    {
     "data": {
      "text/html": [
       "<div>\n",
       "<style scoped>\n",
       "    .dataframe tbody tr th:only-of-type {\n",
       "        vertical-align: middle;\n",
       "    }\n",
       "\n",
       "    .dataframe tbody tr th {\n",
       "        vertical-align: top;\n",
       "    }\n",
       "\n",
       "    .dataframe thead th {\n",
       "        text-align: right;\n",
       "    }\n",
       "</style>\n",
       "<table border=\"1\" class=\"dataframe\">\n",
       "  <thead>\n",
       "    <tr style=\"text-align: right;\">\n",
       "      <th></th>\n",
       "      <th>name</th>\n",
       "      <th>type</th>\n",
       "      <th>url</th>\n",
       "    </tr>\n",
       "  </thead>\n",
       "  <tbody>\n",
       "    <tr>\n",
       "      <th>97</th>\n",
       "      <td>Clinical_Commissioning_Groups_April_2019_Boundaries_EN_BUC_2022</td>\n",
       "      <td>FeatureServer</td>\n",
       "      <td>https://services1.arcgis.com/ESMARspQHYMw9BZ9/ArcGIS/rest/services/Clinical_Commissioning_Groups_April_2019_Boundaries_EN_BUC_2022/FeatureServer</td>\n",
       "    </tr>\n",
       "    <tr>\n",
       "      <th>108</th>\n",
       "      <td>Clinical_Commissioning_Groups_April_2021_EN_BUC_2022</td>\n",
       "      <td>FeatureServer</td>\n",
       "      <td>https://services1.arcgis.com/ESMARspQHYMw9BZ9/ArcGIS/rest/services/Clinical_Commissioning_Groups_April_2021_EN_BUC_2022/FeatureServer</td>\n",
       "    </tr>\n",
       "    <tr>\n",
       "      <th>1928</th>\n",
       "      <td>Clinical_Commissioning_Groups_(April_2019)_Boundaries_EN_BUC</td>\n",
       "      <td>MapServer</td>\n",
       "      <td>https://services1.arcgis.com/ESMARspQHYMw9BZ9/ArcGIS/rest/services/Clinical_Commissioning_Groups_(April_2019)_Boundaries_EN_BUC/MapServer</td>\n",
       "    </tr>\n",
       "    <tr>\n",
       "      <th>1937</th>\n",
       "      <td>Clinical_Commissioning_Groups_(April_2021)_EN_BUC</td>\n",
       "      <td>MapServer</td>\n",
       "      <td>https://services1.arcgis.com/ESMARspQHYMw9BZ9/ArcGIS/rest/services/Clinical_Commissioning_Groups_(April_2021)_EN_BUC/MapServer</td>\n",
       "    </tr>\n",
       "    <tr>\n",
       "      <th>103</th>\n",
       "      <td>Clinical_Commissioning_Groups_April_2020_Ultra_Generalised_Boundaries_EN_2022</td>\n",
       "      <td>FeatureServer</td>\n",
       "      <td>https://services1.arcgis.com/ESMARspQHYMw9BZ9/ArcGIS/rest/services/Clinical_Commissioning_Groups_April_2020_Ultra_Generalised_Boundaries_EN_2022/FeatureServer</td>\n",
       "    </tr>\n",
       "    <tr>\n",
       "      <th>1932</th>\n",
       "      <td>Clinical_Commissioning_Groups_(April_2020)_Ultra_Generalised_Boundaries_EN</td>\n",
       "      <td>MapServer</td>\n",
       "      <td>https://services1.arcgis.com/ESMARspQHYMw9BZ9/ArcGIS/rest/services/Clinical_Commissioning_Groups_(April_2020)_Ultra_Generalised_Boundaries_EN/MapServer</td>\n",
       "    </tr>\n",
       "    <tr>\n",
       "      <th>51</th>\n",
       "      <td>CCG_Apr_2016_UGCB_in_England_2022</td>\n",
       "      <td>FeatureServer</td>\n",
       "      <td>https://services1.arcgis.com/ESMARspQHYMw9BZ9/ArcGIS/rest/services/CCG_Apr_2016_UGCB_in_England_2022/FeatureServer</td>\n",
       "    </tr>\n",
       "    <tr>\n",
       "      <th>54</th>\n",
       "      <td>CCG_Apr_2017_UGCB_in_England_V4_2022</td>\n",
       "      <td>FeatureServer</td>\n",
       "      <td>https://services1.arcgis.com/ESMARspQHYMw9BZ9/ArcGIS/rest/services/CCG_Apr_2017_UGCB_in_England_V4_2022/FeatureServer</td>\n",
       "    </tr>\n",
       "    <tr>\n",
       "      <th>56</th>\n",
       "      <td>CCG_Apr_2018_UGCB_in_England_2022</td>\n",
       "      <td>FeatureServer</td>\n",
       "      <td>https://services1.arcgis.com/ESMARspQHYMw9BZ9/ArcGIS/rest/services/CCG_Apr_2018_UGCB_in_England_2022/FeatureServer</td>\n",
       "    </tr>\n",
       "    <tr>\n",
       "      <th>60</th>\n",
       "      <td>CCG_July_2015_UGCB_in_England_2022</td>\n",
       "      <td>FeatureServer</td>\n",
       "      <td>https://services1.arcgis.com/ESMARspQHYMw9BZ9/ArcGIS/rest/services/CCG_July_2015_UGCB_in_England_2022/FeatureServer</td>\n",
       "    </tr>\n",
       "    <tr>\n",
       "      <th>1909</th>\n",
       "      <td>CCG_(Apr_2016)_UGCB_in_England</td>\n",
       "      <td>MapServer</td>\n",
       "      <td>https://services1.arcgis.com/ESMARspQHYMw9BZ9/ArcGIS/rest/services/CCG_(Apr_2016)_UGCB_in_England/MapServer</td>\n",
       "    </tr>\n",
       "    <tr>\n",
       "      <th>1912</th>\n",
       "      <td>CCG_(Apr_2017)_UGCB_in_England_V4</td>\n",
       "      <td>MapServer</td>\n",
       "      <td>https://services1.arcgis.com/ESMARspQHYMw9BZ9/ArcGIS/rest/services/CCG_(Apr_2017)_UGCB_in_England_V4/MapServer</td>\n",
       "    </tr>\n",
       "    <tr>\n",
       "      <th>1913</th>\n",
       "      <td>CCG_(Apr_2018)_UGCB_in_England</td>\n",
       "      <td>MapServer</td>\n",
       "      <td>https://services1.arcgis.com/ESMARspQHYMw9BZ9/ArcGIS/rest/services/CCG_(Apr_2018)_UGCB_in_England/MapServer</td>\n",
       "    </tr>\n",
       "    <tr>\n",
       "      <th>1917</th>\n",
       "      <td>CCG_(July_2015)_UGCB_in_England</td>\n",
       "      <td>MapServer</td>\n",
       "      <td>https://services1.arcgis.com/ESMARspQHYMw9BZ9/ArcGIS/rest/services/CCG_(July_2015)_UGCB_in_England/MapServer</td>\n",
       "    </tr>\n",
       "  </tbody>\n",
       "</table>\n",
       "</div>"
      ],
      "text/plain": [
       "                                                                               name  \\\n",
       "97                  Clinical_Commissioning_Groups_April_2019_Boundaries_EN_BUC_2022   \n",
       "108                            Clinical_Commissioning_Groups_April_2021_EN_BUC_2022   \n",
       "1928                   Clinical_Commissioning_Groups_(April_2019)_Boundaries_EN_BUC   \n",
       "1937                              Clinical_Commissioning_Groups_(April_2021)_EN_BUC   \n",
       "103   Clinical_Commissioning_Groups_April_2020_Ultra_Generalised_Boundaries_EN_2022   \n",
       "1932     Clinical_Commissioning_Groups_(April_2020)_Ultra_Generalised_Boundaries_EN   \n",
       "51                                                CCG_Apr_2016_UGCB_in_England_2022   \n",
       "54                                             CCG_Apr_2017_UGCB_in_England_V4_2022   \n",
       "56                                                CCG_Apr_2018_UGCB_in_England_2022   \n",
       "60                                               CCG_July_2015_UGCB_in_England_2022   \n",
       "1909                                                 CCG_(Apr_2016)_UGCB_in_England   \n",
       "1912                                              CCG_(Apr_2017)_UGCB_in_England_V4   \n",
       "1913                                                 CCG_(Apr_2018)_UGCB_in_England   \n",
       "1917                                                CCG_(July_2015)_UGCB_in_England   \n",
       "\n",
       "               type  \\\n",
       "97    FeatureServer   \n",
       "108   FeatureServer   \n",
       "1928      MapServer   \n",
       "1937      MapServer   \n",
       "103   FeatureServer   \n",
       "1932      MapServer   \n",
       "51    FeatureServer   \n",
       "54    FeatureServer   \n",
       "56    FeatureServer   \n",
       "60    FeatureServer   \n",
       "1909      MapServer   \n",
       "1912      MapServer   \n",
       "1913      MapServer   \n",
       "1917      MapServer   \n",
       "\n",
       "                                                                                                                                                                 url  \n",
       "97                  https://services1.arcgis.com/ESMARspQHYMw9BZ9/ArcGIS/rest/services/Clinical_Commissioning_Groups_April_2019_Boundaries_EN_BUC_2022/FeatureServer  \n",
       "108                            https://services1.arcgis.com/ESMARspQHYMw9BZ9/ArcGIS/rest/services/Clinical_Commissioning_Groups_April_2021_EN_BUC_2022/FeatureServer  \n",
       "1928                       https://services1.arcgis.com/ESMARspQHYMw9BZ9/ArcGIS/rest/services/Clinical_Commissioning_Groups_(April_2019)_Boundaries_EN_BUC/MapServer  \n",
       "1937                                  https://services1.arcgis.com/ESMARspQHYMw9BZ9/ArcGIS/rest/services/Clinical_Commissioning_Groups_(April_2021)_EN_BUC/MapServer  \n",
       "103   https://services1.arcgis.com/ESMARspQHYMw9BZ9/ArcGIS/rest/services/Clinical_Commissioning_Groups_April_2020_Ultra_Generalised_Boundaries_EN_2022/FeatureServer  \n",
       "1932         https://services1.arcgis.com/ESMARspQHYMw9BZ9/ArcGIS/rest/services/Clinical_Commissioning_Groups_(April_2020)_Ultra_Generalised_Boundaries_EN/MapServer  \n",
       "51                                                https://services1.arcgis.com/ESMARspQHYMw9BZ9/ArcGIS/rest/services/CCG_Apr_2016_UGCB_in_England_2022/FeatureServer  \n",
       "54                                             https://services1.arcgis.com/ESMARspQHYMw9BZ9/ArcGIS/rest/services/CCG_Apr_2017_UGCB_in_England_V4_2022/FeatureServer  \n",
       "56                                                https://services1.arcgis.com/ESMARspQHYMw9BZ9/ArcGIS/rest/services/CCG_Apr_2018_UGCB_in_England_2022/FeatureServer  \n",
       "60                                               https://services1.arcgis.com/ESMARspQHYMw9BZ9/ArcGIS/rest/services/CCG_July_2015_UGCB_in_England_2022/FeatureServer  \n",
       "1909                                                     https://services1.arcgis.com/ESMARspQHYMw9BZ9/ArcGIS/rest/services/CCG_(Apr_2016)_UGCB_in_England/MapServer  \n",
       "1912                                                  https://services1.arcgis.com/ESMARspQHYMw9BZ9/ArcGIS/rest/services/CCG_(Apr_2017)_UGCB_in_England_V4/MapServer  \n",
       "1913                                                     https://services1.arcgis.com/ESMARspQHYMw9BZ9/ArcGIS/rest/services/CCG_(Apr_2018)_UGCB_in_England/MapServer  \n",
       "1917                                                    https://services1.arcgis.com/ESMARspQHYMw9BZ9/ArcGIS/rest/services/CCG_(July_2015)_UGCB_in_England/MapServer  "
      ]
     },
     "execution_count": 50,
     "metadata": {},
     "output_type": "execute_result"
    }
   ],
   "source": [
    "ccg_shape_directory"
   ]
  },
  {
   "attachments": {},
   "cell_type": "markdown",
   "metadata": {},
   "source": [
    "### ltla"
   ]
  },
  {
   "cell_type": "code",
   "execution_count": 56,
   "metadata": {},
   "outputs": [],
   "source": [
    "ltla_shape_directory = pd.concat([shape_name_contains('local_authority_districts', 'buc') # 2016 to 2022\n",
    "])\n",
    "\n",
    "# shape_name_contains('local_authority_districts', 'generalised') # 2018\n",
    "# shape_name_contains('local_authority_districts', 'ugcb') # 2019, 2020"
   ]
  },
  {
   "attachments": {},
   "cell_type": "markdown",
   "metadata": {},
   "source": [
    "### utla"
   ]
  },
  {
   "cell_type": "code",
   "execution_count": 68,
   "metadata": {},
   "outputs": [
    {
     "name": "stderr",
     "output_type": "stream",
     "text": [
      "C:\\Users\\medssam\\AppData\\Local\\Temp\\ipykernel_1400\\3842358801.py:4: UserWarning: This pattern is interpreted as a regular expression, and has match groups. To actually get the groups, use str.extract.\n",
      "  return shape_directory[(shape_directory['name'].str.lower().str.contains(str1)) & (shape_directory['name'].str.lower().str.contains(str2))]\n"
     ]
    }
   ],
   "source": [
    "utla_shape_directory = pd.concat([shape_name_contains('counties_and_unitary_authorities', 'ew_buc'), # 2017, 2019\n",
    "                                  shape_name_contains('counties_and_unitary_authorities_(december_2018)', 'gcb_ew'), # 2018\n",
    "                                  shape_name_contains('counties_and_unitary_authorities', '2020_uk_bgc'), # 2020\n",
    "                                  shape_name_contains('counties_and_unitary_authorities', 'en_buc'), # 2021\n",
    "])"
   ]
  },
  {
   "cell_type": "code",
   "execution_count": 69,
   "metadata": {},
   "outputs": [
    {
     "data": {
      "text/html": [
       "<div>\n",
       "<style scoped>\n",
       "    .dataframe tbody tr th:only-of-type {\n",
       "        vertical-align: middle;\n",
       "    }\n",
       "\n",
       "    .dataframe tbody tr th {\n",
       "        vertical-align: top;\n",
       "    }\n",
       "\n",
       "    .dataframe thead th {\n",
       "        text-align: right;\n",
       "    }\n",
       "</style>\n",
       "<table border=\"1\" class=\"dataframe\">\n",
       "  <thead>\n",
       "    <tr style=\"text-align: right;\">\n",
       "      <th></th>\n",
       "      <th>name</th>\n",
       "      <th>type</th>\n",
       "      <th>url</th>\n",
       "    </tr>\n",
       "  </thead>\n",
       "  <tbody>\n",
       "    <tr>\n",
       "      <th>188</th>\n",
       "      <td>Counties_and_Unitary_Authorities_April_2019_Boundaries_EW_BUC_2022</td>\n",
       "      <td>FeatureServer</td>\n",
       "      <td>https://services1.arcgis.com/ESMARspQHYMw9BZ9/ArcGIS/rest/services/Counties_and_Unitary_Authorities_April_2019_Boundaries_EW_BUC_2022/FeatureServer</td>\n",
       "    </tr>\n",
       "    <tr>\n",
       "      <th>205</th>\n",
       "      <td>Counties_and_Unitary_Authorities_December_2017_EW_BUC_2022</td>\n",
       "      <td>FeatureServer</td>\n",
       "      <td>https://services1.arcgis.com/ESMARspQHYMw9BZ9/ArcGIS/rest/services/Counties_and_Unitary_Authorities_December_2017_EW_BUC_2022/FeatureServer</td>\n",
       "    </tr>\n",
       "    <tr>\n",
       "      <th>2038</th>\n",
       "      <td>Counties_and_Unitary_Authorities_(April_2019)_Boundaries_EW_BUC</td>\n",
       "      <td>MapServer</td>\n",
       "      <td>https://services1.arcgis.com/ESMARspQHYMw9BZ9/ArcGIS/rest/services/Counties_and_Unitary_Authorities_(April_2019)_Boundaries_EW_BUC/MapServer</td>\n",
       "    </tr>\n",
       "    <tr>\n",
       "      <th>2056</th>\n",
       "      <td>Counties_and_Unitary_Authorities_(December_2017)_EW_BUC</td>\n",
       "      <td>MapServer</td>\n",
       "      <td>https://services1.arcgis.com/ESMARspQHYMw9BZ9/ArcGIS/rest/services/Counties_and_Unitary_Authorities_(December_2017)_EW_BUC/MapServer</td>\n",
       "    </tr>\n",
       "    <tr>\n",
       "      <th>211</th>\n",
       "      <td>Counties_and_Unitary_Authorities_December_2018_GCB_EW_2022</td>\n",
       "      <td>FeatureServer</td>\n",
       "      <td>https://services1.arcgis.com/ESMARspQHYMw9BZ9/ArcGIS/rest/services/Counties_and_Unitary_Authorities_December_2018_GCB_EW_2022/FeatureServer</td>\n",
       "    </tr>\n",
       "    <tr>\n",
       "      <th>218</th>\n",
       "      <td>Counties_and_Unitary_Authorities_December_2020_UK_BGC_2022</td>\n",
       "      <td>FeatureServer</td>\n",
       "      <td>https://services1.arcgis.com/ESMARspQHYMw9BZ9/ArcGIS/rest/services/Counties_and_Unitary_Authorities_December_2020_UK_BGC_2022/FeatureServer</td>\n",
       "    </tr>\n",
       "    <tr>\n",
       "      <th>220</th>\n",
       "      <td>Counties_and_Unitary_Authorities_December_2021_EN_BUC</td>\n",
       "      <td>FeatureServer</td>\n",
       "      <td>https://services1.arcgis.com/ESMARspQHYMw9BZ9/ArcGIS/rest/services/Counties_and_Unitary_Authorities_December_2021_EN_BUC/FeatureServer</td>\n",
       "    </tr>\n",
       "  </tbody>\n",
       "</table>\n",
       "</div>"
      ],
      "text/plain": [
       "                                                                    name  \\\n",
       "188   Counties_and_Unitary_Authorities_April_2019_Boundaries_EW_BUC_2022   \n",
       "205           Counties_and_Unitary_Authorities_December_2017_EW_BUC_2022   \n",
       "2038     Counties_and_Unitary_Authorities_(April_2019)_Boundaries_EW_BUC   \n",
       "2056             Counties_and_Unitary_Authorities_(December_2017)_EW_BUC   \n",
       "211           Counties_and_Unitary_Authorities_December_2018_GCB_EW_2022   \n",
       "218           Counties_and_Unitary_Authorities_December_2020_UK_BGC_2022   \n",
       "220                Counties_and_Unitary_Authorities_December_2021_EN_BUC   \n",
       "\n",
       "               type  \\\n",
       "188   FeatureServer   \n",
       "205   FeatureServer   \n",
       "2038      MapServer   \n",
       "2056      MapServer   \n",
       "211   FeatureServer   \n",
       "218   FeatureServer   \n",
       "220   FeatureServer   \n",
       "\n",
       "                                                                                                                                                      url  \n",
       "188   https://services1.arcgis.com/ESMARspQHYMw9BZ9/ArcGIS/rest/services/Counties_and_Unitary_Authorities_April_2019_Boundaries_EW_BUC_2022/FeatureServer  \n",
       "205           https://services1.arcgis.com/ESMARspQHYMw9BZ9/ArcGIS/rest/services/Counties_and_Unitary_Authorities_December_2017_EW_BUC_2022/FeatureServer  \n",
       "2038         https://services1.arcgis.com/ESMARspQHYMw9BZ9/ArcGIS/rest/services/Counties_and_Unitary_Authorities_(April_2019)_Boundaries_EW_BUC/MapServer  \n",
       "2056                 https://services1.arcgis.com/ESMARspQHYMw9BZ9/ArcGIS/rest/services/Counties_and_Unitary_Authorities_(December_2017)_EW_BUC/MapServer  \n",
       "211           https://services1.arcgis.com/ESMARspQHYMw9BZ9/ArcGIS/rest/services/Counties_and_Unitary_Authorities_December_2018_GCB_EW_2022/FeatureServer  \n",
       "218           https://services1.arcgis.com/ESMARspQHYMw9BZ9/ArcGIS/rest/services/Counties_and_Unitary_Authorities_December_2020_UK_BGC_2022/FeatureServer  \n",
       "220                https://services1.arcgis.com/ESMARspQHYMw9BZ9/ArcGIS/rest/services/Counties_and_Unitary_Authorities_December_2021_EN_BUC/FeatureServer  "
      ]
     },
     "execution_count": 69,
     "metadata": {},
     "output_type": "execute_result"
    }
   ],
   "source": [
    "utla_shape_directory"
   ]
  },
  {
   "attachments": {},
   "cell_type": "markdown",
   "metadata": {},
   "source": [
    "### region"
   ]
  },
  {
   "cell_type": "code",
   "execution_count": 80,
   "metadata": {},
   "outputs": [
    {
     "name": "stderr",
     "output_type": "stream",
     "text": [
      "C:\\Users\\medssam\\AppData\\Local\\Temp\\ipykernel_1400\\3842358801.py:4: UserWarning: This pattern is interpreted as a regular expression, and has match groups. To actually get the groups, use str.extract.\n",
      "  return shape_directory[(shape_directory['name'].str.lower().str.contains(str1)) & (shape_directory['name'].str.lower().str.contains(str2))]\n"
     ]
    }
   ],
   "source": [
    "region_shape_directory = pd.concat([shape_name_contains('Regions_(December_2022)_EN_BUC', '')\n",
    "])"
   ]
  },
  {
   "attachments": {},
   "cell_type": "markdown",
   "metadata": {},
   "source": [
    "### "
   ]
  },
  {
   "cell_type": "code",
   "execution_count": null,
   "metadata": {},
   "outputs": [],
   "source": []
  }
 ],
 "metadata": {
  "kernelspec": {
   "display_name": ".venv",
   "language": "python",
   "name": "python3"
  },
  "language_info": {
   "codemirror_mode": {
    "name": "ipython",
    "version": 3
   },
   "file_extension": ".py",
   "mimetype": "text/x-python",
   "name": "python",
   "nbconvert_exporter": "python",
   "pygments_lexer": "ipython3",
   "version": "3.11.1"
  },
  "orig_nbformat": 4
 },
 "nbformat": 4,
 "nbformat_minor": 2
}
