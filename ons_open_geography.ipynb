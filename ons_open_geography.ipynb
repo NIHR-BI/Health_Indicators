{
 "cells": [
  {
   "attachments": {},
   "cell_type": "markdown",
   "metadata": {},
   "source": [
    "https://www.api.gov.uk/ons/open-geography-portal/#open-geography-portal"
   ]
  },
  {
   "cell_type": "markdown",
   "metadata": {},
   "source": [
    "# Libraries"
   ]
  },
  {
   "cell_type": "code",
   "execution_count": null,
   "metadata": {},
   "outputs": [],
   "source": [
    "!pip install fingertips_py\n",
    "!pip install requests\n",
    "\n",
    "import fingertips_py as ftp\n",
    "import requests\n",
    "import io\n",
    "import matplotlib.pyplot as plt\n",
    "import matplotlib as mpl\n",
    "import numpy as np\n",
    "import pandas as pd\n",
    "\n",
    "import json\n",
    "import urllib.request\n",
    "import re\n",
    "\n",
    "from sklearn.pipeline import Pipeline\n",
    "from sklearn.base import BaseEstimator\n",
    "\n",
    "import os\n",
    "!pip install geopandas\n",
    "import geopandas as gpd\n",
    "\n",
    "!pip install geomet\n",
    "from geomet import wkt\n",
    "\n",
    "import gspread_dataframe as gd\n",
    "\n",
    "import shapely\n",
    "\n",
    "from functools import reduce\n",
    "\n",
    "from google.colab import auth\n",
    "auth.authenticate_user()\n",
    "import gspread\n",
    "from google.auth import default\n",
    "creds, _ = default()\n",
    "gc = gspread.authorize(creds)"
   ]
  },
  {
   "cell_type": "code",
   "execution_count": null,
   "metadata": {},
   "outputs": [],
   "source": [
    "pd.set_option('display.max_columns', None)\n",
    "pd.set_option(\"max_colwidth\", None)"
   ]
  },
  {
   "cell_type": "code",
   "execution_count": null,
   "metadata": {},
   "outputs": [],
   "source": [
    "area_shape_year_dict = {\n",
    "    'from Apr 2021': 202122,\n",
    "    'pre Apr 2019': 1,\n",
    "    '2020/21': 202021,\n",
    "    '2019/20': 201920,\n",
    "    '2018/19': 201819,\n",
    "    '2017/18': 201718,\n",
    "    'No year provided': 9999\n",
    "}"
   ]
  },
  {
   "cell_type": "markdown",
   "metadata": {},
   "source": [
    "## Shape files from ONS\n",
    "\n",
    "https://geoportal.statistics.gov.uk/"
   ]
  },
  {
   "cell_type": "code",
   "execution_count": null,
   "metadata": {},
   "outputs": [],
   "source": [
    "def load_ons_open_geog_data(url, boundary_file=False, drop_geometry=True, england_only=True, code_field=None):\n",
    "    with urllib.request.urlopen(url) as url:\n",
    "        json_data = json.loads(url.read().decode())\n",
    "\n",
    "    data = pd.json_normalize(json_data['features'])\n",
    "    data.columns = [i.replace('attributes.', '') for i in list(data.columns)]\n",
    "\n",
    "    if boundary_file:\n",
    "        if drop_geometry:\n",
    "            data = data.drop('geometry.rings', axis=1)\n",
    "\n",
    "        if england_only:\n",
    "            data = data[data[code_field].str[0] == 'E']\n",
    "\n",
    "    return data"
   ]
  },
  {
   "cell_type": "markdown",
   "metadata": {},
   "source": [
    "Counties and UAs"
   ]
  },
  {
   "cell_type": "code",
   "execution_count": null,
   "metadata": {},
   "outputs": [],
   "source": [
    "counties_uas_dec_2021_url = 'https://services1.arcgis.com/ESMARspQHYMw9BZ9/arcgis/rest/services/Counties_and_Unitary_Authorities_December_2021_UK_BUC/FeatureServer/0/query?where=1%3D1&outFields=CTYUA21CD,CTYUA21NM,CTYUA21NMW&outSR=4326&f=json'\n",
    "\n",
    "counties_uas_dec_2021 = load_ons_open_geog_data(counties_uas_dec_2021_url, boundary_file = True, drop_geometry = False, england_only=True, code_field='CTYUA21CD')\n",
    "\n",
    "counties_uas_dec_2021['geometry.rings']  = '[' + counties_uas_dec_2021['geometry.rings'].astype(str) + ']'\n",
    "\n",
    "counties_uas_dec_2021 = counties_uas_dec_2021.drop('CTYUA21NMW', axis=1)\n",
    "\n",
    "counties_uas_dec_2021 = counties_uas_dec_2021.rename(columns={\"geometry.rings\": \"shape\"})\n",
    "\n",
    "counties_uas_dec_2021['CTYUA21CD'] = counties_uas_dec_2021['CTYUA21CD'] + '_202122'"
   ]
  },
  {
   "cell_type": "code",
   "execution_count": null,
   "metadata": {},
   "outputs": [],
   "source": [
    "counties_uas_dec_2021.head(1)"
   ]
  },
  {
   "cell_type": "code",
   "execution_count": null,
   "metadata": {},
   "outputs": [],
   "source": [
    "# from google.colab import drive\n",
    "# drive.mount('drive')\n",
    "# counties_uas_dec_2021.to_csv('/content/drive/Shared drives/Business Intelligence/Underserved Communities/Themes/Liver disease/counties_uas_dec_2021.csv', index=False)"
   ]
  },
  {
   "cell_type": "markdown",
   "metadata": {},
   "source": [
    "CCGs"
   ]
  },
  {
   "cell_type": "code",
   "execution_count": null,
   "metadata": {},
   "outputs": [],
   "source": [
    "!pip install arcgis --no-deps\n",
    "!pip install cryptography\n",
    "!pip install requests_ntlm\n",
    "!pip install ujson\n",
    "!pip install requests_toolbelt\n",
    "!pip install ntlm_auth\n",
    "!pip install six"
   ]
  },
  {
   "cell_type": "code",
   "execution_count": null,
   "metadata": {},
   "outputs": [],
   "source": [
    "from arcgis.gis import GIS\n",
    "gis=GIS()"
   ]
  },
  {
   "cell_type": "code",
   "execution_count": null,
   "metadata": {},
   "outputs": [],
   "source": [
    "def extract_ons_geoportal_shapes(id, code, name, shape, str_year):\n",
    "    data = gis.content.get(id)\n",
    "\n",
    "    for lyr in data.layers:\n",
    "        print(lyr.properties.name)\n",
    "\n",
    "    for f in data.layers[0].properties.fields:\n",
    "        print(f['name'])\n",
    "\n",
    "    fset = data.layers[0].query(out_sr='4326')\n",
    "    df= fset.sdf #4326 if long lat\n",
    "\n",
    "    print(df.columns)\n",
    "\n",
    "    df = df.dropna(axis=0, subset=[shape])\n",
    "\n",
    "    df[shape] = pd.DataFrame(df[shape].astype(str).str.replace('{\"rings\": ','[').str.replace(', \"spatialReference\": {\"wkid\": 4326, \"latestWkid\": 4326}}',']'))\n",
    "\n",
    "    df_final = df.loc[:, [code, name, shape]]\n",
    "\n",
    "    df_final[code] = df_final[code] + str_year\n",
    "\n",
    "    return df_final"
   ]
  },
  {
   "cell_type": "code",
   "execution_count": null,
   "metadata": {},
   "outputs": [],
   "source": [
    "ccgs_apr_2021_df_final =  extract_ons_geoportal_shapes('d6acd30ad71f4e14b4de808e58d9bc4c', 'CCG21CD', 'CCG21NM', 'SHAPE', '_202122')"
   ]
  },
  {
   "cell_type": "code",
   "execution_count": null,
   "metadata": {},
   "outputs": [],
   "source": [
    "# drive.mount('drive')\n",
    "# ccgs_apr_2021_df_final.to_csv('/content/drive/Shared drives/Business Intelligence/Underserved Communities/Themes/Liver disease/ccgs_apr_2021.csv', index=False)"
   ]
  },
  {
   "cell_type": "code",
   "execution_count": null,
   "metadata": {},
   "outputs": [],
   "source": [
    "ccgs_apr_2019_df_final  = extract_ons_geoportal_shapes('290defe41b3d46fb9a5898ef8977d37f', 'CCG19CD', 'CCG19NM', 'SHAPE', '_201920')"
   ]
  },
  {
   "cell_type": "code",
   "execution_count": null,
   "metadata": {},
   "outputs": [],
   "source": [
    "ccgs_apr_2019_df_final"
   ]
  },
  {
   "cell_type": "code",
   "execution_count": null,
   "metadata": {},
   "outputs": [],
   "source": [
    "ccgs_apr_2019_df_final.CCG19CD.isin(data_prepared[data_prepared['Indicator ID'] == 'iod_2019']['Area Code']).sum()"
   ]
  },
  {
   "cell_type": "code",
   "execution_count": null,
   "metadata": {},
   "outputs": [],
   "source": [
    "# drive.mount('drive')\n",
    "# ccgs_apr_2019_df_final.to_csv('/content/drive/Shared drives/Business Intelligence/Underserved Communities/Themes/Liver disease/ccgs_apr_2019.csv', index=False)"
   ]
  },
  {
   "cell_type": "code",
   "execution_count": null,
   "metadata": {},
   "outputs": [],
   "source": [
    "print(\n",
    "    len(data_prepared['Area Code'].unique()), \n",
    "len(list(ccgs_apr_2019_df_final.CCG19CD.unique()) + \n",
    "list(ccgs_apr_2021_df_final.CCG21CD.unique()) +\n",
    "list(counties_uas_dec_2021.CTYUA21CD.unique()))\n",
    ")\n",
    "\n",
    "(pd.DataFrame(data_prepared['Area Code'].unique()).isin((list(ccgs_apr_2019_df_final.CCG19CD.unique()) + \n",
    "list(ccgs_apr_2021_df_final.CCG21CD.unique()) +\n",
    "list(counties_uas_dec_2021.CTYUA21CD.unique())))\n",
    ").sum()"
   ]
  },
  {
   "cell_type": "markdown",
   "metadata": {},
   "source": [
    "## Shapes"
   ]
  },
  {
   "cell_type": "markdown",
   "metadata": {},
   "source": [
    "### Trust"
   ]
  },
  {
   "cell_type": "code",
   "execution_count": null,
   "metadata": {},
   "outputs": [],
   "source": [
    "ni_trust_dict = {'BHSCT': 'ZT001',\n",
    "                 'NHSCT' : 'ZT002',\n",
    "                 'WHSCT' : 'ZT005',\n",
    "                 'SHSCT' : 'ZT003',\n",
    "                 'SEHSCT' : 'ZT004'}"
   ]
  },
  {
   "cell_type": "code",
   "execution_count": null,
   "metadata": {},
   "outputs": [],
   "source": [
    "os.chdir(root_data_ni)\n",
    "os.listdir()"
   ]
  },
  {
   "cell_type": "code",
   "execution_count": null,
   "metadata": {},
   "outputs": [],
   "source": [
    "trustboundaries = gpd.GeoDataFrame.from_file(root_data_ni + '/trustboundaries.geojson')\n",
    "trustboundaries['geometry_simplified'] = trustboundaries.geometry.simplify(tolerance = 0.01)\n",
    "trustboundaries['geometry_simplified_str'] = trustboundaries.geometry_simplified.astype('str')\n",
    "trustboundaries['shape'] = None\n",
    "\n",
    "for i in range(len(trustboundaries)):\n",
    "    trustboundaries['shape'].iloc[i] = str(wkt.loads(trustboundaries.geometry_simplified_str[i])['coordinates'])\n",
    "\n",
    "trustboundaries['TrustCode'] = trustboundaries['TrustCode'].replace(ni_trust_dict)\n",
    "trustboundaries['TrustCode'] = trustboundaries['TrustCode'] + '_202122'"
   ]
  },
  {
   "cell_type": "code",
   "execution_count": null,
   "metadata": {},
   "outputs": [],
   "source": [
    "trustboundaries.columns"
   ]
  },
  {
   "cell_type": "code",
   "execution_count": null,
   "metadata": {},
   "outputs": [],
   "source": [
    "trustboundaries_final = trustboundaries.loc[:, ['TrustName', 'TrustCode', 'shape']]"
   ]
  },
  {
   "cell_type": "code",
   "execution_count": null,
   "metadata": {},
   "outputs": [],
   "source": [
    "trustboundaries_final"
   ]
  },
  {
   "cell_type": "code",
   "execution_count": null,
   "metadata": {},
   "outputs": [],
   "source": [
    "run = False\n",
    "\n",
    "if run ==False:\n",
    "    print(\"This has not run.\")\n",
    "else:\n",
    "    from google.colab import auth\n",
    "    auth.authenticate_user()\n",
    "    import gspread\n",
    "    from google.auth import default\n",
    "    creds, _ = default()\n",
    "    gc = gspread.authorize(creds)\n",
    "\n",
    "    northern_ireland_trustboundaries = gc.open_by_key('1O5RxtTSP2UH372uh7nr_aTlJCBXMyP4mZzTBpKAgTqo')\n",
    "    northern_ireland_trustboundaries = northern_ireland_trustboundaries.worksheet(\"Data\")\n",
    "\n",
    "    gd.set_with_dataframe(northern_ireland_trustboundaries, trustboundaries_final)"
   ]
  },
  {
   "cell_type": "markdown",
   "metadata": {},
   "source": [
    "### Local Government Districts"
   ]
  },
  {
   "cell_type": "code",
   "execution_count": null,
   "metadata": {},
   "outputs": [],
   "source": [
    "ni_lgd_id = 'd7572a9e2f1b4638ab0430785c0da3e8'"
   ]
  },
  {
   "cell_type": "code",
   "execution_count": null,
   "metadata": {},
   "outputs": [],
   "source": [
    "ni_lgd_final =  extract_ons_geoportal_shapes(ni_lgd_id, 'LGDCode', 'LGDNAME', 'SHAPE', '_202122')"
   ]
  },
  {
   "cell_type": "code",
   "execution_count": null,
   "metadata": {},
   "outputs": [],
   "source": [
    "# # get a GeoJSON string representation of the FeatureSet\n",
    "# gjson_string = fset.to_json\n",
    "\n",
    "# # # read GeoJSON string into a dict\n",
    "# gjson_dict = json.loads(gjson_string)\n",
    "\n",
    "# gdf = gpd.GeoDataFrame.from_features(ni_lgd_final['shape'])\n",
    "# # may need to specify CRS and geometry column name after GeoDataFrame construction"
   ]
  },
  {
   "cell_type": "code",
   "execution_count": null,
   "metadata": {},
   "outputs": [],
   "source": [
    "# # get the hosted feature layer\n",
    "# flayer = gis.content.get(ni_lgd_id).layers[0]\n",
    "\n",
    "# # .query() returns a FeatureSet\n",
    "# fset = flayer.query(result_offset = 5)\n",
    "\n",
    "# # # get a GeoJSON string representation of the FeatureSet\n",
    "# # gjson_string = fset.to_geojson\n",
    "\n",
    "# # # read GeoJSON string into a dict\n",
    "# # gjson_dict = json.loads(gjson_string)\n",
    "\n",
    "# # gdf = gpd.GeoDataFrame.from_features(gjson_dict['features'])"
   ]
  },
  {
   "cell_type": "code",
   "execution_count": null,
   "metadata": {},
   "outputs": [],
   "source": [
    "# run = False\n",
    "\n",
    "# if run ==False:\n",
    "#     print(\"This has not run.\")\n",
    "# else:\n",
    "#     from google.colab import auth\n",
    "#     auth.authenticate_user()\n",
    "#     import gspread\n",
    "#     from google.auth import default\n",
    "#     creds, _ = default()\n",
    "#     gc = gspread.authorize(creds)\n",
    "\n",
    "#     northern_ireland_local_government_districts = gc.open_by_key('1CThoGPHzShopzHG-6ItP3781joZ_HRPDAbFqoEyjUrk')\n",
    "#     northern_ireland_local_government_districts = northern_ireland_local_government_districts.worksheet(\"Data\")\n",
    "\n",
    "#     gd.set_with_dataframe(northern_ireland_local_government_districts, ni_lgd)"
   ]
  },
  {
   "cell_type": "code",
   "execution_count": null,
   "metadata": {},
   "outputs": [],
   "source": [
    "lgd = gpd.GeoDataFrame.from_file(root_data_ni + '/Local_Government_Districts.geojson')\n",
    "lgd = lgd.dropna(axis=0, subset=['geometry'])\n",
    "lgd['geometry_simplified'] = lgd.geometry.simplify(tolerance = 0.01)\n",
    "lgd['geometry_simplified_str'] = lgd.geometry_simplified.astype('str')\n",
    "lgd['shape'] = None\n",
    "\n",
    "for i in range(len(lgd)):\n",
    "    lgd['shape'].iloc[i] = str(wkt.loads(lgd.geometry_simplified_str[i])['coordinates'])\n",
    "\n",
    "lgd['LGDCode'] = lgd['LGDCode'] + '_202122'"
   ]
  },
  {
   "cell_type": "code",
   "execution_count": null,
   "metadata": {},
   "outputs": [],
   "source": [
    "lgd.columns"
   ]
  },
  {
   "cell_type": "code",
   "execution_count": null,
   "metadata": {},
   "outputs": [],
   "source": [
    "lgd_final = lgd.loc[:, ['LGDNAME', 'LGDCode', 'shape']]"
   ]
  },
  {
   "cell_type": "code",
   "execution_count": null,
   "metadata": {},
   "outputs": [],
   "source": [
    "run = False\n",
    "\n",
    "if run ==False:\n",
    "    print(\"This has not run.\")\n",
    "else:\n",
    "    from google.colab import auth\n",
    "    auth.authenticate_user()\n",
    "    import gspread\n",
    "    from google.auth import default\n",
    "    creds, _ = default()\n",
    "    gc = gspread.authorize(creds)\n",
    "\n",
    "    northern_ireland_local_government_districts = gc.open_by_key('1CThoGPHzShopzHG-6ItP3781joZ_HRPDAbFqoEyjUrk')\n",
    "    northern_ireland_local_government_districts = northern_ireland_local_government_districts.worksheet(\"Data\")\n",
    "\n",
    "    gd.set_with_dataframe(northern_ireland_local_government_districts, lgd_final)"
   ]
  }
 ],
 "metadata": {
  "language_info": {
   "name": "python"
  },
  "orig_nbformat": 4
 },
 "nbformat": 4,
 "nbformat_minor": 2
}
