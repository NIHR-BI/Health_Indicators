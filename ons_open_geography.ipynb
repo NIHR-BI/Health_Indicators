{
 "cells": [
  {
   "attachments": {},
   "cell_type": "markdown",
   "metadata": {},
   "source": [
    "https://www.api.gov.uk/ons/open-geography-portal/#open-geography-portal"
   ]
  },
  {
   "cell_type": "markdown",
   "metadata": {},
   "source": [
    "# Libraries"
   ]
  },
  {
   "cell_type": "code",
   "execution_count": 1,
   "metadata": {},
   "outputs": [],
   "source": [
    "import numpy as np\n",
    "import pandas as pd\n",
    "\n",
    "import json\n",
    "import urllib.request"
   ]
  },
  {
   "cell_type": "code",
   "execution_count": 2,
   "metadata": {},
   "outputs": [],
   "source": [
    "pd.set_option('display.max_columns', None)\n",
    "pd.set_option(\"max_colwidth\", None)"
   ]
  },
  {
   "attachments": {},
   "cell_type": "markdown",
   "metadata": {},
   "source": [
    "## Shape files from ONS\n",
    "\n",
    "https://geoportal.statistics.gov.uk/\n",
    "\n",
    "https://services1.arcgis.com/ESMARspQHYMw9BZ9/ArcGIS/rest/services"
   ]
  },
  {
   "attachments": {},
   "cell_type": "markdown",
   "metadata": {},
   "source": [
    "## Retrieve layer data"
   ]
  },
  {
   "cell_type": "code",
   "execution_count": 24,
   "metadata": {},
   "outputs": [],
   "source": [
    "url = 'https://services1.arcgis.com/ESMARspQHYMw9BZ9/arcgis/rest/services/Clinical_Commissioning_Groups_April_2019_Boundaries_EN_BUC_2022/FeatureServer/0/query?outFields=*&where=1%3D1&f=geojson'"
   ]
  },
  {
   "cell_type": "code",
   "execution_count": 28,
   "metadata": {},
   "outputs": [],
   "source": [
    "with urllib.request.urlopen(url) as contents:\n",
    "    json_data = json.loads(contents.read())\n",
    "shape_data = pd.json_normalize(json_data['features'])\n",
    "\n",
    "shape_data.to_csv('test_shape_data.csv')"
   ]
  },
  {
   "attachments": {},
   "cell_type": "markdown",
   "metadata": {},
   "source": [
    "## Shape directory"
   ]
  },
  {
   "cell_type": "code",
   "execution_count": 38,
   "metadata": {},
   "outputs": [],
   "source": [
    "shape_directory_url = 'https://services1.arcgis.com/ESMARspQHYMw9BZ9/ArcGIS/rest/services?f=pjson'\n",
    "\n",
    "with urllib.request.urlopen(shape_directory_url) as contents:\n",
    "    shape_directory = json.loads(contents.read())\n",
    "shape_directory = pd.json_normalize(shape_directory['services'])"
   ]
  },
  {
   "cell_type": "code",
   "execution_count": 43,
   "metadata": {},
   "outputs": [],
   "source": [
    "def shape_name_contains(str1:str, str2:str):\n",
    "    str1 = str1.lower()\n",
    "    str2 = str2.lower()\n",
    "    return shape_directory[(shape_directory['name'].str.lower().str.contains(str1)) & (shape_directory['name'].str.lower().str.contains(str2))]"
   ]
  },
  {
   "cell_type": "code",
   "execution_count": 49,
   "metadata": {},
   "outputs": [],
   "source": [
    "ccg_shape_directory = pd.concat([shape_name_contains('buc', 'clinical_commissioning_groups'), # 2019, 2021\n",
    "                                 shape_name_contains('generalised', 'clinical_commissioning_groups'), # 2020\n",
    "                                 shape_name_contains('ugcb', 'ccg') # 2015 to 2018\n",
    "])"
   ]
  },
  {
   "cell_type": "code",
   "execution_count": 50,
   "metadata": {},
   "outputs": [
    {
     "data": {
      "text/html": [
       "<div>\n",
       "<style scoped>\n",
       "    .dataframe tbody tr th:only-of-type {\n",
       "        vertical-align: middle;\n",
       "    }\n",
       "\n",
       "    .dataframe tbody tr th {\n",
       "        vertical-align: top;\n",
       "    }\n",
       "\n",
       "    .dataframe thead th {\n",
       "        text-align: right;\n",
       "    }\n",
       "</style>\n",
       "<table border=\"1\" class=\"dataframe\">\n",
       "  <thead>\n",
       "    <tr style=\"text-align: right;\">\n",
       "      <th></th>\n",
       "      <th>name</th>\n",
       "      <th>type</th>\n",
       "      <th>url</th>\n",
       "    </tr>\n",
       "  </thead>\n",
       "  <tbody>\n",
       "    <tr>\n",
       "      <th>97</th>\n",
       "      <td>Clinical_Commissioning_Groups_April_2019_Boundaries_EN_BUC_2022</td>\n",
       "      <td>FeatureServer</td>\n",
       "      <td>https://services1.arcgis.com/ESMARspQHYMw9BZ9/ArcGIS/rest/services/Clinical_Commissioning_Groups_April_2019_Boundaries_EN_BUC_2022/FeatureServer</td>\n",
       "    </tr>\n",
       "    <tr>\n",
       "      <th>108</th>\n",
       "      <td>Clinical_Commissioning_Groups_April_2021_EN_BUC_2022</td>\n",
       "      <td>FeatureServer</td>\n",
       "      <td>https://services1.arcgis.com/ESMARspQHYMw9BZ9/ArcGIS/rest/services/Clinical_Commissioning_Groups_April_2021_EN_BUC_2022/FeatureServer</td>\n",
       "    </tr>\n",
       "    <tr>\n",
       "      <th>1928</th>\n",
       "      <td>Clinical_Commissioning_Groups_(April_2019)_Boundaries_EN_BUC</td>\n",
       "      <td>MapServer</td>\n",
       "      <td>https://services1.arcgis.com/ESMARspQHYMw9BZ9/ArcGIS/rest/services/Clinical_Commissioning_Groups_(April_2019)_Boundaries_EN_BUC/MapServer</td>\n",
       "    </tr>\n",
       "    <tr>\n",
       "      <th>1937</th>\n",
       "      <td>Clinical_Commissioning_Groups_(April_2021)_EN_BUC</td>\n",
       "      <td>MapServer</td>\n",
       "      <td>https://services1.arcgis.com/ESMARspQHYMw9BZ9/ArcGIS/rest/services/Clinical_Commissioning_Groups_(April_2021)_EN_BUC/MapServer</td>\n",
       "    </tr>\n",
       "    <tr>\n",
       "      <th>103</th>\n",
       "      <td>Clinical_Commissioning_Groups_April_2020_Ultra_Generalised_Boundaries_EN_2022</td>\n",
       "      <td>FeatureServer</td>\n",
       "      <td>https://services1.arcgis.com/ESMARspQHYMw9BZ9/ArcGIS/rest/services/Clinical_Commissioning_Groups_April_2020_Ultra_Generalised_Boundaries_EN_2022/FeatureServer</td>\n",
       "    </tr>\n",
       "    <tr>\n",
       "      <th>1932</th>\n",
       "      <td>Clinical_Commissioning_Groups_(April_2020)_Ultra_Generalised_Boundaries_EN</td>\n",
       "      <td>MapServer</td>\n",
       "      <td>https://services1.arcgis.com/ESMARspQHYMw9BZ9/ArcGIS/rest/services/Clinical_Commissioning_Groups_(April_2020)_Ultra_Generalised_Boundaries_EN/MapServer</td>\n",
       "    </tr>\n",
       "    <tr>\n",
       "      <th>51</th>\n",
       "      <td>CCG_Apr_2016_UGCB_in_England_2022</td>\n",
       "      <td>FeatureServer</td>\n",
       "      <td>https://services1.arcgis.com/ESMARspQHYMw9BZ9/ArcGIS/rest/services/CCG_Apr_2016_UGCB_in_England_2022/FeatureServer</td>\n",
       "    </tr>\n",
       "    <tr>\n",
       "      <th>54</th>\n",
       "      <td>CCG_Apr_2017_UGCB_in_England_V4_2022</td>\n",
       "      <td>FeatureServer</td>\n",
       "      <td>https://services1.arcgis.com/ESMARspQHYMw9BZ9/ArcGIS/rest/services/CCG_Apr_2017_UGCB_in_England_V4_2022/FeatureServer</td>\n",
       "    </tr>\n",
       "    <tr>\n",
       "      <th>56</th>\n",
       "      <td>CCG_Apr_2018_UGCB_in_England_2022</td>\n",
       "      <td>FeatureServer</td>\n",
       "      <td>https://services1.arcgis.com/ESMARspQHYMw9BZ9/ArcGIS/rest/services/CCG_Apr_2018_UGCB_in_England_2022/FeatureServer</td>\n",
       "    </tr>\n",
       "    <tr>\n",
       "      <th>60</th>\n",
       "      <td>CCG_July_2015_UGCB_in_England_2022</td>\n",
       "      <td>FeatureServer</td>\n",
       "      <td>https://services1.arcgis.com/ESMARspQHYMw9BZ9/ArcGIS/rest/services/CCG_July_2015_UGCB_in_England_2022/FeatureServer</td>\n",
       "    </tr>\n",
       "    <tr>\n",
       "      <th>1909</th>\n",
       "      <td>CCG_(Apr_2016)_UGCB_in_England</td>\n",
       "      <td>MapServer</td>\n",
       "      <td>https://services1.arcgis.com/ESMARspQHYMw9BZ9/ArcGIS/rest/services/CCG_(Apr_2016)_UGCB_in_England/MapServer</td>\n",
       "    </tr>\n",
       "    <tr>\n",
       "      <th>1912</th>\n",
       "      <td>CCG_(Apr_2017)_UGCB_in_England_V4</td>\n",
       "      <td>MapServer</td>\n",
       "      <td>https://services1.arcgis.com/ESMARspQHYMw9BZ9/ArcGIS/rest/services/CCG_(Apr_2017)_UGCB_in_England_V4/MapServer</td>\n",
       "    </tr>\n",
       "    <tr>\n",
       "      <th>1913</th>\n",
       "      <td>CCG_(Apr_2018)_UGCB_in_England</td>\n",
       "      <td>MapServer</td>\n",
       "      <td>https://services1.arcgis.com/ESMARspQHYMw9BZ9/ArcGIS/rest/services/CCG_(Apr_2018)_UGCB_in_England/MapServer</td>\n",
       "    </tr>\n",
       "    <tr>\n",
       "      <th>1917</th>\n",
       "      <td>CCG_(July_2015)_UGCB_in_England</td>\n",
       "      <td>MapServer</td>\n",
       "      <td>https://services1.arcgis.com/ESMARspQHYMw9BZ9/ArcGIS/rest/services/CCG_(July_2015)_UGCB_in_England/MapServer</td>\n",
       "    </tr>\n",
       "  </tbody>\n",
       "</table>\n",
       "</div>"
      ],
      "text/plain": [
       "                                                                               name  \\\n",
       "97                  Clinical_Commissioning_Groups_April_2019_Boundaries_EN_BUC_2022   \n",
       "108                            Clinical_Commissioning_Groups_April_2021_EN_BUC_2022   \n",
       "1928                   Clinical_Commissioning_Groups_(April_2019)_Boundaries_EN_BUC   \n",
       "1937                              Clinical_Commissioning_Groups_(April_2021)_EN_BUC   \n",
       "103   Clinical_Commissioning_Groups_April_2020_Ultra_Generalised_Boundaries_EN_2022   \n",
       "1932     Clinical_Commissioning_Groups_(April_2020)_Ultra_Generalised_Boundaries_EN   \n",
       "51                                                CCG_Apr_2016_UGCB_in_England_2022   \n",
       "54                                             CCG_Apr_2017_UGCB_in_England_V4_2022   \n",
       "56                                                CCG_Apr_2018_UGCB_in_England_2022   \n",
       "60                                               CCG_July_2015_UGCB_in_England_2022   \n",
       "1909                                                 CCG_(Apr_2016)_UGCB_in_England   \n",
       "1912                                              CCG_(Apr_2017)_UGCB_in_England_V4   \n",
       "1913                                                 CCG_(Apr_2018)_UGCB_in_England   \n",
       "1917                                                CCG_(July_2015)_UGCB_in_England   \n",
       "\n",
       "               type  \\\n",
       "97    FeatureServer   \n",
       "108   FeatureServer   \n",
       "1928      MapServer   \n",
       "1937      MapServer   \n",
       "103   FeatureServer   \n",
       "1932      MapServer   \n",
       "51    FeatureServer   \n",
       "54    FeatureServer   \n",
       "56    FeatureServer   \n",
       "60    FeatureServer   \n",
       "1909      MapServer   \n",
       "1912      MapServer   \n",
       "1913      MapServer   \n",
       "1917      MapServer   \n",
       "\n",
       "                                                                                                                                                                 url  \n",
       "97                  https://services1.arcgis.com/ESMARspQHYMw9BZ9/ArcGIS/rest/services/Clinical_Commissioning_Groups_April_2019_Boundaries_EN_BUC_2022/FeatureServer  \n",
       "108                            https://services1.arcgis.com/ESMARspQHYMw9BZ9/ArcGIS/rest/services/Clinical_Commissioning_Groups_April_2021_EN_BUC_2022/FeatureServer  \n",
       "1928                       https://services1.arcgis.com/ESMARspQHYMw9BZ9/ArcGIS/rest/services/Clinical_Commissioning_Groups_(April_2019)_Boundaries_EN_BUC/MapServer  \n",
       "1937                                  https://services1.arcgis.com/ESMARspQHYMw9BZ9/ArcGIS/rest/services/Clinical_Commissioning_Groups_(April_2021)_EN_BUC/MapServer  \n",
       "103   https://services1.arcgis.com/ESMARspQHYMw9BZ9/ArcGIS/rest/services/Clinical_Commissioning_Groups_April_2020_Ultra_Generalised_Boundaries_EN_2022/FeatureServer  \n",
       "1932         https://services1.arcgis.com/ESMARspQHYMw9BZ9/ArcGIS/rest/services/Clinical_Commissioning_Groups_(April_2020)_Ultra_Generalised_Boundaries_EN/MapServer  \n",
       "51                                                https://services1.arcgis.com/ESMARspQHYMw9BZ9/ArcGIS/rest/services/CCG_Apr_2016_UGCB_in_England_2022/FeatureServer  \n",
       "54                                             https://services1.arcgis.com/ESMARspQHYMw9BZ9/ArcGIS/rest/services/CCG_Apr_2017_UGCB_in_England_V4_2022/FeatureServer  \n",
       "56                                                https://services1.arcgis.com/ESMARspQHYMw9BZ9/ArcGIS/rest/services/CCG_Apr_2018_UGCB_in_England_2022/FeatureServer  \n",
       "60                                               https://services1.arcgis.com/ESMARspQHYMw9BZ9/ArcGIS/rest/services/CCG_July_2015_UGCB_in_England_2022/FeatureServer  \n",
       "1909                                                     https://services1.arcgis.com/ESMARspQHYMw9BZ9/ArcGIS/rest/services/CCG_(Apr_2016)_UGCB_in_England/MapServer  \n",
       "1912                                                  https://services1.arcgis.com/ESMARspQHYMw9BZ9/ArcGIS/rest/services/CCG_(Apr_2017)_UGCB_in_England_V4/MapServer  \n",
       "1913                                                     https://services1.arcgis.com/ESMARspQHYMw9BZ9/ArcGIS/rest/services/CCG_(Apr_2018)_UGCB_in_England/MapServer  \n",
       "1917                                                    https://services1.arcgis.com/ESMARspQHYMw9BZ9/ArcGIS/rest/services/CCG_(July_2015)_UGCB_in_England/MapServer  "
      ]
     },
     "execution_count": 50,
     "metadata": {},
     "output_type": "execute_result"
    }
   ],
   "source": [
    "ccg_shape_directory"
   ]
  }
 ],
 "metadata": {
  "kernelspec": {
   "display_name": ".venv",
   "language": "python",
   "name": "python3"
  },
  "language_info": {
   "codemirror_mode": {
    "name": "ipython",
    "version": 3
   },
   "file_extension": ".py",
   "mimetype": "text/x-python",
   "name": "python",
   "nbconvert_exporter": "python",
   "pygments_lexer": "ipython3",
   "version": "3.11.1"
  },
  "orig_nbformat": 4
 },
 "nbformat": 4,
 "nbformat_minor": 2
}
