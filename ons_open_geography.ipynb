{
 "cells": [
  {
   "attachments": {},
   "cell_type": "markdown",
   "metadata": {},
   "source": [
    "https://www.api.gov.uk/ons/open-geography-portal/#open-geography-portal"
   ]
  },
  {
   "attachments": {},
   "cell_type": "markdown",
   "metadata": {},
   "source": [
    "# Libraries"
   ]
  },
  {
   "cell_type": "code",
   "execution_count": null,
   "metadata": {},
   "outputs": [],
   "source": [
    "import numpy as np\n",
    "import pandas as pd\n",
    "\n",
    "import json\n",
    "import urllib.request"
   ]
  },
  {
   "cell_type": "code",
   "execution_count": null,
   "metadata": {},
   "outputs": [],
   "source": [
    "pd.set_option('display.max_columns', None)\n",
    "pd.set_option(\"max_colwidth\", None)"
   ]
  },
  {
   "attachments": {},
   "cell_type": "markdown",
   "metadata": {},
   "source": [
    "## Shape files from ONS\n",
    "\n",
    "https://geoportal.statistics.gov.uk/\n",
    "\n",
    "https://services1.arcgis.com/ESMARspQHYMw9BZ9/ArcGIS/rest/services"
   ]
  },
  {
   "attachments": {},
   "cell_type": "markdown",
   "metadata": {},
   "source": [
    "## Retrieve layer data"
   ]
  },
  {
   "cell_type": "code",
   "execution_count": null,
   "metadata": {},
   "outputs": [],
   "source": [
    "url = 'https://services1.arcgis.com/ESMARspQHYMw9BZ9/arcgis/rest/services/Clinical_Commissioning_Groups_April_2019_Boundaries_EN_BUC_2022/FeatureServer/0/query?outFields=*&where=1%3D1&f=geojson'\n",
    "\n",
    "region_url = 'https://services1.arcgis.com/ESMARspQHYMw9BZ9/arcgis/rest/services/Regions_December_2022_EN_BUC/FeatureServer/0/query?outFields=*&where=1%3D1&f=geojson'"
   ]
  },
  {
   "cell_type": "code",
   "execution_count": null,
   "metadata": {},
   "outputs": [],
   "source": [
    "def create_geojson_url(dataset_name:str):\n",
    "    url = 'https://services1.arcgis.com/ESMARspQHYMw9BZ9/arcgis/rest/services/' + dataset_name + '/FeatureServer/0/query?outFields=*&where=1%3D1&f=geojson'\n",
    "    return url"
   ]
  },
  {
   "cell_type": "code",
   "execution_count": null,
   "metadata": {},
   "outputs": [],
   "source": [
    "def retrieve_geojson_from_url(url:str):\n",
    "    with urllib.request.urlopen(url) as contents:\n",
    "        geojson_data = json.loads(contents.read())\n",
    "    \n",
    "    shape_data = pd.json_normalize(geojson_data['features'])\n",
    "    return shape_data"
   ]
  },
  {
   "cell_type": "code",
   "execution_count": null,
   "metadata": {},
   "outputs": [],
   "source": [
    "def save_geojson_from_url(url:str, filename:str):\n",
    "    filename = filename + '.csv'\n",
    "    shape_data = retrieve_geojson_from_url(url)\n",
    "    shape_data.to_csv(filename, index=False)\n",
    "    print(filename + ' successfully saved')"
   ]
  },
  {
   "cell_type": "code",
   "execution_count": null,
   "metadata": {},
   "outputs": [],
   "source": [
    "def save_geojson_from_dataset_name(dataset_name:str):\n",
    "    url = create_geojson_url(dataset_name)\n",
    "    save_geojson_from_url(url, dataset_name)"
   ]
  },
  {
   "cell_type": "code",
   "execution_count": null,
   "metadata": {},
   "outputs": [],
   "source": [
    "# with urllib.request.urlopen(url) as contents:\n",
    "#     json_data = json.loads(contents.read())\n",
    "# shape_data = pd.json_normalize(json_data['features'])\n",
    "\n",
    "# shape_data.to_csv('test_shape_data.csv')"
   ]
  },
  {
   "cell_type": "code",
   "execution_count": null,
   "metadata": {},
   "outputs": [],
   "source": [
    "# with urllib.request.urlopen(region_url) as contents:\n",
    "#     json_data = json.loads(contents.read())\n",
    "# region_shape_data = pd.json_normalize(json_data['features'])\n",
    "\n",
    "# region_shape_data.to_csv('test_region_shape_data.csv')"
   ]
  },
  {
   "cell_type": "code",
   "execution_count": null,
   "metadata": {},
   "outputs": [],
   "source": [
    "# with open('region/region_merged.geojson', 'r') as contents:\n",
    "#     json_data = json.loads(contents.read())\n",
    "# region_shape_data = pd.json_normalize(json_data['features'])\n",
    "# region_shape_data.to_csv('region/region_merged_geojson_cleaned.csv')\n",
    "\n"
   ]
  },
  {
   "attachments": {},
   "cell_type": "markdown",
   "metadata": {},
   "source": [
    "## Shape directory"
   ]
  },
  {
   "cell_type": "code",
   "execution_count": null,
   "metadata": {},
   "outputs": [],
   "source": [
    "shape_directory_url = 'https://services1.arcgis.com/ESMARspQHYMw9BZ9/ArcGIS/rest/services?f=pjson'\n",
    "\n",
    "with urllib.request.urlopen(shape_directory_url) as contents:\n",
    "    shape_directory = json.loads(contents.read())\n",
    "shape_directory = pd.json_normalize(shape_directory['services'])\n",
    "shape_directory = shape_directory.loc[shape_directory['type']=='FeatureServer']"
   ]
  },
  {
   "cell_type": "code",
   "execution_count": null,
   "metadata": {},
   "outputs": [],
   "source": [
    "def shape_name_contains(str1:str, str2:str):\n",
    "    str1 = str1.lower()\n",
    "    str2 = str2.lower()\n",
    "    return shape_directory[(shape_directory['name'].str.lower().str.contains(str1)) & (shape_directory['name'].str.lower().str.contains(str2))]"
   ]
  },
  {
   "attachments": {},
   "cell_type": "markdown",
   "metadata": {},
   "source": [
    "### icb"
   ]
  },
  {
   "cell_type": "code",
   "execution_count": null,
   "metadata": {},
   "outputs": [],
   "source": [
    "icb_shape_directory = shape_name_contains('icb_jul_2022', 'buc')\n",
    "icb_shape_directory"
   ]
  },
  {
   "cell_type": "code",
   "execution_count": null,
   "metadata": {},
   "outputs": [],
   "source": [
    "# save_geojson_from_dataset_name(icb_shape_directory['name'].values[0])"
   ]
  },
  {
   "attachments": {},
   "cell_type": "markdown",
   "metadata": {},
   "source": [
    "### sub_icb"
   ]
  },
  {
   "cell_type": "code",
   "execution_count": null,
   "metadata": {},
   "outputs": [],
   "source": [
    "sub_icb_shape_directory = pd.concat([shape_name_contains('sub_integrated_care_board', 'bgc'),\n",
    "                                     shape_name_contains('sub_integrated_care_board', 'buc')\n",
    "])"
   ]
  },
  {
   "cell_type": "code",
   "execution_count": null,
   "metadata": {},
   "outputs": [],
   "source": [
    "sub_icb_shape_directory"
   ]
  },
  {
   "cell_type": "code",
   "execution_count": null,
   "metadata": {},
   "outputs": [],
   "source": [
    "# save_geojson_from_dataset_name(sub_icb_shape_directory['name'].values[0])"
   ]
  },
  {
   "attachments": {},
   "cell_type": "markdown",
   "metadata": {},
   "source": [
    "### ccg"
   ]
  },
  {
   "cell_type": "code",
   "execution_count": null,
   "metadata": {},
   "outputs": [],
   "source": [
    "ccg_shape_directory = pd.concat([shape_name_contains('buc', 'clinical_commissioning_groups'), # 2019, 2021\n",
    "                                 shape_name_contains('generalised', 'clinical_commissioning_groups'), # 2020\n",
    "                                 shape_name_contains('ugcb', 'ccg') # 2015 to 2018\n",
    "])"
   ]
  },
  {
   "cell_type": "code",
   "execution_count": null,
   "metadata": {},
   "outputs": [],
   "source": [
    "ccg_shape_directory"
   ]
  },
  {
   "cell_type": "code",
   "execution_count": null,
   "metadata": {},
   "outputs": [],
   "source": [
    "# for i in ccg_shape_directory['name']:\n",
    "#     # print(i)\n",
    "#     save_geojson_from_dataset_name(i)"
   ]
  },
  {
   "attachments": {},
   "cell_type": "markdown",
   "metadata": {},
   "source": [
    "### ltla"
   ]
  },
  {
   "cell_type": "code",
   "execution_count": null,
   "metadata": {},
   "outputs": [],
   "source": [
    "ltla_shape_directory = pd.concat([shape_name_contains('local_authority_districts', 'uk_buc'), # 2019 to 2023\n",
    "                                  shape_name_contains('lad', '2018_Boundaries_UK_BUC')\n",
    "])\n",
    "\n",
    "ltla_shape_directory\n",
    "\n",
    "# shape_name_contains('local_authority_districts', 'generalised') # 2018\n",
    "# shape_name_contains('local_authority_districts', 'ugcb') # 2019, 2020"
   ]
  },
  {
   "cell_type": "code",
   "execution_count": null,
   "metadata": {},
   "outputs": [],
   "source": [
    "# for i in ltla_shape_directory['name']:\n",
    "#     # print(i)\n",
    "#     save_geojson_from_dataset_name(i)"
   ]
  },
  {
   "attachments": {},
   "cell_type": "markdown",
   "metadata": {},
   "source": [
    "### utla"
   ]
  },
  {
   "cell_type": "code",
   "execution_count": null,
   "metadata": {},
   "outputs": [],
   "source": [
    "utla_shape_directory = pd.concat([shape_name_contains('counties_and_unitary_authorities', 'ew_buc'), # 2017, 2019\n",
    "                                  shape_name_contains(\"counties_and_unitary_authorities_december_2018\", 'gcb_ew'), # 2018\n",
    "                                  shape_name_contains('counties_and_unitary_authorities', '2020_uk_bgc'), # 2020\n",
    "                                  shape_name_contains('counties_and_unitary_authorities', 'en_buc'), # 2021\n",
    "])"
   ]
  },
  {
   "cell_type": "code",
   "execution_count": null,
   "metadata": {},
   "outputs": [],
   "source": [
    "utla_shape_directory"
   ]
  },
  {
   "cell_type": "code",
   "execution_count": null,
   "metadata": {},
   "outputs": [],
   "source": [
    "# for i in utla_shape_directory['name']:\n",
    "#     # print(i)\n",
    "#     save_geojson_from_dataset_name(i)"
   ]
  },
  {
   "attachments": {},
   "cell_type": "markdown",
   "metadata": {},
   "source": [
    "### region"
   ]
  },
  {
   "cell_type": "code",
   "execution_count": null,
   "metadata": {},
   "outputs": [],
   "source": [
    "region_shape_directory = pd.concat([shape_name_contains('Regions_December_2022_EN_BUC', '')\n",
    "])\n",
    "\n",
    "region_shape_directory"
   ]
  },
  {
   "cell_type": "code",
   "execution_count": null,
   "metadata": {},
   "outputs": [],
   "source": [
    "# save_geojson_from_dataset_name(region_shape_directory['name'].values[0])"
   ]
  },
  {
   "attachments": {},
   "cell_type": "markdown",
   "metadata": {},
   "source": [
    "### STPs (pre Apr 2020) and STPs (from Apr 2020)"
   ]
  },
  {
   "cell_type": "code",
   "execution_count": null,
   "metadata": {},
   "outputs": [],
   "source": [
    "stp_shape_directory = pd.concat([shape_name_contains('sustainability_and_transformation', 'buc'), # 2018, 2021\n",
    "                                 shape_name_contains('stp', '_gcb') # 2017, 2019, 2020\n",
    "])"
   ]
  },
  {
   "cell_type": "code",
   "execution_count": null,
   "metadata": {},
   "outputs": [],
   "source": [
    "stp_shape_directory"
   ]
  },
  {
   "cell_type": "code",
   "execution_count": null,
   "metadata": {},
   "outputs": [],
   "source": [
    "# for i in stp_shape_directory['name']:\n",
    "#     save_geojson_from_dataset_name(i)"
   ]
  },
  {
   "attachments": {},
   "cell_type": "markdown",
   "metadata": {},
   "source": [
    "# append files together"
   ]
  },
  {
   "cell_type": "code",
   "execution_count": null,
   "metadata": {},
   "outputs": [],
   "source": [
    "gsheet_areas = pd.read_csv('https://docs.google.com/spreadsheets/u/0/d/15RhWWsHPPMLWoxR5sJcpK-vraRkidRY8jsAb_Y_5GwI/gviz/tq?tqx=out:csv&tq&gid=963757659&headers=1')\n",
    "files_required = gsheet_areas.loc[:, ['shape_file']].dropna()"
   ]
  },
  {
   "cell_type": "code",
   "execution_count": null,
   "metadata": {},
   "outputs": [],
   "source": [
    "area_id_to_shape_file = gsheet_areas.loc[:, ['AreaTypeId', 'shape_file']].dropna()"
   ]
  },
  {
   "cell_type": "code",
   "execution_count": null,
   "metadata": {},
   "outputs": [],
   "source": [
    "def code_and_name_fields(folder_name):\n",
    "    final_list=[]\n",
    "    \n",
    "    for i in files_required.values:\n",
    "        filename = i[0]\n",
    "        filepath = folder_name + '/' + filename\n",
    "        data = pd.read_csv(filepath)\n",
    "        \n",
    "        to_append_list = [filename, data.filter(regex='CD|cd').columns[0], data.filter(regex='NM|nm').columns[0]]\n",
    "        \n",
    "        final_list += [to_append_list]\n",
    "        final_df = pd.DataFrame(final_list, columns=['shape_file', 'code_field', 'name_field'])\n",
    "        \n",
    "    return final_df\n"
   ]
  },
  {
   "cell_type": "code",
   "execution_count": null,
   "metadata": {},
   "outputs": [],
   "source": [
    "data = code_and_name_fields('shapes')\n",
    "# data.to_csv('2023-05-19_shape_code_and_name_fields.csv', index=False)\n",
    "# data"
   ]
  },
  {
   "cell_type": "code",
   "execution_count": 175,
   "metadata": {},
   "outputs": [],
   "source": [
    "def append_shapes(folder_name):\n",
    "    shape_fields = pd.read_csv('2023-05-19_shape_code_and_name_fields.csv')\n",
    "    \n",
    "    appended_shapes = pd.DataFrame()\n",
    "    \n",
    "    for i, j in enumerate(files_required.values):\n",
    "        filename = j[0]\n",
    "        filepath = folder_name + '/' + filename\n",
    "        shapes = pd.read_csv(filepath)\n",
    "        \n",
    "        rename_cols = {'code_field': 'area_code',\n",
    "                       'name_field': 'area_name'}\n",
    "        \n",
    "        column_mapper_reversed = shape_fields.loc[shape_fields['shape_file']==filename, ['code_field', 'name_field']].rename(rename_cols, axis=1).loc[i].to_dict()\n",
    "        column_mapper = {value: key for key, value, in column_mapper_reversed.items()}\n",
    "        \n",
    "        shapes = shapes.rename(column_mapper, axis=1)\n",
    "        shapes['area_type_id'] = area_id_to_shape_file.loc[area_id_to_shape_file['shape_file']==filename, ['AreaTypeId']].values[0][0]\n",
    "        shapes['area_code'] = shapes['area_code'] + '_' + shapes['area_type_id'].astype(str)\n",
    "              \n",
    "        appended_shapes = pd.concat([appended_shapes, shapes])\n",
    "        \n",
    "    return appended_shapes\n"
   ]
  },
  {
   "cell_type": "code",
   "execution_count": 176,
   "metadata": {},
   "outputs": [],
   "source": [
    "# append_shapes('shapes').to_csv('shapes/2023-05-19_shapes_appended.csv', index=False)"
   ]
  },
  {
   "cell_type": "code",
   "execution_count": null,
   "metadata": {},
   "outputs": [],
   "source": []
  }
 ],
 "metadata": {
  "kernelspec": {
   "display_name": ".venv",
   "language": "python",
   "name": "python3"
  },
  "language_info": {
   "codemirror_mode": {
    "name": "ipython",
    "version": 3
   },
   "file_extension": ".py",
   "mimetype": "text/x-python",
   "name": "python",
   "nbconvert_exporter": "python",
   "pygments_lexer": "ipython3",
   "version": "3.11.1"
  },
  "orig_nbformat": 4
 },
 "nbformat": 4,
 "nbformat_minor": 2
}
